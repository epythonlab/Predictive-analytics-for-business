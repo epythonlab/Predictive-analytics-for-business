{
 "cells": [
  {
   "cell_type": "markdown",
   "source": [
    "# A/B Test: A New Menu Launch"
   ],
   "metadata": {}
  },
  {
   "cell_type": "markdown",
   "source": [
    "### Project Overview\n",
    "\n",
    "You're a business analyst for Round Roasters, a coffee restaurant in the United States of America. The executive team conducted a market test with a new menu and needs to figure whether the new menu can drive enough sales to offset the cost of marketing the new menu. Your job is to analyze the A/B test and write up a recommendation to whether the Round Roasters chain should launch this new menu.\n",
    "\n",
    "### Skills Required\n",
    "\n",
    "In order to complete this project, you must be able to:\n",
    "\n",
    "    Cleanup, format, and blend a wide range of data sources\n",
    "    Plan and analyze A/B tests\n",
    "\n",
    "You have been able to gather three data files to use for your analysis:\n",
    "\n",
    "- Transaction data for all stores from 2015-January-21 to 2016-August-18\n",
    "- A listing of all Round Roasters stores\n",
    "- A listing of the 10 stores (5 in each market) that were used as test markets.\n"
   ],
   "metadata": {}
  },
  {
   "cell_type": "markdown",
   "source": [
    "### Step 1: Plan Your Analysis\r\n",
    "\r\n",
    "To perform the correct analysis, you will need to prepare a data set. Prior to rolling up your sleeves and preparing the data, it’s a good idea to have a plan of what you need to do in order to prepare the correct data set. A good plan will help you with your analysis. Here are a few questions to get you started:\r\n",
    "\r\n",
    "- What is the performance metric you’ll use to evaluate the results of your test?\r\n",
    "- What is the test period?\r\n",
    "- At what level (day, week, month, etc.) should the data be aggregated?\r\n"
   ],
   "metadata": {}
  },
  {
   "cell_type": "code",
   "execution_count": 2,
   "source": [
    "\r\n",
    "# import all required libraries\r\n",
    "import pandas as pd\r\n",
    "import numpy as np\r\n",
    "from matplotlib import pyplot as plt\r\n",
    "from scipy.stats import ttest_ind, ttest_rel\r\n",
    "from sklearn.neighbors import KDTree\r\n",
    "from sklearn.compose import ColumnTransformer\r\n",
    "from sklearn.preprocessing import StandardScaler"
   ],
   "outputs": [],
   "metadata": {}
  },
  {
   "cell_type": "markdown",
   "source": [
    "### Load all the datasets"
   ],
   "metadata": {}
  },
  {
   "cell_type": "code",
   "execution_count": 4,
   "source": [
    "# load roaster stores data\r\n",
    "rrs = pd.read_csv(\"data/round-roaster-stores.csv\")\r\n",
    "# load treatment stores data\r\n",
    "ts = pd.read_csv(\"data/treatment-stores.csv\")\r\n",
    "# load transactions stores data\r\n",
    "rrt = pd.read_csv(\"data/RoundRoastersTransactions.csv\", parse_dates=['Invoice Date'])"
   ],
   "outputs": [],
   "metadata": {}
  },
  {
   "cell_type": "markdown",
   "source": [
    "### Explore the stores dataset"
   ],
   "metadata": {}
  },
  {
   "cell_type": "code",
   "execution_count": 5,
   "source": [
    "rrs.head(3)"
   ],
   "outputs": [
    {
     "output_type": "execute_result",
     "data": {
      "text/plain": [
       "   StoreID  Sq_Ft  AvgMonthSales                       Right_Name  \\\n",
       "0    10018   1183          18000              Bellflower & Spring   \n",
       "1    10068   1198          16000  Foothill & Boston, La Crescenta   \n",
       "2    10118   1204          13000         Magic Mountain & Tourney   \n",
       "\n",
       "   Phone Number                                    Street Combined  \\\n",
       "0  562-420-1317  2890 N Bellflower Blvd, #A-1, The Los Altos Ma...   \n",
       "1  818-541-7693                         3747 Foothill Boulevard, A   \n",
       "2  661-260-0844      25349 Wayne Mills Place, Tourney Retail Plaza   \n",
       "\n",
       "                  Street 1 Street 2                   Street 3         City  \\\n",
       "0   2890 N Bellflower Blvd     #A-1  The Los Altos Marketplace   Long Beach   \n",
       "1  3747 Foothill Boulevard        A                        NaN  La Cresenta   \n",
       "2  25349 Wayne Mills Place      NaN       Tourney Retail Plaza     Valencia   \n",
       "\n",
       "  State  Postal Code Region Country                            Coordinates  \\\n",
       "0    CA    908151125   West      US  (33.8085823059082, -118.124931335449)   \n",
       "1    CA    912141700   West      US   (34.2375450134277, -118.26114654541)   \n",
       "2    CA    913551827   West      US  (34.4237022399902, -118.579261779785)   \n",
       "\n",
       "    Latitude   Longitude               Timezone  Current Timezone Offset  \\\n",
       "0  33.808582 -118.124931  Pacific Standard Time                     -480   \n",
       "1  34.237545 -118.261146  Pacific Standard Time                     -480   \n",
       "2  34.423702 -118.579262  Pacific Standard Time                     -480   \n",
       "\n",
       "                  Olson Timezone  \n",
       "0  GMT-08:00 America/Los_Angeles  \n",
       "1  GMT-08:00 America/Los_Angeles  \n",
       "2  GMT-08:00 America/Los_Angeles  "
      ],
      "text/html": [
       "<div>\n",
       "<style scoped>\n",
       "    .dataframe tbody tr th:only-of-type {\n",
       "        vertical-align: middle;\n",
       "    }\n",
       "\n",
       "    .dataframe tbody tr th {\n",
       "        vertical-align: top;\n",
       "    }\n",
       "\n",
       "    .dataframe thead th {\n",
       "        text-align: right;\n",
       "    }\n",
       "</style>\n",
       "<table border=\"1\" class=\"dataframe\">\n",
       "  <thead>\n",
       "    <tr style=\"text-align: right;\">\n",
       "      <th></th>\n",
       "      <th>StoreID</th>\n",
       "      <th>Sq_Ft</th>\n",
       "      <th>AvgMonthSales</th>\n",
       "      <th>Right_Name</th>\n",
       "      <th>Phone Number</th>\n",
       "      <th>Street Combined</th>\n",
       "      <th>Street 1</th>\n",
       "      <th>Street 2</th>\n",
       "      <th>Street 3</th>\n",
       "      <th>City</th>\n",
       "      <th>State</th>\n",
       "      <th>Postal Code</th>\n",
       "      <th>Region</th>\n",
       "      <th>Country</th>\n",
       "      <th>Coordinates</th>\n",
       "      <th>Latitude</th>\n",
       "      <th>Longitude</th>\n",
       "      <th>Timezone</th>\n",
       "      <th>Current Timezone Offset</th>\n",
       "      <th>Olson Timezone</th>\n",
       "    </tr>\n",
       "  </thead>\n",
       "  <tbody>\n",
       "    <tr>\n",
       "      <th>0</th>\n",
       "      <td>10018</td>\n",
       "      <td>1183</td>\n",
       "      <td>18000</td>\n",
       "      <td>Bellflower &amp; Spring</td>\n",
       "      <td>562-420-1317</td>\n",
       "      <td>2890 N Bellflower Blvd, #A-1, The Los Altos Ma...</td>\n",
       "      <td>2890 N Bellflower Blvd</td>\n",
       "      <td>#A-1</td>\n",
       "      <td>The Los Altos Marketplace</td>\n",
       "      <td>Long Beach</td>\n",
       "      <td>CA</td>\n",
       "      <td>908151125</td>\n",
       "      <td>West</td>\n",
       "      <td>US</td>\n",
       "      <td>(33.8085823059082, -118.124931335449)</td>\n",
       "      <td>33.808582</td>\n",
       "      <td>-118.124931</td>\n",
       "      <td>Pacific Standard Time</td>\n",
       "      <td>-480</td>\n",
       "      <td>GMT-08:00 America/Los_Angeles</td>\n",
       "    </tr>\n",
       "    <tr>\n",
       "      <th>1</th>\n",
       "      <td>10068</td>\n",
       "      <td>1198</td>\n",
       "      <td>16000</td>\n",
       "      <td>Foothill &amp; Boston, La Crescenta</td>\n",
       "      <td>818-541-7693</td>\n",
       "      <td>3747 Foothill Boulevard, A</td>\n",
       "      <td>3747 Foothill Boulevard</td>\n",
       "      <td>A</td>\n",
       "      <td>NaN</td>\n",
       "      <td>La Cresenta</td>\n",
       "      <td>CA</td>\n",
       "      <td>912141700</td>\n",
       "      <td>West</td>\n",
       "      <td>US</td>\n",
       "      <td>(34.2375450134277, -118.26114654541)</td>\n",
       "      <td>34.237545</td>\n",
       "      <td>-118.261146</td>\n",
       "      <td>Pacific Standard Time</td>\n",
       "      <td>-480</td>\n",
       "      <td>GMT-08:00 America/Los_Angeles</td>\n",
       "    </tr>\n",
       "    <tr>\n",
       "      <th>2</th>\n",
       "      <td>10118</td>\n",
       "      <td>1204</td>\n",
       "      <td>13000</td>\n",
       "      <td>Magic Mountain &amp; Tourney</td>\n",
       "      <td>661-260-0844</td>\n",
       "      <td>25349 Wayne Mills Place, Tourney Retail Plaza</td>\n",
       "      <td>25349 Wayne Mills Place</td>\n",
       "      <td>NaN</td>\n",
       "      <td>Tourney Retail Plaza</td>\n",
       "      <td>Valencia</td>\n",
       "      <td>CA</td>\n",
       "      <td>913551827</td>\n",
       "      <td>West</td>\n",
       "      <td>US</td>\n",
       "      <td>(34.4237022399902, -118.579261779785)</td>\n",
       "      <td>34.423702</td>\n",
       "      <td>-118.579262</td>\n",
       "      <td>Pacific Standard Time</td>\n",
       "      <td>-480</td>\n",
       "      <td>GMT-08:00 America/Los_Angeles</td>\n",
       "    </tr>\n",
       "  </tbody>\n",
       "</table>\n",
       "</div>"
      ]
     },
     "metadata": {},
     "execution_count": 5
    }
   ],
   "metadata": {}
  },
  {
   "cell_type": "code",
   "execution_count": 6,
   "source": [
    "rrs.info()"
   ],
   "outputs": [
    {
     "output_type": "stream",
     "name": "stdout",
     "text": [
      "<class 'pandas.core.frame.DataFrame'>\n",
      "RangeIndex: 133 entries, 0 to 132\n",
      "Data columns (total 20 columns):\n",
      " #   Column                   Non-Null Count  Dtype  \n",
      "---  ------                   --------------  -----  \n",
      " 0   StoreID                  133 non-null    int64  \n",
      " 1   Sq_Ft                    133 non-null    int64  \n",
      " 2   AvgMonthSales            133 non-null    int64  \n",
      " 3   Right_Name               133 non-null    object \n",
      " 4   Phone Number             130 non-null    object \n",
      " 5   Street Combined          133 non-null    object \n",
      " 6   Street 1                 133 non-null    object \n",
      " 7   Street 2                 37 non-null     object \n",
      " 8   Street 3                 25 non-null     object \n",
      " 9   City                     133 non-null    object \n",
      " 10  State                    133 non-null    object \n",
      " 11  Postal Code              133 non-null    int64  \n",
      " 12  Region                   133 non-null    object \n",
      " 13  Country                  133 non-null    object \n",
      " 14  Coordinates              133 non-null    object \n",
      " 15  Latitude                 133 non-null    float64\n",
      " 16  Longitude                133 non-null    float64\n",
      " 17  Timezone                 133 non-null    object \n",
      " 18  Current Timezone Offset  133 non-null    int64  \n",
      " 19  Olson Timezone           133 non-null    object \n",
      "dtypes: float64(2), int64(5), object(13)\n",
      "memory usage: 20.9+ KB\n"
     ]
    }
   ],
   "metadata": {}
  },
  {
   "cell_type": "code",
   "execution_count": 7,
   "source": [
    "# Check missing data if any\r\n",
    "rrs.isnull().sum()"
   ],
   "outputs": [
    {
     "output_type": "execute_result",
     "data": {
      "text/plain": [
       "StoreID                      0\n",
       "Sq_Ft                        0\n",
       "AvgMonthSales                0\n",
       "Right_Name                   0\n",
       "Phone Number                 3\n",
       "Street Combined              0\n",
       "Street 1                     0\n",
       "Street 2                    96\n",
       "Street 3                   108\n",
       "City                         0\n",
       "State                        0\n",
       "Postal Code                  0\n",
       "Region                       0\n",
       "Country                      0\n",
       "Coordinates                  0\n",
       "Latitude                     0\n",
       "Longitude                    0\n",
       "Timezone                     0\n",
       "Current Timezone Offset      0\n",
       "Olson Timezone               0\n",
       "dtype: int64"
      ]
     },
     "metadata": {},
     "execution_count": 7
    }
   ],
   "metadata": {}
  },
  {
   "cell_type": "markdown",
   "source": [
    "### Explore treatment stores dataset"
   ],
   "metadata": {}
  },
  {
   "cell_type": "code",
   "execution_count": 8,
   "source": [
    "ts.head(3)"
   ],
   "outputs": [
    {
     "output_type": "execute_result",
     "data": {
      "text/plain": [
       "   StoreID  Sq_Ft  AvgMonthSales Phone Number  \\\n",
       "0     1664   1475          11000   8478428048   \n",
       "1     1675   1472          15000   8472531188   \n",
       "2     1696   1471          10000   2242232528   \n",
       "\n",
       "                              Street Combined                   Street 1  \\\n",
       "0  101 W. Main St., Barrington Village Center            101 W. Main St.   \n",
       "1                   90 East Northwest Highway  90 East Northwest Highway   \n",
       "2                      1261 East Higgins Road     1261 East Higgins Road   \n",
       "\n",
       "   Street 2                   Street 3            City  Postal Code   Region  \\\n",
       "0       NaN  Barrington Village Center      Barrington        60010  Central   \n",
       "1       NaN                        NaN  Mount Prospect        60056  Central   \n",
       "2       NaN                        NaN      Schaumburg        60173  Central   \n",
       "\n",
       "  Country                            Coordinates   Latitude  Longitude  \\\n",
       "0      US  (42.1540565490723, -88.1362915039063)  42.154057 -88.136291   \n",
       "1      US  (42.0633544921875, -87.9355773925781)  42.063354 -87.935577   \n",
       "2      US       (42.039363861084, -88.048828125)  42.039364 -88.048828   \n",
       "\n",
       "                Timezone  Current Timezone Offset             Olson Timezone  \\\n",
       "0  Central Standard Time                     -360  GMT-06:00 America/Chicago   \n",
       "1  Central Standard Time                     -360  GMT-06:00 America/Chicago   \n",
       "2  Central Standard Time                     -360  GMT-06:00 America/Chicago   \n",
       "\n",
       "                          Name Right_State  \n",
       "0                   Barrington          IL  \n",
       "1  Northwest Hwy & Elmhurst Rd          IL  \n",
       "2            Higgins & Meacham          IL  "
      ],
      "text/html": [
       "<div>\n",
       "<style scoped>\n",
       "    .dataframe tbody tr th:only-of-type {\n",
       "        vertical-align: middle;\n",
       "    }\n",
       "\n",
       "    .dataframe tbody tr th {\n",
       "        vertical-align: top;\n",
       "    }\n",
       "\n",
       "    .dataframe thead th {\n",
       "        text-align: right;\n",
       "    }\n",
       "</style>\n",
       "<table border=\"1\" class=\"dataframe\">\n",
       "  <thead>\n",
       "    <tr style=\"text-align: right;\">\n",
       "      <th></th>\n",
       "      <th>StoreID</th>\n",
       "      <th>Sq_Ft</th>\n",
       "      <th>AvgMonthSales</th>\n",
       "      <th>Phone Number</th>\n",
       "      <th>Street Combined</th>\n",
       "      <th>Street 1</th>\n",
       "      <th>Street 2</th>\n",
       "      <th>Street 3</th>\n",
       "      <th>City</th>\n",
       "      <th>Postal Code</th>\n",
       "      <th>Region</th>\n",
       "      <th>Country</th>\n",
       "      <th>Coordinates</th>\n",
       "      <th>Latitude</th>\n",
       "      <th>Longitude</th>\n",
       "      <th>Timezone</th>\n",
       "      <th>Current Timezone Offset</th>\n",
       "      <th>Olson Timezone</th>\n",
       "      <th>Name</th>\n",
       "      <th>Right_State</th>\n",
       "    </tr>\n",
       "  </thead>\n",
       "  <tbody>\n",
       "    <tr>\n",
       "      <th>0</th>\n",
       "      <td>1664</td>\n",
       "      <td>1475</td>\n",
       "      <td>11000</td>\n",
       "      <td>8478428048</td>\n",
       "      <td>101 W. Main St., Barrington Village Center</td>\n",
       "      <td>101 W. Main St.</td>\n",
       "      <td>NaN</td>\n",
       "      <td>Barrington Village Center</td>\n",
       "      <td>Barrington</td>\n",
       "      <td>60010</td>\n",
       "      <td>Central</td>\n",
       "      <td>US</td>\n",
       "      <td>(42.1540565490723, -88.1362915039063)</td>\n",
       "      <td>42.154057</td>\n",
       "      <td>-88.136291</td>\n",
       "      <td>Central Standard Time</td>\n",
       "      <td>-360</td>\n",
       "      <td>GMT-06:00 America/Chicago</td>\n",
       "      <td>Barrington</td>\n",
       "      <td>IL</td>\n",
       "    </tr>\n",
       "    <tr>\n",
       "      <th>1</th>\n",
       "      <td>1675</td>\n",
       "      <td>1472</td>\n",
       "      <td>15000</td>\n",
       "      <td>8472531188</td>\n",
       "      <td>90 East Northwest Highway</td>\n",
       "      <td>90 East Northwest Highway</td>\n",
       "      <td>NaN</td>\n",
       "      <td>NaN</td>\n",
       "      <td>Mount Prospect</td>\n",
       "      <td>60056</td>\n",
       "      <td>Central</td>\n",
       "      <td>US</td>\n",
       "      <td>(42.0633544921875, -87.9355773925781)</td>\n",
       "      <td>42.063354</td>\n",
       "      <td>-87.935577</td>\n",
       "      <td>Central Standard Time</td>\n",
       "      <td>-360</td>\n",
       "      <td>GMT-06:00 America/Chicago</td>\n",
       "      <td>Northwest Hwy &amp; Elmhurst Rd</td>\n",
       "      <td>IL</td>\n",
       "    </tr>\n",
       "    <tr>\n",
       "      <th>2</th>\n",
       "      <td>1696</td>\n",
       "      <td>1471</td>\n",
       "      <td>10000</td>\n",
       "      <td>2242232528</td>\n",
       "      <td>1261 East Higgins Road</td>\n",
       "      <td>1261 East Higgins Road</td>\n",
       "      <td>NaN</td>\n",
       "      <td>NaN</td>\n",
       "      <td>Schaumburg</td>\n",
       "      <td>60173</td>\n",
       "      <td>Central</td>\n",
       "      <td>US</td>\n",
       "      <td>(42.039363861084, -88.048828125)</td>\n",
       "      <td>42.039364</td>\n",
       "      <td>-88.048828</td>\n",
       "      <td>Central Standard Time</td>\n",
       "      <td>-360</td>\n",
       "      <td>GMT-06:00 America/Chicago</td>\n",
       "      <td>Higgins &amp; Meacham</td>\n",
       "      <td>IL</td>\n",
       "    </tr>\n",
       "  </tbody>\n",
       "</table>\n",
       "</div>"
      ]
     },
     "metadata": {},
     "execution_count": 8
    }
   ],
   "metadata": {}
  },
  {
   "cell_type": "markdown",
   "source": [],
   "metadata": {}
  },
  {
   "cell_type": "code",
   "execution_count": 9,
   "source": [
    "ts.info()"
   ],
   "outputs": [
    {
     "output_type": "stream",
     "name": "stdout",
     "text": [
      "<class 'pandas.core.frame.DataFrame'>\n",
      "RangeIndex: 10 entries, 0 to 9\n",
      "Data columns (total 20 columns):\n",
      " #   Column                   Non-Null Count  Dtype  \n",
      "---  ------                   --------------  -----  \n",
      " 0   StoreID                  10 non-null     int64  \n",
      " 1   Sq_Ft                    10 non-null     int64  \n",
      " 2   AvgMonthSales            10 non-null     int64  \n",
      " 3   Phone Number             9 non-null      object \n",
      " 4   Street Combined          10 non-null     object \n",
      " 5   Street 1                 10 non-null     object \n",
      " 6   Street 2                 1 non-null      float64\n",
      " 7   Street 3                 1 non-null      object \n",
      " 8   City                     10 non-null     object \n",
      " 9   Postal Code              10 non-null     int64  \n",
      " 10  Region                   10 non-null     object \n",
      " 11  Country                  10 non-null     object \n",
      " 12  Coordinates              10 non-null     object \n",
      " 13  Latitude                 10 non-null     float64\n",
      " 14  Longitude                10 non-null     float64\n",
      " 15  Timezone                 10 non-null     object \n",
      " 16  Current Timezone Offset  10 non-null     int64  \n",
      " 17  Olson Timezone           10 non-null     object \n",
      " 18  Name                     10 non-null     object \n",
      " 19  Right_State              10 non-null     object \n",
      "dtypes: float64(3), int64(5), object(12)\n",
      "memory usage: 1.7+ KB\n"
     ]
    }
   ],
   "metadata": {}
  },
  {
   "cell_type": "code",
   "execution_count": 10,
   "source": [
    "# check missing values\r\n",
    "ts.isnull().sum()"
   ],
   "outputs": [
    {
     "output_type": "execute_result",
     "data": {
      "text/plain": [
       "StoreID                    0\n",
       "Sq_Ft                      0\n",
       "AvgMonthSales              0\n",
       "Phone Number               1\n",
       "Street Combined            0\n",
       "Street 1                   0\n",
       "Street 2                   9\n",
       "Street 3                   9\n",
       "City                       0\n",
       "Postal Code                0\n",
       "Region                     0\n",
       "Country                    0\n",
       "Coordinates                0\n",
       "Latitude                   0\n",
       "Longitude                  0\n",
       "Timezone                   0\n",
       "Current Timezone Offset    0\n",
       "Olson Timezone             0\n",
       "Name                       0\n",
       "Right_State                0\n",
       "dtype: int64"
      ]
     },
     "metadata": {},
     "execution_count": 10
    }
   ],
   "metadata": {}
  },
  {
   "cell_type": "markdown",
   "source": [
    "### Explore the transaction dataset\n"
   ],
   "metadata": {}
  },
  {
   "cell_type": "code",
   "execution_count": 11,
   "source": [
    "rrt.head(3)"
   ],
   "outputs": [
    {
     "output_type": "execute_result",
     "data": {
      "text/plain": [
       "   StoreID  Invoice Number Invoice Date   SKU  Category    Product  QTY Size  \\\n",
       "0    10018        16296643   2015-01-21  1043  Espresso      Mocha    3    L   \n",
       "1    10018        16296643   2015-01-21  2001    Pastry  Croissant    1  NaN   \n",
       "2    10018        16297717   2015-01-21  1021  Espresso   Espresso    3    S   \n",
       "\n",
       "   Gross Margin  Sales  \n",
       "0        6.7365  14.97  \n",
       "1        1.1000   2.75  \n",
       "2        4.1850   8.37  "
      ],
      "text/html": [
       "<div>\n",
       "<style scoped>\n",
       "    .dataframe tbody tr th:only-of-type {\n",
       "        vertical-align: middle;\n",
       "    }\n",
       "\n",
       "    .dataframe tbody tr th {\n",
       "        vertical-align: top;\n",
       "    }\n",
       "\n",
       "    .dataframe thead th {\n",
       "        text-align: right;\n",
       "    }\n",
       "</style>\n",
       "<table border=\"1\" class=\"dataframe\">\n",
       "  <thead>\n",
       "    <tr style=\"text-align: right;\">\n",
       "      <th></th>\n",
       "      <th>StoreID</th>\n",
       "      <th>Invoice Number</th>\n",
       "      <th>Invoice Date</th>\n",
       "      <th>SKU</th>\n",
       "      <th>Category</th>\n",
       "      <th>Product</th>\n",
       "      <th>QTY</th>\n",
       "      <th>Size</th>\n",
       "      <th>Gross Margin</th>\n",
       "      <th>Sales</th>\n",
       "    </tr>\n",
       "  </thead>\n",
       "  <tbody>\n",
       "    <tr>\n",
       "      <th>0</th>\n",
       "      <td>10018</td>\n",
       "      <td>16296643</td>\n",
       "      <td>2015-01-21</td>\n",
       "      <td>1043</td>\n",
       "      <td>Espresso</td>\n",
       "      <td>Mocha</td>\n",
       "      <td>3</td>\n",
       "      <td>L</td>\n",
       "      <td>6.7365</td>\n",
       "      <td>14.97</td>\n",
       "    </tr>\n",
       "    <tr>\n",
       "      <th>1</th>\n",
       "      <td>10018</td>\n",
       "      <td>16296643</td>\n",
       "      <td>2015-01-21</td>\n",
       "      <td>2001</td>\n",
       "      <td>Pastry</td>\n",
       "      <td>Croissant</td>\n",
       "      <td>1</td>\n",
       "      <td>NaN</td>\n",
       "      <td>1.1000</td>\n",
       "      <td>2.75</td>\n",
       "    </tr>\n",
       "    <tr>\n",
       "      <th>2</th>\n",
       "      <td>10018</td>\n",
       "      <td>16297717</td>\n",
       "      <td>2015-01-21</td>\n",
       "      <td>1021</td>\n",
       "      <td>Espresso</td>\n",
       "      <td>Espresso</td>\n",
       "      <td>3</td>\n",
       "      <td>S</td>\n",
       "      <td>4.1850</td>\n",
       "      <td>8.37</td>\n",
       "    </tr>\n",
       "  </tbody>\n",
       "</table>\n",
       "</div>"
      ]
     },
     "metadata": {},
     "execution_count": 11
    }
   ],
   "metadata": {}
  },
  {
   "cell_type": "code",
   "execution_count": 12,
   "source": [
    "rrt.info()"
   ],
   "outputs": [
    {
     "output_type": "stream",
     "name": "stdout",
     "text": [
      "<class 'pandas.core.frame.DataFrame'>\n",
      "RangeIndex: 4332333 entries, 0 to 4332332\n",
      "Data columns (total 10 columns):\n",
      " #   Column          Dtype         \n",
      "---  ------          -----         \n",
      " 0   StoreID         int64         \n",
      " 1   Invoice Number  int64         \n",
      " 2   Invoice Date    datetime64[ns]\n",
      " 3   SKU             int64         \n",
      " 4   Category        object        \n",
      " 5   Product         object        \n",
      " 6   QTY             int64         \n",
      " 7   Size            object        \n",
      " 8   Gross Margin    float64       \n",
      " 9   Sales           float64       \n",
      "dtypes: datetime64[ns](1), float64(2), int64(4), object(3)\n",
      "memory usage: 330.5+ MB\n"
     ]
    }
   ],
   "metadata": {}
  },
  {
   "cell_type": "code",
   "execution_count": 13,
   "source": [
    "# check missing values\r\n",
    "rrt.isnull().sum()"
   ],
   "outputs": [
    {
     "output_type": "execute_result",
     "data": {
      "text/plain": [
       "StoreID                0\n",
       "Invoice Number         0\n",
       "Invoice Date           0\n",
       "SKU                    0\n",
       "Category               0\n",
       "Product                0\n",
       "QTY                    0\n",
       "Size              942725\n",
       "Gross Margin           0\n",
       "Sales                  0\n",
       "dtype: int64"
      ]
     },
     "metadata": {},
     "execution_count": 13
    }
   ],
   "metadata": {}
  },
  {
   "cell_type": "markdown",
   "source": [
    "### Step 2: Clean Up Your Data\n",
    "\n",
    "In this step, you should prepare the data for steps 3 and 4. You should aggregate the transaction data to the appropriate level and filter on the appropriate data ranges. You can assume that there is no missing, incomplete, duplicate, or dirty data. You’re ready to move on to the next step when you have weekly transaction data for all stores."
   ],
   "metadata": {}
  },
  {
   "cell_type": "markdown",
   "source": [
    "### Aggregate and Export\n",
    "\n",
    "We recommend you save your aggregated transaction database as a separate file to further reduce your development time. You shouldn't need to re-aggregate the transaction database every time you want to test out a new workflow.\n",
    "### Creating a week variable\n",
    "\n",
    "When calculating the week column, assign week 1 to the first week of the test period, so the week_begin variable for week 1 would be your test start date. This will cause weeks prior to the test period to be negative, which is perfectly fine. \n",
    "\n",
    "### Number of Weeks\n",
    "\n",
    "Create trend and seasonality variables to use as control variables. To do this, you need at least 52 weeks of data, plus the number of weeks you select in the tool to calculate trend, before the beginning of the test start date. In lesson 4, you used 6 weeks to calculate the trend, so you needed 58 weeks prior to the test start date. For the project, you are asked to use 12 weeks to calculate trend, so you'll need 64 weeks of data prior to the test start date. Since the test lasts for 12 weeks, this means you'll need a total 76 weeks of data.\n",
    "\n",
    "Your filter at the beginning of your workflow should go back 76 weeks from the end of the test period 2016-July-21. The expression shuold look like `[Invoice Date]>=\"2015-02-06\" AND [Invoice Date]<\"2016-07-22\"`\n",
    "\n",
    "All stores should have 76 weeks of Data."
   ],
   "metadata": {}
  },
  {
   "cell_type": "code",
   "execution_count": 14,
   "source": [
    "from datetime import datetime, timedelta"
   ],
   "outputs": [],
   "metadata": {}
  },
  {
   "cell_type": "markdown",
   "source": [
    "To do this, we have given the following bench marks\n",
    "\n",
    "`invoice_end_date = 2016-07-21`\n",
    "\n",
    "`treatment = 12 weeks` - 2016-04-29 - 2016-7-21, start on Friday\n",
    "\n",
    "`control = 12 weeks` - 2015-04-29 - 2015-7-21, start on Wednesday\n",
    "\n",
    "`Total weeks = 52 weeks + 12 + 12 = 76 weeks`\n"
   ],
   "metadata": {}
  },
  {
   "cell_type": "markdown",
   "source": [
    "Let's calculate the exact start date to filter the transaction"
   ],
   "metadata": {}
  },
  {
   "cell_type": "code",
   "execution_count": 15,
   "source": [
    "invoice_end_date = datetime(2016, 7, 21)\r\n",
    "invoice_start_date = invoice_end_date - timedelta(weeks=76)"
   ],
   "outputs": [],
   "metadata": {}
  },
  {
   "cell_type": "code",
   "execution_count": 16,
   "source": [
    "print(invoice_start_date, \"-\", invoice_end_date)"
   ],
   "outputs": [
    {
     "output_type": "stream",
     "name": "stdout",
     "text": [
      "2015-02-05 00:00:00 - 2016-07-21 00:00:00\n"
     ]
    }
   ],
   "metadata": {}
  },
  {
   "cell_type": "markdown",
   "source": [
    "The type of the date we have calcuated above is `datetime.datetime`. We will get the date only."
   ],
   "metadata": {}
  },
  {
   "cell_type": "code",
   "execution_count": 17,
   "source": [
    "type(invoice_end_date)"
   ],
   "outputs": [
    {
     "output_type": "execute_result",
     "data": {
      "text/plain": [
       "datetime.datetime"
      ]
     },
     "metadata": {},
     "execution_count": 17
    }
   ],
   "metadata": {}
  },
  {
   "cell_type": "code",
   "execution_count": 18,
   "source": [
    "# convert to datetime format\r\n",
    "invoice_start_date = pd.to_datetime(invoice_start_date, format=\"%Y-%m-%d\")\r\n",
    "invoice_end_date = pd.to_datetime(invoice_end_date, format=\"%Y-%m-%d\")"
   ],
   "outputs": [],
   "metadata": {}
  },
  {
   "cell_type": "code",
   "execution_count": 19,
   "source": [
    "print(invoice_start_date, invoice_end_date)"
   ],
   "outputs": [
    {
     "output_type": "stream",
     "name": "stdout",
     "text": [
      "2015-02-05 00:00:00 2016-07-21 00:00:00\n"
     ]
    }
   ],
   "metadata": {}
  },
  {
   "cell_type": "markdown",
   "source": [
    "Filter the transaction data with the start and end date of the invoice. In the transaction dataset, the `Invoice Date` type is object. Comparing two different types are not possible therefore, we will convert the `Invoice Date` column to `Datetime64` type."
   ],
   "metadata": {}
  },
  {
   "cell_type": "code",
   "execution_count": 20,
   "source": [
    "# converting into datetime\r\n",
    "rrt['Invoice Date'] = pd.to_datetime(rrt['Invoice Date'])"
   ],
   "outputs": [],
   "metadata": {}
  },
  {
   "cell_type": "code",
   "execution_count": 21,
   "source": [
    "# filtering the transaction data between start and end date\r\n",
    "trans_ = rrt[((rrt['Invoice Date'] > pd.to_datetime(invoice_start_date)) & (rrt['Invoice Date'] <= pd.to_datetime(invoice_end_date)))]"
   ],
   "outputs": [],
   "metadata": {}
  },
  {
   "cell_type": "code",
   "execution_count": 22,
   "source": [
    "# Set the Invoice Date column to index\r\n",
    "#trans_.set_index('Invoice Date', inplace=True)"
   ],
   "outputs": [],
   "metadata": {}
  },
  {
   "cell_type": "code",
   "execution_count": 23,
   "source": [
    "display('The start date invoice data', trans_.head(), \"The end date invoice data\", trans_.tail())"
   ],
   "outputs": [
    {
     "output_type": "display_data",
     "data": {
      "text/plain": [
       "'The start date invoice data'"
      ]
     },
     "metadata": {}
    },
    {
     "output_type": "display_data",
     "data": {
      "text/plain": [
       "     StoreID  Invoice Number Invoice Date   SKU  Category     Product  QTY  \\\n",
       "628    10018        16551067   2015-02-06  1013  Espresso  Cappuccino    2   \n",
       "629    10018        16551067   2015-02-06  1022  Espresso    Espresso    1   \n",
       "630    10018        16551067   2015-02-06  1023  Espresso    Espresso    3   \n",
       "631    10018        16551067   2015-02-06  1041  Espresso       Mocha    1   \n",
       "632    10018        16551067   2015-02-06  1042  Espresso       Mocha    3   \n",
       "\n",
       "    Size  Gross Margin  Sales  \n",
       "628    L        4.7880   7.98  \n",
       "629    M        1.4950   2.99  \n",
       "630    L        4.7850   9.57  \n",
       "631    S        1.7955   3.99  \n",
       "632    M        6.0615  13.47  "
      ],
      "text/html": [
       "<div>\n",
       "<style scoped>\n",
       "    .dataframe tbody tr th:only-of-type {\n",
       "        vertical-align: middle;\n",
       "    }\n",
       "\n",
       "    .dataframe tbody tr th {\n",
       "        vertical-align: top;\n",
       "    }\n",
       "\n",
       "    .dataframe thead th {\n",
       "        text-align: right;\n",
       "    }\n",
       "</style>\n",
       "<table border=\"1\" class=\"dataframe\">\n",
       "  <thead>\n",
       "    <tr style=\"text-align: right;\">\n",
       "      <th></th>\n",
       "      <th>StoreID</th>\n",
       "      <th>Invoice Number</th>\n",
       "      <th>Invoice Date</th>\n",
       "      <th>SKU</th>\n",
       "      <th>Category</th>\n",
       "      <th>Product</th>\n",
       "      <th>QTY</th>\n",
       "      <th>Size</th>\n",
       "      <th>Gross Margin</th>\n",
       "      <th>Sales</th>\n",
       "    </tr>\n",
       "  </thead>\n",
       "  <tbody>\n",
       "    <tr>\n",
       "      <th>628</th>\n",
       "      <td>10018</td>\n",
       "      <td>16551067</td>\n",
       "      <td>2015-02-06</td>\n",
       "      <td>1013</td>\n",
       "      <td>Espresso</td>\n",
       "      <td>Cappuccino</td>\n",
       "      <td>2</td>\n",
       "      <td>L</td>\n",
       "      <td>4.7880</td>\n",
       "      <td>7.98</td>\n",
       "    </tr>\n",
       "    <tr>\n",
       "      <th>629</th>\n",
       "      <td>10018</td>\n",
       "      <td>16551067</td>\n",
       "      <td>2015-02-06</td>\n",
       "      <td>1022</td>\n",
       "      <td>Espresso</td>\n",
       "      <td>Espresso</td>\n",
       "      <td>1</td>\n",
       "      <td>M</td>\n",
       "      <td>1.4950</td>\n",
       "      <td>2.99</td>\n",
       "    </tr>\n",
       "    <tr>\n",
       "      <th>630</th>\n",
       "      <td>10018</td>\n",
       "      <td>16551067</td>\n",
       "      <td>2015-02-06</td>\n",
       "      <td>1023</td>\n",
       "      <td>Espresso</td>\n",
       "      <td>Espresso</td>\n",
       "      <td>3</td>\n",
       "      <td>L</td>\n",
       "      <td>4.7850</td>\n",
       "      <td>9.57</td>\n",
       "    </tr>\n",
       "    <tr>\n",
       "      <th>631</th>\n",
       "      <td>10018</td>\n",
       "      <td>16551067</td>\n",
       "      <td>2015-02-06</td>\n",
       "      <td>1041</td>\n",
       "      <td>Espresso</td>\n",
       "      <td>Mocha</td>\n",
       "      <td>1</td>\n",
       "      <td>S</td>\n",
       "      <td>1.7955</td>\n",
       "      <td>3.99</td>\n",
       "    </tr>\n",
       "    <tr>\n",
       "      <th>632</th>\n",
       "      <td>10018</td>\n",
       "      <td>16551067</td>\n",
       "      <td>2015-02-06</td>\n",
       "      <td>1042</td>\n",
       "      <td>Espresso</td>\n",
       "      <td>Mocha</td>\n",
       "      <td>3</td>\n",
       "      <td>M</td>\n",
       "      <td>6.0615</td>\n",
       "      <td>13.47</td>\n",
       "    </tr>\n",
       "  </tbody>\n",
       "</table>\n",
       "</div>"
      ]
     },
     "metadata": {}
    },
    {
     "output_type": "display_data",
     "data": {
      "text/plain": [
       "'The end date invoice data'"
      ]
     },
     "metadata": {}
    },
    {
     "output_type": "display_data",
     "data": {
      "text/plain": [
       "         StoreID  Invoice Number Invoice Date   SKU  Category    Product  QTY  \\\n",
       "4332328     9968        45360178   2016-07-21  1043  Espresso      Mocha    3   \n",
       "4332329     9968        45360179   2016-07-21  1043  Espresso      Mocha    1   \n",
       "4332330     9968        45360242   2016-07-21  1041  Espresso      Mocha    2   \n",
       "4332331     9968        45360243   2016-07-21  1043  Espresso      Mocha    4   \n",
       "4332332     9968        45360705   2016-07-21  2001    Pastry  Croissant    3   \n",
       "\n",
       "        Size  Gross Margin  Sales  \n",
       "4332328    L        6.7365  14.97  \n",
       "4332329    L        2.2455   4.99  \n",
       "4332330    S        3.5910   7.98  \n",
       "4332331    L        8.9820  19.96  \n",
       "4332332  NaN        3.3000   8.25  "
      ],
      "text/html": [
       "<div>\n",
       "<style scoped>\n",
       "    .dataframe tbody tr th:only-of-type {\n",
       "        vertical-align: middle;\n",
       "    }\n",
       "\n",
       "    .dataframe tbody tr th {\n",
       "        vertical-align: top;\n",
       "    }\n",
       "\n",
       "    .dataframe thead th {\n",
       "        text-align: right;\n",
       "    }\n",
       "</style>\n",
       "<table border=\"1\" class=\"dataframe\">\n",
       "  <thead>\n",
       "    <tr style=\"text-align: right;\">\n",
       "      <th></th>\n",
       "      <th>StoreID</th>\n",
       "      <th>Invoice Number</th>\n",
       "      <th>Invoice Date</th>\n",
       "      <th>SKU</th>\n",
       "      <th>Category</th>\n",
       "      <th>Product</th>\n",
       "      <th>QTY</th>\n",
       "      <th>Size</th>\n",
       "      <th>Gross Margin</th>\n",
       "      <th>Sales</th>\n",
       "    </tr>\n",
       "  </thead>\n",
       "  <tbody>\n",
       "    <tr>\n",
       "      <th>4332328</th>\n",
       "      <td>9968</td>\n",
       "      <td>45360178</td>\n",
       "      <td>2016-07-21</td>\n",
       "      <td>1043</td>\n",
       "      <td>Espresso</td>\n",
       "      <td>Mocha</td>\n",
       "      <td>3</td>\n",
       "      <td>L</td>\n",
       "      <td>6.7365</td>\n",
       "      <td>14.97</td>\n",
       "    </tr>\n",
       "    <tr>\n",
       "      <th>4332329</th>\n",
       "      <td>9968</td>\n",
       "      <td>45360179</td>\n",
       "      <td>2016-07-21</td>\n",
       "      <td>1043</td>\n",
       "      <td>Espresso</td>\n",
       "      <td>Mocha</td>\n",
       "      <td>1</td>\n",
       "      <td>L</td>\n",
       "      <td>2.2455</td>\n",
       "      <td>4.99</td>\n",
       "    </tr>\n",
       "    <tr>\n",
       "      <th>4332330</th>\n",
       "      <td>9968</td>\n",
       "      <td>45360242</td>\n",
       "      <td>2016-07-21</td>\n",
       "      <td>1041</td>\n",
       "      <td>Espresso</td>\n",
       "      <td>Mocha</td>\n",
       "      <td>2</td>\n",
       "      <td>S</td>\n",
       "      <td>3.5910</td>\n",
       "      <td>7.98</td>\n",
       "    </tr>\n",
       "    <tr>\n",
       "      <th>4332331</th>\n",
       "      <td>9968</td>\n",
       "      <td>45360243</td>\n",
       "      <td>2016-07-21</td>\n",
       "      <td>1043</td>\n",
       "      <td>Espresso</td>\n",
       "      <td>Mocha</td>\n",
       "      <td>4</td>\n",
       "      <td>L</td>\n",
       "      <td>8.9820</td>\n",
       "      <td>19.96</td>\n",
       "    </tr>\n",
       "    <tr>\n",
       "      <th>4332332</th>\n",
       "      <td>9968</td>\n",
       "      <td>45360705</td>\n",
       "      <td>2016-07-21</td>\n",
       "      <td>2001</td>\n",
       "      <td>Pastry</td>\n",
       "      <td>Croissant</td>\n",
       "      <td>3</td>\n",
       "      <td>NaN</td>\n",
       "      <td>3.3000</td>\n",
       "      <td>8.25</td>\n",
       "    </tr>\n",
       "  </tbody>\n",
       "</table>\n",
       "</div>"
      ]
     },
     "metadata": {}
    }
   ],
   "metadata": {}
  },
  {
   "cell_type": "markdown",
   "source": [
    "Aggregate the data to get the weekly gross margin and weekly traffic count (count of unique invoices)\n",
    "To do this, resampling the Invoice date from Wednesday to Friday."
   ],
   "metadata": {}
  },
  {
   "cell_type": "code",
   "execution_count": 24,
   "source": [
    "# set the invoice date to index column\r\n",
    "trans_.set_index('Invoice Date', inplace=True)"
   ],
   "outputs": [],
   "metadata": {}
  },
  {
   "cell_type": "code",
   "execution_count": 25,
   "source": [
    "\r\n",
    "#trans_agg = trans_.set_index('Invoice Date').groupby('StoreID').resample(\"W-FRI\").agg({'Gross Margin':'sum','Invoice Number': 'nunique'}).reset_index()\r\n",
    "trans_agg = trans_.groupby([pd.Grouper(freq='W-FRI', closed='left'), 'StoreID']).agg({'Gross Margin':'sum',\r\n",
    "                                                                         'Invoice Number': 'nunique'}).reset_index()"
   ],
   "outputs": [],
   "metadata": {}
  },
  {
   "cell_type": "code",
   "execution_count": 26,
   "source": [
    "\r\n",
    "# Offset the date that to start week on first date, 1w = 1 week before the transccation starts!  \r\n",
    "trans_agg['Invoice Date'] = trans_agg['Invoice Date'] - pd.offsets.Week(1)\r\n",
    "trans_agg.rename(columns={'Invoice Number':'Weekly Traffic Count'}, inplace=True)"
   ],
   "outputs": [],
   "metadata": {}
  },
  {
   "cell_type": "markdown",
   "source": [
    "### Calculate the Trend and Seasonal using Decomposition of Time Series approach\n",
    "\n",
    "There are a couple of models to consider during the Decomposition of Time Series data.\n",
    "But, I used `Additive Model`: This model is used when the variations around the trend does not vary with the level of the time series. Here the components of a time series are simply added together using the formula:\n",
    "`y(t) = Level(t) + Trend(t) + Seasonality(t) + Noise(t)`. We also import `statsmodel` to do this Time series decomposition\n"
   ],
   "metadata": {}
  },
  {
   "cell_type": "code",
   "execution_count": 27,
   "source": [
    "import statsmodels.api as sm"
   ],
   "outputs": [],
   "metadata": {}
  },
  {
   "cell_type": "code",
   "execution_count": 28,
   "source": [
    "decomposition = sm.tsa.seasonal_decompose(trans_agg['Weekly Traffic Count'], period=12, extrapolate_trend='freq', model='Addictive')\r\n",
    "# Find trend and seasonal from the decomposition and add to the weekly gross data\r\n",
    "trend, seasonal = decomposition.trend, decomposition.seasonal\r\n",
    "trans_ = trans_agg.assign(Trend = decomposition.trend, Seasonal = decomposition.seasonal)"
   ],
   "outputs": [],
   "metadata": {}
  },
  {
   "cell_type": "markdown",
   "source": [
    "#### Label the data as treatment and control stores\n",
    "We should consider the following 3 numeric variables while measures to match `treatment and control` stores.\n",
    "1. Trend\n",
    "2. Seasonality\n",
    "3. AvgMonthSales (This should be determined by looking at the correlation between the appropriate numeric variables in the round roasters stores file `AvgMonthSales and Sq_ft` with the performance metric `gross margin`.) - This variable is in the `round-roaster-stores.csv` file.\n",
    "Then"
   ],
   "metadata": {}
  },
  {
   "cell_type": "code",
   "execution_count": 29,
   "source": [
    "# merge weekly transactions and stores data \r\n",
    "trans_ = trans_.merge(rrs[['StoreID','Sq_Ft', 'AvgMonthSales', 'Region']], on='StoreID')"
   ],
   "outputs": [],
   "metadata": {}
  },
  {
   "cell_type": "markdown",
   "source": [
    "Then, label the data as treatment if the `StoreID` is found in `treatment-stores.csv` file, else `Control`."
   ],
   "metadata": {}
  },
  {
   "cell_type": "code",
   "execution_count": 30,
   "source": [
    "trans_['Group'] = trans_['StoreID'].apply(lambda x: 'Treatment' if x in ts['StoreID'] else 'Control')\r\n",
    "trans_.head()"
   ],
   "outputs": [
    {
     "output_type": "execute_result",
     "data": {
      "text/plain": [
       "  Invoice Date  StoreID  Gross Margin  Weekly Traffic Count       Trend  \\\n",
       "0   2015-02-06     1508     1429.4390                   183  207.411568   \n",
       "1   2015-02-13     1508     2031.2580                   273  230.041667   \n",
       "2   2015-02-20     1508     1022.0430                   153  230.750000   \n",
       "3   2015-02-27     1508     1372.2495                   210  229.333333   \n",
       "4   2015-03-06     1508     1698.8590                   239  237.750000   \n",
       "\n",
       "   Seasonal  Sq_Ft  AvgMonthSales   Region    Group  \n",
       "0  0.653029   1457          12000  Central  Control  \n",
       "1 -2.668948   1457          12000  Central  Control  \n",
       "2 -3.644147   1457          12000  Central  Control  \n",
       "3  2.524783   1457          12000  Central  Control  \n",
       "4  2.459223   1457          12000  Central  Control  "
      ],
      "text/html": [
       "<div>\n",
       "<style scoped>\n",
       "    .dataframe tbody tr th:only-of-type {\n",
       "        vertical-align: middle;\n",
       "    }\n",
       "\n",
       "    .dataframe tbody tr th {\n",
       "        vertical-align: top;\n",
       "    }\n",
       "\n",
       "    .dataframe thead th {\n",
       "        text-align: right;\n",
       "    }\n",
       "</style>\n",
       "<table border=\"1\" class=\"dataframe\">\n",
       "  <thead>\n",
       "    <tr style=\"text-align: right;\">\n",
       "      <th></th>\n",
       "      <th>Invoice Date</th>\n",
       "      <th>StoreID</th>\n",
       "      <th>Gross Margin</th>\n",
       "      <th>Weekly Traffic Count</th>\n",
       "      <th>Trend</th>\n",
       "      <th>Seasonal</th>\n",
       "      <th>Sq_Ft</th>\n",
       "      <th>AvgMonthSales</th>\n",
       "      <th>Region</th>\n",
       "      <th>Group</th>\n",
       "    </tr>\n",
       "  </thead>\n",
       "  <tbody>\n",
       "    <tr>\n",
       "      <th>0</th>\n",
       "      <td>2015-02-06</td>\n",
       "      <td>1508</td>\n",
       "      <td>1429.4390</td>\n",
       "      <td>183</td>\n",
       "      <td>207.411568</td>\n",
       "      <td>0.653029</td>\n",
       "      <td>1457</td>\n",
       "      <td>12000</td>\n",
       "      <td>Central</td>\n",
       "      <td>Control</td>\n",
       "    </tr>\n",
       "    <tr>\n",
       "      <th>1</th>\n",
       "      <td>2015-02-13</td>\n",
       "      <td>1508</td>\n",
       "      <td>2031.2580</td>\n",
       "      <td>273</td>\n",
       "      <td>230.041667</td>\n",
       "      <td>-2.668948</td>\n",
       "      <td>1457</td>\n",
       "      <td>12000</td>\n",
       "      <td>Central</td>\n",
       "      <td>Control</td>\n",
       "    </tr>\n",
       "    <tr>\n",
       "      <th>2</th>\n",
       "      <td>2015-02-20</td>\n",
       "      <td>1508</td>\n",
       "      <td>1022.0430</td>\n",
       "      <td>153</td>\n",
       "      <td>230.750000</td>\n",
       "      <td>-3.644147</td>\n",
       "      <td>1457</td>\n",
       "      <td>12000</td>\n",
       "      <td>Central</td>\n",
       "      <td>Control</td>\n",
       "    </tr>\n",
       "    <tr>\n",
       "      <th>3</th>\n",
       "      <td>2015-02-27</td>\n",
       "      <td>1508</td>\n",
       "      <td>1372.2495</td>\n",
       "      <td>210</td>\n",
       "      <td>229.333333</td>\n",
       "      <td>2.524783</td>\n",
       "      <td>1457</td>\n",
       "      <td>12000</td>\n",
       "      <td>Central</td>\n",
       "      <td>Control</td>\n",
       "    </tr>\n",
       "    <tr>\n",
       "      <th>4</th>\n",
       "      <td>2015-03-06</td>\n",
       "      <td>1508</td>\n",
       "      <td>1698.8590</td>\n",
       "      <td>239</td>\n",
       "      <td>237.750000</td>\n",
       "      <td>2.459223</td>\n",
       "      <td>1457</td>\n",
       "      <td>12000</td>\n",
       "      <td>Central</td>\n",
       "      <td>Control</td>\n",
       "    </tr>\n",
       "  </tbody>\n",
       "</table>\n",
       "</div>"
      ]
     },
     "metadata": {},
     "execution_count": 30
    }
   ],
   "metadata": {}
  },
  {
   "cell_type": "markdown",
   "source": [
    "To make sure that our aggregation is correct we should get 308 transaction for `StoreID==10018` and Start week in `2015-02-06`.\r\n",
    "\r\n",
    "**Q:** How many transactions did you get for Store 10018 in the week starting 2015-02-06?"
   ],
   "metadata": {}
  },
  {
   "cell_type": "code",
   "execution_count": 31,
   "source": [
    "trans_[((trans_['StoreID'] == 10018) & (trans_['Invoice Date'] =='2015-02-06'))]"
   ],
   "outputs": [
    {
     "output_type": "execute_result",
     "data": {
      "text/plain": [
       "     Invoice Date  StoreID  Gross Margin  Weekly Traffic Count    Trend  \\\n",
       "7068   2015-02-06    10018     2212.7105                   308  290.125   \n",
       "\n",
       "      Seasonal  Sq_Ft  AvgMonthSales Region    Group  \n",
       "7068 -0.078252   1183          18000   West  Control  "
      ],
      "text/html": [
       "<div>\n",
       "<style scoped>\n",
       "    .dataframe tbody tr th:only-of-type {\n",
       "        vertical-align: middle;\n",
       "    }\n",
       "\n",
       "    .dataframe tbody tr th {\n",
       "        vertical-align: top;\n",
       "    }\n",
       "\n",
       "    .dataframe thead th {\n",
       "        text-align: right;\n",
       "    }\n",
       "</style>\n",
       "<table border=\"1\" class=\"dataframe\">\n",
       "  <thead>\n",
       "    <tr style=\"text-align: right;\">\n",
       "      <th></th>\n",
       "      <th>Invoice Date</th>\n",
       "      <th>StoreID</th>\n",
       "      <th>Gross Margin</th>\n",
       "      <th>Weekly Traffic Count</th>\n",
       "      <th>Trend</th>\n",
       "      <th>Seasonal</th>\n",
       "      <th>Sq_Ft</th>\n",
       "      <th>AvgMonthSales</th>\n",
       "      <th>Region</th>\n",
       "      <th>Group</th>\n",
       "    </tr>\n",
       "  </thead>\n",
       "  <tbody>\n",
       "    <tr>\n",
       "      <th>7068</th>\n",
       "      <td>2015-02-06</td>\n",
       "      <td>10018</td>\n",
       "      <td>2212.7105</td>\n",
       "      <td>308</td>\n",
       "      <td>290.125</td>\n",
       "      <td>-0.078252</td>\n",
       "      <td>1183</td>\n",
       "      <td>18000</td>\n",
       "      <td>West</td>\n",
       "      <td>Control</td>\n",
       "    </tr>\n",
       "  </tbody>\n",
       "</table>\n",
       "</div>"
      ]
     },
     "metadata": {},
     "execution_count": 31
    }
   ],
   "metadata": {}
  },
  {
   "cell_type": "markdown",
   "source": [
    "#### Filter the test data per store. The test start date is  `2016-04-29`. In this case there are pre and post test data.\r\n",
    "The test data is 12 weeks.\r\n",
    "\r\n",
    "pre test start and end weeks: `2015-04-29 - 2015-07-21`\r\n",
    "\r\n",
    "and post test start and end weeks are: `2016-04-29 - 2016-07-21`. Based on this we can filter the test data as following:"
   ],
   "metadata": {}
  },
  {
   "cell_type": "code",
   "execution_count": 32,
   "source": [
    "# Filter Post and Pre test data\r\n",
    "post_data = trans_.query('`Invoice Date` >= @datetime(2016, 4, 29)')\r\n",
    "pre_data = trans_.query('`Invoice Date` >= @datetime(2015, 4, 29) and `Invoice Date` <= @datetime(2015, 7, 21)')\r\n",
    "\r\n",
    "pre_data.head()\r\n"
   ],
   "outputs": [
    {
     "output_type": "execute_result",
     "data": {
      "text/plain": [
       "   Invoice Date  StoreID  Gross Margin  Weekly Traffic Count       Trend  \\\n",
       "12   2015-05-01     1508     1701.9960                   230  227.291667   \n",
       "13   2015-05-08     1508     1551.2640                   216  220.958333   \n",
       "14   2015-05-15     1508     1551.1995                   204  217.625000   \n",
       "15   2015-05-22     1508     1626.8105                   228  202.000000   \n",
       "16   2015-05-29     1508      937.5550                   125  195.958333   \n",
       "\n",
       "    Seasonal  Sq_Ft  AvgMonthSales   Region    Group  \n",
       "12  0.653029   1457          12000  Central  Control  \n",
       "13 -2.668948   1457          12000  Central  Control  \n",
       "14 -3.644147   1457          12000  Central  Control  \n",
       "15  2.524783   1457          12000  Central  Control  \n",
       "16  2.459223   1457          12000  Central  Control  "
      ],
      "text/html": [
       "<div>\n",
       "<style scoped>\n",
       "    .dataframe tbody tr th:only-of-type {\n",
       "        vertical-align: middle;\n",
       "    }\n",
       "\n",
       "    .dataframe tbody tr th {\n",
       "        vertical-align: top;\n",
       "    }\n",
       "\n",
       "    .dataframe thead th {\n",
       "        text-align: right;\n",
       "    }\n",
       "</style>\n",
       "<table border=\"1\" class=\"dataframe\">\n",
       "  <thead>\n",
       "    <tr style=\"text-align: right;\">\n",
       "      <th></th>\n",
       "      <th>Invoice Date</th>\n",
       "      <th>StoreID</th>\n",
       "      <th>Gross Margin</th>\n",
       "      <th>Weekly Traffic Count</th>\n",
       "      <th>Trend</th>\n",
       "      <th>Seasonal</th>\n",
       "      <th>Sq_Ft</th>\n",
       "      <th>AvgMonthSales</th>\n",
       "      <th>Region</th>\n",
       "      <th>Group</th>\n",
       "    </tr>\n",
       "  </thead>\n",
       "  <tbody>\n",
       "    <tr>\n",
       "      <th>12</th>\n",
       "      <td>2015-05-01</td>\n",
       "      <td>1508</td>\n",
       "      <td>1701.9960</td>\n",
       "      <td>230</td>\n",
       "      <td>227.291667</td>\n",
       "      <td>0.653029</td>\n",
       "      <td>1457</td>\n",
       "      <td>12000</td>\n",
       "      <td>Central</td>\n",
       "      <td>Control</td>\n",
       "    </tr>\n",
       "    <tr>\n",
       "      <th>13</th>\n",
       "      <td>2015-05-08</td>\n",
       "      <td>1508</td>\n",
       "      <td>1551.2640</td>\n",
       "      <td>216</td>\n",
       "      <td>220.958333</td>\n",
       "      <td>-2.668948</td>\n",
       "      <td>1457</td>\n",
       "      <td>12000</td>\n",
       "      <td>Central</td>\n",
       "      <td>Control</td>\n",
       "    </tr>\n",
       "    <tr>\n",
       "      <th>14</th>\n",
       "      <td>2015-05-15</td>\n",
       "      <td>1508</td>\n",
       "      <td>1551.1995</td>\n",
       "      <td>204</td>\n",
       "      <td>217.625000</td>\n",
       "      <td>-3.644147</td>\n",
       "      <td>1457</td>\n",
       "      <td>12000</td>\n",
       "      <td>Central</td>\n",
       "      <td>Control</td>\n",
       "    </tr>\n",
       "    <tr>\n",
       "      <th>15</th>\n",
       "      <td>2015-05-22</td>\n",
       "      <td>1508</td>\n",
       "      <td>1626.8105</td>\n",
       "      <td>228</td>\n",
       "      <td>202.000000</td>\n",
       "      <td>2.524783</td>\n",
       "      <td>1457</td>\n",
       "      <td>12000</td>\n",
       "      <td>Central</td>\n",
       "      <td>Control</td>\n",
       "    </tr>\n",
       "    <tr>\n",
       "      <th>16</th>\n",
       "      <td>2015-05-29</td>\n",
       "      <td>1508</td>\n",
       "      <td>937.5550</td>\n",
       "      <td>125</td>\n",
       "      <td>195.958333</td>\n",
       "      <td>2.459223</td>\n",
       "      <td>1457</td>\n",
       "      <td>12000</td>\n",
       "      <td>Central</td>\n",
       "      <td>Control</td>\n",
       "    </tr>\n",
       "  </tbody>\n",
       "</table>\n",
       "</div>"
      ]
     },
     "metadata": {},
     "execution_count": 32
    }
   ],
   "metadata": {}
  },
  {
   "cell_type": "code",
   "execution_count": 33,
   "source": [
    "# Aggregate the pre and post test stores data of each store\r\n",
    "def agg_test_data(df, agg_cols):\r\n",
    "    return df.groupby(['StoreID'], as_index=False).agg(agg_cols)\r\n",
    "    \r\n",
    "# Aggregate Columns\r\n",
    "agg_cols ={'Gross Margin': 'sum', 'Weekly Traffic Count':'sum', \r\n",
    "           'Trend':'sum', 'Seasonal':'sum', 'Sq_Ft':'first', \r\n",
    "           'AvgMonthSales':'first', 'Region':'first', 'Group':'first'}\r\n",
    "# code drive\r\n",
    "pre_data_per_store = agg_test_data(pre_data, agg_cols)\r\n",
    "post_data_per_store = agg_test_data(post_data, agg_cols)\r\n",
    "\r\n",
    "# Print the pre and post test stores data\r\n",
    "display(pre_data_per_store.head(), post_data_per_store.head())"
   ],
   "outputs": [
    {
     "output_type": "display_data",
     "data": {
      "text/plain": [
       "   StoreID  Gross Margin  Weekly Traffic Count        Trend      Seasonal  \\\n",
       "0     1508    17896.2480                  2442  2636.250000  4.440892e-16   \n",
       "1     1542    16942.4025                  2249  2652.791667  2.220446e-16   \n",
       "2     1580    18832.4595                  2613  2697.708333  0.000000e+00   \n",
       "3     1630    23771.1470                  3253  2751.875000  0.000000e+00   \n",
       "4     1662    14782.2220                  1984  2712.125000  0.000000e+00   \n",
       "\n",
       "   Sq_Ft  AvgMonthSales   Region    Group  \n",
       "0   1457          12000  Central  Control  \n",
       "1   1506          12000  Central  Control  \n",
       "2   1568          14000  Central  Control  \n",
       "3   1582          17000  Central  Control  \n",
       "4   1471          11000  Central  Control  "
      ],
      "text/html": [
       "<div>\n",
       "<style scoped>\n",
       "    .dataframe tbody tr th:only-of-type {\n",
       "        vertical-align: middle;\n",
       "    }\n",
       "\n",
       "    .dataframe tbody tr th {\n",
       "        vertical-align: top;\n",
       "    }\n",
       "\n",
       "    .dataframe thead th {\n",
       "        text-align: right;\n",
       "    }\n",
       "</style>\n",
       "<table border=\"1\" class=\"dataframe\">\n",
       "  <thead>\n",
       "    <tr style=\"text-align: right;\">\n",
       "      <th></th>\n",
       "      <th>StoreID</th>\n",
       "      <th>Gross Margin</th>\n",
       "      <th>Weekly Traffic Count</th>\n",
       "      <th>Trend</th>\n",
       "      <th>Seasonal</th>\n",
       "      <th>Sq_Ft</th>\n",
       "      <th>AvgMonthSales</th>\n",
       "      <th>Region</th>\n",
       "      <th>Group</th>\n",
       "    </tr>\n",
       "  </thead>\n",
       "  <tbody>\n",
       "    <tr>\n",
       "      <th>0</th>\n",
       "      <td>1508</td>\n",
       "      <td>17896.2480</td>\n",
       "      <td>2442</td>\n",
       "      <td>2636.250000</td>\n",
       "      <td>4.440892e-16</td>\n",
       "      <td>1457</td>\n",
       "      <td>12000</td>\n",
       "      <td>Central</td>\n",
       "      <td>Control</td>\n",
       "    </tr>\n",
       "    <tr>\n",
       "      <th>1</th>\n",
       "      <td>1542</td>\n",
       "      <td>16942.4025</td>\n",
       "      <td>2249</td>\n",
       "      <td>2652.791667</td>\n",
       "      <td>2.220446e-16</td>\n",
       "      <td>1506</td>\n",
       "      <td>12000</td>\n",
       "      <td>Central</td>\n",
       "      <td>Control</td>\n",
       "    </tr>\n",
       "    <tr>\n",
       "      <th>2</th>\n",
       "      <td>1580</td>\n",
       "      <td>18832.4595</td>\n",
       "      <td>2613</td>\n",
       "      <td>2697.708333</td>\n",
       "      <td>0.000000e+00</td>\n",
       "      <td>1568</td>\n",
       "      <td>14000</td>\n",
       "      <td>Central</td>\n",
       "      <td>Control</td>\n",
       "    </tr>\n",
       "    <tr>\n",
       "      <th>3</th>\n",
       "      <td>1630</td>\n",
       "      <td>23771.1470</td>\n",
       "      <td>3253</td>\n",
       "      <td>2751.875000</td>\n",
       "      <td>0.000000e+00</td>\n",
       "      <td>1582</td>\n",
       "      <td>17000</td>\n",
       "      <td>Central</td>\n",
       "      <td>Control</td>\n",
       "    </tr>\n",
       "    <tr>\n",
       "      <th>4</th>\n",
       "      <td>1662</td>\n",
       "      <td>14782.2220</td>\n",
       "      <td>1984</td>\n",
       "      <td>2712.125000</td>\n",
       "      <td>0.000000e+00</td>\n",
       "      <td>1471</td>\n",
       "      <td>11000</td>\n",
       "      <td>Central</td>\n",
       "      <td>Control</td>\n",
       "    </tr>\n",
       "  </tbody>\n",
       "</table>\n",
       "</div>"
      ]
     },
     "metadata": {}
    },
    {
     "output_type": "display_data",
     "data": {
      "text/plain": [
       "   StoreID  Gross Margin  Weekly Traffic Count        Trend      Seasonal  \\\n",
       "0     1508    19035.5010                  2516  2635.708333  0.000000e+00   \n",
       "1     1542    20272.3985                  2918  2711.875000  4.440892e-16   \n",
       "2     1580    18698.5225                  2567  2800.458333  1.110223e-16   \n",
       "3     1630    21627.3460                  2797  2991.041667  2.220446e-16   \n",
       "4     1662    12714.1125                  1703  3066.041667 -1.110223e-16   \n",
       "\n",
       "   Sq_Ft  AvgMonthSales   Region    Group  \n",
       "0   1457          12000  Central  Control  \n",
       "1   1506          12000  Central  Control  \n",
       "2   1568          14000  Central  Control  \n",
       "3   1582          17000  Central  Control  \n",
       "4   1471          11000  Central  Control  "
      ],
      "text/html": [
       "<div>\n",
       "<style scoped>\n",
       "    .dataframe tbody tr th:only-of-type {\n",
       "        vertical-align: middle;\n",
       "    }\n",
       "\n",
       "    .dataframe tbody tr th {\n",
       "        vertical-align: top;\n",
       "    }\n",
       "\n",
       "    .dataframe thead th {\n",
       "        text-align: right;\n",
       "    }\n",
       "</style>\n",
       "<table border=\"1\" class=\"dataframe\">\n",
       "  <thead>\n",
       "    <tr style=\"text-align: right;\">\n",
       "      <th></th>\n",
       "      <th>StoreID</th>\n",
       "      <th>Gross Margin</th>\n",
       "      <th>Weekly Traffic Count</th>\n",
       "      <th>Trend</th>\n",
       "      <th>Seasonal</th>\n",
       "      <th>Sq_Ft</th>\n",
       "      <th>AvgMonthSales</th>\n",
       "      <th>Region</th>\n",
       "      <th>Group</th>\n",
       "    </tr>\n",
       "  </thead>\n",
       "  <tbody>\n",
       "    <tr>\n",
       "      <th>0</th>\n",
       "      <td>1508</td>\n",
       "      <td>19035.5010</td>\n",
       "      <td>2516</td>\n",
       "      <td>2635.708333</td>\n",
       "      <td>0.000000e+00</td>\n",
       "      <td>1457</td>\n",
       "      <td>12000</td>\n",
       "      <td>Central</td>\n",
       "      <td>Control</td>\n",
       "    </tr>\n",
       "    <tr>\n",
       "      <th>1</th>\n",
       "      <td>1542</td>\n",
       "      <td>20272.3985</td>\n",
       "      <td>2918</td>\n",
       "      <td>2711.875000</td>\n",
       "      <td>4.440892e-16</td>\n",
       "      <td>1506</td>\n",
       "      <td>12000</td>\n",
       "      <td>Central</td>\n",
       "      <td>Control</td>\n",
       "    </tr>\n",
       "    <tr>\n",
       "      <th>2</th>\n",
       "      <td>1580</td>\n",
       "      <td>18698.5225</td>\n",
       "      <td>2567</td>\n",
       "      <td>2800.458333</td>\n",
       "      <td>1.110223e-16</td>\n",
       "      <td>1568</td>\n",
       "      <td>14000</td>\n",
       "      <td>Central</td>\n",
       "      <td>Control</td>\n",
       "    </tr>\n",
       "    <tr>\n",
       "      <th>3</th>\n",
       "      <td>1630</td>\n",
       "      <td>21627.3460</td>\n",
       "      <td>2797</td>\n",
       "      <td>2991.041667</td>\n",
       "      <td>2.220446e-16</td>\n",
       "      <td>1582</td>\n",
       "      <td>17000</td>\n",
       "      <td>Central</td>\n",
       "      <td>Control</td>\n",
       "    </tr>\n",
       "    <tr>\n",
       "      <th>4</th>\n",
       "      <td>1662</td>\n",
       "      <td>12714.1125</td>\n",
       "      <td>1703</td>\n",
       "      <td>3066.041667</td>\n",
       "      <td>-1.110223e-16</td>\n",
       "      <td>1471</td>\n",
       "      <td>11000</td>\n",
       "      <td>Central</td>\n",
       "      <td>Control</td>\n",
       "    </tr>\n",
       "  </tbody>\n",
       "</table>\n",
       "</div>"
      ]
     },
     "metadata": {}
    }
   ],
   "metadata": {}
  },
  {
   "cell_type": "markdown",
   "source": [
    "### Step 3: Match Treatment and Control Units\n",
    "\n",
    "In this step, you should create the trend and seasonality variables, and use them along with you other control variable(s) to match two control units to each treatment unit. Treatment stores should be matched to control stores in the same region. Note: Calculate the number of transactions per store per week and use 12 periods to calculate trend and seasonality.\n",
    "\n",
    "##### Apart from trend and seasonality...\n",
    "- What control variables should be considered? Note: Only consider variables in the RoundRoastersStore file\n",
    "- What is the correlation between your each potential control variable and your performance metric? (Example of correlation matrix below)\n",
    "- What control variables will you use to match treatment and control stores?\n"
   ],
   "metadata": {}
  },
  {
   "cell_type": "markdown",
   "source": [
    "### Step 4: Analysis and Writeup\n",
    "\n",
    "Conduct your A/B analysis and create a short report outlining your results and recommendations. \n",
    "\n",
    "In an AB Analysis we use the correlation matrix to find the most correlated variable to the performance metric to include in the AB controls tool to help find the best matches."
   ],
   "metadata": {}
  },
  {
   "cell_type": "code",
   "execution_count": 34,
   "source": [
    "# Pearson Correlation Matrix of  Gross Margin and Stores variables\r\n",
    "\r\n",
    "pre_data_per_store[['Gross Margin', 'Sq_Ft', 'AvgMonthSales']].corr().round(2)\r\n",
    "#plt.title(\"Pearson Correlation Analysis\")"
   ],
   "outputs": [
    {
     "output_type": "execute_result",
     "data": {
      "text/plain": [
       "               Gross Margin  Sq_Ft  AvgMonthSales\n",
       "Gross Margin           1.00  -0.04           0.98\n",
       "Sq_Ft                 -0.04   1.00          -0.05\n",
       "AvgMonthSales          0.98  -0.05           1.00"
      ],
      "text/html": [
       "<div>\n",
       "<style scoped>\n",
       "    .dataframe tbody tr th:only-of-type {\n",
       "        vertical-align: middle;\n",
       "    }\n",
       "\n",
       "    .dataframe tbody tr th {\n",
       "        vertical-align: top;\n",
       "    }\n",
       "\n",
       "    .dataframe thead th {\n",
       "        text-align: right;\n",
       "    }\n",
       "</style>\n",
       "<table border=\"1\" class=\"dataframe\">\n",
       "  <thead>\n",
       "    <tr style=\"text-align: right;\">\n",
       "      <th></th>\n",
       "      <th>Gross Margin</th>\n",
       "      <th>Sq_Ft</th>\n",
       "      <th>AvgMonthSales</th>\n",
       "    </tr>\n",
       "  </thead>\n",
       "  <tbody>\n",
       "    <tr>\n",
       "      <th>Gross Margin</th>\n",
       "      <td>1.00</td>\n",
       "      <td>-0.04</td>\n",
       "      <td>0.98</td>\n",
       "    </tr>\n",
       "    <tr>\n",
       "      <th>Sq_Ft</th>\n",
       "      <td>-0.04</td>\n",
       "      <td>1.00</td>\n",
       "      <td>-0.05</td>\n",
       "    </tr>\n",
       "    <tr>\n",
       "      <th>AvgMonthSales</th>\n",
       "      <td>0.98</td>\n",
       "      <td>-0.05</td>\n",
       "      <td>1.00</td>\n",
       "    </tr>\n",
       "  </tbody>\n",
       "</table>\n",
       "</div>"
      ]
     },
     "metadata": {},
     "execution_count": 34
    }
   ],
   "metadata": {}
  },
  {
   "cell_type": "code",
   "execution_count": 35,
   "source": [
    "# Match Pre Treatment and Control Stores Data\r\n",
    "pre_control_stores = pre_data_per_store.query('Group == \"Control\"').reset_index(drop=True)\r\n",
    "pre_treatment_stores = pre_data_per_store.query('Group == \"Treatment\"').reset_index(drop=True)\r\n",
    "\r\n",
    "# filter region data\r\n",
    "# Region: 'Central'\r\n",
    "pre_control_central = pre_control_stores.query('Region == \"Central\"').reset_index(drop=True)\r\n",
    "pre_treatment_central = pre_treatment_stores.query('Region == \"Central\"').reset_index(drop=True)\r\n",
    "\r\n",
    "# Region: 'West'\r\n",
    "pre_control_west = pre_control_stores.query('Region == \"West\"').reset_index(drop=True)\r\n",
    "pre_treatment_west = pre_treatment_stores.query('Region == \"West\"').reset_index(drop=True)"
   ],
   "outputs": [],
   "metadata": {}
  },
  {
   "cell_type": "code",
   "execution_count": 36,
   "source": [
    " # Scale and transform categorical Data\r\n",
    "transformer = ColumnTransformer([('scaler', StandardScaler(), ['Trend', 'Seasonal', 'AvgMonthSales'])], remainder='drop')\r\n",
    "transformer.fit(pre_control_stores)\r\n",
    "            "
   ],
   "outputs": [
    {
     "output_type": "execute_result",
     "data": {
      "text/plain": [
       "ColumnTransformer(transformers=[('scaler', StandardScaler(),\n",
       "                                 ['Trend', 'Seasonal', 'AvgMonthSales'])])"
      ]
     },
     "metadata": {},
     "execution_count": 36
    }
   ],
   "metadata": {}
  },
  {
   "cell_type": "code",
   "execution_count": 37,
   "source": [
    "# Matched Treatment and Stores - version: 2\r\n",
    "# return: 'Treatment store ID', 'Control store ID', 'Pre Gross Treatment', 'Pre Gross Control'\r\n",
    "\r\n",
    "def get_matched_pairs(region_control_data, region_treatment_data):\r\n",
    "    treatment_ids = []\r\n",
    "    control_ids = []\r\n",
    "    treatment_store_gross = []\r\n",
    "    control_store_gross = []\r\n",
    "\r\n",
    "    kdtree = KDTree(transformer.transform(region_control_data), leaf_size=2)\r\n",
    "\r\n",
    "    for i , treat_store_id in enumerate(region_treatment_data['StoreID']):\r\n",
    "        treatment_ids += [treat_store_id, treat_store_id]\r\n",
    "        treat_data = region_treatment_data.iloc[i:i+1]\r\n",
    "        \r\n",
    "        _tg = treat_data.iloc[0]['Gross Margin'] # Get column value from df with single row\r\n",
    "        treatment_store_gross += [_tg,_tg]\r\n",
    "        \r\n",
    "        idx = kdtree.query(transformer.transform(treat_data), k=2, return_distance=False, dualtree=True)\r\n",
    "\r\n",
    "        _matched = region_control_data.iloc[idx[0]]\r\n",
    "        control_ids += list(_matched['StoreID'])\r\n",
    "        control_store_gross += list(_matched['Gross Margin'])\r\n",
    "    \r\n",
    "    _x = list(zip(treatment_ids, control_ids, treatment_store_gross, control_store_gross))\r\n",
    "    _columns = ['Treatment StoreID', 'Control StoreID', 'Treatment Pre Gross', 'Control Pre Gross']\r\n",
    "    return pd.DataFrame(_x, columns=_columns)"
   ],
   "outputs": [],
   "metadata": {}
  },
  {
   "cell_type": "code",
   "execution_count": 38,
   "source": [
    "# Find Matched Stores for Central and West Region\r\n",
    "stores_matched_west = get_matched_pairs(pre_control_west, pre_treatment_west)\r\n",
    "stores_matched_central = get_matched_pairs(pre_control_central, pre_treatment_central)"
   ],
   "outputs": [],
   "metadata": {}
  },
  {
   "cell_type": "code",
   "execution_count": 39,
   "source": [
    "stores_matched_west"
   ],
   "outputs": [
    {
     "output_type": "execute_result",
     "data": {
      "text/plain": [
       "Empty DataFrame\n",
       "Columns: [Treatment StoreID, Control StoreID, Treatment Pre Gross, Control Pre Gross]\n",
       "Index: []"
      ],
      "text/html": [
       "<div>\n",
       "<style scoped>\n",
       "    .dataframe tbody tr th:only-of-type {\n",
       "        vertical-align: middle;\n",
       "    }\n",
       "\n",
       "    .dataframe tbody tr th {\n",
       "        vertical-align: top;\n",
       "    }\n",
       "\n",
       "    .dataframe thead th {\n",
       "        text-align: right;\n",
       "    }\n",
       "</style>\n",
       "<table border=\"1\" class=\"dataframe\">\n",
       "  <thead>\n",
       "    <tr style=\"text-align: right;\">\n",
       "      <th></th>\n",
       "      <th>Treatment StoreID</th>\n",
       "      <th>Control StoreID</th>\n",
       "      <th>Treatment Pre Gross</th>\n",
       "      <th>Control Pre Gross</th>\n",
       "    </tr>\n",
       "  </thead>\n",
       "  <tbody>\n",
       "  </tbody>\n",
       "</table>\n",
       "</div>"
      ]
     },
     "metadata": {},
     "execution_count": 39
    }
   ],
   "metadata": {}
  },
  {
   "cell_type": "code",
   "execution_count": 40,
   "source": [
    "# Matched Stores With Store ID's\r\n",
    "pd.concat([stores_matched_central, stores_matched_west])[['Treatment StoreID', 'Control StoreID']]"
   ],
   "outputs": [
    {
     "output_type": "execute_result",
     "data": {
      "text/plain": [
       "Empty DataFrame\n",
       "Columns: [Treatment StoreID, Control StoreID]\n",
       "Index: []"
      ],
      "text/html": [
       "<div>\n",
       "<style scoped>\n",
       "    .dataframe tbody tr th:only-of-type {\n",
       "        vertical-align: middle;\n",
       "    }\n",
       "\n",
       "    .dataframe tbody tr th {\n",
       "        vertical-align: top;\n",
       "    }\n",
       "\n",
       "    .dataframe thead th {\n",
       "        text-align: right;\n",
       "    }\n",
       "</style>\n",
       "<table border=\"1\" class=\"dataframe\">\n",
       "  <thead>\n",
       "    <tr style=\"text-align: right;\">\n",
       "      <th></th>\n",
       "      <th>Treatment StoreID</th>\n",
       "      <th>Control StoreID</th>\n",
       "    </tr>\n",
       "  </thead>\n",
       "  <tbody>\n",
       "  </tbody>\n",
       "</table>\n",
       "</div>"
      ]
     },
     "metadata": {},
     "execution_count": 40
    }
   ],
   "metadata": {}
  },
  {
   "cell_type": "code",
   "execution_count": 41,
   "source": [
    "# Join Post Data to region region matched stores\r\n",
    "\r\n",
    "def pre_post_data_report(matched_stores, post_stores_data):\r\n",
    "    post_column = ['StoreID', 'Gross Margin']\r\n",
    "    _psd = post_stores_data[post_column].set_index('StoreID')\r\n",
    "\r\n",
    "    # treatment\r\n",
    "    _res = matched_stores.join(_psd, on='Treatment StoreID').rename(columns={'Gross Margin': 'Treatment Post Gross'})\r\n",
    "    # control\r\n",
    "    _res = _res.join(_psd, on='Control StoreID').rename(columns={'Gross Margin': 'Control Post Gross'})\r\n",
    "\r\n",
    "    # treatment changes\r\n",
    "    _chg_treat = _res[['Treatment Pre Gross', 'Treatment Post Gross']].pct_change(axis=1).dropna(axis=1)\r\n",
    "    _res['Treatment Change'] = _chg_treat * 100 # make it percentage\r\n",
    "\r\n",
    "    # control changes\r\n",
    "    _chg_control = _res[['Control Pre Gross', 'Control Post Gross']].pct_change(axis=1).dropna(axis=1)\r\n",
    "    _res['Control Change'] = _chg_control * 100 # make it percentage\r\n",
    "\r\n",
    "    return _res\r\n"
   ],
   "outputs": [],
   "metadata": {}
  },
  {
   "cell_type": "code",
   "execution_count": 43,
   "source": [
    "# Region Reports\r\n",
    "central_report = pre_post_data_report(stores_matched_central, post_data_per_store)\r\n",
    "west_report = pre_post_data_report(stores_matched_west, post_data_per_store)\r\n",
    "\r\n",
    "west_report"
   ],
   "outputs": [
    {
     "output_type": "error",
     "ename": "ValueError",
     "evalue": "Wrong number of items passed 2, placement implies 1",
     "traceback": [
      "\u001b[1;31m---------------------------------------------------------------------------\u001b[0m",
      "\u001b[1;31mKeyError\u001b[0m                                  Traceback (most recent call last)",
      "\u001b[1;32m~\\AppData\\Roaming\\Python\\Python39\\site-packages\\pandas\\core\\indexes\\base.py\u001b[0m in \u001b[0;36mget_loc\u001b[1;34m(self, key, method, tolerance)\u001b[0m\n\u001b[0;32m   3360\u001b[0m             \u001b[1;32mtry\u001b[0m\u001b[1;33m:\u001b[0m\u001b[1;33m\u001b[0m\u001b[1;33m\u001b[0m\u001b[0m\n\u001b[1;32m-> 3361\u001b[1;33m                 \u001b[1;32mreturn\u001b[0m \u001b[0mself\u001b[0m\u001b[1;33m.\u001b[0m\u001b[0m_engine\u001b[0m\u001b[1;33m.\u001b[0m\u001b[0mget_loc\u001b[0m\u001b[1;33m(\u001b[0m\u001b[0mcasted_key\u001b[0m\u001b[1;33m)\u001b[0m\u001b[1;33m\u001b[0m\u001b[1;33m\u001b[0m\u001b[0m\n\u001b[0m\u001b[0;32m   3362\u001b[0m             \u001b[1;32mexcept\u001b[0m \u001b[0mKeyError\u001b[0m \u001b[1;32mas\u001b[0m \u001b[0merr\u001b[0m\u001b[1;33m:\u001b[0m\u001b[1;33m\u001b[0m\u001b[1;33m\u001b[0m\u001b[0m\n",
      "\u001b[1;32m~\\AppData\\Roaming\\Python\\Python39\\site-packages\\pandas\\_libs\\index.pyx\u001b[0m in \u001b[0;36mpandas._libs.index.IndexEngine.get_loc\u001b[1;34m()\u001b[0m\n",
      "\u001b[1;32m~\\AppData\\Roaming\\Python\\Python39\\site-packages\\pandas\\_libs\\index.pyx\u001b[0m in \u001b[0;36mpandas._libs.index.IndexEngine.get_loc\u001b[1;34m()\u001b[0m\n",
      "\u001b[1;32mpandas\\_libs\\hashtable_class_helper.pxi\u001b[0m in \u001b[0;36mpandas._libs.hashtable.PyObjectHashTable.get_item\u001b[1;34m()\u001b[0m\n",
      "\u001b[1;32mpandas\\_libs\\hashtable_class_helper.pxi\u001b[0m in \u001b[0;36mpandas._libs.hashtable.PyObjectHashTable.get_item\u001b[1;34m()\u001b[0m\n",
      "\u001b[1;31mKeyError\u001b[0m: 'Treatment Change'",
      "\nThe above exception was the direct cause of the following exception:\n",
      "\u001b[1;31mKeyError\u001b[0m                                  Traceback (most recent call last)",
      "\u001b[1;32m~\\AppData\\Roaming\\Python\\Python39\\site-packages\\pandas\\core\\frame.py\u001b[0m in \u001b[0;36m_set_item_mgr\u001b[1;34m(self, key, value)\u001b[0m\n\u001b[0;32m   3745\u001b[0m         \u001b[1;32mtry\u001b[0m\u001b[1;33m:\u001b[0m\u001b[1;33m\u001b[0m\u001b[1;33m\u001b[0m\u001b[0m\n\u001b[1;32m-> 3746\u001b[1;33m             \u001b[0mloc\u001b[0m \u001b[1;33m=\u001b[0m \u001b[0mself\u001b[0m\u001b[1;33m.\u001b[0m\u001b[0m_info_axis\u001b[0m\u001b[1;33m.\u001b[0m\u001b[0mget_loc\u001b[0m\u001b[1;33m(\u001b[0m\u001b[0mkey\u001b[0m\u001b[1;33m)\u001b[0m\u001b[1;33m\u001b[0m\u001b[1;33m\u001b[0m\u001b[0m\n\u001b[0m\u001b[0;32m   3747\u001b[0m         \u001b[1;32mexcept\u001b[0m \u001b[0mKeyError\u001b[0m\u001b[1;33m:\u001b[0m\u001b[1;33m\u001b[0m\u001b[1;33m\u001b[0m\u001b[0m\n",
      "\u001b[1;32m~\\AppData\\Roaming\\Python\\Python39\\site-packages\\pandas\\core\\indexes\\base.py\u001b[0m in \u001b[0;36mget_loc\u001b[1;34m(self, key, method, tolerance)\u001b[0m\n\u001b[0;32m   3362\u001b[0m             \u001b[1;32mexcept\u001b[0m \u001b[0mKeyError\u001b[0m \u001b[1;32mas\u001b[0m \u001b[0merr\u001b[0m\u001b[1;33m:\u001b[0m\u001b[1;33m\u001b[0m\u001b[1;33m\u001b[0m\u001b[0m\n\u001b[1;32m-> 3363\u001b[1;33m                 \u001b[1;32mraise\u001b[0m \u001b[0mKeyError\u001b[0m\u001b[1;33m(\u001b[0m\u001b[0mkey\u001b[0m\u001b[1;33m)\u001b[0m \u001b[1;32mfrom\u001b[0m \u001b[0merr\u001b[0m\u001b[1;33m\u001b[0m\u001b[1;33m\u001b[0m\u001b[0m\n\u001b[0m\u001b[0;32m   3364\u001b[0m \u001b[1;33m\u001b[0m\u001b[0m\n",
      "\u001b[1;31mKeyError\u001b[0m: 'Treatment Change'",
      "\nDuring handling of the above exception, another exception occurred:\n",
      "\u001b[1;31mValueError\u001b[0m                                Traceback (most recent call last)",
      "\u001b[1;32mC:\\Users\\OPTI-7~1\\AppData\\Local\\Temp/ipykernel_4288/353989643.py\u001b[0m in \u001b[0;36m<module>\u001b[1;34m\u001b[0m\n\u001b[0;32m      1\u001b[0m \u001b[1;31m# Region Reports\u001b[0m\u001b[1;33m\u001b[0m\u001b[1;33m\u001b[0m\u001b[1;33m\u001b[0m\u001b[0m\n\u001b[1;32m----> 2\u001b[1;33m \u001b[0mcentral_report\u001b[0m \u001b[1;33m=\u001b[0m \u001b[0mpre_post_data_report\u001b[0m\u001b[1;33m(\u001b[0m\u001b[0mstores_matched_central\u001b[0m\u001b[1;33m,\u001b[0m \u001b[0mpost_data_per_store\u001b[0m\u001b[1;33m)\u001b[0m\u001b[1;33m\u001b[0m\u001b[1;33m\u001b[0m\u001b[0m\n\u001b[0m\u001b[0;32m      3\u001b[0m \u001b[0mwest_report\u001b[0m \u001b[1;33m=\u001b[0m \u001b[0mpre_post_data_report\u001b[0m\u001b[1;33m(\u001b[0m\u001b[0mstores_matched_west\u001b[0m\u001b[1;33m,\u001b[0m \u001b[0mpost_data_per_store\u001b[0m\u001b[1;33m)\u001b[0m\u001b[1;33m\u001b[0m\u001b[1;33m\u001b[0m\u001b[0m\n\u001b[0;32m      4\u001b[0m \u001b[1;33m\u001b[0m\u001b[0m\n\u001b[0;32m      5\u001b[0m \u001b[0mwest_report\u001b[0m\u001b[1;33m\u001b[0m\u001b[1;33m\u001b[0m\u001b[0m\n",
      "\u001b[1;32mC:\\Users\\OPTI-7~1\\AppData\\Local\\Temp/ipykernel_4288/2083335457.py\u001b[0m in \u001b[0;36mpre_post_data_report\u001b[1;34m(matched_stores, post_stores_data)\u001b[0m\n\u001b[0;32m     12\u001b[0m     \u001b[1;31m# treatment changes\u001b[0m\u001b[1;33m\u001b[0m\u001b[1;33m\u001b[0m\u001b[1;33m\u001b[0m\u001b[0m\n\u001b[0;32m     13\u001b[0m     \u001b[0m_chg_treat\u001b[0m \u001b[1;33m=\u001b[0m \u001b[0m_res\u001b[0m\u001b[1;33m[\u001b[0m\u001b[1;33m[\u001b[0m\u001b[1;34m'Treatment Pre Gross'\u001b[0m\u001b[1;33m,\u001b[0m \u001b[1;34m'Treatment Post Gross'\u001b[0m\u001b[1;33m]\u001b[0m\u001b[1;33m]\u001b[0m\u001b[1;33m.\u001b[0m\u001b[0mpct_change\u001b[0m\u001b[1;33m(\u001b[0m\u001b[0maxis\u001b[0m\u001b[1;33m=\u001b[0m\u001b[1;36m1\u001b[0m\u001b[1;33m)\u001b[0m\u001b[1;33m.\u001b[0m\u001b[0mdropna\u001b[0m\u001b[1;33m(\u001b[0m\u001b[0maxis\u001b[0m\u001b[1;33m=\u001b[0m\u001b[1;36m1\u001b[0m\u001b[1;33m)\u001b[0m\u001b[1;33m\u001b[0m\u001b[1;33m\u001b[0m\u001b[0m\n\u001b[1;32m---> 14\u001b[1;33m     \u001b[0m_res\u001b[0m\u001b[1;33m[\u001b[0m\u001b[1;34m'Treatment Change'\u001b[0m\u001b[1;33m]\u001b[0m \u001b[1;33m=\u001b[0m \u001b[0m_chg_treat\u001b[0m \u001b[1;33m*\u001b[0m \u001b[1;36m100\u001b[0m \u001b[1;31m# make it percentage\u001b[0m\u001b[1;33m\u001b[0m\u001b[1;33m\u001b[0m\u001b[0m\n\u001b[0m\u001b[0;32m     15\u001b[0m \u001b[1;33m\u001b[0m\u001b[0m\n\u001b[0;32m     16\u001b[0m     \u001b[1;31m# control changes\u001b[0m\u001b[1;33m\u001b[0m\u001b[1;33m\u001b[0m\u001b[1;33m\u001b[0m\u001b[0m\n",
      "\u001b[1;32m~\\AppData\\Roaming\\Python\\Python39\\site-packages\\pandas\\core\\frame.py\u001b[0m in \u001b[0;36m__setitem__\u001b[1;34m(self, key, value)\u001b[0m\n\u001b[0;32m   3597\u001b[0m             \u001b[0mself\u001b[0m\u001b[1;33m.\u001b[0m\u001b[0m_setitem_array\u001b[0m\u001b[1;33m(\u001b[0m\u001b[0mkey\u001b[0m\u001b[1;33m,\u001b[0m \u001b[0mvalue\u001b[0m\u001b[1;33m)\u001b[0m\u001b[1;33m\u001b[0m\u001b[1;33m\u001b[0m\u001b[0m\n\u001b[0;32m   3598\u001b[0m         \u001b[1;32melif\u001b[0m \u001b[0misinstance\u001b[0m\u001b[1;33m(\u001b[0m\u001b[0mvalue\u001b[0m\u001b[1;33m,\u001b[0m \u001b[0mDataFrame\u001b[0m\u001b[1;33m)\u001b[0m\u001b[1;33m:\u001b[0m\u001b[1;33m\u001b[0m\u001b[1;33m\u001b[0m\u001b[0m\n\u001b[1;32m-> 3599\u001b[1;33m             \u001b[0mself\u001b[0m\u001b[1;33m.\u001b[0m\u001b[0m_set_item_frame_value\u001b[0m\u001b[1;33m(\u001b[0m\u001b[0mkey\u001b[0m\u001b[1;33m,\u001b[0m \u001b[0mvalue\u001b[0m\u001b[1;33m)\u001b[0m\u001b[1;33m\u001b[0m\u001b[1;33m\u001b[0m\u001b[0m\n\u001b[0m\u001b[0;32m   3600\u001b[0m         elif is_list_like(value) and 1 < len(\n\u001b[0;32m   3601\u001b[0m             \u001b[0mself\u001b[0m\u001b[1;33m.\u001b[0m\u001b[0mcolumns\u001b[0m\u001b[1;33m.\u001b[0m\u001b[0mget_indexer_for\u001b[0m\u001b[1;33m(\u001b[0m\u001b[1;33m[\u001b[0m\u001b[0mkey\u001b[0m\u001b[1;33m]\u001b[0m\u001b[1;33m)\u001b[0m\u001b[1;33m\u001b[0m\u001b[1;33m\u001b[0m\u001b[0m\n",
      "\u001b[1;32m~\\AppData\\Roaming\\Python\\Python39\\site-packages\\pandas\\core\\frame.py\u001b[0m in \u001b[0;36m_set_item_frame_value\u001b[1;34m(self, key, value)\u001b[0m\n\u001b[0;32m   3735\u001b[0m         \u001b[1;31m# now align rows\u001b[0m\u001b[1;33m\u001b[0m\u001b[1;33m\u001b[0m\u001b[1;33m\u001b[0m\u001b[0m\n\u001b[0;32m   3736\u001b[0m         \u001b[0marraylike\u001b[0m \u001b[1;33m=\u001b[0m \u001b[0m_reindex_for_setitem\u001b[0m\u001b[1;33m(\u001b[0m\u001b[0mvalue\u001b[0m\u001b[1;33m,\u001b[0m \u001b[0mself\u001b[0m\u001b[1;33m.\u001b[0m\u001b[0mindex\u001b[0m\u001b[1;33m)\u001b[0m\u001b[1;33m\u001b[0m\u001b[1;33m\u001b[0m\u001b[0m\n\u001b[1;32m-> 3737\u001b[1;33m         \u001b[0mself\u001b[0m\u001b[1;33m.\u001b[0m\u001b[0m_set_item_mgr\u001b[0m\u001b[1;33m(\u001b[0m\u001b[0mkey\u001b[0m\u001b[1;33m,\u001b[0m \u001b[0marraylike\u001b[0m\u001b[1;33m)\u001b[0m\u001b[1;33m\u001b[0m\u001b[1;33m\u001b[0m\u001b[0m\n\u001b[0m\u001b[0;32m   3738\u001b[0m \u001b[1;33m\u001b[0m\u001b[0m\n\u001b[0;32m   3739\u001b[0m     \u001b[1;32mdef\u001b[0m \u001b[0m_iset_item_mgr\u001b[0m\u001b[1;33m(\u001b[0m\u001b[0mself\u001b[0m\u001b[1;33m,\u001b[0m \u001b[0mloc\u001b[0m\u001b[1;33m:\u001b[0m \u001b[0mint\u001b[0m \u001b[1;33m|\u001b[0m \u001b[0mslice\u001b[0m \u001b[1;33m|\u001b[0m \u001b[0mnp\u001b[0m\u001b[1;33m.\u001b[0m\u001b[0mndarray\u001b[0m\u001b[1;33m,\u001b[0m \u001b[0mvalue\u001b[0m\u001b[1;33m)\u001b[0m \u001b[1;33m->\u001b[0m \u001b[1;32mNone\u001b[0m\u001b[1;33m:\u001b[0m\u001b[1;33m\u001b[0m\u001b[1;33m\u001b[0m\u001b[0m\n",
      "\u001b[1;32m~\\AppData\\Roaming\\Python\\Python39\\site-packages\\pandas\\core\\frame.py\u001b[0m in \u001b[0;36m_set_item_mgr\u001b[1;34m(self, key, value)\u001b[0m\n\u001b[0;32m   3747\u001b[0m         \u001b[1;32mexcept\u001b[0m \u001b[0mKeyError\u001b[0m\u001b[1;33m:\u001b[0m\u001b[1;33m\u001b[0m\u001b[1;33m\u001b[0m\u001b[0m\n\u001b[0;32m   3748\u001b[0m             \u001b[1;31m# This item wasn't present, just insert at end\u001b[0m\u001b[1;33m\u001b[0m\u001b[1;33m\u001b[0m\u001b[1;33m\u001b[0m\u001b[0m\n\u001b[1;32m-> 3749\u001b[1;33m             \u001b[0mself\u001b[0m\u001b[1;33m.\u001b[0m\u001b[0m_mgr\u001b[0m\u001b[1;33m.\u001b[0m\u001b[0minsert\u001b[0m\u001b[1;33m(\u001b[0m\u001b[0mlen\u001b[0m\u001b[1;33m(\u001b[0m\u001b[0mself\u001b[0m\u001b[1;33m.\u001b[0m\u001b[0m_info_axis\u001b[0m\u001b[1;33m)\u001b[0m\u001b[1;33m,\u001b[0m \u001b[0mkey\u001b[0m\u001b[1;33m,\u001b[0m \u001b[0mvalue\u001b[0m\u001b[1;33m)\u001b[0m\u001b[1;33m\u001b[0m\u001b[1;33m\u001b[0m\u001b[0m\n\u001b[0m\u001b[0;32m   3750\u001b[0m         \u001b[1;32melse\u001b[0m\u001b[1;33m:\u001b[0m\u001b[1;33m\u001b[0m\u001b[1;33m\u001b[0m\u001b[0m\n\u001b[0;32m   3751\u001b[0m             \u001b[0mself\u001b[0m\u001b[1;33m.\u001b[0m\u001b[0m_iset_item_mgr\u001b[0m\u001b[1;33m(\u001b[0m\u001b[0mloc\u001b[0m\u001b[1;33m,\u001b[0m \u001b[0mvalue\u001b[0m\u001b[1;33m)\u001b[0m\u001b[1;33m\u001b[0m\u001b[1;33m\u001b[0m\u001b[0m\n",
      "\u001b[1;32m~\\AppData\\Roaming\\Python\\Python39\\site-packages\\pandas\\core\\internals\\managers.py\u001b[0m in \u001b[0;36minsert\u001b[1;34m(self, loc, item, value)\u001b[0m\n\u001b[0;32m   1153\u001b[0m             \u001b[0mvalue\u001b[0m \u001b[1;33m=\u001b[0m \u001b[0mensure_block_shape\u001b[0m\u001b[1;33m(\u001b[0m\u001b[0mvalue\u001b[0m\u001b[1;33m,\u001b[0m \u001b[0mndim\u001b[0m\u001b[1;33m=\u001b[0m\u001b[0mself\u001b[0m\u001b[1;33m.\u001b[0m\u001b[0mndim\u001b[0m\u001b[1;33m)\u001b[0m\u001b[1;33m\u001b[0m\u001b[1;33m\u001b[0m\u001b[0m\n\u001b[0;32m   1154\u001b[0m \u001b[1;33m\u001b[0m\u001b[0m\n\u001b[1;32m-> 1155\u001b[1;33m         \u001b[0mblock\u001b[0m \u001b[1;33m=\u001b[0m \u001b[0mnew_block\u001b[0m\u001b[1;33m(\u001b[0m\u001b[0mvalues\u001b[0m\u001b[1;33m=\u001b[0m\u001b[0mvalue\u001b[0m\u001b[1;33m,\u001b[0m \u001b[0mndim\u001b[0m\u001b[1;33m=\u001b[0m\u001b[0mself\u001b[0m\u001b[1;33m.\u001b[0m\u001b[0mndim\u001b[0m\u001b[1;33m,\u001b[0m \u001b[0mplacement\u001b[0m\u001b[1;33m=\u001b[0m\u001b[0mslice\u001b[0m\u001b[1;33m(\u001b[0m\u001b[0mloc\u001b[0m\u001b[1;33m,\u001b[0m \u001b[0mloc\u001b[0m \u001b[1;33m+\u001b[0m \u001b[1;36m1\u001b[0m\u001b[1;33m)\u001b[0m\u001b[1;33m)\u001b[0m\u001b[1;33m\u001b[0m\u001b[1;33m\u001b[0m\u001b[0m\n\u001b[0m\u001b[0;32m   1156\u001b[0m \u001b[1;33m\u001b[0m\u001b[0m\n\u001b[0;32m   1157\u001b[0m         \u001b[1;32mfor\u001b[0m \u001b[0mblkno\u001b[0m\u001b[1;33m,\u001b[0m \u001b[0mcount\u001b[0m \u001b[1;32min\u001b[0m \u001b[0m_fast_count_smallints\u001b[0m\u001b[1;33m(\u001b[0m\u001b[0mself\u001b[0m\u001b[1;33m.\u001b[0m\u001b[0mblknos\u001b[0m\u001b[1;33m[\u001b[0m\u001b[0mloc\u001b[0m\u001b[1;33m:\u001b[0m\u001b[1;33m]\u001b[0m\u001b[1;33m)\u001b[0m\u001b[1;33m:\u001b[0m\u001b[1;33m\u001b[0m\u001b[1;33m\u001b[0m\u001b[0m\n",
      "\u001b[1;32m~\\AppData\\Roaming\\Python\\Python39\\site-packages\\pandas\\core\\internals\\blocks.py\u001b[0m in \u001b[0;36mnew_block\u001b[1;34m(values, placement, ndim, klass)\u001b[0m\n\u001b[0;32m   1920\u001b[0m \u001b[1;33m\u001b[0m\u001b[0m\n\u001b[0;32m   1921\u001b[0m     \u001b[0mvalues\u001b[0m\u001b[1;33m,\u001b[0m \u001b[0m_\u001b[0m \u001b[1;33m=\u001b[0m \u001b[0mextract_pandas_array\u001b[0m\u001b[1;33m(\u001b[0m\u001b[0mvalues\u001b[0m\u001b[1;33m,\u001b[0m \u001b[1;32mNone\u001b[0m\u001b[1;33m,\u001b[0m \u001b[0mndim\u001b[0m\u001b[1;33m)\u001b[0m\u001b[1;33m\u001b[0m\u001b[1;33m\u001b[0m\u001b[0m\n\u001b[1;32m-> 1922\u001b[1;33m     \u001b[0mcheck_ndim\u001b[0m\u001b[1;33m(\u001b[0m\u001b[0mvalues\u001b[0m\u001b[1;33m,\u001b[0m \u001b[0mplacement\u001b[0m\u001b[1;33m,\u001b[0m \u001b[0mndim\u001b[0m\u001b[1;33m)\u001b[0m\u001b[1;33m\u001b[0m\u001b[1;33m\u001b[0m\u001b[0m\n\u001b[0m\u001b[0;32m   1923\u001b[0m \u001b[1;33m\u001b[0m\u001b[0m\n\u001b[0;32m   1924\u001b[0m     \u001b[1;32mif\u001b[0m \u001b[0mklass\u001b[0m \u001b[1;32mis\u001b[0m \u001b[1;32mNone\u001b[0m\u001b[1;33m:\u001b[0m\u001b[1;33m\u001b[0m\u001b[1;33m\u001b[0m\u001b[0m\n",
      "\u001b[1;32m~\\AppData\\Roaming\\Python\\Python39\\site-packages\\pandas\\core\\internals\\blocks.py\u001b[0m in \u001b[0;36mcheck_ndim\u001b[1;34m(values, placement, ndim)\u001b[0m\n\u001b[0;32m   1962\u001b[0m             )\n\u001b[0;32m   1963\u001b[0m         \u001b[1;32mif\u001b[0m \u001b[0mlen\u001b[0m\u001b[1;33m(\u001b[0m\u001b[0mplacement\u001b[0m\u001b[1;33m)\u001b[0m \u001b[1;33m!=\u001b[0m \u001b[0mlen\u001b[0m\u001b[1;33m(\u001b[0m\u001b[0mvalues\u001b[0m\u001b[1;33m)\u001b[0m\u001b[1;33m:\u001b[0m\u001b[1;33m\u001b[0m\u001b[1;33m\u001b[0m\u001b[0m\n\u001b[1;32m-> 1964\u001b[1;33m             raise ValueError(\n\u001b[0m\u001b[0;32m   1965\u001b[0m                 \u001b[1;34mf\"Wrong number of items passed {len(values)}, \"\u001b[0m\u001b[1;33m\u001b[0m\u001b[1;33m\u001b[0m\u001b[0m\n\u001b[0;32m   1966\u001b[0m                 \u001b[1;34mf\"placement implies {len(placement)}\"\u001b[0m\u001b[1;33m\u001b[0m\u001b[1;33m\u001b[0m\u001b[0m\n",
      "\u001b[1;31mValueError\u001b[0m: Wrong number of items passed 2, placement implies 1"
     ]
    }
   ],
   "metadata": {}
  },
  {
   "cell_type": "code",
   "execution_count": null,
   "source": [
    "# Test if region the Pre and Post Gross is not random\r\n",
    "# West Region Test Result\r\n",
    "s_w, p_w = ttest_ind(west_report['Treatment Pre Gross'], west_report['Treatment Post Gross'])\r\n",
    "print('West Region Test', '\\nStatistic:', s_w, '\\nP-Value:', p_w, '\\nSignificance: ', (1-p_w)*100)\r\n",
    "\r\n",
    "w_chg = (west_report.sum()['Treatment Post Gross'] / west_report.sum()['Treatment Pre Gross'] - 1)*100\r\n",
    "print('Lift:', w_chg)\r\n",
    "\r\n",
    "# Central Region Test Result\r\n",
    "s_c, p_c = ttest_ind(central_report['Treatment Pre Gross'], central_report['Treatment Post Gross'])\r\n",
    "print('\\nCentral Region Test', '\\nStatistic:', s_c, '\\nP-Value:', p_c, '\\nSignificance: ', (1-p_c)*100)\r\n",
    "\r\n",
    "c_chg = (central_report.sum()['Treatment Post Gross'] / central_report.sum()['Treatment Pre Gross'] - 1)*100\r\n",
    "print('Lift:', c_chg)"
   ],
   "outputs": [
    {
     "output_type": "stream",
     "name": "stdout",
     "text": [
      "West Region Test \n",
      "Statistic: 1.5753056750341858 \n",
      "P-Value: 0.11605940056571082 \n",
      "Significance:  88.39405994342891\n",
      "Lift: -5.122486643250424\n",
      "\n",
      "Central Region Test \n",
      "Statistic: -1.3710773763015067 \n",
      "P-Value: 0.17220158086777032 \n",
      "Significance:  82.77984191322297\n",
      "Lift: 6.404899811736509\n"
     ]
    }
   ],
   "metadata": {}
  },
  {
   "cell_type": "code",
   "execution_count": null,
   "source": [
    "# Test if overall the Pre and Post Gross is not random\r\n",
    "# Overall Test Result\r\n",
    "w_c_merge = pd.concat([central_report, west_report])\r\n",
    "\r\n",
    "s_o, p_o = ttest_ind(w_c_merge['Treatment Pre Gross'], w_c_merge['Treatment Post Gross'])\r\n",
    "\r\n",
    "print('\\nOverall Test', '\\nStatistic:', s_o, '\\nP-Value:', p_o, '\\nSignificance: ', (1-p_o)*100)\r\n",
    "w_c_chg = (w_c_merge.sum()['Treatment Post Gross'] / w_c_merge.sum()['Treatment Pre Gross'] - 1)*100\r\n",
    "print('Overall Lift:', w_c_chg)"
   ],
   "outputs": [
    {
     "output_type": "stream",
     "name": "stdout",
     "text": [
      "\n",
      "Overall Test \n",
      "Statistic: 0.6687615313197577 \n",
      "P-Value: 0.5039387810517668 \n",
      "Significance:  49.60612189482332\n",
      "Overall Lift: -1.8052289124261045\n"
     ]
    }
   ],
   "metadata": {}
  },
  {
   "cell_type": "code",
   "execution_count": null,
   "source": [
    "# Visualazation of treatment and control change\r\n",
    "\r\n",
    "# hack x axis to show treatment store ID\r\n",
    "# encode treatment start with 1\r\n",
    "x = {}\r\n",
    "for i, id in enumerate(w_c_merge['Treatment StoreID'].unique()):\r\n",
    "    x[id] = i+1\r\n",
    "y = w_c_merge['Treatment StoreID'].replace(x)\r\n",
    "w_c_merge['IDX'] = y\r\n",
    "\r\n",
    "plt.rcParams['figure.figsize']=[20, 7]\r\n",
    "# plor scatter with encoded treatment id as x axis\r\n",
    "# scatter for Control Change\r\n",
    "p1 = plt.scatter(x='IDX', y='Control Change', data=w_c_merge)\r\n",
    "# scatter for Treatment Change\r\n",
    "p2 = plt.scatter(x='IDX', y='Treatment Change', data=w_c_merge)\r\n",
    "# show Treatment store ID instead on encoded value\r\n",
    "plt.xticks(w_c_merge['IDX'], w_c_merge['Treatment StoreID'])\r\n",
    "\r\n",
    "plt.xlabel('Treatment Stores')\r\n",
    "plt.ylabel('% Change in store')\r\n",
    "plt.title('Scatter Plot: % Change Treatment and Control Store')\r\n",
    "# show legend for treatment and Control plots\r\n",
    "plt.legend((p2, p1), ('Treatment Store', 'Control Store'))"
   ],
   "outputs": [
    {
     "output_type": "execute_result",
     "data": {
      "text/plain": [
       "<matplotlib.legend.Legend at 0x1fa814c7d60>"
      ]
     },
     "metadata": {},
     "execution_count": 56
    },
    {
     "output_type": "display_data",
     "data": {
      "text/plain": [
       "<Figure size 1440x504 with 1 Axes>"
      ],
      "image/svg+xml": "<?xml version=\"1.0\" encoding=\"utf-8\" standalone=\"no\"?>\r\n<!DOCTYPE svg PUBLIC \"-//W3C//DTD SVG 1.1//EN\"\r\n  \"http://www.w3.org/Graphics/SVG/1.1/DTD/svg11.dtd\">\r\n<svg height=\"440.394375pt\" version=\"1.1\" viewBox=\"0 0 1172.182813 440.394375\" width=\"1172.182813pt\" xmlns=\"http://www.w3.org/2000/svg\" xmlns:xlink=\"http://www.w3.org/1999/xlink\">\r\n <metadata>\r\n  <rdf:RDF xmlns:cc=\"http://creativecommons.org/ns#\" xmlns:dc=\"http://purl.org/dc/elements/1.1/\" xmlns:rdf=\"http://www.w3.org/1999/02/22-rdf-syntax-ns#\">\r\n   <cc:Work>\r\n    <dc:type rdf:resource=\"http://purl.org/dc/dcmitype/StillImage\"/>\r\n    <dc:date>2021-08-20T13:31:02.576204</dc:date>\r\n    <dc:format>image/svg+xml</dc:format>\r\n    <dc:creator>\r\n     <cc:Agent>\r\n      <dc:title>Matplotlib v3.4.2, https://matplotlib.org/</dc:title>\r\n     </cc:Agent>\r\n    </dc:creator>\r\n   </cc:Work>\r\n  </rdf:RDF>\r\n </metadata>\r\n <defs>\r\n  <style type=\"text/css\">*{stroke-linecap:butt;stroke-linejoin:round;}</style>\r\n </defs>\r\n <g id=\"figure_1\">\r\n  <g id=\"patch_1\">\r\n   <path d=\"M 0 440.394375 \r\nL 1172.182813 440.394375 \r\nL 1172.182813 0 \r\nL 0 0 \r\nz\r\n\" style=\"fill:none;\"/>\r\n  </g>\r\n  <g id=\"axes_1\">\r\n   <g id=\"patch_2\">\r\n    <path d=\"M 48.982813 402.838125 \r\nL 1164.982812 402.838125 \r\nL 1164.982812 22.318125 \r\nL 48.982813 22.318125 \r\nz\r\n\" style=\"fill:#ffffff;\"/>\r\n   </g>\r\n   <g id=\"PathCollection_1\">\r\n    <defs>\r\n     <path d=\"M 0 3 \r\nC 0.795609 3 1.55874 2.683901 2.12132 2.12132 \r\nC 2.683901 1.55874 3 0.795609 3 0 \r\nC 3 -0.795609 2.683901 -1.55874 2.12132 -2.12132 \r\nC 1.55874 -2.683901 0.795609 -3 0 -3 \r\nC -0.795609 -3 -1.55874 -2.683901 -2.12132 -2.12132 \r\nC -2.683901 -1.55874 -3 -0.795609 -3 0 \r\nC -3 0.795609 -2.683901 1.55874 -2.12132 2.12132 \r\nC -1.55874 2.683901 -0.795609 3 0 3 \r\nz\r\n\" id=\"m9185d549e2\" style=\"stroke:#1f77b4;\"/>\r\n    </defs>\r\n    <g clip-path=\"url(#p6d6ce792d3)\">\r\n     <use style=\"fill:#1f77b4;stroke:#1f77b4;\" x=\"99.710085\" xlink:href=\"#m9185d549e2\" y=\"248.07833\"/>\r\n     <use style=\"fill:#1f77b4;stroke:#1f77b4;\" x=\"99.710085\" xlink:href=\"#m9185d549e2\" y=\"201.292175\"/>\r\n     <use style=\"fill:#1f77b4;stroke:#1f77b4;\" x=\"107.396036\" xlink:href=\"#m9185d549e2\" y=\"202.777585\"/>\r\n     <use style=\"fill:#1f77b4;stroke:#1f77b4;\" x=\"107.396036\" xlink:href=\"#m9185d549e2\" y=\"258.447311\"/>\r\n     <use style=\"fill:#1f77b4;stroke:#1f77b4;\" x=\"115.081986\" xlink:href=\"#m9185d549e2\" y=\"272.203448\"/>\r\n     <use style=\"fill:#1f77b4;stroke:#1f77b4;\" x=\"115.081986\" xlink:href=\"#m9185d549e2\" y=\"210.831028\"/>\r\n     <use style=\"fill:#1f77b4;stroke:#1f77b4;\" x=\"122.767936\" xlink:href=\"#m9185d549e2\" y=\"300.522269\"/>\r\n     <use style=\"fill:#1f77b4;stroke:#1f77b4;\" x=\"122.767936\" xlink:href=\"#m9185d549e2\" y=\"297.12126\"/>\r\n     <use style=\"fill:#1f77b4;stroke:#1f77b4;\" x=\"130.453887\" xlink:href=\"#m9185d549e2\" y=\"317.471426\"/>\r\n     <use style=\"fill:#1f77b4;stroke:#1f77b4;\" x=\"130.453887\" xlink:href=\"#m9185d549e2\" y=\"266.600528\"/>\r\n     <use style=\"fill:#1f77b4;stroke:#1f77b4;\" x=\"138.139837\" xlink:href=\"#m9185d549e2\" y=\"201.292175\"/>\r\n     <use style=\"fill:#1f77b4;stroke:#1f77b4;\" x=\"138.139837\" xlink:href=\"#m9185d549e2\" y=\"248.07833\"/>\r\n     <use style=\"fill:#1f77b4;stroke:#1f77b4;\" x=\"145.825788\" xlink:href=\"#m9185d549e2\" y=\"110.246042\"/>\r\n     <use style=\"fill:#1f77b4;stroke:#1f77b4;\" x=\"145.825788\" xlink:href=\"#m9185d549e2\" y=\"324.933403\"/>\r\n     <use style=\"fill:#1f77b4;stroke:#1f77b4;\" x=\"153.511738\" xlink:href=\"#m9185d549e2\" y=\"158.067285\"/>\r\n     <use style=\"fill:#1f77b4;stroke:#1f77b4;\" x=\"153.511738\" xlink:href=\"#m9185d549e2\" y=\"258.447311\"/>\r\n     <use style=\"fill:#1f77b4;stroke:#1f77b4;\" x=\"161.197689\" xlink:href=\"#m9185d549e2\" y=\"162.320456\"/>\r\n     <use style=\"fill:#1f77b4;stroke:#1f77b4;\" x=\"161.197689\" xlink:href=\"#m9185d549e2\" y=\"253.417495\"/>\r\n     <use style=\"fill:#1f77b4;stroke:#1f77b4;\" x=\"168.883639\" xlink:href=\"#m9185d549e2\" y=\"39.614489\"/>\r\n     <use style=\"fill:#1f77b4;stroke:#1f77b4;\" x=\"168.883639\" xlink:href=\"#m9185d549e2\" y=\"276.671933\"/>\r\n     <use style=\"fill:#1f77b4;stroke:#1f77b4;\" x=\"176.569589\" xlink:href=\"#m9185d549e2\" y=\"170.083711\"/>\r\n     <use style=\"fill:#1f77b4;stroke:#1f77b4;\" x=\"176.569589\" xlink:href=\"#m9185d549e2\" y=\"290.385131\"/>\r\n     <use style=\"fill:#1f77b4;stroke:#1f77b4;\" x=\"184.25554\" xlink:href=\"#m9185d549e2\" y=\"210.831028\"/>\r\n     <use style=\"fill:#1f77b4;stroke:#1f77b4;\" x=\"184.25554\" xlink:href=\"#m9185d549e2\" y=\"272.203448\"/>\r\n     <use style=\"fill:#1f77b4;stroke:#1f77b4;\" x=\"191.94149\" xlink:href=\"#m9185d549e2\" y=\"242.737023\"/>\r\n     <use style=\"fill:#1f77b4;stroke:#1f77b4;\" x=\"191.94149\" xlink:href=\"#m9185d549e2\" y=\"249.894142\"/>\r\n     <use style=\"fill:#1f77b4;stroke:#1f77b4;\" x=\"199.627441\" xlink:href=\"#m9185d549e2\" y=\"258.447311\"/>\r\n     <use style=\"fill:#1f77b4;stroke:#1f77b4;\" x=\"199.627441\" xlink:href=\"#m9185d549e2\" y=\"202.777585\"/>\r\n     <use style=\"fill:#1f77b4;stroke:#1f77b4;\" x=\"207.313391\" xlink:href=\"#m9185d549e2\" y=\"266.600528\"/>\r\n     <use style=\"fill:#1f77b4;stroke:#1f77b4;\" x=\"207.313391\" xlink:href=\"#m9185d549e2\" y=\"317.471426\"/>\r\n     <use style=\"fill:#1f77b4;stroke:#1f77b4;\" x=\"214.999341\" xlink:href=\"#m9185d549e2\" y=\"324.933403\"/>\r\n     <use style=\"fill:#1f77b4;stroke:#1f77b4;\" x=\"214.999341\" xlink:href=\"#m9185d549e2\" y=\"300.522269\"/>\r\n     <use style=\"fill:#1f77b4;stroke:#1f77b4;\" x=\"222.685292\" xlink:href=\"#m9185d549e2\" y=\"276.671933\"/>\r\n     <use style=\"fill:#1f77b4;stroke:#1f77b4;\" x=\"222.685292\" xlink:href=\"#m9185d549e2\" y=\"39.614489\"/>\r\n     <use style=\"fill:#1f77b4;stroke:#1f77b4;\" x=\"230.371242\" xlink:href=\"#m9185d549e2\" y=\"249.894142\"/>\r\n     <use style=\"fill:#1f77b4;stroke:#1f77b4;\" x=\"230.371242\" xlink:href=\"#m9185d549e2\" y=\"242.737023\"/>\r\n     <use style=\"fill:#1f77b4;stroke:#1f77b4;\" x=\"238.057193\" xlink:href=\"#m9185d549e2\" y=\"293.930492\"/>\r\n     <use style=\"fill:#1f77b4;stroke:#1f77b4;\" x=\"238.057193\" xlink:href=\"#m9185d549e2\" y=\"301.506559\"/>\r\n     <use style=\"fill:#1f77b4;stroke:#1f77b4;\" x=\"245.743143\" xlink:href=\"#m9185d549e2\" y=\"268.013063\"/>\r\n     <use style=\"fill:#1f77b4;stroke:#1f77b4;\" x=\"245.743143\" xlink:href=\"#m9185d549e2\" y=\"280.637705\"/>\r\n     <use style=\"fill:#1f77b4;stroke:#1f77b4;\" x=\"253.429093\" xlink:href=\"#m9185d549e2\" y=\"330.039093\"/>\r\n     <use style=\"fill:#1f77b4;stroke:#1f77b4;\" x=\"253.429093\" xlink:href=\"#m9185d549e2\" y=\"242.737023\"/>\r\n     <use style=\"fill:#1f77b4;stroke:#1f77b4;\" x=\"261.115044\" xlink:href=\"#m9185d549e2\" y=\"164.116973\"/>\r\n     <use style=\"fill:#1f77b4;stroke:#1f77b4;\" x=\"261.115044\" xlink:href=\"#m9185d549e2\" y=\"202.777585\"/>\r\n     <use style=\"fill:#1f77b4;stroke:#1f77b4;\" x=\"268.800994\" xlink:href=\"#m9185d549e2\" y=\"247.888659\"/>\r\n     <use style=\"fill:#1f77b4;stroke:#1f77b4;\" x=\"268.800994\" xlink:href=\"#m9185d549e2\" y=\"266.600528\"/>\r\n     <use style=\"fill:#1f77b4;stroke:#1f77b4;\" x=\"276.486945\" xlink:href=\"#m9185d549e2\" y=\"297.12126\"/>\r\n     <use style=\"fill:#1f77b4;stroke:#1f77b4;\" x=\"276.486945\" xlink:href=\"#m9185d549e2\" y=\"300.522269\"/>\r\n     <use style=\"fill:#1f77b4;stroke:#1f77b4;\" x=\"284.172895\" xlink:href=\"#m9185d549e2\" y=\"280.637705\"/>\r\n     <use style=\"fill:#1f77b4;stroke:#1f77b4;\" x=\"284.172895\" xlink:href=\"#m9185d549e2\" y=\"268.013063\"/>\r\n     <use style=\"fill:#1f77b4;stroke:#1f77b4;\" x=\"291.858846\" xlink:href=\"#m9185d549e2\" y=\"313.539813\"/>\r\n     <use style=\"fill:#1f77b4;stroke:#1f77b4;\" x=\"291.858846\" xlink:href=\"#m9185d549e2\" y=\"201.292175\"/>\r\n     <use style=\"fill:#1f77b4;stroke:#1f77b4;\" x=\"299.544796\" xlink:href=\"#m9185d549e2\" y=\"301.506559\"/>\r\n     <use style=\"fill:#1f77b4;stroke:#1f77b4;\" x=\"299.544796\" xlink:href=\"#m9185d549e2\" y=\"209.079056\"/>\r\n     <use style=\"fill:#1f77b4;stroke:#1f77b4;\" x=\"307.230746\" xlink:href=\"#m9185d549e2\" y=\"263.097959\"/>\r\n     <use style=\"fill:#1f77b4;stroke:#1f77b4;\" x=\"307.230746\" xlink:href=\"#m9185d549e2\" y=\"302.570438\"/>\r\n     <use style=\"fill:#1f77b4;stroke:#1f77b4;\" x=\"314.916697\" xlink:href=\"#m9185d549e2\" y=\"253.417495\"/>\r\n     <use style=\"fill:#1f77b4;stroke:#1f77b4;\" x=\"314.916697\" xlink:href=\"#m9185d549e2\" y=\"162.320456\"/>\r\n     <use style=\"fill:#1f77b4;stroke:#1f77b4;\" x=\"322.602647\" xlink:href=\"#m9185d549e2\" y=\"257.270945\"/>\r\n     <use style=\"fill:#1f77b4;stroke:#1f77b4;\" x=\"322.602647\" xlink:href=\"#m9185d549e2\" y=\"252.58322\"/>\r\n     <use style=\"fill:#1f77b4;stroke:#1f77b4;\" x=\"330.288598\" xlink:href=\"#m9185d549e2\" y=\"252.58322\"/>\r\n     <use style=\"fill:#1f77b4;stroke:#1f77b4;\" x=\"330.288598\" xlink:href=\"#m9185d549e2\" y=\"257.270945\"/>\r\n     <use style=\"fill:#1f77b4;stroke:#1f77b4;\" x=\"337.974548\" xlink:href=\"#m9185d549e2\" y=\"295.953721\"/>\r\n     <use style=\"fill:#1f77b4;stroke:#1f77b4;\" x=\"337.974548\" xlink:href=\"#m9185d549e2\" y=\"298.722539\"/>\r\n     <use style=\"fill:#1f77b4;stroke:#1f77b4;\" x=\"345.660498\" xlink:href=\"#m9185d549e2\" y=\"265.312741\"/>\r\n     <use style=\"fill:#1f77b4;stroke:#1f77b4;\" x=\"345.660498\" xlink:href=\"#m9185d549e2\" y=\"177.299791\"/>\r\n     <use style=\"fill:#1f77b4;stroke:#1f77b4;\" x=\"353.346449\" xlink:href=\"#m9185d549e2\" y=\"224.996511\"/>\r\n     <use style=\"fill:#1f77b4;stroke:#1f77b4;\" x=\"353.346449\" xlink:href=\"#m9185d549e2\" y=\"158.067285\"/>\r\n     <use style=\"fill:#1f77b4;stroke:#1f77b4;\" x=\"361.032399\" xlink:href=\"#m9185d549e2\" y=\"254.885322\"/>\r\n     <use style=\"fill:#1f77b4;stroke:#1f77b4;\" x=\"361.032399\" xlink:href=\"#m9185d549e2\" y=\"295.953721\"/>\r\n     <use style=\"fill:#1f77b4;stroke:#1f77b4;\" x=\"368.71835\" xlink:href=\"#m9185d549e2\" y=\"298.722539\"/>\r\n     <use style=\"fill:#1f77b4;stroke:#1f77b4;\" x=\"368.71835\" xlink:href=\"#m9185d549e2\" y=\"295.953721\"/>\r\n     <use style=\"fill:#1f77b4;stroke:#1f77b4;\" x=\"376.4043\" xlink:href=\"#m9185d549e2\" y=\"313.361829\"/>\r\n     <use style=\"fill:#1f77b4;stroke:#1f77b4;\" x=\"376.4043\" xlink:href=\"#m9185d549e2\" y=\"39.614489\"/>\r\n     <use style=\"fill:#1f77b4;stroke:#1f77b4;\" x=\"384.090251\" xlink:href=\"#m9185d549e2\" y=\"177.299791\"/>\r\n     <use style=\"fill:#1f77b4;stroke:#1f77b4;\" x=\"384.090251\" xlink:href=\"#m9185d549e2\" y=\"265.312741\"/>\r\n     <use style=\"fill:#1f77b4;stroke:#1f77b4;\" x=\"391.776201\" xlink:href=\"#m9185d549e2\" y=\"209.079056\"/>\r\n     <use style=\"fill:#1f77b4;stroke:#1f77b4;\" x=\"391.776201\" xlink:href=\"#m9185d549e2\" y=\"301.506559\"/>\r\n     <use style=\"fill:#1f77b4;stroke:#1f77b4;\" x=\"399.462151\" xlink:href=\"#m9185d549e2\" y=\"302.570438\"/>\r\n     <use style=\"fill:#1f77b4;stroke:#1f77b4;\" x=\"399.462151\" xlink:href=\"#m9185d549e2\" y=\"263.097959\"/>\r\n     <use style=\"fill:#1f77b4;stroke:#1f77b4;\" x=\"407.148102\" xlink:href=\"#m9185d549e2\" y=\"247.068155\"/>\r\n     <use style=\"fill:#1f77b4;stroke:#1f77b4;\" x=\"407.148102\" xlink:href=\"#m9185d549e2\" y=\"317.471426\"/>\r\n     <use style=\"fill:#1f77b4;stroke:#1f77b4;\" x=\"414.834052\" xlink:href=\"#m9185d549e2\" y=\"290.385131\"/>\r\n     <use style=\"fill:#1f77b4;stroke:#1f77b4;\" x=\"414.834052\" xlink:href=\"#m9185d549e2\" y=\"266.600528\"/>\r\n     <use style=\"fill:#1f77b4;stroke:#1f77b4;\" x=\"422.520003\" xlink:href=\"#m9185d549e2\" y=\"294.536281\"/>\r\n     <use style=\"fill:#1f77b4;stroke:#1f77b4;\" x=\"422.520003\" xlink:href=\"#m9185d549e2\" y=\"248.730007\"/>\r\n     <use style=\"fill:#1f77b4;stroke:#1f77b4;\" x=\"430.205953\" xlink:href=\"#m9185d549e2\" y=\"81.277891\"/>\r\n     <use style=\"fill:#1f77b4;stroke:#1f77b4;\" x=\"430.205953\" xlink:href=\"#m9185d549e2\" y=\"338.135763\"/>\r\n     <use style=\"fill:#1f77b4;stroke:#1f77b4;\" x=\"437.891903\" xlink:href=\"#m9185d549e2\" y=\"160.036409\"/>\r\n     <use style=\"fill:#1f77b4;stroke:#1f77b4;\" x=\"437.891903\" xlink:href=\"#m9185d549e2\" y=\"357.282119\"/>\r\n     <use style=\"fill:#1f77b4;stroke:#1f77b4;\" x=\"445.577854\" xlink:href=\"#m9185d549e2\" y=\"227.727972\"/>\r\n     <use style=\"fill:#1f77b4;stroke:#1f77b4;\" x=\"445.577854\" xlink:href=\"#m9185d549e2\" y=\"357.282119\"/>\r\n     <use style=\"fill:#1f77b4;stroke:#1f77b4;\" x=\"453.263804\" xlink:href=\"#m9185d549e2\" y=\"115.816592\"/>\r\n     <use style=\"fill:#1f77b4;stroke:#1f77b4;\" x=\"453.263804\" xlink:href=\"#m9185d549e2\" y=\"273.298173\"/>\r\n     <use style=\"fill:#1f77b4;stroke:#1f77b4;\" x=\"460.949755\" xlink:href=\"#m9185d549e2\" y=\"233.981211\"/>\r\n     <use style=\"fill:#1f77b4;stroke:#1f77b4;\" x=\"460.949755\" xlink:href=\"#m9185d549e2\" y=\"223.402101\"/>\r\n     <use style=\"fill:#1f77b4;stroke:#1f77b4;\" x=\"468.635705\" xlink:href=\"#m9185d549e2\" y=\"96.48383\"/>\r\n     <use style=\"fill:#1f77b4;stroke:#1f77b4;\" x=\"468.635705\" xlink:href=\"#m9185d549e2\" y=\"266.803255\"/>\r\n     <use style=\"fill:#1f77b4;stroke:#1f77b4;\" x=\"476.321655\" xlink:href=\"#m9185d549e2\" y=\"304.456179\"/>\r\n     <use style=\"fill:#1f77b4;stroke:#1f77b4;\" x=\"476.321655\" xlink:href=\"#m9185d549e2\" y=\"264.915162\"/>\r\n     <use style=\"fill:#1f77b4;stroke:#1f77b4;\" x=\"484.007606\" xlink:href=\"#m9185d549e2\" y=\"273.298173\"/>\r\n     <use style=\"fill:#1f77b4;stroke:#1f77b4;\" x=\"484.007606\" xlink:href=\"#m9185d549e2\" y=\"115.816592\"/>\r\n     <use style=\"fill:#1f77b4;stroke:#1f77b4;\" x=\"491.693556\" xlink:href=\"#m9185d549e2\" y=\"298.907782\"/>\r\n     <use style=\"fill:#1f77b4;stroke:#1f77b4;\" x=\"491.693556\" xlink:href=\"#m9185d549e2\" y=\"293.948002\"/>\r\n     <use style=\"fill:#1f77b4;stroke:#1f77b4;\" x=\"499.379507\" xlink:href=\"#m9185d549e2\" y=\"244.679968\"/>\r\n     <use style=\"fill:#1f77b4;stroke:#1f77b4;\" x=\"499.379507\" xlink:href=\"#m9185d549e2\" y=\"210.234101\"/>\r\n     <use style=\"fill:#1f77b4;stroke:#1f77b4;\" x=\"507.065457\" xlink:href=\"#m9185d549e2\" y=\"202.628305\"/>\r\n     <use style=\"fill:#1f77b4;stroke:#1f77b4;\" x=\"507.065457\" xlink:href=\"#m9185d549e2\" y=\"298.907782\"/>\r\n     <use style=\"fill:#1f77b4;stroke:#1f77b4;\" x=\"514.751408\" xlink:href=\"#m9185d549e2\" y=\"214.036828\"/>\r\n     <use style=\"fill:#1f77b4;stroke:#1f77b4;\" x=\"514.751408\" xlink:href=\"#m9185d549e2\" y=\"96.48383\"/>\r\n     <use style=\"fill:#1f77b4;stroke:#1f77b4;\" x=\"522.437358\" xlink:href=\"#m9185d549e2\" y=\"277.82545\"/>\r\n     <use style=\"fill:#1f77b4;stroke:#1f77b4;\" x=\"522.437358\" xlink:href=\"#m9185d549e2\" y=\"301.059408\"/>\r\n     <use style=\"fill:#1f77b4;stroke:#1f77b4;\" x=\"530.123308\" xlink:href=\"#m9185d549e2\" y=\"341.042723\"/>\r\n     <use style=\"fill:#1f77b4;stroke:#1f77b4;\" x=\"530.123308\" xlink:href=\"#m9185d549e2\" y=\"306.484631\"/>\r\n     <use style=\"fill:#1f77b4;stroke:#1f77b4;\" x=\"537.809259\" xlink:href=\"#m9185d549e2\" y=\"218.507939\"/>\r\n     <use style=\"fill:#1f77b4;stroke:#1f77b4;\" x=\"537.809259\" xlink:href=\"#m9185d549e2\" y=\"199.792298\"/>\r\n     <use style=\"fill:#1f77b4;stroke:#1f77b4;\" x=\"545.495209\" xlink:href=\"#m9185d549e2\" y=\"273.962165\"/>\r\n     <use style=\"fill:#1f77b4;stroke:#1f77b4;\" x=\"545.495209\" xlink:href=\"#m9185d549e2\" y=\"353.394812\"/>\r\n     <use style=\"fill:#1f77b4;stroke:#1f77b4;\" x=\"553.18116\" xlink:href=\"#m9185d549e2\" y=\"351.412057\"/>\r\n     <use style=\"fill:#1f77b4;stroke:#1f77b4;\" x=\"553.18116\" xlink:href=\"#m9185d549e2\" y=\"308.031814\"/>\r\n     <use style=\"fill:#1f77b4;stroke:#1f77b4;\" x=\"560.86711\" xlink:href=\"#m9185d549e2\" y=\"248.730007\"/>\r\n     <use style=\"fill:#1f77b4;stroke:#1f77b4;\" x=\"560.86711\" xlink:href=\"#m9185d549e2\" y=\"294.536281\"/>\r\n     <use style=\"fill:#1f77b4;stroke:#1f77b4;\" x=\"568.55306\" xlink:href=\"#m9185d549e2\" y=\"306.484631\"/>\r\n     <use style=\"fill:#1f77b4;stroke:#1f77b4;\" x=\"568.55306\" xlink:href=\"#m9185d549e2\" y=\"341.042723\"/>\r\n     <use style=\"fill:#1f77b4;stroke:#1f77b4;\" x=\"576.239011\" xlink:href=\"#m9185d549e2\" y=\"323.957317\"/>\r\n     <use style=\"fill:#1f77b4;stroke:#1f77b4;\" x=\"576.239011\" xlink:href=\"#m9185d549e2\" y=\"341.042723\"/>\r\n     <use style=\"fill:#1f77b4;stroke:#1f77b4;\" x=\"583.924961\" xlink:href=\"#m9185d549e2\" y=\"302.645273\"/>\r\n     <use style=\"fill:#1f77b4;stroke:#1f77b4;\" x=\"583.924961\" xlink:href=\"#m9185d549e2\" y=\"282.800628\"/>\r\n     <use style=\"fill:#1f77b4;stroke:#1f77b4;\" x=\"591.610912\" xlink:href=\"#m9185d549e2\" y=\"262.573988\"/>\r\n     <use style=\"fill:#1f77b4;stroke:#1f77b4;\" x=\"591.610912\" xlink:href=\"#m9185d549e2\" y=\"351.412057\"/>\r\n     <use style=\"fill:#1f77b4;stroke:#1f77b4;\" x=\"599.296862\" xlink:href=\"#m9185d549e2\" y=\"364.441212\"/>\r\n     <use style=\"fill:#1f77b4;stroke:#1f77b4;\" x=\"599.296862\" xlink:href=\"#m9185d549e2\" y=\"296.560031\"/>\r\n     <use style=\"fill:#1f77b4;stroke:#1f77b4;\" x=\"606.982813\" xlink:href=\"#m9185d549e2\" y=\"291.240417\"/>\r\n     <use style=\"fill:#1f77b4;stroke:#1f77b4;\" x=\"606.982813\" xlink:href=\"#m9185d549e2\" y=\"317.382742\"/>\r\n     <use style=\"fill:#1f77b4;stroke:#1f77b4;\" x=\"614.668763\" xlink:href=\"#m9185d549e2\" y=\"283.775715\"/>\r\n     <use style=\"fill:#1f77b4;stroke:#1f77b4;\" x=\"614.668763\" xlink:href=\"#m9185d549e2\" y=\"277.839887\"/>\r\n     <use style=\"fill:#1f77b4;stroke:#1f77b4;\" x=\"622.354713\" xlink:href=\"#m9185d549e2\" y=\"259.37453\"/>\r\n     <use style=\"fill:#1f77b4;stroke:#1f77b4;\" x=\"622.354713\" xlink:href=\"#m9185d549e2\" y=\"282.800628\"/>\r\n     <use style=\"fill:#1f77b4;stroke:#1f77b4;\" x=\"630.040664\" xlink:href=\"#m9185d549e2\" y=\"330.196461\"/>\r\n     <use style=\"fill:#1f77b4;stroke:#1f77b4;\" x=\"630.040664\" xlink:href=\"#m9185d549e2\" y=\"301.059408\"/>\r\n     <use style=\"fill:#1f77b4;stroke:#1f77b4;\" x=\"637.726614\" xlink:href=\"#m9185d549e2\" y=\"277.839887\"/>\r\n     <use style=\"fill:#1f77b4;stroke:#1f77b4;\" x=\"637.726614\" xlink:href=\"#m9185d549e2\" y=\"322.829723\"/>\r\n     <use style=\"fill:#1f77b4;stroke:#1f77b4;\" x=\"645.412565\" xlink:href=\"#m9185d549e2\" y=\"282.800628\"/>\r\n     <use style=\"fill:#1f77b4;stroke:#1f77b4;\" x=\"645.412565\" xlink:href=\"#m9185d549e2\" y=\"302.645273\"/>\r\n     <use style=\"fill:#1f77b4;stroke:#1f77b4;\" x=\"653.098515\" xlink:href=\"#m9185d549e2\" y=\"225.926985\"/>\r\n     <use style=\"fill:#1f77b4;stroke:#1f77b4;\" x=\"653.098515\" xlink:href=\"#m9185d549e2\" y=\"306.601936\"/>\r\n     <use style=\"fill:#1f77b4;stroke:#1f77b4;\" x=\"660.784465\" xlink:href=\"#m9185d549e2\" y=\"314.776633\"/>\r\n     <use style=\"fill:#1f77b4;stroke:#1f77b4;\" x=\"660.784465\" xlink:href=\"#m9185d549e2\" y=\"317.382742\"/>\r\n     <use style=\"fill:#1f77b4;stroke:#1f77b4;\" x=\"668.470416\" xlink:href=\"#m9185d549e2\" y=\"320.977961\"/>\r\n     <use style=\"fill:#1f77b4;stroke:#1f77b4;\" x=\"668.470416\" xlink:href=\"#m9185d549e2\" y=\"322.829723\"/>\r\n     <use style=\"fill:#1f77b4;stroke:#1f77b4;\" x=\"676.156366\" xlink:href=\"#m9185d549e2\" y=\"268.791809\"/>\r\n     <use style=\"fill:#1f77b4;stroke:#1f77b4;\" x=\"676.156366\" xlink:href=\"#m9185d549e2\" y=\"323.957317\"/>\r\n     <use style=\"fill:#1f77b4;stroke:#1f77b4;\" x=\"683.842317\" xlink:href=\"#m9185d549e2\" y=\"279.230743\"/>\r\n     <use style=\"fill:#1f77b4;stroke:#1f77b4;\" x=\"683.842317\" xlink:href=\"#m9185d549e2\" y=\"268.791809\"/>\r\n     <use style=\"fill:#1f77b4;stroke:#1f77b4;\" x=\"691.528267\" xlink:href=\"#m9185d549e2\" y=\"210.234101\"/>\r\n     <use style=\"fill:#1f77b4;stroke:#1f77b4;\" x=\"691.528267\" xlink:href=\"#m9185d549e2\" y=\"244.679968\"/>\r\n     <use style=\"fill:#1f77b4;stroke:#1f77b4;\" x=\"699.214217\" xlink:href=\"#m9185d549e2\" y=\"264.915162\"/>\r\n     <use style=\"fill:#1f77b4;stroke:#1f77b4;\" x=\"699.214217\" xlink:href=\"#m9185d549e2\" y=\"304.456179\"/>\r\n     <use style=\"fill:#1f77b4;stroke:#1f77b4;\" x=\"706.900168\" xlink:href=\"#m9185d549e2\" y=\"282.601852\"/>\r\n     <use style=\"fill:#1f77b4;stroke:#1f77b4;\" x=\"706.900168\" xlink:href=\"#m9185d549e2\" y=\"266.803255\"/>\r\n     <use style=\"fill:#1f77b4;stroke:#1f77b4;\" x=\"714.586118\" xlink:href=\"#m9185d549e2\" y=\"218.746057\"/>\r\n     <use style=\"fill:#1f77b4;stroke:#1f77b4;\" x=\"714.586118\" xlink:href=\"#m9185d549e2\" y=\"304.456179\"/>\r\n     <use style=\"fill:#1f77b4;stroke:#1f77b4;\" x=\"722.272069\" xlink:href=\"#m9185d549e2\" y=\"385.541761\"/>\r\n     <use style=\"fill:#1f77b4;stroke:#1f77b4;\" x=\"722.272069\" xlink:href=\"#m9185d549e2\" y=\"218.507939\"/>\r\n     <use style=\"fill:#1f77b4;stroke:#1f77b4;\" x=\"729.958019\" xlink:href=\"#m9185d549e2\" y=\"251.469321\"/>\r\n     <use style=\"fill:#1f77b4;stroke:#1f77b4;\" x=\"729.958019\" xlink:href=\"#m9185d549e2\" y=\"182.378564\"/>\r\n     <use style=\"fill:#1f77b4;stroke:#1f77b4;\" x=\"737.64397\" xlink:href=\"#m9185d549e2\" y=\"182.378564\"/>\r\n     <use style=\"fill:#1f77b4;stroke:#1f77b4;\" x=\"737.64397\" xlink:href=\"#m9185d549e2\" y=\"251.469321\"/>\r\n     <use style=\"fill:#1f77b4;stroke:#1f77b4;\" x=\"745.32992\" xlink:href=\"#m9185d549e2\" y=\"279.003443\"/>\r\n     <use style=\"fill:#1f77b4;stroke:#1f77b4;\" x=\"745.32992\" xlink:href=\"#m9185d549e2\" y=\"244.679968\"/>\r\n     <use style=\"fill:#1f77b4;stroke:#1f77b4;\" x=\"753.01587\" xlink:href=\"#m9185d549e2\" y=\"266.803255\"/>\r\n     <use style=\"fill:#1f77b4;stroke:#1f77b4;\" x=\"753.01587\" xlink:href=\"#m9185d549e2\" y=\"96.48383\"/>\r\n     <use style=\"fill:#1f77b4;stroke:#1f77b4;\" x=\"760.701821\" xlink:href=\"#m9185d549e2\" y=\"293.948002\"/>\r\n     <use style=\"fill:#1f77b4;stroke:#1f77b4;\" x=\"760.701821\" xlink:href=\"#m9185d549e2\" y=\"298.907782\"/>\r\n     <use style=\"fill:#1f77b4;stroke:#1f77b4;\" x=\"768.387771\" xlink:href=\"#m9185d549e2\" y=\"357.282119\"/>\r\n     <use style=\"fill:#1f77b4;stroke:#1f77b4;\" x=\"768.387771\" xlink:href=\"#m9185d549e2\" y=\"160.036409\"/>\r\n     <use style=\"fill:#1f77b4;stroke:#1f77b4;\" x=\"776.073722\" xlink:href=\"#m9185d549e2\" y=\"353.394812\"/>\r\n     <use style=\"fill:#1f77b4;stroke:#1f77b4;\" x=\"776.073722\" xlink:href=\"#m9185d549e2\" y=\"306.484631\"/>\r\n     <use style=\"fill:#1f77b4;stroke:#1f77b4;\" x=\"783.759672\" xlink:href=\"#m9185d549e2\" y=\"306.601936\"/>\r\n     <use style=\"fill:#1f77b4;stroke:#1f77b4;\" x=\"783.759672\" xlink:href=\"#m9185d549e2\" y=\"225.926985\"/>\r\n     <use style=\"fill:#1f77b4;stroke:#1f77b4;\" x=\"791.445622\" xlink:href=\"#m9185d549e2\" y=\"296.560031\"/>\r\n     <use style=\"fill:#1f77b4;stroke:#1f77b4;\" x=\"791.445622\" xlink:href=\"#m9185d549e2\" y=\"317.382742\"/>\r\n     <use style=\"fill:#1f77b4;stroke:#1f77b4;\" x=\"799.131573\" xlink:href=\"#m9185d549e2\" y=\"299.207868\"/>\r\n     <use style=\"fill:#1f77b4;stroke:#1f77b4;\" x=\"799.131573\" xlink:href=\"#m9185d549e2\" y=\"248.730007\"/>\r\n     <use style=\"fill:#1f77b4;stroke:#1f77b4;\" x=\"806.817523\" xlink:href=\"#m9185d549e2\" y=\"307.992225\"/>\r\n     <use style=\"fill:#1f77b4;stroke:#1f77b4;\" x=\"806.817523\" xlink:href=\"#m9185d549e2\" y=\"348.80503\"/>\r\n     <use style=\"fill:#1f77b4;stroke:#1f77b4;\" x=\"814.503474\" xlink:href=\"#m9185d549e2\" y=\"311.236438\"/>\r\n     <use style=\"fill:#1f77b4;stroke:#1f77b4;\" x=\"814.503474\" xlink:href=\"#m9185d549e2\" y=\"325.035351\"/>\r\n     <use style=\"fill:#1f77b4;stroke:#1f77b4;\" x=\"822.189424\" xlink:href=\"#m9185d549e2\" y=\"325.035351\"/>\r\n     <use style=\"fill:#1f77b4;stroke:#1f77b4;\" x=\"822.189424\" xlink:href=\"#m9185d549e2\" y=\"348.80503\"/>\r\n     <use style=\"fill:#1f77b4;stroke:#1f77b4;\" x=\"829.875374\" xlink:href=\"#m9185d549e2\" y=\"339.808945\"/>\r\n     <use style=\"fill:#1f77b4;stroke:#1f77b4;\" x=\"829.875374\" xlink:href=\"#m9185d549e2\" y=\"260.51196\"/>\r\n     <use style=\"fill:#1f77b4;stroke:#1f77b4;\" x=\"837.561325\" xlink:href=\"#m9185d549e2\" y=\"320.379215\"/>\r\n     <use style=\"fill:#1f77b4;stroke:#1f77b4;\" x=\"837.561325\" xlink:href=\"#m9185d549e2\" y=\"298.280874\"/>\r\n     <use style=\"fill:#1f77b4;stroke:#1f77b4;\" x=\"845.247275\" xlink:href=\"#m9185d549e2\" y=\"283.458328\"/>\r\n     <use style=\"fill:#1f77b4;stroke:#1f77b4;\" x=\"845.247275\" xlink:href=\"#m9185d549e2\" y=\"351.021401\"/>\r\n     <use style=\"fill:#1f77b4;stroke:#1f77b4;\" x=\"852.933226\" xlink:href=\"#m9185d549e2\" y=\"310.819736\"/>\r\n     <use style=\"fill:#1f77b4;stroke:#1f77b4;\" x=\"852.933226\" xlink:href=\"#m9185d549e2\" y=\"274.155394\"/>\r\n     <use style=\"fill:#1f77b4;stroke:#1f77b4;\" x=\"860.619176\" xlink:href=\"#m9185d549e2\" y=\"347.054286\"/>\r\n     <use style=\"fill:#1f77b4;stroke:#1f77b4;\" x=\"860.619176\" xlink:href=\"#m9185d549e2\" y=\"260.51196\"/>\r\n     <use style=\"fill:#1f77b4;stroke:#1f77b4;\" x=\"868.305127\" xlink:href=\"#m9185d549e2\" y=\"342.315969\"/>\r\n     <use style=\"fill:#1f77b4;stroke:#1f77b4;\" x=\"868.305127\" xlink:href=\"#m9185d549e2\" y=\"302.068043\"/>\r\n     <use style=\"fill:#1f77b4;stroke:#1f77b4;\" x=\"875.991077\" xlink:href=\"#m9185d549e2\" y=\"298.280874\"/>\r\n     <use style=\"fill:#1f77b4;stroke:#1f77b4;\" x=\"875.991077\" xlink:href=\"#m9185d549e2\" y=\"320.379215\"/>\r\n     <use style=\"fill:#1f77b4;stroke:#1f77b4;\" x=\"883.677027\" xlink:href=\"#m9185d549e2\" y=\"269.629091\"/>\r\n     <use style=\"fill:#1f77b4;stroke:#1f77b4;\" x=\"883.677027\" xlink:href=\"#m9185d549e2\" y=\"285.670239\"/>\r\n     <use style=\"fill:#1f77b4;stroke:#1f77b4;\" x=\"891.362978\" xlink:href=\"#m9185d549e2\" y=\"329.360825\"/>\r\n     <use style=\"fill:#1f77b4;stroke:#1f77b4;\" x=\"891.362978\" xlink:href=\"#m9185d549e2\" y=\"351.021401\"/>\r\n     <use style=\"fill:#1f77b4;stroke:#1f77b4;\" x=\"899.048928\" xlink:href=\"#m9185d549e2\" y=\"288.692323\"/>\r\n     <use style=\"fill:#1f77b4;stroke:#1f77b4;\" x=\"899.048928\" xlink:href=\"#m9185d549e2\" y=\"285.670239\"/>\r\n     <use style=\"fill:#1f77b4;stroke:#1f77b4;\" x=\"906.734879\" xlink:href=\"#m9185d549e2\" y=\"260.51196\"/>\r\n     <use style=\"fill:#1f77b4;stroke:#1f77b4;\" x=\"906.734879\" xlink:href=\"#m9185d549e2\" y=\"347.054286\"/>\r\n     <use style=\"fill:#1f77b4;stroke:#1f77b4;\" x=\"914.420829\" xlink:href=\"#m9185d549e2\" y=\"332.843853\"/>\r\n     <use style=\"fill:#1f77b4;stroke:#1f77b4;\" x=\"914.420829\" xlink:href=\"#m9185d549e2\" y=\"260.51196\"/>\r\n     <use style=\"fill:#1f77b4;stroke:#1f77b4;\" x=\"922.106779\" xlink:href=\"#m9185d549e2\" y=\"274.155394\"/>\r\n     <use style=\"fill:#1f77b4;stroke:#1f77b4;\" x=\"922.106779\" xlink:href=\"#m9185d549e2\" y=\"310.819736\"/>\r\n     <use style=\"fill:#1f77b4;stroke:#1f77b4;\" x=\"929.79273\" xlink:href=\"#m9185d549e2\" y=\"216.118835\"/>\r\n     <use style=\"fill:#1f77b4;stroke:#1f77b4;\" x=\"929.79273\" xlink:href=\"#m9185d549e2\" y=\"298.280874\"/>\r\n     <use style=\"fill:#1f77b4;stroke:#1f77b4;\" x=\"937.47868\" xlink:href=\"#m9185d549e2\" y=\"351.021401\"/>\r\n     <use style=\"fill:#1f77b4;stroke:#1f77b4;\" x=\"937.47868\" xlink:href=\"#m9185d549e2\" y=\"283.458328\"/>\r\n     <use style=\"fill:#1f77b4;stroke:#1f77b4;\" x=\"945.164631\" xlink:href=\"#m9185d549e2\" y=\"302.068043\"/>\r\n     <use style=\"fill:#1f77b4;stroke:#1f77b4;\" x=\"945.164631\" xlink:href=\"#m9185d549e2\" y=\"342.315969\"/>\r\n     <use style=\"fill:#1f77b4;stroke:#1f77b4;\" x=\"952.850581\" xlink:href=\"#m9185d549e2\" y=\"354.069364\"/>\r\n     <use style=\"fill:#1f77b4;stroke:#1f77b4;\" x=\"952.850581\" xlink:href=\"#m9185d549e2\" y=\"310.819736\"/>\r\n     <use style=\"fill:#1f77b4;stroke:#1f77b4;\" x=\"960.536532\" xlink:href=\"#m9185d549e2\" y=\"285.670239\"/>\r\n     <use style=\"fill:#1f77b4;stroke:#1f77b4;\" x=\"960.536532\" xlink:href=\"#m9185d549e2\" y=\"342.315969\"/>\r\n     <use style=\"fill:#1f77b4;stroke:#1f77b4;\" x=\"968.222482\" xlink:href=\"#m9185d549e2\" y=\"307.552952\"/>\r\n     <use style=\"fill:#1f77b4;stroke:#1f77b4;\" x=\"968.222482\" xlink:href=\"#m9185d549e2\" y=\"320.379215\"/>\r\n     <use style=\"fill:#1f77b4;stroke:#1f77b4;\" x=\"975.908432\" xlink:href=\"#m9185d549e2\" y=\"308.608372\"/>\r\n     <use style=\"fill:#1f77b4;stroke:#1f77b4;\" x=\"975.908432\" xlink:href=\"#m9185d549e2\" y=\"364.441212\"/>\r\n     <use style=\"fill:#1f77b4;stroke:#1f77b4;\" x=\"983.594383\" xlink:href=\"#m9185d549e2\" y=\"320.257311\"/>\r\n     <use style=\"fill:#1f77b4;stroke:#1f77b4;\" x=\"983.594383\" xlink:href=\"#m9185d549e2\" y=\"269.629091\"/>\r\n     <use style=\"fill:#1f77b4;stroke:#1f77b4;\" x=\"991.280333\" xlink:href=\"#m9185d549e2\" y=\"348.80503\"/>\r\n     <use style=\"fill:#1f77b4;stroke:#1f77b4;\" x=\"991.280333\" xlink:href=\"#m9185d549e2\" y=\"307.992225\"/>\r\n     <use style=\"fill:#1f77b4;stroke:#1f77b4;\" x=\"998.966284\" xlink:href=\"#m9185d549e2\" y=\"331.351025\"/>\r\n     <use style=\"fill:#1f77b4;stroke:#1f77b4;\" x=\"998.966284\" xlink:href=\"#m9185d549e2\" y=\"261.759655\"/>\r\n     <use style=\"fill:#1f77b4;stroke:#1f77b4;\" x=\"1006.652234\" xlink:href=\"#m9185d549e2\" y=\"338.135763\"/>\r\n     <use style=\"fill:#1f77b4;stroke:#1f77b4;\" x=\"1006.652234\" xlink:href=\"#m9185d549e2\" y=\"277.839887\"/>\r\n     <use style=\"fill:#1f77b4;stroke:#1f77b4;\" x=\"1014.338184\" xlink:href=\"#m9185d549e2\" y=\"280.56679\"/>\r\n     <use style=\"fill:#1f77b4;stroke:#1f77b4;\" x=\"1014.338184\" xlink:href=\"#m9185d549e2\" y=\"160.036409\"/>\r\n     <use style=\"fill:#1f77b4;stroke:#1f77b4;\" x=\"1022.024135\" xlink:href=\"#m9185d549e2\" y=\"223.402101\"/>\r\n     <use style=\"fill:#1f77b4;stroke:#1f77b4;\" x=\"1022.024135\" xlink:href=\"#m9185d549e2\" y=\"351.412057\"/>\r\n     <use style=\"fill:#1f77b4;stroke:#1f77b4;\" x=\"1029.710085\" xlink:href=\"#m9185d549e2\" y=\"294.637571\"/>\r\n     <use style=\"fill:#1f77b4;stroke:#1f77b4;\" x=\"1029.710085\" xlink:href=\"#m9185d549e2\" y=\"248.730007\"/>\r\n     <use style=\"fill:#1f77b4;stroke:#1f77b4;\" x=\"1037.396036\" xlink:href=\"#m9185d549e2\" y=\"309.455786\"/>\r\n     <use style=\"fill:#1f77b4;stroke:#1f77b4;\" x=\"1037.396036\" xlink:href=\"#m9185d549e2\" y=\"280.56679\"/>\r\n     <use style=\"fill:#1f77b4;stroke:#1f77b4;\" x=\"1045.081986\" xlink:href=\"#m9185d549e2\" y=\"228.744682\"/>\r\n     <use style=\"fill:#1f77b4;stroke:#1f77b4;\" x=\"1045.081986\" xlink:href=\"#m9185d549e2\" y=\"357.282119\"/>\r\n     <use style=\"fill:#1f77b4;stroke:#1f77b4;\" x=\"1052.767936\" xlink:href=\"#m9185d549e2\" y=\"264.458757\"/>\r\n     <use style=\"fill:#1f77b4;stroke:#1f77b4;\" x=\"1052.767936\" xlink:href=\"#m9185d549e2\" y=\"268.791809\"/>\r\n     <use style=\"fill:#1f77b4;stroke:#1f77b4;\" x=\"1060.453887\" xlink:href=\"#m9185d549e2\" y=\"308.031814\"/>\r\n     <use style=\"fill:#1f77b4;stroke:#1f77b4;\" x=\"1060.453887\" xlink:href=\"#m9185d549e2\" y=\"351.412057\"/>\r\n     <use style=\"fill:#1f77b4;stroke:#1f77b4;\" x=\"1068.139837\" xlink:href=\"#m9185d549e2\" y=\"267.423999\"/>\r\n     <use style=\"fill:#1f77b4;stroke:#1f77b4;\" x=\"1068.139837\" xlink:href=\"#m9185d549e2\" y=\"302.645273\"/>\r\n     <use style=\"fill:#1f77b4;stroke:#1f77b4;\" x=\"1075.825788\" xlink:href=\"#m9185d549e2\" y=\"317.382742\"/>\r\n     <use style=\"fill:#1f77b4;stroke:#1f77b4;\" x=\"1075.825788\" xlink:href=\"#m9185d549e2\" y=\"314.776633\"/>\r\n     <use style=\"fill:#1f77b4;stroke:#1f77b4;\" x=\"1083.511738\" xlink:href=\"#m9185d549e2\" y=\"199.792298\"/>\r\n     <use style=\"fill:#1f77b4;stroke:#1f77b4;\" x=\"1083.511738\" xlink:href=\"#m9185d549e2\" y=\"338.135763\"/>\r\n     <use style=\"fill:#1f77b4;stroke:#1f77b4;\" x=\"1091.197689\" xlink:href=\"#m9185d549e2\" y=\"322.829723\"/>\r\n     <use style=\"fill:#1f77b4;stroke:#1f77b4;\" x=\"1091.197689\" xlink:href=\"#m9185d549e2\" y=\"320.977961\"/>\r\n     <use style=\"fill:#1f77b4;stroke:#1f77b4;\" x=\"1098.883639\" xlink:href=\"#m9185d549e2\" y=\"301.059408\"/>\r\n     <use style=\"fill:#1f77b4;stroke:#1f77b4;\" x=\"1098.883639\" xlink:href=\"#m9185d549e2\" y=\"330.196461\"/>\r\n     <use style=\"fill:#1f77b4;stroke:#1f77b4;\" x=\"1106.569589\" xlink:href=\"#m9185d549e2\" y=\"261.759655\"/>\r\n     <use style=\"fill:#1f77b4;stroke:#1f77b4;\" x=\"1106.569589\" xlink:href=\"#m9185d549e2\" y=\"273.962165\"/>\r\n     <use style=\"fill:#1f77b4;stroke:#1f77b4;\" x=\"1114.25554\" xlink:href=\"#m9185d549e2\" y=\"330.061146\"/>\r\n     <use style=\"fill:#1f77b4;stroke:#1f77b4;\" x=\"1114.25554\" xlink:href=\"#m9185d549e2\" y=\"306.601936\"/>\r\n    </g>\r\n   </g>\r\n   <g id=\"PathCollection_2\">\r\n    <defs>\r\n     <path d=\"M 0 3 \r\nC 0.795609 3 1.55874 2.683901 2.12132 2.12132 \r\nC 2.683901 1.55874 3 0.795609 3 0 \r\nC 3 -0.795609 2.683901 -1.55874 2.12132 -2.12132 \r\nC 1.55874 -2.683901 0.795609 -3 0 -3 \r\nC -0.795609 -3 -1.55874 -2.683901 -2.12132 -2.12132 \r\nC -2.683901 -1.55874 -3 -0.795609 -3 0 \r\nC -3 0.795609 -2.683901 1.55874 -2.12132 2.12132 \r\nC -1.55874 2.683901 -0.795609 3 0 3 \r\nz\r\n\" id=\"m0f3d83b6ed\" style=\"stroke:#ff7f0e;\"/>\r\n    </defs>\r\n    <g clip-path=\"url(#p6d6ce792d3)\">\r\n     <use style=\"fill:#ff7f0e;stroke:#ff7f0e;\" x=\"99.710085\" xlink:href=\"#m0f3d83b6ed\" y=\"248.07833\"/>\r\n     <use style=\"fill:#ff7f0e;stroke:#ff7f0e;\" x=\"99.710085\" xlink:href=\"#m0f3d83b6ed\" y=\"248.07833\"/>\r\n     <use style=\"fill:#ff7f0e;stroke:#ff7f0e;\" x=\"107.396036\" xlink:href=\"#m0f3d83b6ed\" y=\"202.777585\"/>\r\n     <use style=\"fill:#ff7f0e;stroke:#ff7f0e;\" x=\"107.396036\" xlink:href=\"#m0f3d83b6ed\" y=\"202.777585\"/>\r\n     <use style=\"fill:#ff7f0e;stroke:#ff7f0e;\" x=\"115.081986\" xlink:href=\"#m0f3d83b6ed\" y=\"272.203448\"/>\r\n     <use style=\"fill:#ff7f0e;stroke:#ff7f0e;\" x=\"115.081986\" xlink:href=\"#m0f3d83b6ed\" y=\"272.203448\"/>\r\n     <use style=\"fill:#ff7f0e;stroke:#ff7f0e;\" x=\"122.767936\" xlink:href=\"#m0f3d83b6ed\" y=\"300.522269\"/>\r\n     <use style=\"fill:#ff7f0e;stroke:#ff7f0e;\" x=\"122.767936\" xlink:href=\"#m0f3d83b6ed\" y=\"300.522269\"/>\r\n     <use style=\"fill:#ff7f0e;stroke:#ff7f0e;\" x=\"130.453887\" xlink:href=\"#m0f3d83b6ed\" y=\"317.471426\"/>\r\n     <use style=\"fill:#ff7f0e;stroke:#ff7f0e;\" x=\"130.453887\" xlink:href=\"#m0f3d83b6ed\" y=\"317.471426\"/>\r\n     <use style=\"fill:#ff7f0e;stroke:#ff7f0e;\" x=\"138.139837\" xlink:href=\"#m0f3d83b6ed\" y=\"201.292175\"/>\r\n     <use style=\"fill:#ff7f0e;stroke:#ff7f0e;\" x=\"138.139837\" xlink:href=\"#m0f3d83b6ed\" y=\"201.292175\"/>\r\n     <use style=\"fill:#ff7f0e;stroke:#ff7f0e;\" x=\"145.825788\" xlink:href=\"#m0f3d83b6ed\" y=\"110.246042\"/>\r\n     <use style=\"fill:#ff7f0e;stroke:#ff7f0e;\" x=\"145.825788\" xlink:href=\"#m0f3d83b6ed\" y=\"110.246042\"/>\r\n     <use style=\"fill:#ff7f0e;stroke:#ff7f0e;\" x=\"153.511738\" xlink:href=\"#m0f3d83b6ed\" y=\"158.067285\"/>\r\n     <use style=\"fill:#ff7f0e;stroke:#ff7f0e;\" x=\"153.511738\" xlink:href=\"#m0f3d83b6ed\" y=\"158.067285\"/>\r\n     <use style=\"fill:#ff7f0e;stroke:#ff7f0e;\" x=\"161.197689\" xlink:href=\"#m0f3d83b6ed\" y=\"162.320456\"/>\r\n     <use style=\"fill:#ff7f0e;stroke:#ff7f0e;\" x=\"161.197689\" xlink:href=\"#m0f3d83b6ed\" y=\"162.320456\"/>\r\n     <use style=\"fill:#ff7f0e;stroke:#ff7f0e;\" x=\"168.883639\" xlink:href=\"#m0f3d83b6ed\" y=\"39.614489\"/>\r\n     <use style=\"fill:#ff7f0e;stroke:#ff7f0e;\" x=\"168.883639\" xlink:href=\"#m0f3d83b6ed\" y=\"39.614489\"/>\r\n     <use style=\"fill:#ff7f0e;stroke:#ff7f0e;\" x=\"176.569589\" xlink:href=\"#m0f3d83b6ed\" y=\"170.083711\"/>\r\n     <use style=\"fill:#ff7f0e;stroke:#ff7f0e;\" x=\"176.569589\" xlink:href=\"#m0f3d83b6ed\" y=\"170.083711\"/>\r\n     <use style=\"fill:#ff7f0e;stroke:#ff7f0e;\" x=\"184.25554\" xlink:href=\"#m0f3d83b6ed\" y=\"210.831028\"/>\r\n     <use style=\"fill:#ff7f0e;stroke:#ff7f0e;\" x=\"184.25554\" xlink:href=\"#m0f3d83b6ed\" y=\"210.831028\"/>\r\n     <use style=\"fill:#ff7f0e;stroke:#ff7f0e;\" x=\"191.94149\" xlink:href=\"#m0f3d83b6ed\" y=\"242.737023\"/>\r\n     <use style=\"fill:#ff7f0e;stroke:#ff7f0e;\" x=\"191.94149\" xlink:href=\"#m0f3d83b6ed\" y=\"242.737023\"/>\r\n     <use style=\"fill:#ff7f0e;stroke:#ff7f0e;\" x=\"199.627441\" xlink:href=\"#m0f3d83b6ed\" y=\"258.447311\"/>\r\n     <use style=\"fill:#ff7f0e;stroke:#ff7f0e;\" x=\"199.627441\" xlink:href=\"#m0f3d83b6ed\" y=\"258.447311\"/>\r\n     <use style=\"fill:#ff7f0e;stroke:#ff7f0e;\" x=\"207.313391\" xlink:href=\"#m0f3d83b6ed\" y=\"266.600528\"/>\r\n     <use style=\"fill:#ff7f0e;stroke:#ff7f0e;\" x=\"207.313391\" xlink:href=\"#m0f3d83b6ed\" y=\"266.600528\"/>\r\n     <use style=\"fill:#ff7f0e;stroke:#ff7f0e;\" x=\"214.999341\" xlink:href=\"#m0f3d83b6ed\" y=\"324.933403\"/>\r\n     <use style=\"fill:#ff7f0e;stroke:#ff7f0e;\" x=\"214.999341\" xlink:href=\"#m0f3d83b6ed\" y=\"324.933403\"/>\r\n     <use style=\"fill:#ff7f0e;stroke:#ff7f0e;\" x=\"222.685292\" xlink:href=\"#m0f3d83b6ed\" y=\"276.671933\"/>\r\n     <use style=\"fill:#ff7f0e;stroke:#ff7f0e;\" x=\"222.685292\" xlink:href=\"#m0f3d83b6ed\" y=\"276.671933\"/>\r\n     <use style=\"fill:#ff7f0e;stroke:#ff7f0e;\" x=\"230.371242\" xlink:href=\"#m0f3d83b6ed\" y=\"249.894142\"/>\r\n     <use style=\"fill:#ff7f0e;stroke:#ff7f0e;\" x=\"230.371242\" xlink:href=\"#m0f3d83b6ed\" y=\"249.894142\"/>\r\n     <use style=\"fill:#ff7f0e;stroke:#ff7f0e;\" x=\"238.057193\" xlink:href=\"#m0f3d83b6ed\" y=\"293.930492\"/>\r\n     <use style=\"fill:#ff7f0e;stroke:#ff7f0e;\" x=\"238.057193\" xlink:href=\"#m0f3d83b6ed\" y=\"293.930492\"/>\r\n     <use style=\"fill:#ff7f0e;stroke:#ff7f0e;\" x=\"245.743143\" xlink:href=\"#m0f3d83b6ed\" y=\"268.013063\"/>\r\n     <use style=\"fill:#ff7f0e;stroke:#ff7f0e;\" x=\"245.743143\" xlink:href=\"#m0f3d83b6ed\" y=\"268.013063\"/>\r\n     <use style=\"fill:#ff7f0e;stroke:#ff7f0e;\" x=\"253.429093\" xlink:href=\"#m0f3d83b6ed\" y=\"330.039093\"/>\r\n     <use style=\"fill:#ff7f0e;stroke:#ff7f0e;\" x=\"253.429093\" xlink:href=\"#m0f3d83b6ed\" y=\"330.039093\"/>\r\n     <use style=\"fill:#ff7f0e;stroke:#ff7f0e;\" x=\"261.115044\" xlink:href=\"#m0f3d83b6ed\" y=\"164.116973\"/>\r\n     <use style=\"fill:#ff7f0e;stroke:#ff7f0e;\" x=\"261.115044\" xlink:href=\"#m0f3d83b6ed\" y=\"164.116973\"/>\r\n     <use style=\"fill:#ff7f0e;stroke:#ff7f0e;\" x=\"268.800994\" xlink:href=\"#m0f3d83b6ed\" y=\"247.888659\"/>\r\n     <use style=\"fill:#ff7f0e;stroke:#ff7f0e;\" x=\"268.800994\" xlink:href=\"#m0f3d83b6ed\" y=\"247.888659\"/>\r\n     <use style=\"fill:#ff7f0e;stroke:#ff7f0e;\" x=\"276.486945\" xlink:href=\"#m0f3d83b6ed\" y=\"297.12126\"/>\r\n     <use style=\"fill:#ff7f0e;stroke:#ff7f0e;\" x=\"276.486945\" xlink:href=\"#m0f3d83b6ed\" y=\"297.12126\"/>\r\n     <use style=\"fill:#ff7f0e;stroke:#ff7f0e;\" x=\"284.172895\" xlink:href=\"#m0f3d83b6ed\" y=\"280.637705\"/>\r\n     <use style=\"fill:#ff7f0e;stroke:#ff7f0e;\" x=\"284.172895\" xlink:href=\"#m0f3d83b6ed\" y=\"280.637705\"/>\r\n     <use style=\"fill:#ff7f0e;stroke:#ff7f0e;\" x=\"291.858846\" xlink:href=\"#m0f3d83b6ed\" y=\"313.539813\"/>\r\n     <use style=\"fill:#ff7f0e;stroke:#ff7f0e;\" x=\"291.858846\" xlink:href=\"#m0f3d83b6ed\" y=\"313.539813\"/>\r\n     <use style=\"fill:#ff7f0e;stroke:#ff7f0e;\" x=\"299.544796\" xlink:href=\"#m0f3d83b6ed\" y=\"301.506559\"/>\r\n     <use style=\"fill:#ff7f0e;stroke:#ff7f0e;\" x=\"299.544796\" xlink:href=\"#m0f3d83b6ed\" y=\"301.506559\"/>\r\n     <use style=\"fill:#ff7f0e;stroke:#ff7f0e;\" x=\"307.230746\" xlink:href=\"#m0f3d83b6ed\" y=\"263.097959\"/>\r\n     <use style=\"fill:#ff7f0e;stroke:#ff7f0e;\" x=\"307.230746\" xlink:href=\"#m0f3d83b6ed\" y=\"263.097959\"/>\r\n     <use style=\"fill:#ff7f0e;stroke:#ff7f0e;\" x=\"314.916697\" xlink:href=\"#m0f3d83b6ed\" y=\"253.417495\"/>\r\n     <use style=\"fill:#ff7f0e;stroke:#ff7f0e;\" x=\"314.916697\" xlink:href=\"#m0f3d83b6ed\" y=\"253.417495\"/>\r\n     <use style=\"fill:#ff7f0e;stroke:#ff7f0e;\" x=\"322.602647\" xlink:href=\"#m0f3d83b6ed\" y=\"257.270945\"/>\r\n     <use style=\"fill:#ff7f0e;stroke:#ff7f0e;\" x=\"322.602647\" xlink:href=\"#m0f3d83b6ed\" y=\"257.270945\"/>\r\n     <use style=\"fill:#ff7f0e;stroke:#ff7f0e;\" x=\"330.288598\" xlink:href=\"#m0f3d83b6ed\" y=\"252.58322\"/>\r\n     <use style=\"fill:#ff7f0e;stroke:#ff7f0e;\" x=\"330.288598\" xlink:href=\"#m0f3d83b6ed\" y=\"252.58322\"/>\r\n     <use style=\"fill:#ff7f0e;stroke:#ff7f0e;\" x=\"337.974548\" xlink:href=\"#m0f3d83b6ed\" y=\"295.953721\"/>\r\n     <use style=\"fill:#ff7f0e;stroke:#ff7f0e;\" x=\"337.974548\" xlink:href=\"#m0f3d83b6ed\" y=\"295.953721\"/>\r\n     <use style=\"fill:#ff7f0e;stroke:#ff7f0e;\" x=\"345.660498\" xlink:href=\"#m0f3d83b6ed\" y=\"265.312741\"/>\r\n     <use style=\"fill:#ff7f0e;stroke:#ff7f0e;\" x=\"345.660498\" xlink:href=\"#m0f3d83b6ed\" y=\"265.312741\"/>\r\n     <use style=\"fill:#ff7f0e;stroke:#ff7f0e;\" x=\"353.346449\" xlink:href=\"#m0f3d83b6ed\" y=\"224.996511\"/>\r\n     <use style=\"fill:#ff7f0e;stroke:#ff7f0e;\" x=\"353.346449\" xlink:href=\"#m0f3d83b6ed\" y=\"224.996511\"/>\r\n     <use style=\"fill:#ff7f0e;stroke:#ff7f0e;\" x=\"361.032399\" xlink:href=\"#m0f3d83b6ed\" y=\"254.885322\"/>\r\n     <use style=\"fill:#ff7f0e;stroke:#ff7f0e;\" x=\"361.032399\" xlink:href=\"#m0f3d83b6ed\" y=\"254.885322\"/>\r\n     <use style=\"fill:#ff7f0e;stroke:#ff7f0e;\" x=\"368.71835\" xlink:href=\"#m0f3d83b6ed\" y=\"298.722539\"/>\r\n     <use style=\"fill:#ff7f0e;stroke:#ff7f0e;\" x=\"368.71835\" xlink:href=\"#m0f3d83b6ed\" y=\"298.722539\"/>\r\n     <use style=\"fill:#ff7f0e;stroke:#ff7f0e;\" x=\"376.4043\" xlink:href=\"#m0f3d83b6ed\" y=\"313.361829\"/>\r\n     <use style=\"fill:#ff7f0e;stroke:#ff7f0e;\" x=\"376.4043\" xlink:href=\"#m0f3d83b6ed\" y=\"313.361829\"/>\r\n     <use style=\"fill:#ff7f0e;stroke:#ff7f0e;\" x=\"384.090251\" xlink:href=\"#m0f3d83b6ed\" y=\"177.299791\"/>\r\n     <use style=\"fill:#ff7f0e;stroke:#ff7f0e;\" x=\"384.090251\" xlink:href=\"#m0f3d83b6ed\" y=\"177.299791\"/>\r\n     <use style=\"fill:#ff7f0e;stroke:#ff7f0e;\" x=\"391.776201\" xlink:href=\"#m0f3d83b6ed\" y=\"209.079056\"/>\r\n     <use style=\"fill:#ff7f0e;stroke:#ff7f0e;\" x=\"391.776201\" xlink:href=\"#m0f3d83b6ed\" y=\"209.079056\"/>\r\n     <use style=\"fill:#ff7f0e;stroke:#ff7f0e;\" x=\"399.462151\" xlink:href=\"#m0f3d83b6ed\" y=\"302.570438\"/>\r\n     <use style=\"fill:#ff7f0e;stroke:#ff7f0e;\" x=\"399.462151\" xlink:href=\"#m0f3d83b6ed\" y=\"302.570438\"/>\r\n     <use style=\"fill:#ff7f0e;stroke:#ff7f0e;\" x=\"407.148102\" xlink:href=\"#m0f3d83b6ed\" y=\"247.068155\"/>\r\n     <use style=\"fill:#ff7f0e;stroke:#ff7f0e;\" x=\"407.148102\" xlink:href=\"#m0f3d83b6ed\" y=\"247.068155\"/>\r\n     <use style=\"fill:#ff7f0e;stroke:#ff7f0e;\" x=\"414.834052\" xlink:href=\"#m0f3d83b6ed\" y=\"290.385131\"/>\r\n     <use style=\"fill:#ff7f0e;stroke:#ff7f0e;\" x=\"414.834052\" xlink:href=\"#m0f3d83b6ed\" y=\"290.385131\"/>\r\n     <use style=\"fill:#ff7f0e;stroke:#ff7f0e;\" x=\"422.520003\" xlink:href=\"#m0f3d83b6ed\" y=\"294.536281\"/>\r\n     <use style=\"fill:#ff7f0e;stroke:#ff7f0e;\" x=\"422.520003\" xlink:href=\"#m0f3d83b6ed\" y=\"294.536281\"/>\r\n     <use style=\"fill:#ff7f0e;stroke:#ff7f0e;\" x=\"430.205953\" xlink:href=\"#m0f3d83b6ed\" y=\"81.277891\"/>\r\n     <use style=\"fill:#ff7f0e;stroke:#ff7f0e;\" x=\"430.205953\" xlink:href=\"#m0f3d83b6ed\" y=\"81.277891\"/>\r\n     <use style=\"fill:#ff7f0e;stroke:#ff7f0e;\" x=\"437.891903\" xlink:href=\"#m0f3d83b6ed\" y=\"160.036409\"/>\r\n     <use style=\"fill:#ff7f0e;stroke:#ff7f0e;\" x=\"437.891903\" xlink:href=\"#m0f3d83b6ed\" y=\"160.036409\"/>\r\n     <use style=\"fill:#ff7f0e;stroke:#ff7f0e;\" x=\"445.577854\" xlink:href=\"#m0f3d83b6ed\" y=\"227.727972\"/>\r\n     <use style=\"fill:#ff7f0e;stroke:#ff7f0e;\" x=\"445.577854\" xlink:href=\"#m0f3d83b6ed\" y=\"227.727972\"/>\r\n     <use style=\"fill:#ff7f0e;stroke:#ff7f0e;\" x=\"453.263804\" xlink:href=\"#m0f3d83b6ed\" y=\"115.816592\"/>\r\n     <use style=\"fill:#ff7f0e;stroke:#ff7f0e;\" x=\"453.263804\" xlink:href=\"#m0f3d83b6ed\" y=\"115.816592\"/>\r\n     <use style=\"fill:#ff7f0e;stroke:#ff7f0e;\" x=\"460.949755\" xlink:href=\"#m0f3d83b6ed\" y=\"233.981211\"/>\r\n     <use style=\"fill:#ff7f0e;stroke:#ff7f0e;\" x=\"460.949755\" xlink:href=\"#m0f3d83b6ed\" y=\"233.981211\"/>\r\n     <use style=\"fill:#ff7f0e;stroke:#ff7f0e;\" x=\"468.635705\" xlink:href=\"#m0f3d83b6ed\" y=\"96.48383\"/>\r\n     <use style=\"fill:#ff7f0e;stroke:#ff7f0e;\" x=\"468.635705\" xlink:href=\"#m0f3d83b6ed\" y=\"96.48383\"/>\r\n     <use style=\"fill:#ff7f0e;stroke:#ff7f0e;\" x=\"476.321655\" xlink:href=\"#m0f3d83b6ed\" y=\"304.456179\"/>\r\n     <use style=\"fill:#ff7f0e;stroke:#ff7f0e;\" x=\"476.321655\" xlink:href=\"#m0f3d83b6ed\" y=\"304.456179\"/>\r\n     <use style=\"fill:#ff7f0e;stroke:#ff7f0e;\" x=\"484.007606\" xlink:href=\"#m0f3d83b6ed\" y=\"273.298173\"/>\r\n     <use style=\"fill:#ff7f0e;stroke:#ff7f0e;\" x=\"484.007606\" xlink:href=\"#m0f3d83b6ed\" y=\"273.298173\"/>\r\n     <use style=\"fill:#ff7f0e;stroke:#ff7f0e;\" x=\"491.693556\" xlink:href=\"#m0f3d83b6ed\" y=\"298.907782\"/>\r\n     <use style=\"fill:#ff7f0e;stroke:#ff7f0e;\" x=\"491.693556\" xlink:href=\"#m0f3d83b6ed\" y=\"298.907782\"/>\r\n     <use style=\"fill:#ff7f0e;stroke:#ff7f0e;\" x=\"499.379507\" xlink:href=\"#m0f3d83b6ed\" y=\"244.679968\"/>\r\n     <use style=\"fill:#ff7f0e;stroke:#ff7f0e;\" x=\"499.379507\" xlink:href=\"#m0f3d83b6ed\" y=\"244.679968\"/>\r\n     <use style=\"fill:#ff7f0e;stroke:#ff7f0e;\" x=\"507.065457\" xlink:href=\"#m0f3d83b6ed\" y=\"202.628305\"/>\r\n     <use style=\"fill:#ff7f0e;stroke:#ff7f0e;\" x=\"507.065457\" xlink:href=\"#m0f3d83b6ed\" y=\"202.628305\"/>\r\n     <use style=\"fill:#ff7f0e;stroke:#ff7f0e;\" x=\"514.751408\" xlink:href=\"#m0f3d83b6ed\" y=\"214.036828\"/>\r\n     <use style=\"fill:#ff7f0e;stroke:#ff7f0e;\" x=\"514.751408\" xlink:href=\"#m0f3d83b6ed\" y=\"214.036828\"/>\r\n     <use style=\"fill:#ff7f0e;stroke:#ff7f0e;\" x=\"522.437358\" xlink:href=\"#m0f3d83b6ed\" y=\"277.82545\"/>\r\n     <use style=\"fill:#ff7f0e;stroke:#ff7f0e;\" x=\"522.437358\" xlink:href=\"#m0f3d83b6ed\" y=\"277.82545\"/>\r\n     <use style=\"fill:#ff7f0e;stroke:#ff7f0e;\" x=\"530.123308\" xlink:href=\"#m0f3d83b6ed\" y=\"341.042723\"/>\r\n     <use style=\"fill:#ff7f0e;stroke:#ff7f0e;\" x=\"530.123308\" xlink:href=\"#m0f3d83b6ed\" y=\"341.042723\"/>\r\n     <use style=\"fill:#ff7f0e;stroke:#ff7f0e;\" x=\"537.809259\" xlink:href=\"#m0f3d83b6ed\" y=\"218.507939\"/>\r\n     <use style=\"fill:#ff7f0e;stroke:#ff7f0e;\" x=\"537.809259\" xlink:href=\"#m0f3d83b6ed\" y=\"218.507939\"/>\r\n     <use style=\"fill:#ff7f0e;stroke:#ff7f0e;\" x=\"545.495209\" xlink:href=\"#m0f3d83b6ed\" y=\"273.962165\"/>\r\n     <use style=\"fill:#ff7f0e;stroke:#ff7f0e;\" x=\"545.495209\" xlink:href=\"#m0f3d83b6ed\" y=\"273.962165\"/>\r\n     <use style=\"fill:#ff7f0e;stroke:#ff7f0e;\" x=\"553.18116\" xlink:href=\"#m0f3d83b6ed\" y=\"351.412057\"/>\r\n     <use style=\"fill:#ff7f0e;stroke:#ff7f0e;\" x=\"553.18116\" xlink:href=\"#m0f3d83b6ed\" y=\"351.412057\"/>\r\n     <use style=\"fill:#ff7f0e;stroke:#ff7f0e;\" x=\"560.86711\" xlink:href=\"#m0f3d83b6ed\" y=\"248.730007\"/>\r\n     <use style=\"fill:#ff7f0e;stroke:#ff7f0e;\" x=\"560.86711\" xlink:href=\"#m0f3d83b6ed\" y=\"248.730007\"/>\r\n     <use style=\"fill:#ff7f0e;stroke:#ff7f0e;\" x=\"568.55306\" xlink:href=\"#m0f3d83b6ed\" y=\"306.484631\"/>\r\n     <use style=\"fill:#ff7f0e;stroke:#ff7f0e;\" x=\"568.55306\" xlink:href=\"#m0f3d83b6ed\" y=\"306.484631\"/>\r\n     <use style=\"fill:#ff7f0e;stroke:#ff7f0e;\" x=\"576.239011\" xlink:href=\"#m0f3d83b6ed\" y=\"323.957317\"/>\r\n     <use style=\"fill:#ff7f0e;stroke:#ff7f0e;\" x=\"576.239011\" xlink:href=\"#m0f3d83b6ed\" y=\"323.957317\"/>\r\n     <use style=\"fill:#ff7f0e;stroke:#ff7f0e;\" x=\"583.924961\" xlink:href=\"#m0f3d83b6ed\" y=\"302.645273\"/>\r\n     <use style=\"fill:#ff7f0e;stroke:#ff7f0e;\" x=\"583.924961\" xlink:href=\"#m0f3d83b6ed\" y=\"302.645273\"/>\r\n     <use style=\"fill:#ff7f0e;stroke:#ff7f0e;\" x=\"591.610912\" xlink:href=\"#m0f3d83b6ed\" y=\"262.573988\"/>\r\n     <use style=\"fill:#ff7f0e;stroke:#ff7f0e;\" x=\"591.610912\" xlink:href=\"#m0f3d83b6ed\" y=\"262.573988\"/>\r\n     <use style=\"fill:#ff7f0e;stroke:#ff7f0e;\" x=\"599.296862\" xlink:href=\"#m0f3d83b6ed\" y=\"364.441212\"/>\r\n     <use style=\"fill:#ff7f0e;stroke:#ff7f0e;\" x=\"599.296862\" xlink:href=\"#m0f3d83b6ed\" y=\"364.441212\"/>\r\n     <use style=\"fill:#ff7f0e;stroke:#ff7f0e;\" x=\"606.982813\" xlink:href=\"#m0f3d83b6ed\" y=\"291.240417\"/>\r\n     <use style=\"fill:#ff7f0e;stroke:#ff7f0e;\" x=\"606.982813\" xlink:href=\"#m0f3d83b6ed\" y=\"291.240417\"/>\r\n     <use style=\"fill:#ff7f0e;stroke:#ff7f0e;\" x=\"614.668763\" xlink:href=\"#m0f3d83b6ed\" y=\"283.775715\"/>\r\n     <use style=\"fill:#ff7f0e;stroke:#ff7f0e;\" x=\"614.668763\" xlink:href=\"#m0f3d83b6ed\" y=\"283.775715\"/>\r\n     <use style=\"fill:#ff7f0e;stroke:#ff7f0e;\" x=\"622.354713\" xlink:href=\"#m0f3d83b6ed\" y=\"259.37453\"/>\r\n     <use style=\"fill:#ff7f0e;stroke:#ff7f0e;\" x=\"622.354713\" xlink:href=\"#m0f3d83b6ed\" y=\"259.37453\"/>\r\n     <use style=\"fill:#ff7f0e;stroke:#ff7f0e;\" x=\"630.040664\" xlink:href=\"#m0f3d83b6ed\" y=\"330.196461\"/>\r\n     <use style=\"fill:#ff7f0e;stroke:#ff7f0e;\" x=\"630.040664\" xlink:href=\"#m0f3d83b6ed\" y=\"330.196461\"/>\r\n     <use style=\"fill:#ff7f0e;stroke:#ff7f0e;\" x=\"637.726614\" xlink:href=\"#m0f3d83b6ed\" y=\"277.839887\"/>\r\n     <use style=\"fill:#ff7f0e;stroke:#ff7f0e;\" x=\"637.726614\" xlink:href=\"#m0f3d83b6ed\" y=\"277.839887\"/>\r\n     <use style=\"fill:#ff7f0e;stroke:#ff7f0e;\" x=\"645.412565\" xlink:href=\"#m0f3d83b6ed\" y=\"282.800628\"/>\r\n     <use style=\"fill:#ff7f0e;stroke:#ff7f0e;\" x=\"645.412565\" xlink:href=\"#m0f3d83b6ed\" y=\"282.800628\"/>\r\n     <use style=\"fill:#ff7f0e;stroke:#ff7f0e;\" x=\"653.098515\" xlink:href=\"#m0f3d83b6ed\" y=\"225.926985\"/>\r\n     <use style=\"fill:#ff7f0e;stroke:#ff7f0e;\" x=\"653.098515\" xlink:href=\"#m0f3d83b6ed\" y=\"225.926985\"/>\r\n     <use style=\"fill:#ff7f0e;stroke:#ff7f0e;\" x=\"660.784465\" xlink:href=\"#m0f3d83b6ed\" y=\"314.776633\"/>\r\n     <use style=\"fill:#ff7f0e;stroke:#ff7f0e;\" x=\"660.784465\" xlink:href=\"#m0f3d83b6ed\" y=\"314.776633\"/>\r\n     <use style=\"fill:#ff7f0e;stroke:#ff7f0e;\" x=\"668.470416\" xlink:href=\"#m0f3d83b6ed\" y=\"320.977961\"/>\r\n     <use style=\"fill:#ff7f0e;stroke:#ff7f0e;\" x=\"668.470416\" xlink:href=\"#m0f3d83b6ed\" y=\"320.977961\"/>\r\n     <use style=\"fill:#ff7f0e;stroke:#ff7f0e;\" x=\"676.156366\" xlink:href=\"#m0f3d83b6ed\" y=\"268.791809\"/>\r\n     <use style=\"fill:#ff7f0e;stroke:#ff7f0e;\" x=\"676.156366\" xlink:href=\"#m0f3d83b6ed\" y=\"268.791809\"/>\r\n     <use style=\"fill:#ff7f0e;stroke:#ff7f0e;\" x=\"683.842317\" xlink:href=\"#m0f3d83b6ed\" y=\"279.230743\"/>\r\n     <use style=\"fill:#ff7f0e;stroke:#ff7f0e;\" x=\"683.842317\" xlink:href=\"#m0f3d83b6ed\" y=\"279.230743\"/>\r\n     <use style=\"fill:#ff7f0e;stroke:#ff7f0e;\" x=\"691.528267\" xlink:href=\"#m0f3d83b6ed\" y=\"210.234101\"/>\r\n     <use style=\"fill:#ff7f0e;stroke:#ff7f0e;\" x=\"691.528267\" xlink:href=\"#m0f3d83b6ed\" y=\"210.234101\"/>\r\n     <use style=\"fill:#ff7f0e;stroke:#ff7f0e;\" x=\"699.214217\" xlink:href=\"#m0f3d83b6ed\" y=\"264.915162\"/>\r\n     <use style=\"fill:#ff7f0e;stroke:#ff7f0e;\" x=\"699.214217\" xlink:href=\"#m0f3d83b6ed\" y=\"264.915162\"/>\r\n     <use style=\"fill:#ff7f0e;stroke:#ff7f0e;\" x=\"706.900168\" xlink:href=\"#m0f3d83b6ed\" y=\"282.601852\"/>\r\n     <use style=\"fill:#ff7f0e;stroke:#ff7f0e;\" x=\"706.900168\" xlink:href=\"#m0f3d83b6ed\" y=\"282.601852\"/>\r\n     <use style=\"fill:#ff7f0e;stroke:#ff7f0e;\" x=\"714.586118\" xlink:href=\"#m0f3d83b6ed\" y=\"218.746057\"/>\r\n     <use style=\"fill:#ff7f0e;stroke:#ff7f0e;\" x=\"714.586118\" xlink:href=\"#m0f3d83b6ed\" y=\"218.746057\"/>\r\n     <use style=\"fill:#ff7f0e;stroke:#ff7f0e;\" x=\"722.272069\" xlink:href=\"#m0f3d83b6ed\" y=\"385.541761\"/>\r\n     <use style=\"fill:#ff7f0e;stroke:#ff7f0e;\" x=\"722.272069\" xlink:href=\"#m0f3d83b6ed\" y=\"385.541761\"/>\r\n     <use style=\"fill:#ff7f0e;stroke:#ff7f0e;\" x=\"729.958019\" xlink:href=\"#m0f3d83b6ed\" y=\"251.469321\"/>\r\n     <use style=\"fill:#ff7f0e;stroke:#ff7f0e;\" x=\"729.958019\" xlink:href=\"#m0f3d83b6ed\" y=\"251.469321\"/>\r\n     <use style=\"fill:#ff7f0e;stroke:#ff7f0e;\" x=\"737.64397\" xlink:href=\"#m0f3d83b6ed\" y=\"182.378564\"/>\r\n     <use style=\"fill:#ff7f0e;stroke:#ff7f0e;\" x=\"737.64397\" xlink:href=\"#m0f3d83b6ed\" y=\"182.378564\"/>\r\n     <use style=\"fill:#ff7f0e;stroke:#ff7f0e;\" x=\"745.32992\" xlink:href=\"#m0f3d83b6ed\" y=\"279.003443\"/>\r\n     <use style=\"fill:#ff7f0e;stroke:#ff7f0e;\" x=\"745.32992\" xlink:href=\"#m0f3d83b6ed\" y=\"279.003443\"/>\r\n     <use style=\"fill:#ff7f0e;stroke:#ff7f0e;\" x=\"753.01587\" xlink:href=\"#m0f3d83b6ed\" y=\"266.803255\"/>\r\n     <use style=\"fill:#ff7f0e;stroke:#ff7f0e;\" x=\"753.01587\" xlink:href=\"#m0f3d83b6ed\" y=\"266.803255\"/>\r\n     <use style=\"fill:#ff7f0e;stroke:#ff7f0e;\" x=\"760.701821\" xlink:href=\"#m0f3d83b6ed\" y=\"293.948002\"/>\r\n     <use style=\"fill:#ff7f0e;stroke:#ff7f0e;\" x=\"760.701821\" xlink:href=\"#m0f3d83b6ed\" y=\"293.948002\"/>\r\n     <use style=\"fill:#ff7f0e;stroke:#ff7f0e;\" x=\"768.387771\" xlink:href=\"#m0f3d83b6ed\" y=\"357.282119\"/>\r\n     <use style=\"fill:#ff7f0e;stroke:#ff7f0e;\" x=\"768.387771\" xlink:href=\"#m0f3d83b6ed\" y=\"357.282119\"/>\r\n     <use style=\"fill:#ff7f0e;stroke:#ff7f0e;\" x=\"776.073722\" xlink:href=\"#m0f3d83b6ed\" y=\"353.394812\"/>\r\n     <use style=\"fill:#ff7f0e;stroke:#ff7f0e;\" x=\"776.073722\" xlink:href=\"#m0f3d83b6ed\" y=\"353.394812\"/>\r\n     <use style=\"fill:#ff7f0e;stroke:#ff7f0e;\" x=\"783.759672\" xlink:href=\"#m0f3d83b6ed\" y=\"306.601936\"/>\r\n     <use style=\"fill:#ff7f0e;stroke:#ff7f0e;\" x=\"783.759672\" xlink:href=\"#m0f3d83b6ed\" y=\"306.601936\"/>\r\n     <use style=\"fill:#ff7f0e;stroke:#ff7f0e;\" x=\"791.445622\" xlink:href=\"#m0f3d83b6ed\" y=\"296.560031\"/>\r\n     <use style=\"fill:#ff7f0e;stroke:#ff7f0e;\" x=\"791.445622\" xlink:href=\"#m0f3d83b6ed\" y=\"296.560031\"/>\r\n     <use style=\"fill:#ff7f0e;stroke:#ff7f0e;\" x=\"799.131573\" xlink:href=\"#m0f3d83b6ed\" y=\"299.207868\"/>\r\n     <use style=\"fill:#ff7f0e;stroke:#ff7f0e;\" x=\"799.131573\" xlink:href=\"#m0f3d83b6ed\" y=\"299.207868\"/>\r\n     <use style=\"fill:#ff7f0e;stroke:#ff7f0e;\" x=\"806.817523\" xlink:href=\"#m0f3d83b6ed\" y=\"307.992225\"/>\r\n     <use style=\"fill:#ff7f0e;stroke:#ff7f0e;\" x=\"806.817523\" xlink:href=\"#m0f3d83b6ed\" y=\"307.992225\"/>\r\n     <use style=\"fill:#ff7f0e;stroke:#ff7f0e;\" x=\"814.503474\" xlink:href=\"#m0f3d83b6ed\" y=\"311.236438\"/>\r\n     <use style=\"fill:#ff7f0e;stroke:#ff7f0e;\" x=\"814.503474\" xlink:href=\"#m0f3d83b6ed\" y=\"311.236438\"/>\r\n     <use style=\"fill:#ff7f0e;stroke:#ff7f0e;\" x=\"822.189424\" xlink:href=\"#m0f3d83b6ed\" y=\"325.035351\"/>\r\n     <use style=\"fill:#ff7f0e;stroke:#ff7f0e;\" x=\"822.189424\" xlink:href=\"#m0f3d83b6ed\" y=\"325.035351\"/>\r\n     <use style=\"fill:#ff7f0e;stroke:#ff7f0e;\" x=\"829.875374\" xlink:href=\"#m0f3d83b6ed\" y=\"339.808945\"/>\r\n     <use style=\"fill:#ff7f0e;stroke:#ff7f0e;\" x=\"829.875374\" xlink:href=\"#m0f3d83b6ed\" y=\"339.808945\"/>\r\n     <use style=\"fill:#ff7f0e;stroke:#ff7f0e;\" x=\"837.561325\" xlink:href=\"#m0f3d83b6ed\" y=\"320.379215\"/>\r\n     <use style=\"fill:#ff7f0e;stroke:#ff7f0e;\" x=\"837.561325\" xlink:href=\"#m0f3d83b6ed\" y=\"320.379215\"/>\r\n     <use style=\"fill:#ff7f0e;stroke:#ff7f0e;\" x=\"845.247275\" xlink:href=\"#m0f3d83b6ed\" y=\"283.458328\"/>\r\n     <use style=\"fill:#ff7f0e;stroke:#ff7f0e;\" x=\"845.247275\" xlink:href=\"#m0f3d83b6ed\" y=\"283.458328\"/>\r\n     <use style=\"fill:#ff7f0e;stroke:#ff7f0e;\" x=\"852.933226\" xlink:href=\"#m0f3d83b6ed\" y=\"310.819736\"/>\r\n     <use style=\"fill:#ff7f0e;stroke:#ff7f0e;\" x=\"852.933226\" xlink:href=\"#m0f3d83b6ed\" y=\"310.819736\"/>\r\n     <use style=\"fill:#ff7f0e;stroke:#ff7f0e;\" x=\"860.619176\" xlink:href=\"#m0f3d83b6ed\" y=\"347.054286\"/>\r\n     <use style=\"fill:#ff7f0e;stroke:#ff7f0e;\" x=\"860.619176\" xlink:href=\"#m0f3d83b6ed\" y=\"347.054286\"/>\r\n     <use style=\"fill:#ff7f0e;stroke:#ff7f0e;\" x=\"868.305127\" xlink:href=\"#m0f3d83b6ed\" y=\"342.315969\"/>\r\n     <use style=\"fill:#ff7f0e;stroke:#ff7f0e;\" x=\"868.305127\" xlink:href=\"#m0f3d83b6ed\" y=\"342.315969\"/>\r\n     <use style=\"fill:#ff7f0e;stroke:#ff7f0e;\" x=\"875.991077\" xlink:href=\"#m0f3d83b6ed\" y=\"298.280874\"/>\r\n     <use style=\"fill:#ff7f0e;stroke:#ff7f0e;\" x=\"875.991077\" xlink:href=\"#m0f3d83b6ed\" y=\"298.280874\"/>\r\n     <use style=\"fill:#ff7f0e;stroke:#ff7f0e;\" x=\"883.677027\" xlink:href=\"#m0f3d83b6ed\" y=\"269.629091\"/>\r\n     <use style=\"fill:#ff7f0e;stroke:#ff7f0e;\" x=\"883.677027\" xlink:href=\"#m0f3d83b6ed\" y=\"269.629091\"/>\r\n     <use style=\"fill:#ff7f0e;stroke:#ff7f0e;\" x=\"891.362978\" xlink:href=\"#m0f3d83b6ed\" y=\"329.360825\"/>\r\n     <use style=\"fill:#ff7f0e;stroke:#ff7f0e;\" x=\"891.362978\" xlink:href=\"#m0f3d83b6ed\" y=\"329.360825\"/>\r\n     <use style=\"fill:#ff7f0e;stroke:#ff7f0e;\" x=\"899.048928\" xlink:href=\"#m0f3d83b6ed\" y=\"288.692323\"/>\r\n     <use style=\"fill:#ff7f0e;stroke:#ff7f0e;\" x=\"899.048928\" xlink:href=\"#m0f3d83b6ed\" y=\"288.692323\"/>\r\n     <use style=\"fill:#ff7f0e;stroke:#ff7f0e;\" x=\"906.734879\" xlink:href=\"#m0f3d83b6ed\" y=\"260.51196\"/>\r\n     <use style=\"fill:#ff7f0e;stroke:#ff7f0e;\" x=\"906.734879\" xlink:href=\"#m0f3d83b6ed\" y=\"260.51196\"/>\r\n     <use style=\"fill:#ff7f0e;stroke:#ff7f0e;\" x=\"914.420829\" xlink:href=\"#m0f3d83b6ed\" y=\"332.843853\"/>\r\n     <use style=\"fill:#ff7f0e;stroke:#ff7f0e;\" x=\"914.420829\" xlink:href=\"#m0f3d83b6ed\" y=\"332.843853\"/>\r\n     <use style=\"fill:#ff7f0e;stroke:#ff7f0e;\" x=\"922.106779\" xlink:href=\"#m0f3d83b6ed\" y=\"274.155394\"/>\r\n     <use style=\"fill:#ff7f0e;stroke:#ff7f0e;\" x=\"922.106779\" xlink:href=\"#m0f3d83b6ed\" y=\"274.155394\"/>\r\n     <use style=\"fill:#ff7f0e;stroke:#ff7f0e;\" x=\"929.79273\" xlink:href=\"#m0f3d83b6ed\" y=\"216.118835\"/>\r\n     <use style=\"fill:#ff7f0e;stroke:#ff7f0e;\" x=\"929.79273\" xlink:href=\"#m0f3d83b6ed\" y=\"216.118835\"/>\r\n     <use style=\"fill:#ff7f0e;stroke:#ff7f0e;\" x=\"937.47868\" xlink:href=\"#m0f3d83b6ed\" y=\"351.021401\"/>\r\n     <use style=\"fill:#ff7f0e;stroke:#ff7f0e;\" x=\"937.47868\" xlink:href=\"#m0f3d83b6ed\" y=\"351.021401\"/>\r\n     <use style=\"fill:#ff7f0e;stroke:#ff7f0e;\" x=\"945.164631\" xlink:href=\"#m0f3d83b6ed\" y=\"302.068043\"/>\r\n     <use style=\"fill:#ff7f0e;stroke:#ff7f0e;\" x=\"945.164631\" xlink:href=\"#m0f3d83b6ed\" y=\"302.068043\"/>\r\n     <use style=\"fill:#ff7f0e;stroke:#ff7f0e;\" x=\"952.850581\" xlink:href=\"#m0f3d83b6ed\" y=\"354.069364\"/>\r\n     <use style=\"fill:#ff7f0e;stroke:#ff7f0e;\" x=\"952.850581\" xlink:href=\"#m0f3d83b6ed\" y=\"354.069364\"/>\r\n     <use style=\"fill:#ff7f0e;stroke:#ff7f0e;\" x=\"960.536532\" xlink:href=\"#m0f3d83b6ed\" y=\"285.670239\"/>\r\n     <use style=\"fill:#ff7f0e;stroke:#ff7f0e;\" x=\"960.536532\" xlink:href=\"#m0f3d83b6ed\" y=\"285.670239\"/>\r\n     <use style=\"fill:#ff7f0e;stroke:#ff7f0e;\" x=\"968.222482\" xlink:href=\"#m0f3d83b6ed\" y=\"307.552952\"/>\r\n     <use style=\"fill:#ff7f0e;stroke:#ff7f0e;\" x=\"968.222482\" xlink:href=\"#m0f3d83b6ed\" y=\"307.552952\"/>\r\n     <use style=\"fill:#ff7f0e;stroke:#ff7f0e;\" x=\"975.908432\" xlink:href=\"#m0f3d83b6ed\" y=\"308.608372\"/>\r\n     <use style=\"fill:#ff7f0e;stroke:#ff7f0e;\" x=\"975.908432\" xlink:href=\"#m0f3d83b6ed\" y=\"308.608372\"/>\r\n     <use style=\"fill:#ff7f0e;stroke:#ff7f0e;\" x=\"983.594383\" xlink:href=\"#m0f3d83b6ed\" y=\"320.257311\"/>\r\n     <use style=\"fill:#ff7f0e;stroke:#ff7f0e;\" x=\"983.594383\" xlink:href=\"#m0f3d83b6ed\" y=\"320.257311\"/>\r\n     <use style=\"fill:#ff7f0e;stroke:#ff7f0e;\" x=\"991.280333\" xlink:href=\"#m0f3d83b6ed\" y=\"348.80503\"/>\r\n     <use style=\"fill:#ff7f0e;stroke:#ff7f0e;\" x=\"991.280333\" xlink:href=\"#m0f3d83b6ed\" y=\"348.80503\"/>\r\n     <use style=\"fill:#ff7f0e;stroke:#ff7f0e;\" x=\"998.966284\" xlink:href=\"#m0f3d83b6ed\" y=\"331.351025\"/>\r\n     <use style=\"fill:#ff7f0e;stroke:#ff7f0e;\" x=\"998.966284\" xlink:href=\"#m0f3d83b6ed\" y=\"331.351025\"/>\r\n     <use style=\"fill:#ff7f0e;stroke:#ff7f0e;\" x=\"1006.652234\" xlink:href=\"#m0f3d83b6ed\" y=\"338.135763\"/>\r\n     <use style=\"fill:#ff7f0e;stroke:#ff7f0e;\" x=\"1006.652234\" xlink:href=\"#m0f3d83b6ed\" y=\"338.135763\"/>\r\n     <use style=\"fill:#ff7f0e;stroke:#ff7f0e;\" x=\"1014.338184\" xlink:href=\"#m0f3d83b6ed\" y=\"280.56679\"/>\r\n     <use style=\"fill:#ff7f0e;stroke:#ff7f0e;\" x=\"1014.338184\" xlink:href=\"#m0f3d83b6ed\" y=\"280.56679\"/>\r\n     <use style=\"fill:#ff7f0e;stroke:#ff7f0e;\" x=\"1022.024135\" xlink:href=\"#m0f3d83b6ed\" y=\"223.402101\"/>\r\n     <use style=\"fill:#ff7f0e;stroke:#ff7f0e;\" x=\"1022.024135\" xlink:href=\"#m0f3d83b6ed\" y=\"223.402101\"/>\r\n     <use style=\"fill:#ff7f0e;stroke:#ff7f0e;\" x=\"1029.710085\" xlink:href=\"#m0f3d83b6ed\" y=\"294.637571\"/>\r\n     <use style=\"fill:#ff7f0e;stroke:#ff7f0e;\" x=\"1029.710085\" xlink:href=\"#m0f3d83b6ed\" y=\"294.637571\"/>\r\n     <use style=\"fill:#ff7f0e;stroke:#ff7f0e;\" x=\"1037.396036\" xlink:href=\"#m0f3d83b6ed\" y=\"309.455786\"/>\r\n     <use style=\"fill:#ff7f0e;stroke:#ff7f0e;\" x=\"1037.396036\" xlink:href=\"#m0f3d83b6ed\" y=\"309.455786\"/>\r\n     <use style=\"fill:#ff7f0e;stroke:#ff7f0e;\" x=\"1045.081986\" xlink:href=\"#m0f3d83b6ed\" y=\"228.744682\"/>\r\n     <use style=\"fill:#ff7f0e;stroke:#ff7f0e;\" x=\"1045.081986\" xlink:href=\"#m0f3d83b6ed\" y=\"228.744682\"/>\r\n     <use style=\"fill:#ff7f0e;stroke:#ff7f0e;\" x=\"1052.767936\" xlink:href=\"#m0f3d83b6ed\" y=\"264.458757\"/>\r\n     <use style=\"fill:#ff7f0e;stroke:#ff7f0e;\" x=\"1052.767936\" xlink:href=\"#m0f3d83b6ed\" y=\"264.458757\"/>\r\n     <use style=\"fill:#ff7f0e;stroke:#ff7f0e;\" x=\"1060.453887\" xlink:href=\"#m0f3d83b6ed\" y=\"308.031814\"/>\r\n     <use style=\"fill:#ff7f0e;stroke:#ff7f0e;\" x=\"1060.453887\" xlink:href=\"#m0f3d83b6ed\" y=\"308.031814\"/>\r\n     <use style=\"fill:#ff7f0e;stroke:#ff7f0e;\" x=\"1068.139837\" xlink:href=\"#m0f3d83b6ed\" y=\"267.423999\"/>\r\n     <use style=\"fill:#ff7f0e;stroke:#ff7f0e;\" x=\"1068.139837\" xlink:href=\"#m0f3d83b6ed\" y=\"267.423999\"/>\r\n     <use style=\"fill:#ff7f0e;stroke:#ff7f0e;\" x=\"1075.825788\" xlink:href=\"#m0f3d83b6ed\" y=\"317.382742\"/>\r\n     <use style=\"fill:#ff7f0e;stroke:#ff7f0e;\" x=\"1075.825788\" xlink:href=\"#m0f3d83b6ed\" y=\"317.382742\"/>\r\n     <use style=\"fill:#ff7f0e;stroke:#ff7f0e;\" x=\"1083.511738\" xlink:href=\"#m0f3d83b6ed\" y=\"199.792298\"/>\r\n     <use style=\"fill:#ff7f0e;stroke:#ff7f0e;\" x=\"1083.511738\" xlink:href=\"#m0f3d83b6ed\" y=\"199.792298\"/>\r\n     <use style=\"fill:#ff7f0e;stroke:#ff7f0e;\" x=\"1091.197689\" xlink:href=\"#m0f3d83b6ed\" y=\"322.829723\"/>\r\n     <use style=\"fill:#ff7f0e;stroke:#ff7f0e;\" x=\"1091.197689\" xlink:href=\"#m0f3d83b6ed\" y=\"322.829723\"/>\r\n     <use style=\"fill:#ff7f0e;stroke:#ff7f0e;\" x=\"1098.883639\" xlink:href=\"#m0f3d83b6ed\" y=\"301.059408\"/>\r\n     <use style=\"fill:#ff7f0e;stroke:#ff7f0e;\" x=\"1098.883639\" xlink:href=\"#m0f3d83b6ed\" y=\"301.059408\"/>\r\n     <use style=\"fill:#ff7f0e;stroke:#ff7f0e;\" x=\"1106.569589\" xlink:href=\"#m0f3d83b6ed\" y=\"261.759655\"/>\r\n     <use style=\"fill:#ff7f0e;stroke:#ff7f0e;\" x=\"1106.569589\" xlink:href=\"#m0f3d83b6ed\" y=\"261.759655\"/>\r\n     <use style=\"fill:#ff7f0e;stroke:#ff7f0e;\" x=\"1114.25554\" xlink:href=\"#m0f3d83b6ed\" y=\"330.061146\"/>\r\n     <use style=\"fill:#ff7f0e;stroke:#ff7f0e;\" x=\"1114.25554\" xlink:href=\"#m0f3d83b6ed\" y=\"330.061146\"/>\r\n    </g>\r\n   </g>\r\n   <g id=\"matplotlib.axis_1\">\r\n    <g id=\"xtick_1\">\r\n     <g id=\"line2d_1\">\r\n      <defs>\r\n       <path d=\"M 0 0 \r\nL 0 3.5 \r\n\" id=\"ma1f9dacb08\" style=\"stroke:#000000;stroke-width:0.8;\"/>\r\n      </defs>\r\n      <g>\r\n       <use style=\"stroke:#000000;stroke-width:0.8;\" x=\"99.710085\" xlink:href=\"#ma1f9dacb08\" y=\"402.838125\"/>\r\n      </g>\r\n     </g>\r\n     <g id=\"text_1\">\r\n      <!-- 1508 -->\r\n      <g transform=\"translate(86.985085 417.436562)scale(0.1 -0.1)\">\r\n       <defs>\r\n        <path d=\"M 794 531 \r\nL 1825 531 \r\nL 1825 4091 \r\nL 703 3866 \r\nL 703 4441 \r\nL 1819 4666 \r\nL 2450 4666 \r\nL 2450 531 \r\nL 3481 531 \r\nL 3481 0 \r\nL 794 0 \r\nL 794 531 \r\nz\r\n\" id=\"DejaVuSans-31\" transform=\"scale(0.015625)\"/>\r\n        <path d=\"M 691 4666 \r\nL 3169 4666 \r\nL 3169 4134 \r\nL 1269 4134 \r\nL 1269 2991 \r\nQ 1406 3038 1543 3061 \r\nQ 1681 3084 1819 3084 \r\nQ 2600 3084 3056 2656 \r\nQ 3513 2228 3513 1497 \r\nQ 3513 744 3044 326 \r\nQ 2575 -91 1722 -91 \r\nQ 1428 -91 1123 -41 \r\nQ 819 9 494 109 \r\nL 494 744 \r\nQ 775 591 1075 516 \r\nQ 1375 441 1709 441 \r\nQ 2250 441 2565 725 \r\nQ 2881 1009 2881 1497 \r\nQ 2881 1984 2565 2268 \r\nQ 2250 2553 1709 2553 \r\nQ 1456 2553 1204 2497 \r\nQ 953 2441 691 2322 \r\nL 691 4666 \r\nz\r\n\" id=\"DejaVuSans-35\" transform=\"scale(0.015625)\"/>\r\n        <path d=\"M 2034 4250 \r\nQ 1547 4250 1301 3770 \r\nQ 1056 3291 1056 2328 \r\nQ 1056 1369 1301 889 \r\nQ 1547 409 2034 409 \r\nQ 2525 409 2770 889 \r\nQ 3016 1369 3016 2328 \r\nQ 3016 3291 2770 3770 \r\nQ 2525 4250 2034 4250 \r\nz\r\nM 2034 4750 \r\nQ 2819 4750 3233 4129 \r\nQ 3647 3509 3647 2328 \r\nQ 3647 1150 3233 529 \r\nQ 2819 -91 2034 -91 \r\nQ 1250 -91 836 529 \r\nQ 422 1150 422 2328 \r\nQ 422 3509 836 4129 \r\nQ 1250 4750 2034 4750 \r\nz\r\n\" id=\"DejaVuSans-30\" transform=\"scale(0.015625)\"/>\r\n        <path d=\"M 2034 2216 \r\nQ 1584 2216 1326 1975 \r\nQ 1069 1734 1069 1313 \r\nQ 1069 891 1326 650 \r\nQ 1584 409 2034 409 \r\nQ 2484 409 2743 651 \r\nQ 3003 894 3003 1313 \r\nQ 3003 1734 2745 1975 \r\nQ 2488 2216 2034 2216 \r\nz\r\nM 1403 2484 \r\nQ 997 2584 770 2862 \r\nQ 544 3141 544 3541 \r\nQ 544 4100 942 4425 \r\nQ 1341 4750 2034 4750 \r\nQ 2731 4750 3128 4425 \r\nQ 3525 4100 3525 3541 \r\nQ 3525 3141 3298 2862 \r\nQ 3072 2584 2669 2484 \r\nQ 3125 2378 3379 2068 \r\nQ 3634 1759 3634 1313 \r\nQ 3634 634 3220 271 \r\nQ 2806 -91 2034 -91 \r\nQ 1263 -91 848 271 \r\nQ 434 634 434 1313 \r\nQ 434 1759 690 2068 \r\nQ 947 2378 1403 2484 \r\nz\r\nM 1172 3481 \r\nQ 1172 3119 1398 2916 \r\nQ 1625 2713 2034 2713 \r\nQ 2441 2713 2670 2916 \r\nQ 2900 3119 2900 3481 \r\nQ 2900 3844 2670 4047 \r\nQ 2441 4250 2034 4250 \r\nQ 1625 4250 1398 4047 \r\nQ 1172 3844 1172 3481 \r\nz\r\n\" id=\"DejaVuSans-38\" transform=\"scale(0.015625)\"/>\r\n       </defs>\r\n       <use xlink:href=\"#DejaVuSans-31\"/>\r\n       <use x=\"63.623047\" xlink:href=\"#DejaVuSans-35\"/>\r\n       <use x=\"127.246094\" xlink:href=\"#DejaVuSans-30\"/>\r\n       <use x=\"190.869141\" xlink:href=\"#DejaVuSans-38\"/>\r\n      </g>\r\n     </g>\r\n    </g>\r\n    <g id=\"xtick_2\">\r\n     <g id=\"line2d_2\">\r\n      <g>\r\n       <use style=\"stroke:#000000;stroke-width:0.8;\" x=\"99.710085\" xlink:href=\"#ma1f9dacb08\" y=\"402.838125\"/>\r\n      </g>\r\n     </g>\r\n     <g id=\"text_2\">\r\n      <!-- 1508 -->\r\n      <g transform=\"translate(86.985085 417.436562)scale(0.1 -0.1)\">\r\n       <use xlink:href=\"#DejaVuSans-31\"/>\r\n       <use x=\"63.623047\" xlink:href=\"#DejaVuSans-35\"/>\r\n       <use x=\"127.246094\" xlink:href=\"#DejaVuSans-30\"/>\r\n       <use x=\"190.869141\" xlink:href=\"#DejaVuSans-38\"/>\r\n      </g>\r\n     </g>\r\n    </g>\r\n    <g id=\"xtick_3\">\r\n     <g id=\"line2d_3\">\r\n      <g>\r\n       <use style=\"stroke:#000000;stroke-width:0.8;\" x=\"107.396036\" xlink:href=\"#ma1f9dacb08\" y=\"402.838125\"/>\r\n      </g>\r\n     </g>\r\n     <g id=\"text_3\">\r\n      <!-- 1542 -->\r\n      <g transform=\"translate(94.671036 417.436562)scale(0.1 -0.1)\">\r\n       <defs>\r\n        <path d=\"M 2419 4116 \r\nL 825 1625 \r\nL 2419 1625 \r\nL 2419 4116 \r\nz\r\nM 2253 4666 \r\nL 3047 4666 \r\nL 3047 1625 \r\nL 3713 1625 \r\nL 3713 1100 \r\nL 3047 1100 \r\nL 3047 0 \r\nL 2419 0 \r\nL 2419 1100 \r\nL 313 1100 \r\nL 313 1709 \r\nL 2253 4666 \r\nz\r\n\" id=\"DejaVuSans-34\" transform=\"scale(0.015625)\"/>\r\n        <path d=\"M 1228 531 \r\nL 3431 531 \r\nL 3431 0 \r\nL 469 0 \r\nL 469 531 \r\nQ 828 903 1448 1529 \r\nQ 2069 2156 2228 2338 \r\nQ 2531 2678 2651 2914 \r\nQ 2772 3150 2772 3378 \r\nQ 2772 3750 2511 3984 \r\nQ 2250 4219 1831 4219 \r\nQ 1534 4219 1204 4116 \r\nQ 875 4013 500 3803 \r\nL 500 4441 \r\nQ 881 4594 1212 4672 \r\nQ 1544 4750 1819 4750 \r\nQ 2544 4750 2975 4387 \r\nQ 3406 4025 3406 3419 \r\nQ 3406 3131 3298 2873 \r\nQ 3191 2616 2906 2266 \r\nQ 2828 2175 2409 1742 \r\nQ 1991 1309 1228 531 \r\nz\r\n\" id=\"DejaVuSans-32\" transform=\"scale(0.015625)\"/>\r\n       </defs>\r\n       <use xlink:href=\"#DejaVuSans-31\"/>\r\n       <use x=\"63.623047\" xlink:href=\"#DejaVuSans-35\"/>\r\n       <use x=\"127.246094\" xlink:href=\"#DejaVuSans-34\"/>\r\n       <use x=\"190.869141\" xlink:href=\"#DejaVuSans-32\"/>\r\n      </g>\r\n     </g>\r\n    </g>\r\n    <g id=\"xtick_4\">\r\n     <g id=\"line2d_4\">\r\n      <g>\r\n       <use style=\"stroke:#000000;stroke-width:0.8;\" x=\"107.396036\" xlink:href=\"#ma1f9dacb08\" y=\"402.838125\"/>\r\n      </g>\r\n     </g>\r\n     <g id=\"text_4\">\r\n      <!-- 1542 -->\r\n      <g transform=\"translate(94.671036 417.436562)scale(0.1 -0.1)\">\r\n       <use xlink:href=\"#DejaVuSans-31\"/>\r\n       <use x=\"63.623047\" xlink:href=\"#DejaVuSans-35\"/>\r\n       <use x=\"127.246094\" xlink:href=\"#DejaVuSans-34\"/>\r\n       <use x=\"190.869141\" xlink:href=\"#DejaVuSans-32\"/>\r\n      </g>\r\n     </g>\r\n    </g>\r\n    <g id=\"xtick_5\">\r\n     <g id=\"line2d_5\">\r\n      <g>\r\n       <use style=\"stroke:#000000;stroke-width:0.8;\" x=\"115.081986\" xlink:href=\"#ma1f9dacb08\" y=\"402.838125\"/>\r\n      </g>\r\n     </g>\r\n     <g id=\"text_5\">\r\n      <!-- 1580 -->\r\n      <g transform=\"translate(102.356986 417.436562)scale(0.1 -0.1)\">\r\n       <use xlink:href=\"#DejaVuSans-31\"/>\r\n       <use x=\"63.623047\" xlink:href=\"#DejaVuSans-35\"/>\r\n       <use x=\"127.246094\" xlink:href=\"#DejaVuSans-38\"/>\r\n       <use x=\"190.869141\" xlink:href=\"#DejaVuSans-30\"/>\r\n      </g>\r\n     </g>\r\n    </g>\r\n    <g id=\"xtick_6\">\r\n     <g id=\"line2d_6\">\r\n      <g>\r\n       <use style=\"stroke:#000000;stroke-width:0.8;\" x=\"115.081986\" xlink:href=\"#ma1f9dacb08\" y=\"402.838125\"/>\r\n      </g>\r\n     </g>\r\n     <g id=\"text_6\">\r\n      <!-- 1580 -->\r\n      <g transform=\"translate(102.356986 417.436562)scale(0.1 -0.1)\">\r\n       <use xlink:href=\"#DejaVuSans-31\"/>\r\n       <use x=\"63.623047\" xlink:href=\"#DejaVuSans-35\"/>\r\n       <use x=\"127.246094\" xlink:href=\"#DejaVuSans-38\"/>\r\n       <use x=\"190.869141\" xlink:href=\"#DejaVuSans-30\"/>\r\n      </g>\r\n     </g>\r\n    </g>\r\n    <g id=\"xtick_7\">\r\n     <g id=\"line2d_7\">\r\n      <g>\r\n       <use style=\"stroke:#000000;stroke-width:0.8;\" x=\"122.767936\" xlink:href=\"#ma1f9dacb08\" y=\"402.838125\"/>\r\n      </g>\r\n     </g>\r\n     <g id=\"text_7\">\r\n      <!-- 1630 -->\r\n      <g transform=\"translate(110.042936 417.436562)scale(0.1 -0.1)\">\r\n       <defs>\r\n        <path d=\"M 2113 2584 \r\nQ 1688 2584 1439 2293 \r\nQ 1191 2003 1191 1497 \r\nQ 1191 994 1439 701 \r\nQ 1688 409 2113 409 \r\nQ 2538 409 2786 701 \r\nQ 3034 994 3034 1497 \r\nQ 3034 2003 2786 2293 \r\nQ 2538 2584 2113 2584 \r\nz\r\nM 3366 4563 \r\nL 3366 3988 \r\nQ 3128 4100 2886 4159 \r\nQ 2644 4219 2406 4219 \r\nQ 1781 4219 1451 3797 \r\nQ 1122 3375 1075 2522 \r\nQ 1259 2794 1537 2939 \r\nQ 1816 3084 2150 3084 \r\nQ 2853 3084 3261 2657 \r\nQ 3669 2231 3669 1497 \r\nQ 3669 778 3244 343 \r\nQ 2819 -91 2113 -91 \r\nQ 1303 -91 875 529 \r\nQ 447 1150 447 2328 \r\nQ 447 3434 972 4092 \r\nQ 1497 4750 2381 4750 \r\nQ 2619 4750 2861 4703 \r\nQ 3103 4656 3366 4563 \r\nz\r\n\" id=\"DejaVuSans-36\" transform=\"scale(0.015625)\"/>\r\n        <path d=\"M 2597 2516 \r\nQ 3050 2419 3304 2112 \r\nQ 3559 1806 3559 1356 \r\nQ 3559 666 3084 287 \r\nQ 2609 -91 1734 -91 \r\nQ 1441 -91 1130 -33 \r\nQ 819 25 488 141 \r\nL 488 750 \r\nQ 750 597 1062 519 \r\nQ 1375 441 1716 441 \r\nQ 2309 441 2620 675 \r\nQ 2931 909 2931 1356 \r\nQ 2931 1769 2642 2001 \r\nQ 2353 2234 1838 2234 \r\nL 1294 2234 \r\nL 1294 2753 \r\nL 1863 2753 \r\nQ 2328 2753 2575 2939 \r\nQ 2822 3125 2822 3475 \r\nQ 2822 3834 2567 4026 \r\nQ 2313 4219 1838 4219 \r\nQ 1578 4219 1281 4162 \r\nQ 984 4106 628 3988 \r\nL 628 4550 \r\nQ 988 4650 1302 4700 \r\nQ 1616 4750 1894 4750 \r\nQ 2613 4750 3031 4423 \r\nQ 3450 4097 3450 3541 \r\nQ 3450 3153 3228 2886 \r\nQ 3006 2619 2597 2516 \r\nz\r\n\" id=\"DejaVuSans-33\" transform=\"scale(0.015625)\"/>\r\n       </defs>\r\n       <use xlink:href=\"#DejaVuSans-31\"/>\r\n       <use x=\"63.623047\" xlink:href=\"#DejaVuSans-36\"/>\r\n       <use x=\"127.246094\" xlink:href=\"#DejaVuSans-33\"/>\r\n       <use x=\"190.869141\" xlink:href=\"#DejaVuSans-30\"/>\r\n      </g>\r\n     </g>\r\n    </g>\r\n    <g id=\"xtick_8\">\r\n     <g id=\"line2d_8\">\r\n      <g>\r\n       <use style=\"stroke:#000000;stroke-width:0.8;\" x=\"122.767936\" xlink:href=\"#ma1f9dacb08\" y=\"402.838125\"/>\r\n      </g>\r\n     </g>\r\n     <g id=\"text_8\">\r\n      <!-- 1630 -->\r\n      <g transform=\"translate(110.042936 417.436562)scale(0.1 -0.1)\">\r\n       <use xlink:href=\"#DejaVuSans-31\"/>\r\n       <use x=\"63.623047\" xlink:href=\"#DejaVuSans-36\"/>\r\n       <use x=\"127.246094\" xlink:href=\"#DejaVuSans-33\"/>\r\n       <use x=\"190.869141\" xlink:href=\"#DejaVuSans-30\"/>\r\n      </g>\r\n     </g>\r\n    </g>\r\n    <g id=\"xtick_9\">\r\n     <g id=\"line2d_9\">\r\n      <g>\r\n       <use style=\"stroke:#000000;stroke-width:0.8;\" x=\"130.453887\" xlink:href=\"#ma1f9dacb08\" y=\"402.838125\"/>\r\n      </g>\r\n     </g>\r\n     <g id=\"text_9\">\r\n      <!-- 1662 -->\r\n      <g transform=\"translate(117.728887 417.436562)scale(0.1 -0.1)\">\r\n       <use xlink:href=\"#DejaVuSans-31\"/>\r\n       <use x=\"63.623047\" xlink:href=\"#DejaVuSans-36\"/>\r\n       <use x=\"127.246094\" xlink:href=\"#DejaVuSans-36\"/>\r\n       <use x=\"190.869141\" xlink:href=\"#DejaVuSans-32\"/>\r\n      </g>\r\n     </g>\r\n    </g>\r\n    <g id=\"xtick_10\">\r\n     <g id=\"line2d_10\">\r\n      <g>\r\n       <use style=\"stroke:#000000;stroke-width:0.8;\" x=\"130.453887\" xlink:href=\"#ma1f9dacb08\" y=\"402.838125\"/>\r\n      </g>\r\n     </g>\r\n     <g id=\"text_10\">\r\n      <!-- 1662 -->\r\n      <g transform=\"translate(117.728887 417.436562)scale(0.1 -0.1)\">\r\n       <use xlink:href=\"#DejaVuSans-31\"/>\r\n       <use x=\"63.623047\" xlink:href=\"#DejaVuSans-36\"/>\r\n       <use x=\"127.246094\" xlink:href=\"#DejaVuSans-36\"/>\r\n       <use x=\"190.869141\" xlink:href=\"#DejaVuSans-32\"/>\r\n      </g>\r\n     </g>\r\n    </g>\r\n    <g id=\"xtick_11\">\r\n     <g id=\"line2d_11\">\r\n      <g>\r\n       <use style=\"stroke:#000000;stroke-width:0.8;\" x=\"138.139837\" xlink:href=\"#ma1f9dacb08\" y=\"402.838125\"/>\r\n      </g>\r\n     </g>\r\n     <g id=\"text_11\">\r\n      <!-- 1664 -->\r\n      <g transform=\"translate(125.414837 417.436562)scale(0.1 -0.1)\">\r\n       <use xlink:href=\"#DejaVuSans-31\"/>\r\n       <use x=\"63.623047\" xlink:href=\"#DejaVuSans-36\"/>\r\n       <use x=\"127.246094\" xlink:href=\"#DejaVuSans-36\"/>\r\n       <use x=\"190.869141\" xlink:href=\"#DejaVuSans-34\"/>\r\n      </g>\r\n     </g>\r\n    </g>\r\n    <g id=\"xtick_12\">\r\n     <g id=\"line2d_12\">\r\n      <g>\r\n       <use style=\"stroke:#000000;stroke-width:0.8;\" x=\"138.139837\" xlink:href=\"#ma1f9dacb08\" y=\"402.838125\"/>\r\n      </g>\r\n     </g>\r\n     <g id=\"text_12\">\r\n      <!-- 1664 -->\r\n      <g transform=\"translate(125.414837 417.436562)scale(0.1 -0.1)\">\r\n       <use xlink:href=\"#DejaVuSans-31\"/>\r\n       <use x=\"63.623047\" xlink:href=\"#DejaVuSans-36\"/>\r\n       <use x=\"127.246094\" xlink:href=\"#DejaVuSans-36\"/>\r\n       <use x=\"190.869141\" xlink:href=\"#DejaVuSans-34\"/>\r\n      </g>\r\n     </g>\r\n    </g>\r\n    <g id=\"xtick_13\">\r\n     <g id=\"line2d_13\">\r\n      <g>\r\n       <use style=\"stroke:#000000;stroke-width:0.8;\" x=\"145.825788\" xlink:href=\"#ma1f9dacb08\" y=\"402.838125\"/>\r\n      </g>\r\n     </g>\r\n     <g id=\"text_13\">\r\n      <!-- 1675 -->\r\n      <g transform=\"translate(133.100788 417.436562)scale(0.1 -0.1)\">\r\n       <defs>\r\n        <path d=\"M 525 4666 \r\nL 3525 4666 \r\nL 3525 4397 \r\nL 1831 0 \r\nL 1172 0 \r\nL 2766 4134 \r\nL 525 4134 \r\nL 525 4666 \r\nz\r\n\" id=\"DejaVuSans-37\" transform=\"scale(0.015625)\"/>\r\n       </defs>\r\n       <use xlink:href=\"#DejaVuSans-31\"/>\r\n       <use x=\"63.623047\" xlink:href=\"#DejaVuSans-36\"/>\r\n       <use x=\"127.246094\" xlink:href=\"#DejaVuSans-37\"/>\r\n       <use x=\"190.869141\" xlink:href=\"#DejaVuSans-35\"/>\r\n      </g>\r\n     </g>\r\n    </g>\r\n    <g id=\"xtick_14\">\r\n     <g id=\"line2d_14\">\r\n      <g>\r\n       <use style=\"stroke:#000000;stroke-width:0.8;\" x=\"145.825788\" xlink:href=\"#ma1f9dacb08\" y=\"402.838125\"/>\r\n      </g>\r\n     </g>\r\n     <g id=\"text_14\">\r\n      <!-- 1675 -->\r\n      <g transform=\"translate(133.100788 417.436562)scale(0.1 -0.1)\">\r\n       <use xlink:href=\"#DejaVuSans-31\"/>\r\n       <use x=\"63.623047\" xlink:href=\"#DejaVuSans-36\"/>\r\n       <use x=\"127.246094\" xlink:href=\"#DejaVuSans-37\"/>\r\n       <use x=\"190.869141\" xlink:href=\"#DejaVuSans-35\"/>\r\n      </g>\r\n     </g>\r\n    </g>\r\n    <g id=\"xtick_15\">\r\n     <g id=\"line2d_15\">\r\n      <g>\r\n       <use style=\"stroke:#000000;stroke-width:0.8;\" x=\"153.511738\" xlink:href=\"#ma1f9dacb08\" y=\"402.838125\"/>\r\n      </g>\r\n     </g>\r\n     <g id=\"text_15\">\r\n      <!-- 1696 -->\r\n      <g transform=\"translate(140.786738 417.436562)scale(0.1 -0.1)\">\r\n       <defs>\r\n        <path d=\"M 703 97 \r\nL 703 672 \r\nQ 941 559 1184 500 \r\nQ 1428 441 1663 441 \r\nQ 2288 441 2617 861 \r\nQ 2947 1281 2994 2138 \r\nQ 2813 1869 2534 1725 \r\nQ 2256 1581 1919 1581 \r\nQ 1219 1581 811 2004 \r\nQ 403 2428 403 3163 \r\nQ 403 3881 828 4315 \r\nQ 1253 4750 1959 4750 \r\nQ 2769 4750 3195 4129 \r\nQ 3622 3509 3622 2328 \r\nQ 3622 1225 3098 567 \r\nQ 2575 -91 1691 -91 \r\nQ 1453 -91 1209 -44 \r\nQ 966 3 703 97 \r\nz\r\nM 1959 2075 \r\nQ 2384 2075 2632 2365 \r\nQ 2881 2656 2881 3163 \r\nQ 2881 3666 2632 3958 \r\nQ 2384 4250 1959 4250 \r\nQ 1534 4250 1286 3958 \r\nQ 1038 3666 1038 3163 \r\nQ 1038 2656 1286 2365 \r\nQ 1534 2075 1959 2075 \r\nz\r\n\" id=\"DejaVuSans-39\" transform=\"scale(0.015625)\"/>\r\n       </defs>\r\n       <use xlink:href=\"#DejaVuSans-31\"/>\r\n       <use x=\"63.623047\" xlink:href=\"#DejaVuSans-36\"/>\r\n       <use x=\"127.246094\" xlink:href=\"#DejaVuSans-39\"/>\r\n       <use x=\"190.869141\" xlink:href=\"#DejaVuSans-36\"/>\r\n      </g>\r\n     </g>\r\n    </g>\r\n    <g id=\"xtick_16\">\r\n     <g id=\"line2d_16\">\r\n      <g>\r\n       <use style=\"stroke:#000000;stroke-width:0.8;\" x=\"153.511738\" xlink:href=\"#ma1f9dacb08\" y=\"402.838125\"/>\r\n      </g>\r\n     </g>\r\n     <g id=\"text_16\">\r\n      <!-- 1696 -->\r\n      <g transform=\"translate(140.786738 417.436562)scale(0.1 -0.1)\">\r\n       <use xlink:href=\"#DejaVuSans-31\"/>\r\n       <use x=\"63.623047\" xlink:href=\"#DejaVuSans-36\"/>\r\n       <use x=\"127.246094\" xlink:href=\"#DejaVuSans-39\"/>\r\n       <use x=\"190.869141\" xlink:href=\"#DejaVuSans-36\"/>\r\n      </g>\r\n     </g>\r\n    </g>\r\n    <g id=\"xtick_17\">\r\n     <g id=\"line2d_17\">\r\n      <g>\r\n       <use style=\"stroke:#000000;stroke-width:0.8;\" x=\"161.197689\" xlink:href=\"#ma1f9dacb08\" y=\"402.838125\"/>\r\n      </g>\r\n     </g>\r\n     <g id=\"text_17\">\r\n      <!-- 1700 -->\r\n      <g transform=\"translate(148.472689 417.436562)scale(0.1 -0.1)\">\r\n       <use xlink:href=\"#DejaVuSans-31\"/>\r\n       <use x=\"63.623047\" xlink:href=\"#DejaVuSans-37\"/>\r\n       <use x=\"127.246094\" xlink:href=\"#DejaVuSans-30\"/>\r\n       <use x=\"190.869141\" xlink:href=\"#DejaVuSans-30\"/>\r\n      </g>\r\n     </g>\r\n    </g>\r\n    <g id=\"xtick_18\">\r\n     <g id=\"line2d_18\">\r\n      <g>\r\n       <use style=\"stroke:#000000;stroke-width:0.8;\" x=\"161.197689\" xlink:href=\"#ma1f9dacb08\" y=\"402.838125\"/>\r\n      </g>\r\n     </g>\r\n     <g id=\"text_18\">\r\n      <!-- 1700 -->\r\n      <g transform=\"translate(148.472689 417.436562)scale(0.1 -0.1)\">\r\n       <use xlink:href=\"#DejaVuSans-31\"/>\r\n       <use x=\"63.623047\" xlink:href=\"#DejaVuSans-37\"/>\r\n       <use x=\"127.246094\" xlink:href=\"#DejaVuSans-30\"/>\r\n       <use x=\"190.869141\" xlink:href=\"#DejaVuSans-30\"/>\r\n      </g>\r\n     </g>\r\n    </g>\r\n    <g id=\"xtick_19\">\r\n     <g id=\"line2d_19\">\r\n      <g>\r\n       <use style=\"stroke:#000000;stroke-width:0.8;\" x=\"168.883639\" xlink:href=\"#ma1f9dacb08\" y=\"402.838125\"/>\r\n      </g>\r\n     </g>\r\n     <g id=\"text_19\">\r\n      <!-- 1712 -->\r\n      <g transform=\"translate(156.158639 417.436562)scale(0.1 -0.1)\">\r\n       <use xlink:href=\"#DejaVuSans-31\"/>\r\n       <use x=\"63.623047\" xlink:href=\"#DejaVuSans-37\"/>\r\n       <use x=\"127.246094\" xlink:href=\"#DejaVuSans-31\"/>\r\n       <use x=\"190.869141\" xlink:href=\"#DejaVuSans-32\"/>\r\n      </g>\r\n     </g>\r\n    </g>\r\n    <g id=\"xtick_20\">\r\n     <g id=\"line2d_20\">\r\n      <g>\r\n       <use style=\"stroke:#000000;stroke-width:0.8;\" x=\"168.883639\" xlink:href=\"#ma1f9dacb08\" y=\"402.838125\"/>\r\n      </g>\r\n     </g>\r\n     <g id=\"text_20\">\r\n      <!-- 1712 -->\r\n      <g transform=\"translate(156.158639 417.436562)scale(0.1 -0.1)\">\r\n       <use xlink:href=\"#DejaVuSans-31\"/>\r\n       <use x=\"63.623047\" xlink:href=\"#DejaVuSans-37\"/>\r\n       <use x=\"127.246094\" xlink:href=\"#DejaVuSans-31\"/>\r\n       <use x=\"190.869141\" xlink:href=\"#DejaVuSans-32\"/>\r\n      </g>\r\n     </g>\r\n    </g>\r\n    <g id=\"xtick_21\">\r\n     <g id=\"line2d_21\">\r\n      <g>\r\n       <use style=\"stroke:#000000;stroke-width:0.8;\" x=\"176.569589\" xlink:href=\"#ma1f9dacb08\" y=\"402.838125\"/>\r\n      </g>\r\n     </g>\r\n     <g id=\"text_21\">\r\n      <!-- 1762 -->\r\n      <g transform=\"translate(163.844589 417.436562)scale(0.1 -0.1)\">\r\n       <use xlink:href=\"#DejaVuSans-31\"/>\r\n       <use x=\"63.623047\" xlink:href=\"#DejaVuSans-37\"/>\r\n       <use x=\"127.246094\" xlink:href=\"#DejaVuSans-36\"/>\r\n       <use x=\"190.869141\" xlink:href=\"#DejaVuSans-32\"/>\r\n      </g>\r\n     </g>\r\n    </g>\r\n    <g id=\"xtick_22\">\r\n     <g id=\"line2d_22\">\r\n      <g>\r\n       <use style=\"stroke:#000000;stroke-width:0.8;\" x=\"176.569589\" xlink:href=\"#ma1f9dacb08\" y=\"402.838125\"/>\r\n      </g>\r\n     </g>\r\n     <g id=\"text_22\">\r\n      <!-- 1762 -->\r\n      <g transform=\"translate(163.844589 417.436562)scale(0.1 -0.1)\">\r\n       <use xlink:href=\"#DejaVuSans-31\"/>\r\n       <use x=\"63.623047\" xlink:href=\"#DejaVuSans-37\"/>\r\n       <use x=\"127.246094\" xlink:href=\"#DejaVuSans-36\"/>\r\n       <use x=\"190.869141\" xlink:href=\"#DejaVuSans-32\"/>\r\n      </g>\r\n     </g>\r\n    </g>\r\n    <g id=\"xtick_23\">\r\n     <g id=\"line2d_23\">\r\n      <g>\r\n       <use style=\"stroke:#000000;stroke-width:0.8;\" x=\"184.25554\" xlink:href=\"#ma1f9dacb08\" y=\"402.838125\"/>\r\n      </g>\r\n     </g>\r\n     <g id=\"text_23\">\r\n      <!-- 1807 -->\r\n      <g transform=\"translate(171.53054 417.436562)scale(0.1 -0.1)\">\r\n       <use xlink:href=\"#DejaVuSans-31\"/>\r\n       <use x=\"63.623047\" xlink:href=\"#DejaVuSans-38\"/>\r\n       <use x=\"127.246094\" xlink:href=\"#DejaVuSans-30\"/>\r\n       <use x=\"190.869141\" xlink:href=\"#DejaVuSans-37\"/>\r\n      </g>\r\n     </g>\r\n    </g>\r\n    <g id=\"xtick_24\">\r\n     <g id=\"line2d_24\">\r\n      <g>\r\n       <use style=\"stroke:#000000;stroke-width:0.8;\" x=\"184.25554\" xlink:href=\"#ma1f9dacb08\" y=\"402.838125\"/>\r\n      </g>\r\n     </g>\r\n     <g id=\"text_24\">\r\n      <!-- 1807 -->\r\n      <g transform=\"translate(171.53054 417.436562)scale(0.1 -0.1)\">\r\n       <use xlink:href=\"#DejaVuSans-31\"/>\r\n       <use x=\"63.623047\" xlink:href=\"#DejaVuSans-38\"/>\r\n       <use x=\"127.246094\" xlink:href=\"#DejaVuSans-30\"/>\r\n       <use x=\"190.869141\" xlink:href=\"#DejaVuSans-37\"/>\r\n      </g>\r\n     </g>\r\n    </g>\r\n    <g id=\"xtick_25\">\r\n     <g id=\"line2d_25\">\r\n      <g>\r\n       <use style=\"stroke:#000000;stroke-width:0.8;\" x=\"191.94149\" xlink:href=\"#ma1f9dacb08\" y=\"402.838125\"/>\r\n      </g>\r\n     </g>\r\n     <g id=\"text_25\">\r\n      <!-- 1857 -->\r\n      <g transform=\"translate(179.21649 417.436562)scale(0.1 -0.1)\">\r\n       <use xlink:href=\"#DejaVuSans-31\"/>\r\n       <use x=\"63.623047\" xlink:href=\"#DejaVuSans-38\"/>\r\n       <use x=\"127.246094\" xlink:href=\"#DejaVuSans-35\"/>\r\n       <use x=\"190.869141\" xlink:href=\"#DejaVuSans-37\"/>\r\n      </g>\r\n     </g>\r\n    </g>\r\n    <g id=\"xtick_26\">\r\n     <g id=\"line2d_26\">\r\n      <g>\r\n       <use style=\"stroke:#000000;stroke-width:0.8;\" x=\"191.94149\" xlink:href=\"#ma1f9dacb08\" y=\"402.838125\"/>\r\n      </g>\r\n     </g>\r\n     <g id=\"text_26\">\r\n      <!-- 1857 -->\r\n      <g transform=\"translate(179.21649 417.436562)scale(0.1 -0.1)\">\r\n       <use xlink:href=\"#DejaVuSans-31\"/>\r\n       <use x=\"63.623047\" xlink:href=\"#DejaVuSans-38\"/>\r\n       <use x=\"127.246094\" xlink:href=\"#DejaVuSans-35\"/>\r\n       <use x=\"190.869141\" xlink:href=\"#DejaVuSans-37\"/>\r\n      </g>\r\n     </g>\r\n    </g>\r\n    <g id=\"xtick_27\">\r\n     <g id=\"line2d_27\">\r\n      <g>\r\n       <use style=\"stroke:#000000;stroke-width:0.8;\" x=\"199.627441\" xlink:href=\"#ma1f9dacb08\" y=\"402.838125\"/>\r\n      </g>\r\n     </g>\r\n     <g id=\"text_27\">\r\n      <!-- 1863 -->\r\n      <g transform=\"translate(186.902441 417.436562)scale(0.1 -0.1)\">\r\n       <use xlink:href=\"#DejaVuSans-31\"/>\r\n       <use x=\"63.623047\" xlink:href=\"#DejaVuSans-38\"/>\r\n       <use x=\"127.246094\" xlink:href=\"#DejaVuSans-36\"/>\r\n       <use x=\"190.869141\" xlink:href=\"#DejaVuSans-33\"/>\r\n      </g>\r\n     </g>\r\n    </g>\r\n    <g id=\"xtick_28\">\r\n     <g id=\"line2d_28\">\r\n      <g>\r\n       <use style=\"stroke:#000000;stroke-width:0.8;\" x=\"199.627441\" xlink:href=\"#ma1f9dacb08\" y=\"402.838125\"/>\r\n      </g>\r\n     </g>\r\n     <g id=\"text_28\">\r\n      <!-- 1863 -->\r\n      <g transform=\"translate(186.902441 417.436562)scale(0.1 -0.1)\">\r\n       <use xlink:href=\"#DejaVuSans-31\"/>\r\n       <use x=\"63.623047\" xlink:href=\"#DejaVuSans-38\"/>\r\n       <use x=\"127.246094\" xlink:href=\"#DejaVuSans-36\"/>\r\n       <use x=\"190.869141\" xlink:href=\"#DejaVuSans-33\"/>\r\n      </g>\r\n     </g>\r\n    </g>\r\n    <g id=\"xtick_29\">\r\n     <g id=\"line2d_29\">\r\n      <g>\r\n       <use style=\"stroke:#000000;stroke-width:0.8;\" x=\"207.313391\" xlink:href=\"#ma1f9dacb08\" y=\"402.838125\"/>\r\n      </g>\r\n     </g>\r\n     <g id=\"text_29\">\r\n      <!-- 1964 -->\r\n      <g transform=\"translate(194.588391 417.436562)scale(0.1 -0.1)\">\r\n       <use xlink:href=\"#DejaVuSans-31\"/>\r\n       <use x=\"63.623047\" xlink:href=\"#DejaVuSans-39\"/>\r\n       <use x=\"127.246094\" xlink:href=\"#DejaVuSans-36\"/>\r\n       <use x=\"190.869141\" xlink:href=\"#DejaVuSans-34\"/>\r\n      </g>\r\n     </g>\r\n    </g>\r\n    <g id=\"xtick_30\">\r\n     <g id=\"line2d_30\">\r\n      <g>\r\n       <use style=\"stroke:#000000;stroke-width:0.8;\" x=\"207.313391\" xlink:href=\"#ma1f9dacb08\" y=\"402.838125\"/>\r\n      </g>\r\n     </g>\r\n     <g id=\"text_30\">\r\n      <!-- 1964 -->\r\n      <g transform=\"translate(194.588391 417.436562)scale(0.1 -0.1)\">\r\n       <use xlink:href=\"#DejaVuSans-31\"/>\r\n       <use x=\"63.623047\" xlink:href=\"#DejaVuSans-39\"/>\r\n       <use x=\"127.246094\" xlink:href=\"#DejaVuSans-36\"/>\r\n       <use x=\"190.869141\" xlink:href=\"#DejaVuSans-34\"/>\r\n      </g>\r\n     </g>\r\n    </g>\r\n    <g id=\"xtick_31\">\r\n     <g id=\"line2d_31\">\r\n      <g>\r\n       <use style=\"stroke:#000000;stroke-width:0.8;\" x=\"214.999341\" xlink:href=\"#ma1f9dacb08\" y=\"402.838125\"/>\r\n      </g>\r\n     </g>\r\n     <g id=\"text_31\">\r\n      <!-- 2014 -->\r\n      <g transform=\"translate(202.274341 417.436562)scale(0.1 -0.1)\">\r\n       <use xlink:href=\"#DejaVuSans-32\"/>\r\n       <use x=\"63.623047\" xlink:href=\"#DejaVuSans-30\"/>\r\n       <use x=\"127.246094\" xlink:href=\"#DejaVuSans-31\"/>\r\n       <use x=\"190.869141\" xlink:href=\"#DejaVuSans-34\"/>\r\n      </g>\r\n     </g>\r\n    </g>\r\n    <g id=\"xtick_32\">\r\n     <g id=\"line2d_32\">\r\n      <g>\r\n       <use style=\"stroke:#000000;stroke-width:0.8;\" x=\"214.999341\" xlink:href=\"#ma1f9dacb08\" y=\"402.838125\"/>\r\n      </g>\r\n     </g>\r\n     <g id=\"text_32\">\r\n      <!-- 2014 -->\r\n      <g transform=\"translate(202.274341 417.436562)scale(0.1 -0.1)\">\r\n       <use xlink:href=\"#DejaVuSans-32\"/>\r\n       <use x=\"63.623047\" xlink:href=\"#DejaVuSans-30\"/>\r\n       <use x=\"127.246094\" xlink:href=\"#DejaVuSans-31\"/>\r\n       <use x=\"190.869141\" xlink:href=\"#DejaVuSans-34\"/>\r\n      </g>\r\n     </g>\r\n    </g>\r\n    <g id=\"xtick_33\">\r\n     <g id=\"line2d_33\">\r\n      <g>\r\n       <use style=\"stroke:#000000;stroke-width:0.8;\" x=\"222.685292\" xlink:href=\"#ma1f9dacb08\" y=\"402.838125\"/>\r\n      </g>\r\n     </g>\r\n     <g id=\"text_33\">\r\n      <!-- 2114 -->\r\n      <g transform=\"translate(209.960292 417.436562)scale(0.1 -0.1)\">\r\n       <use xlink:href=\"#DejaVuSans-32\"/>\r\n       <use x=\"63.623047\" xlink:href=\"#DejaVuSans-31\"/>\r\n       <use x=\"127.246094\" xlink:href=\"#DejaVuSans-31\"/>\r\n       <use x=\"190.869141\" xlink:href=\"#DejaVuSans-34\"/>\r\n      </g>\r\n     </g>\r\n    </g>\r\n    <g id=\"xtick_34\">\r\n     <g id=\"line2d_34\">\r\n      <g>\r\n       <use style=\"stroke:#000000;stroke-width:0.8;\" x=\"222.685292\" xlink:href=\"#ma1f9dacb08\" y=\"402.838125\"/>\r\n      </g>\r\n     </g>\r\n     <g id=\"text_34\">\r\n      <!-- 2114 -->\r\n      <g transform=\"translate(209.960292 417.436562)scale(0.1 -0.1)\">\r\n       <use xlink:href=\"#DejaVuSans-32\"/>\r\n       <use x=\"63.623047\" xlink:href=\"#DejaVuSans-31\"/>\r\n       <use x=\"127.246094\" xlink:href=\"#DejaVuSans-31\"/>\r\n       <use x=\"190.869141\" xlink:href=\"#DejaVuSans-34\"/>\r\n      </g>\r\n     </g>\r\n    </g>\r\n    <g id=\"xtick_35\">\r\n     <g id=\"line2d_35\">\r\n      <g>\r\n       <use style=\"stroke:#000000;stroke-width:0.8;\" x=\"230.371242\" xlink:href=\"#ma1f9dacb08\" y=\"402.838125\"/>\r\n      </g>\r\n     </g>\r\n     <g id=\"text_35\">\r\n      <!-- 2214 -->\r\n      <g transform=\"translate(217.646242 417.436562)scale(0.1 -0.1)\">\r\n       <use xlink:href=\"#DejaVuSans-32\"/>\r\n       <use x=\"63.623047\" xlink:href=\"#DejaVuSans-32\"/>\r\n       <use x=\"127.246094\" xlink:href=\"#DejaVuSans-31\"/>\r\n       <use x=\"190.869141\" xlink:href=\"#DejaVuSans-34\"/>\r\n      </g>\r\n     </g>\r\n    </g>\r\n    <g id=\"xtick_36\">\r\n     <g id=\"line2d_36\">\r\n      <g>\r\n       <use style=\"stroke:#000000;stroke-width:0.8;\" x=\"230.371242\" xlink:href=\"#ma1f9dacb08\" y=\"402.838125\"/>\r\n      </g>\r\n     </g>\r\n     <g id=\"text_36\">\r\n      <!-- 2214 -->\r\n      <g transform=\"translate(217.646242 417.436562)scale(0.1 -0.1)\">\r\n       <use xlink:href=\"#DejaVuSans-32\"/>\r\n       <use x=\"63.623047\" xlink:href=\"#DejaVuSans-32\"/>\r\n       <use x=\"127.246094\" xlink:href=\"#DejaVuSans-31\"/>\r\n       <use x=\"190.869141\" xlink:href=\"#DejaVuSans-34\"/>\r\n      </g>\r\n     </g>\r\n    </g>\r\n    <g id=\"xtick_37\">\r\n     <g id=\"line2d_37\">\r\n      <g>\r\n       <use style=\"stroke:#000000;stroke-width:0.8;\" x=\"238.057193\" xlink:href=\"#ma1f9dacb08\" y=\"402.838125\"/>\r\n      </g>\r\n     </g>\r\n     <g id=\"text_37\">\r\n      <!-- 2264 -->\r\n      <g transform=\"translate(225.332193 417.436562)scale(0.1 -0.1)\">\r\n       <use xlink:href=\"#DejaVuSans-32\"/>\r\n       <use x=\"63.623047\" xlink:href=\"#DejaVuSans-32\"/>\r\n       <use x=\"127.246094\" xlink:href=\"#DejaVuSans-36\"/>\r\n       <use x=\"190.869141\" xlink:href=\"#DejaVuSans-34\"/>\r\n      </g>\r\n     </g>\r\n    </g>\r\n    <g id=\"xtick_38\">\r\n     <g id=\"line2d_38\">\r\n      <g>\r\n       <use style=\"stroke:#000000;stroke-width:0.8;\" x=\"238.057193\" xlink:href=\"#ma1f9dacb08\" y=\"402.838125\"/>\r\n      </g>\r\n     </g>\r\n     <g id=\"text_38\">\r\n      <!-- 2264 -->\r\n      <g transform=\"translate(225.332193 417.436562)scale(0.1 -0.1)\">\r\n       <use xlink:href=\"#DejaVuSans-32\"/>\r\n       <use x=\"63.623047\" xlink:href=\"#DejaVuSans-32\"/>\r\n       <use x=\"127.246094\" xlink:href=\"#DejaVuSans-36\"/>\r\n       <use x=\"190.869141\" xlink:href=\"#DejaVuSans-34\"/>\r\n      </g>\r\n     </g>\r\n    </g>\r\n    <g id=\"xtick_39\">\r\n     <g id=\"line2d_39\">\r\n      <g>\r\n       <use style=\"stroke:#000000;stroke-width:0.8;\" x=\"245.743143\" xlink:href=\"#ma1f9dacb08\" y=\"402.838125\"/>\r\n      </g>\r\n     </g>\r\n     <g id=\"text_39\">\r\n      <!-- 6992 -->\r\n      <g transform=\"translate(233.018143 417.436562)scale(0.1 -0.1)\">\r\n       <use xlink:href=\"#DejaVuSans-36\"/>\r\n       <use x=\"63.623047\" xlink:href=\"#DejaVuSans-39\"/>\r\n       <use x=\"127.246094\" xlink:href=\"#DejaVuSans-39\"/>\r\n       <use x=\"190.869141\" xlink:href=\"#DejaVuSans-32\"/>\r\n      </g>\r\n     </g>\r\n    </g>\r\n    <g id=\"xtick_40\">\r\n     <g id=\"line2d_40\">\r\n      <g>\r\n       <use style=\"stroke:#000000;stroke-width:0.8;\" x=\"245.743143\" xlink:href=\"#ma1f9dacb08\" y=\"402.838125\"/>\r\n      </g>\r\n     </g>\r\n     <g id=\"text_40\">\r\n      <!-- 6992 -->\r\n      <g transform=\"translate(233.018143 417.436562)scale(0.1 -0.1)\">\r\n       <use xlink:href=\"#DejaVuSans-36\"/>\r\n       <use x=\"63.623047\" xlink:href=\"#DejaVuSans-39\"/>\r\n       <use x=\"127.246094\" xlink:href=\"#DejaVuSans-39\"/>\r\n       <use x=\"190.869141\" xlink:href=\"#DejaVuSans-32\"/>\r\n      </g>\r\n     </g>\r\n    </g>\r\n    <g id=\"xtick_41\">\r\n     <g id=\"line2d_41\">\r\n      <g>\r\n       <use style=\"stroke:#000000;stroke-width:0.8;\" x=\"253.429093\" xlink:href=\"#ma1f9dacb08\" y=\"402.838125\"/>\r\n      </g>\r\n     </g>\r\n     <g id=\"text_41\">\r\n      <!-- 7037 -->\r\n      <g transform=\"translate(240.704093 417.436562)scale(0.1 -0.1)\">\r\n       <use xlink:href=\"#DejaVuSans-37\"/>\r\n       <use x=\"63.623047\" xlink:href=\"#DejaVuSans-30\"/>\r\n       <use x=\"127.246094\" xlink:href=\"#DejaVuSans-33\"/>\r\n       <use x=\"190.869141\" xlink:href=\"#DejaVuSans-37\"/>\r\n      </g>\r\n     </g>\r\n    </g>\r\n    <g id=\"xtick_42\">\r\n     <g id=\"line2d_42\">\r\n      <g>\r\n       <use style=\"stroke:#000000;stroke-width:0.8;\" x=\"253.429093\" xlink:href=\"#ma1f9dacb08\" y=\"402.838125\"/>\r\n      </g>\r\n     </g>\r\n     <g id=\"text_42\">\r\n      <!-- 7037 -->\r\n      <g transform=\"translate(240.704093 417.436562)scale(0.1 -0.1)\">\r\n       <use xlink:href=\"#DejaVuSans-37\"/>\r\n       <use x=\"63.623047\" xlink:href=\"#DejaVuSans-30\"/>\r\n       <use x=\"127.246094\" xlink:href=\"#DejaVuSans-33\"/>\r\n       <use x=\"190.869141\" xlink:href=\"#DejaVuSans-37\"/>\r\n      </g>\r\n     </g>\r\n    </g>\r\n    <g id=\"xtick_43\">\r\n     <g id=\"line2d_43\">\r\n      <g>\r\n       <use style=\"stroke:#000000;stroke-width:0.8;\" x=\"261.115044\" xlink:href=\"#ma1f9dacb08\" y=\"402.838125\"/>\r\n      </g>\r\n     </g>\r\n     <g id=\"text_43\">\r\n      <!-- 7087 -->\r\n      <g transform=\"translate(248.390044 417.436562)scale(0.1 -0.1)\">\r\n       <use xlink:href=\"#DejaVuSans-37\"/>\r\n       <use x=\"63.623047\" xlink:href=\"#DejaVuSans-30\"/>\r\n       <use x=\"127.246094\" xlink:href=\"#DejaVuSans-38\"/>\r\n       <use x=\"190.869141\" xlink:href=\"#DejaVuSans-37\"/>\r\n      </g>\r\n     </g>\r\n    </g>\r\n    <g id=\"xtick_44\">\r\n     <g id=\"line2d_44\">\r\n      <g>\r\n       <use style=\"stroke:#000000;stroke-width:0.8;\" x=\"261.115044\" xlink:href=\"#ma1f9dacb08\" y=\"402.838125\"/>\r\n      </g>\r\n     </g>\r\n     <g id=\"text_44\">\r\n      <!-- 7087 -->\r\n      <g transform=\"translate(248.390044 417.436562)scale(0.1 -0.1)\">\r\n       <use xlink:href=\"#DejaVuSans-37\"/>\r\n       <use x=\"63.623047\" xlink:href=\"#DejaVuSans-30\"/>\r\n       <use x=\"127.246094\" xlink:href=\"#DejaVuSans-38\"/>\r\n       <use x=\"190.869141\" xlink:href=\"#DejaVuSans-37\"/>\r\n      </g>\r\n     </g>\r\n    </g>\r\n    <g id=\"xtick_45\">\r\n     <g id=\"line2d_45\">\r\n      <g>\r\n       <use style=\"stroke:#000000;stroke-width:0.8;\" x=\"268.800994\" xlink:href=\"#ma1f9dacb08\" y=\"402.838125\"/>\r\n      </g>\r\n     </g>\r\n     <g id=\"text_45\">\r\n      <!-- 7162 -->\r\n      <g transform=\"translate(256.075994 417.436562)scale(0.1 -0.1)\">\r\n       <use xlink:href=\"#DejaVuSans-37\"/>\r\n       <use x=\"63.623047\" xlink:href=\"#DejaVuSans-31\"/>\r\n       <use x=\"127.246094\" xlink:href=\"#DejaVuSans-36\"/>\r\n       <use x=\"190.869141\" xlink:href=\"#DejaVuSans-32\"/>\r\n      </g>\r\n     </g>\r\n    </g>\r\n    <g id=\"xtick_46\">\r\n     <g id=\"line2d_46\">\r\n      <g>\r\n       <use style=\"stroke:#000000;stroke-width:0.8;\" x=\"268.800994\" xlink:href=\"#ma1f9dacb08\" y=\"402.838125\"/>\r\n      </g>\r\n     </g>\r\n     <g id=\"text_46\">\r\n      <!-- 7162 -->\r\n      <g transform=\"translate(256.075994 417.436562)scale(0.1 -0.1)\">\r\n       <use xlink:href=\"#DejaVuSans-37\"/>\r\n       <use x=\"63.623047\" xlink:href=\"#DejaVuSans-31\"/>\r\n       <use x=\"127.246094\" xlink:href=\"#DejaVuSans-36\"/>\r\n       <use x=\"190.869141\" xlink:href=\"#DejaVuSans-32\"/>\r\n      </g>\r\n     </g>\r\n    </g>\r\n    <g id=\"xtick_47\">\r\n     <g id=\"line2d_47\">\r\n      <g>\r\n       <use style=\"stroke:#000000;stroke-width:0.8;\" x=\"276.486945\" xlink:href=\"#ma1f9dacb08\" y=\"402.838125\"/>\r\n      </g>\r\n     </g>\r\n     <g id=\"text_47\">\r\n      <!-- 7212 -->\r\n      <g transform=\"translate(263.761945 417.436562)scale(0.1 -0.1)\">\r\n       <use xlink:href=\"#DejaVuSans-37\"/>\r\n       <use x=\"63.623047\" xlink:href=\"#DejaVuSans-32\"/>\r\n       <use x=\"127.246094\" xlink:href=\"#DejaVuSans-31\"/>\r\n       <use x=\"190.869141\" xlink:href=\"#DejaVuSans-32\"/>\r\n      </g>\r\n     </g>\r\n    </g>\r\n    <g id=\"xtick_48\">\r\n     <g id=\"line2d_48\">\r\n      <g>\r\n       <use style=\"stroke:#000000;stroke-width:0.8;\" x=\"276.486945\" xlink:href=\"#ma1f9dacb08\" y=\"402.838125\"/>\r\n      </g>\r\n     </g>\r\n     <g id=\"text_48\">\r\n      <!-- 7212 -->\r\n      <g transform=\"translate(263.761945 417.436562)scale(0.1 -0.1)\">\r\n       <use xlink:href=\"#DejaVuSans-37\"/>\r\n       <use x=\"63.623047\" xlink:href=\"#DejaVuSans-32\"/>\r\n       <use x=\"127.246094\" xlink:href=\"#DejaVuSans-31\"/>\r\n       <use x=\"190.869141\" xlink:href=\"#DejaVuSans-32\"/>\r\n      </g>\r\n     </g>\r\n    </g>\r\n    <g id=\"xtick_49\">\r\n     <g id=\"line2d_49\">\r\n      <g>\r\n       <use style=\"stroke:#000000;stroke-width:0.8;\" x=\"284.172895\" xlink:href=\"#ma1f9dacb08\" y=\"402.838125\"/>\r\n      </g>\r\n     </g>\r\n     <g id=\"text_49\">\r\n      <!-- 7284 -->\r\n      <g transform=\"translate(271.447895 417.436562)scale(0.1 -0.1)\">\r\n       <use xlink:href=\"#DejaVuSans-37\"/>\r\n       <use x=\"63.623047\" xlink:href=\"#DejaVuSans-32\"/>\r\n       <use x=\"127.246094\" xlink:href=\"#DejaVuSans-38\"/>\r\n       <use x=\"190.869141\" xlink:href=\"#DejaVuSans-34\"/>\r\n      </g>\r\n     </g>\r\n    </g>\r\n    <g id=\"xtick_50\">\r\n     <g id=\"line2d_50\">\r\n      <g>\r\n       <use style=\"stroke:#000000;stroke-width:0.8;\" x=\"284.172895\" xlink:href=\"#ma1f9dacb08\" y=\"402.838125\"/>\r\n      </g>\r\n     </g>\r\n     <g id=\"text_50\">\r\n      <!-- 7284 -->\r\n      <g transform=\"translate(271.447895 417.436562)scale(0.1 -0.1)\">\r\n       <use xlink:href=\"#DejaVuSans-37\"/>\r\n       <use x=\"63.623047\" xlink:href=\"#DejaVuSans-32\"/>\r\n       <use x=\"127.246094\" xlink:href=\"#DejaVuSans-38\"/>\r\n       <use x=\"190.869141\" xlink:href=\"#DejaVuSans-34\"/>\r\n      </g>\r\n     </g>\r\n    </g>\r\n    <g id=\"xtick_51\">\r\n     <g id=\"line2d_51\">\r\n      <g>\r\n       <use style=\"stroke:#000000;stroke-width:0.8;\" x=\"291.858846\" xlink:href=\"#ma1f9dacb08\" y=\"402.838125\"/>\r\n      </g>\r\n     </g>\r\n     <g id=\"text_51\">\r\n      <!-- 7334 -->\r\n      <g transform=\"translate(279.133846 417.436562)scale(0.1 -0.1)\">\r\n       <use xlink:href=\"#DejaVuSans-37\"/>\r\n       <use x=\"63.623047\" xlink:href=\"#DejaVuSans-33\"/>\r\n       <use x=\"127.246094\" xlink:href=\"#DejaVuSans-33\"/>\r\n       <use x=\"190.869141\" xlink:href=\"#DejaVuSans-34\"/>\r\n      </g>\r\n     </g>\r\n    </g>\r\n    <g id=\"xtick_52\">\r\n     <g id=\"line2d_52\">\r\n      <g>\r\n       <use style=\"stroke:#000000;stroke-width:0.8;\" x=\"291.858846\" xlink:href=\"#ma1f9dacb08\" y=\"402.838125\"/>\r\n      </g>\r\n     </g>\r\n     <g id=\"text_52\">\r\n      <!-- 7334 -->\r\n      <g transform=\"translate(279.133846 417.436562)scale(0.1 -0.1)\">\r\n       <use xlink:href=\"#DejaVuSans-37\"/>\r\n       <use x=\"63.623047\" xlink:href=\"#DejaVuSans-33\"/>\r\n       <use x=\"127.246094\" xlink:href=\"#DejaVuSans-33\"/>\r\n       <use x=\"190.869141\" xlink:href=\"#DejaVuSans-34\"/>\r\n      </g>\r\n     </g>\r\n    </g>\r\n    <g id=\"xtick_53\">\r\n     <g id=\"line2d_53\">\r\n      <g>\r\n       <use style=\"stroke:#000000;stroke-width:0.8;\" x=\"299.544796\" xlink:href=\"#ma1f9dacb08\" y=\"402.838125\"/>\r\n      </g>\r\n     </g>\r\n     <g id=\"text_53\">\r\n      <!-- 7384 -->\r\n      <g transform=\"translate(286.819796 417.436562)scale(0.1 -0.1)\">\r\n       <use xlink:href=\"#DejaVuSans-37\"/>\r\n       <use x=\"63.623047\" xlink:href=\"#DejaVuSans-33\"/>\r\n       <use x=\"127.246094\" xlink:href=\"#DejaVuSans-38\"/>\r\n       <use x=\"190.869141\" xlink:href=\"#DejaVuSans-34\"/>\r\n      </g>\r\n     </g>\r\n    </g>\r\n    <g id=\"xtick_54\">\r\n     <g id=\"line2d_54\">\r\n      <g>\r\n       <use style=\"stroke:#000000;stroke-width:0.8;\" x=\"299.544796\" xlink:href=\"#ma1f9dacb08\" y=\"402.838125\"/>\r\n      </g>\r\n     </g>\r\n     <g id=\"text_54\">\r\n      <!-- 7384 -->\r\n      <g transform=\"translate(286.819796 417.436562)scale(0.1 -0.1)\">\r\n       <use xlink:href=\"#DejaVuSans-37\"/>\r\n       <use x=\"63.623047\" xlink:href=\"#DejaVuSans-33\"/>\r\n       <use x=\"127.246094\" xlink:href=\"#DejaVuSans-38\"/>\r\n       <use x=\"190.869141\" xlink:href=\"#DejaVuSans-34\"/>\r\n      </g>\r\n     </g>\r\n    </g>\r\n    <g id=\"xtick_55\">\r\n     <g id=\"line2d_55\">\r\n      <g>\r\n       <use style=\"stroke:#000000;stroke-width:0.8;\" x=\"307.230746\" xlink:href=\"#ma1f9dacb08\" y=\"402.838125\"/>\r\n      </g>\r\n     </g>\r\n     <g id=\"text_55\">\r\n      <!-- 7434 -->\r\n      <g transform=\"translate(294.505746 417.436562)scale(0.1 -0.1)\">\r\n       <use xlink:href=\"#DejaVuSans-37\"/>\r\n       <use x=\"63.623047\" xlink:href=\"#DejaVuSans-34\"/>\r\n       <use x=\"127.246094\" xlink:href=\"#DejaVuSans-33\"/>\r\n       <use x=\"190.869141\" xlink:href=\"#DejaVuSans-34\"/>\r\n      </g>\r\n     </g>\r\n    </g>\r\n    <g id=\"xtick_56\">\r\n     <g id=\"line2d_56\">\r\n      <g>\r\n       <use style=\"stroke:#000000;stroke-width:0.8;\" x=\"307.230746\" xlink:href=\"#ma1f9dacb08\" y=\"402.838125\"/>\r\n      </g>\r\n     </g>\r\n     <g id=\"text_56\">\r\n      <!-- 7434 -->\r\n      <g transform=\"translate(294.505746 417.436562)scale(0.1 -0.1)\">\r\n       <use xlink:href=\"#DejaVuSans-37\"/>\r\n       <use x=\"63.623047\" xlink:href=\"#DejaVuSans-34\"/>\r\n       <use x=\"127.246094\" xlink:href=\"#DejaVuSans-33\"/>\r\n       <use x=\"190.869141\" xlink:href=\"#DejaVuSans-34\"/>\r\n      </g>\r\n     </g>\r\n    </g>\r\n    <g id=\"xtick_57\">\r\n     <g id=\"line2d_57\">\r\n      <g>\r\n       <use style=\"stroke:#000000;stroke-width:0.8;\" x=\"314.916697\" xlink:href=\"#ma1f9dacb08\" y=\"402.838125\"/>\r\n      </g>\r\n     </g>\r\n     <g id=\"text_57\">\r\n      <!-- 7484 -->\r\n      <g transform=\"translate(302.191697 417.436562)scale(0.1 -0.1)\">\r\n       <use xlink:href=\"#DejaVuSans-37\"/>\r\n       <use x=\"63.623047\" xlink:href=\"#DejaVuSans-34\"/>\r\n       <use x=\"127.246094\" xlink:href=\"#DejaVuSans-38\"/>\r\n       <use x=\"190.869141\" xlink:href=\"#DejaVuSans-34\"/>\r\n      </g>\r\n     </g>\r\n    </g>\r\n    <g id=\"xtick_58\">\r\n     <g id=\"line2d_58\">\r\n      <g>\r\n       <use style=\"stroke:#000000;stroke-width:0.8;\" x=\"314.916697\" xlink:href=\"#ma1f9dacb08\" y=\"402.838125\"/>\r\n      </g>\r\n     </g>\r\n     <g id=\"text_58\">\r\n      <!-- 7484 -->\r\n      <g transform=\"translate(302.191697 417.436562)scale(0.1 -0.1)\">\r\n       <use xlink:href=\"#DejaVuSans-37\"/>\r\n       <use x=\"63.623047\" xlink:href=\"#DejaVuSans-34\"/>\r\n       <use x=\"127.246094\" xlink:href=\"#DejaVuSans-38\"/>\r\n       <use x=\"190.869141\" xlink:href=\"#DejaVuSans-34\"/>\r\n      </g>\r\n     </g>\r\n    </g>\r\n    <g id=\"xtick_59\">\r\n     <g id=\"line2d_59\">\r\n      <g>\r\n       <use style=\"stroke:#000000;stroke-width:0.8;\" x=\"322.602647\" xlink:href=\"#ma1f9dacb08\" y=\"402.838125\"/>\r\n      </g>\r\n     </g>\r\n     <g id=\"text_59\">\r\n      <!-- 7534 -->\r\n      <g transform=\"translate(309.877647 417.436562)scale(0.1 -0.1)\">\r\n       <use xlink:href=\"#DejaVuSans-37\"/>\r\n       <use x=\"63.623047\" xlink:href=\"#DejaVuSans-35\"/>\r\n       <use x=\"127.246094\" xlink:href=\"#DejaVuSans-33\"/>\r\n       <use x=\"190.869141\" xlink:href=\"#DejaVuSans-34\"/>\r\n      </g>\r\n     </g>\r\n    </g>\r\n    <g id=\"xtick_60\">\r\n     <g id=\"line2d_60\">\r\n      <g>\r\n       <use style=\"stroke:#000000;stroke-width:0.8;\" x=\"322.602647\" xlink:href=\"#ma1f9dacb08\" y=\"402.838125\"/>\r\n      </g>\r\n     </g>\r\n     <g id=\"text_60\">\r\n      <!-- 7534 -->\r\n      <g transform=\"translate(309.877647 417.436562)scale(0.1 -0.1)\">\r\n       <use xlink:href=\"#DejaVuSans-37\"/>\r\n       <use x=\"63.623047\" xlink:href=\"#DejaVuSans-35\"/>\r\n       <use x=\"127.246094\" xlink:href=\"#DejaVuSans-33\"/>\r\n       <use x=\"190.869141\" xlink:href=\"#DejaVuSans-34\"/>\r\n      </g>\r\n     </g>\r\n    </g>\r\n    <g id=\"xtick_61\">\r\n     <g id=\"line2d_61\">\r\n      <g>\r\n       <use style=\"stroke:#000000;stroke-width:0.8;\" x=\"330.288598\" xlink:href=\"#ma1f9dacb08\" y=\"402.838125\"/>\r\n      </g>\r\n     </g>\r\n     <g id=\"text_61\">\r\n      <!-- 7584 -->\r\n      <g transform=\"translate(317.563598 417.436562)scale(0.1 -0.1)\">\r\n       <use xlink:href=\"#DejaVuSans-37\"/>\r\n       <use x=\"63.623047\" xlink:href=\"#DejaVuSans-35\"/>\r\n       <use x=\"127.246094\" xlink:href=\"#DejaVuSans-38\"/>\r\n       <use x=\"190.869141\" xlink:href=\"#DejaVuSans-34\"/>\r\n      </g>\r\n     </g>\r\n    </g>\r\n    <g id=\"xtick_62\">\r\n     <g id=\"line2d_62\">\r\n      <g>\r\n       <use style=\"stroke:#000000;stroke-width:0.8;\" x=\"330.288598\" xlink:href=\"#ma1f9dacb08\" y=\"402.838125\"/>\r\n      </g>\r\n     </g>\r\n     <g id=\"text_62\">\r\n      <!-- 7584 -->\r\n      <g transform=\"translate(317.563598 417.436562)scale(0.1 -0.1)\">\r\n       <use xlink:href=\"#DejaVuSans-37\"/>\r\n       <use x=\"63.623047\" xlink:href=\"#DejaVuSans-35\"/>\r\n       <use x=\"127.246094\" xlink:href=\"#DejaVuSans-38\"/>\r\n       <use x=\"190.869141\" xlink:href=\"#DejaVuSans-34\"/>\r\n      </g>\r\n     </g>\r\n    </g>\r\n    <g id=\"xtick_63\">\r\n     <g id=\"line2d_63\">\r\n      <g>\r\n       <use style=\"stroke:#000000;stroke-width:0.8;\" x=\"337.974548\" xlink:href=\"#ma1f9dacb08\" y=\"402.838125\"/>\r\n      </g>\r\n     </g>\r\n     <g id=\"text_63\">\r\n      <!-- 7634 -->\r\n      <g transform=\"translate(325.249548 417.436562)scale(0.1 -0.1)\">\r\n       <use xlink:href=\"#DejaVuSans-37\"/>\r\n       <use x=\"63.623047\" xlink:href=\"#DejaVuSans-36\"/>\r\n       <use x=\"127.246094\" xlink:href=\"#DejaVuSans-33\"/>\r\n       <use x=\"190.869141\" xlink:href=\"#DejaVuSans-34\"/>\r\n      </g>\r\n     </g>\r\n    </g>\r\n    <g id=\"xtick_64\">\r\n     <g id=\"line2d_64\">\r\n      <g>\r\n       <use style=\"stroke:#000000;stroke-width:0.8;\" x=\"337.974548\" xlink:href=\"#ma1f9dacb08\" y=\"402.838125\"/>\r\n      </g>\r\n     </g>\r\n     <g id=\"text_64\">\r\n      <!-- 7634 -->\r\n      <g transform=\"translate(325.249548 417.436562)scale(0.1 -0.1)\">\r\n       <use xlink:href=\"#DejaVuSans-37\"/>\r\n       <use x=\"63.623047\" xlink:href=\"#DejaVuSans-36\"/>\r\n       <use x=\"127.246094\" xlink:href=\"#DejaVuSans-33\"/>\r\n       <use x=\"190.869141\" xlink:href=\"#DejaVuSans-34\"/>\r\n      </g>\r\n     </g>\r\n    </g>\r\n    <g id=\"xtick_65\">\r\n     <g id=\"line2d_65\">\r\n      <g>\r\n       <use style=\"stroke:#000000;stroke-width:0.8;\" x=\"345.660498\" xlink:href=\"#ma1f9dacb08\" y=\"402.838125\"/>\r\n      </g>\r\n     </g>\r\n     <g id=\"text_65\">\r\n      <!-- 7720 -->\r\n      <g transform=\"translate(332.935498 417.436562)scale(0.1 -0.1)\">\r\n       <use xlink:href=\"#DejaVuSans-37\"/>\r\n       <use x=\"63.623047\" xlink:href=\"#DejaVuSans-37\"/>\r\n       <use x=\"127.246094\" xlink:href=\"#DejaVuSans-32\"/>\r\n       <use x=\"190.869141\" xlink:href=\"#DejaVuSans-30\"/>\r\n      </g>\r\n     </g>\r\n    </g>\r\n    <g id=\"xtick_66\">\r\n     <g id=\"line2d_66\">\r\n      <g>\r\n       <use style=\"stroke:#000000;stroke-width:0.8;\" x=\"345.660498\" xlink:href=\"#ma1f9dacb08\" y=\"402.838125\"/>\r\n      </g>\r\n     </g>\r\n     <g id=\"text_66\">\r\n      <!-- 7720 -->\r\n      <g transform=\"translate(332.935498 417.436562)scale(0.1 -0.1)\">\r\n       <use xlink:href=\"#DejaVuSans-37\"/>\r\n       <use x=\"63.623047\" xlink:href=\"#DejaVuSans-37\"/>\r\n       <use x=\"127.246094\" xlink:href=\"#DejaVuSans-32\"/>\r\n       <use x=\"190.869141\" xlink:href=\"#DejaVuSans-30\"/>\r\n      </g>\r\n     </g>\r\n    </g>\r\n    <g id=\"xtick_67\">\r\n     <g id=\"line2d_67\">\r\n      <g>\r\n       <use style=\"stroke:#000000;stroke-width:0.8;\" x=\"353.346449\" xlink:href=\"#ma1f9dacb08\" y=\"402.838125\"/>\r\n      </g>\r\n     </g>\r\n     <g id=\"text_67\">\r\n      <!-- 7770 -->\r\n      <g transform=\"translate(340.621449 417.436562)scale(0.1 -0.1)\">\r\n       <use xlink:href=\"#DejaVuSans-37\"/>\r\n       <use x=\"63.623047\" xlink:href=\"#DejaVuSans-37\"/>\r\n       <use x=\"127.246094\" xlink:href=\"#DejaVuSans-37\"/>\r\n       <use x=\"190.869141\" xlink:href=\"#DejaVuSans-30\"/>\r\n      </g>\r\n     </g>\r\n    </g>\r\n    <g id=\"xtick_68\">\r\n     <g id=\"line2d_68\">\r\n      <g>\r\n       <use style=\"stroke:#000000;stroke-width:0.8;\" x=\"353.346449\" xlink:href=\"#ma1f9dacb08\" y=\"402.838125\"/>\r\n      </g>\r\n     </g>\r\n     <g id=\"text_68\">\r\n      <!-- 7770 -->\r\n      <g transform=\"translate(340.621449 417.436562)scale(0.1 -0.1)\">\r\n       <use xlink:href=\"#DejaVuSans-37\"/>\r\n       <use x=\"63.623047\" xlink:href=\"#DejaVuSans-37\"/>\r\n       <use x=\"127.246094\" xlink:href=\"#DejaVuSans-37\"/>\r\n       <use x=\"190.869141\" xlink:href=\"#DejaVuSans-30\"/>\r\n      </g>\r\n     </g>\r\n    </g>\r\n    <g id=\"xtick_69\">\r\n     <g id=\"line2d_69\">\r\n      <g>\r\n       <use style=\"stroke:#000000;stroke-width:0.8;\" x=\"361.032399\" xlink:href=\"#ma1f9dacb08\" y=\"402.838125\"/>\r\n      </g>\r\n     </g>\r\n     <g id=\"text_69\">\r\n      <!-- 7811 -->\r\n      <g transform=\"translate(348.307399 417.436562)scale(0.1 -0.1)\">\r\n       <use xlink:href=\"#DejaVuSans-37\"/>\r\n       <use x=\"63.623047\" xlink:href=\"#DejaVuSans-38\"/>\r\n       <use x=\"127.246094\" xlink:href=\"#DejaVuSans-31\"/>\r\n       <use x=\"190.869141\" xlink:href=\"#DejaVuSans-31\"/>\r\n      </g>\r\n     </g>\r\n    </g>\r\n    <g id=\"xtick_70\">\r\n     <g id=\"line2d_70\">\r\n      <g>\r\n       <use style=\"stroke:#000000;stroke-width:0.8;\" x=\"361.032399\" xlink:href=\"#ma1f9dacb08\" y=\"402.838125\"/>\r\n      </g>\r\n     </g>\r\n     <g id=\"text_70\">\r\n      <!-- 7811 -->\r\n      <g transform=\"translate(348.307399 417.436562)scale(0.1 -0.1)\">\r\n       <use xlink:href=\"#DejaVuSans-37\"/>\r\n       <use x=\"63.623047\" xlink:href=\"#DejaVuSans-38\"/>\r\n       <use x=\"127.246094\" xlink:href=\"#DejaVuSans-31\"/>\r\n       <use x=\"190.869141\" xlink:href=\"#DejaVuSans-31\"/>\r\n      </g>\r\n     </g>\r\n    </g>\r\n    <g id=\"xtick_71\">\r\n     <g id=\"line2d_71\">\r\n      <g>\r\n       <use style=\"stroke:#000000;stroke-width:0.8;\" x=\"368.71835\" xlink:href=\"#ma1f9dacb08\" y=\"402.838125\"/>\r\n      </g>\r\n     </g>\r\n     <g id=\"text_71\">\r\n      <!-- 8112 -->\r\n      <g transform=\"translate(355.99335 417.436562)scale(0.1 -0.1)\">\r\n       <use xlink:href=\"#DejaVuSans-38\"/>\r\n       <use x=\"63.623047\" xlink:href=\"#DejaVuSans-31\"/>\r\n       <use x=\"127.246094\" xlink:href=\"#DejaVuSans-31\"/>\r\n       <use x=\"190.869141\" xlink:href=\"#DejaVuSans-32\"/>\r\n      </g>\r\n     </g>\r\n    </g>\r\n    <g id=\"xtick_72\">\r\n     <g id=\"line2d_72\">\r\n      <g>\r\n       <use style=\"stroke:#000000;stroke-width:0.8;\" x=\"368.71835\" xlink:href=\"#ma1f9dacb08\" y=\"402.838125\"/>\r\n      </g>\r\n     </g>\r\n     <g id=\"text_72\">\r\n      <!-- 8112 -->\r\n      <g transform=\"translate(355.99335 417.436562)scale(0.1 -0.1)\">\r\n       <use xlink:href=\"#DejaVuSans-38\"/>\r\n       <use x=\"63.623047\" xlink:href=\"#DejaVuSans-31\"/>\r\n       <use x=\"127.246094\" xlink:href=\"#DejaVuSans-31\"/>\r\n       <use x=\"190.869141\" xlink:href=\"#DejaVuSans-32\"/>\r\n      </g>\r\n     </g>\r\n    </g>\r\n    <g id=\"xtick_73\">\r\n     <g id=\"line2d_73\">\r\n      <g>\r\n       <use style=\"stroke:#000000;stroke-width:0.8;\" x=\"376.4043\" xlink:href=\"#ma1f9dacb08\" y=\"402.838125\"/>\r\n      </g>\r\n     </g>\r\n     <g id=\"text_73\">\r\n      <!-- 8162 -->\r\n      <g transform=\"translate(363.6793 417.436562)scale(0.1 -0.1)\">\r\n       <use xlink:href=\"#DejaVuSans-38\"/>\r\n       <use x=\"63.623047\" xlink:href=\"#DejaVuSans-31\"/>\r\n       <use x=\"127.246094\" xlink:href=\"#DejaVuSans-36\"/>\r\n       <use x=\"190.869141\" xlink:href=\"#DejaVuSans-32\"/>\r\n      </g>\r\n     </g>\r\n    </g>\r\n    <g id=\"xtick_74\">\r\n     <g id=\"line2d_74\">\r\n      <g>\r\n       <use style=\"stroke:#000000;stroke-width:0.8;\" x=\"376.4043\" xlink:href=\"#ma1f9dacb08\" y=\"402.838125\"/>\r\n      </g>\r\n     </g>\r\n     <g id=\"text_74\">\r\n      <!-- 8162 -->\r\n      <g transform=\"translate(363.6793 417.436562)scale(0.1 -0.1)\">\r\n       <use xlink:href=\"#DejaVuSans-38\"/>\r\n       <use x=\"63.623047\" xlink:href=\"#DejaVuSans-31\"/>\r\n       <use x=\"127.246094\" xlink:href=\"#DejaVuSans-36\"/>\r\n       <use x=\"190.869141\" xlink:href=\"#DejaVuSans-32\"/>\r\n      </g>\r\n     </g>\r\n    </g>\r\n    <g id=\"xtick_75\">\r\n     <g id=\"line2d_75\">\r\n      <g>\r\n       <use style=\"stroke:#000000;stroke-width:0.8;\" x=\"384.090251\" xlink:href=\"#ma1f9dacb08\" y=\"402.838125\"/>\r\n      </g>\r\n     </g>\r\n     <g id=\"text_75\">\r\n      <!-- 8212 -->\r\n      <g transform=\"translate(371.365251 417.436562)scale(0.1 -0.1)\">\r\n       <use xlink:href=\"#DejaVuSans-38\"/>\r\n       <use x=\"63.623047\" xlink:href=\"#DejaVuSans-32\"/>\r\n       <use x=\"127.246094\" xlink:href=\"#DejaVuSans-31\"/>\r\n       <use x=\"190.869141\" xlink:href=\"#DejaVuSans-32\"/>\r\n      </g>\r\n     </g>\r\n    </g>\r\n    <g id=\"xtick_76\">\r\n     <g id=\"line2d_76\">\r\n      <g>\r\n       <use style=\"stroke:#000000;stroke-width:0.8;\" x=\"384.090251\" xlink:href=\"#ma1f9dacb08\" y=\"402.838125\"/>\r\n      </g>\r\n     </g>\r\n     <g id=\"text_76\">\r\n      <!-- 8212 -->\r\n      <g transform=\"translate(371.365251 417.436562)scale(0.1 -0.1)\">\r\n       <use xlink:href=\"#DejaVuSans-38\"/>\r\n       <use x=\"63.623047\" xlink:href=\"#DejaVuSans-32\"/>\r\n       <use x=\"127.246094\" xlink:href=\"#DejaVuSans-31\"/>\r\n       <use x=\"190.869141\" xlink:href=\"#DejaVuSans-32\"/>\r\n      </g>\r\n     </g>\r\n    </g>\r\n    <g id=\"xtick_77\">\r\n     <g id=\"line2d_77\">\r\n      <g>\r\n       <use style=\"stroke:#000000;stroke-width:0.8;\" x=\"391.776201\" xlink:href=\"#ma1f9dacb08\" y=\"402.838125\"/>\r\n      </g>\r\n     </g>\r\n     <g id=\"text_77\">\r\n      <!-- 8262 -->\r\n      <g transform=\"translate(379.051201 417.436562)scale(0.1 -0.1)\">\r\n       <use xlink:href=\"#DejaVuSans-38\"/>\r\n       <use x=\"63.623047\" xlink:href=\"#DejaVuSans-32\"/>\r\n       <use x=\"127.246094\" xlink:href=\"#DejaVuSans-36\"/>\r\n       <use x=\"190.869141\" xlink:href=\"#DejaVuSans-32\"/>\r\n      </g>\r\n     </g>\r\n    </g>\r\n    <g id=\"xtick_78\">\r\n     <g id=\"line2d_78\">\r\n      <g>\r\n       <use style=\"stroke:#000000;stroke-width:0.8;\" x=\"391.776201\" xlink:href=\"#ma1f9dacb08\" y=\"402.838125\"/>\r\n      </g>\r\n     </g>\r\n     <g id=\"text_78\">\r\n      <!-- 8262 -->\r\n      <g transform=\"translate(379.051201 417.436562)scale(0.1 -0.1)\">\r\n       <use xlink:href=\"#DejaVuSans-38\"/>\r\n       <use x=\"63.623047\" xlink:href=\"#DejaVuSans-32\"/>\r\n       <use x=\"127.246094\" xlink:href=\"#DejaVuSans-36\"/>\r\n       <use x=\"190.869141\" xlink:href=\"#DejaVuSans-32\"/>\r\n      </g>\r\n     </g>\r\n    </g>\r\n    <g id=\"xtick_79\">\r\n     <g id=\"line2d_79\">\r\n      <g>\r\n       <use style=\"stroke:#000000;stroke-width:0.8;\" x=\"399.462151\" xlink:href=\"#ma1f9dacb08\" y=\"402.838125\"/>\r\n      </g>\r\n     </g>\r\n     <g id=\"text_79\">\r\n      <!-- 8312 -->\r\n      <g transform=\"translate(386.737151 417.436562)scale(0.1 -0.1)\">\r\n       <use xlink:href=\"#DejaVuSans-38\"/>\r\n       <use x=\"63.623047\" xlink:href=\"#DejaVuSans-33\"/>\r\n       <use x=\"127.246094\" xlink:href=\"#DejaVuSans-31\"/>\r\n       <use x=\"190.869141\" xlink:href=\"#DejaVuSans-32\"/>\r\n      </g>\r\n     </g>\r\n    </g>\r\n    <g id=\"xtick_80\">\r\n     <g id=\"line2d_80\">\r\n      <g>\r\n       <use style=\"stroke:#000000;stroke-width:0.8;\" x=\"399.462151\" xlink:href=\"#ma1f9dacb08\" y=\"402.838125\"/>\r\n      </g>\r\n     </g>\r\n     <g id=\"text_80\">\r\n      <!-- 8312 -->\r\n      <g transform=\"translate(386.737151 417.436562)scale(0.1 -0.1)\">\r\n       <use xlink:href=\"#DejaVuSans-38\"/>\r\n       <use x=\"63.623047\" xlink:href=\"#DejaVuSans-33\"/>\r\n       <use x=\"127.246094\" xlink:href=\"#DejaVuSans-31\"/>\r\n       <use x=\"190.869141\" xlink:href=\"#DejaVuSans-32\"/>\r\n      </g>\r\n     </g>\r\n    </g>\r\n    <g id=\"xtick_81\">\r\n     <g id=\"line2d_81\">\r\n      <g>\r\n       <use style=\"stroke:#000000;stroke-width:0.8;\" x=\"407.148102\" xlink:href=\"#ma1f9dacb08\" y=\"402.838125\"/>\r\n      </g>\r\n     </g>\r\n     <g id=\"text_81\">\r\n      <!-- 8362 -->\r\n      <g transform=\"translate(394.423102 417.436562)scale(0.1 -0.1)\">\r\n       <use xlink:href=\"#DejaVuSans-38\"/>\r\n       <use x=\"63.623047\" xlink:href=\"#DejaVuSans-33\"/>\r\n       <use x=\"127.246094\" xlink:href=\"#DejaVuSans-36\"/>\r\n       <use x=\"190.869141\" xlink:href=\"#DejaVuSans-32\"/>\r\n      </g>\r\n     </g>\r\n    </g>\r\n    <g id=\"xtick_82\">\r\n     <g id=\"line2d_82\">\r\n      <g>\r\n       <use style=\"stroke:#000000;stroke-width:0.8;\" x=\"407.148102\" xlink:href=\"#ma1f9dacb08\" y=\"402.838125\"/>\r\n      </g>\r\n     </g>\r\n     <g id=\"text_82\">\r\n      <!-- 8362 -->\r\n      <g transform=\"translate(394.423102 417.436562)scale(0.1 -0.1)\">\r\n       <use xlink:href=\"#DejaVuSans-38\"/>\r\n       <use x=\"63.623047\" xlink:href=\"#DejaVuSans-33\"/>\r\n       <use x=\"127.246094\" xlink:href=\"#DejaVuSans-36\"/>\r\n       <use x=\"190.869141\" xlink:href=\"#DejaVuSans-32\"/>\r\n      </g>\r\n     </g>\r\n    </g>\r\n    <g id=\"xtick_83\">\r\n     <g id=\"line2d_83\">\r\n      <g>\r\n       <use style=\"stroke:#000000;stroke-width:0.8;\" x=\"414.834052\" xlink:href=\"#ma1f9dacb08\" y=\"402.838125\"/>\r\n      </g>\r\n     </g>\r\n     <g id=\"text_83\">\r\n      <!-- 8562 -->\r\n      <g transform=\"translate(402.109052 417.436562)scale(0.1 -0.1)\">\r\n       <use xlink:href=\"#DejaVuSans-38\"/>\r\n       <use x=\"63.623047\" xlink:href=\"#DejaVuSans-35\"/>\r\n       <use x=\"127.246094\" xlink:href=\"#DejaVuSans-36\"/>\r\n       <use x=\"190.869141\" xlink:href=\"#DejaVuSans-32\"/>\r\n      </g>\r\n     </g>\r\n    </g>\r\n    <g id=\"xtick_84\">\r\n     <g id=\"line2d_84\">\r\n      <g>\r\n       <use style=\"stroke:#000000;stroke-width:0.8;\" x=\"414.834052\" xlink:href=\"#ma1f9dacb08\" y=\"402.838125\"/>\r\n      </g>\r\n     </g>\r\n     <g id=\"text_84\">\r\n      <!-- 8562 -->\r\n      <g transform=\"translate(402.109052 417.436562)scale(0.1 -0.1)\">\r\n       <use xlink:href=\"#DejaVuSans-38\"/>\r\n       <use x=\"63.623047\" xlink:href=\"#DejaVuSans-35\"/>\r\n       <use x=\"127.246094\" xlink:href=\"#DejaVuSans-36\"/>\r\n       <use x=\"190.869141\" xlink:href=\"#DejaVuSans-32\"/>\r\n      </g>\r\n     </g>\r\n    </g>\r\n    <g id=\"xtick_85\">\r\n     <g id=\"line2d_85\">\r\n      <g>\r\n       <use style=\"stroke:#000000;stroke-width:0.8;\" x=\"422.520003\" xlink:href=\"#ma1f9dacb08\" y=\"402.838125\"/>\r\n      </g>\r\n     </g>\r\n     <g id=\"text_85\">\r\n      <!-- 2283 -->\r\n      <g transform=\"translate(409.795003 417.436562)scale(0.1 -0.1)\">\r\n       <use xlink:href=\"#DejaVuSans-32\"/>\r\n       <use x=\"63.623047\" xlink:href=\"#DejaVuSans-32\"/>\r\n       <use x=\"127.246094\" xlink:href=\"#DejaVuSans-38\"/>\r\n       <use x=\"190.869141\" xlink:href=\"#DejaVuSans-33\"/>\r\n      </g>\r\n     </g>\r\n    </g>\r\n    <g id=\"xtick_86\">\r\n     <g id=\"line2d_86\">\r\n      <g>\r\n       <use style=\"stroke:#000000;stroke-width:0.8;\" x=\"422.520003\" xlink:href=\"#ma1f9dacb08\" y=\"402.838125\"/>\r\n      </g>\r\n     </g>\r\n     <g id=\"text_86\">\r\n      <!-- 2283 -->\r\n      <g transform=\"translate(409.795003 417.436562)scale(0.1 -0.1)\">\r\n       <use xlink:href=\"#DejaVuSans-32\"/>\r\n       <use x=\"63.623047\" xlink:href=\"#DejaVuSans-32\"/>\r\n       <use x=\"127.246094\" xlink:href=\"#DejaVuSans-38\"/>\r\n       <use x=\"190.869141\" xlink:href=\"#DejaVuSans-33\"/>\r\n      </g>\r\n     </g>\r\n    </g>\r\n    <g id=\"xtick_87\">\r\n     <g id=\"line2d_87\">\r\n      <g>\r\n       <use style=\"stroke:#000000;stroke-width:0.8;\" x=\"430.205953\" xlink:href=\"#ma1f9dacb08\" y=\"402.838125\"/>\r\n      </g>\r\n     </g>\r\n     <g id=\"text_87\">\r\n      <!-- 2288 -->\r\n      <g transform=\"translate(417.480953 417.436562)scale(0.1 -0.1)\">\r\n       <use xlink:href=\"#DejaVuSans-32\"/>\r\n       <use x=\"63.623047\" xlink:href=\"#DejaVuSans-32\"/>\r\n       <use x=\"127.246094\" xlink:href=\"#DejaVuSans-38\"/>\r\n       <use x=\"190.869141\" xlink:href=\"#DejaVuSans-38\"/>\r\n      </g>\r\n     </g>\r\n    </g>\r\n    <g id=\"xtick_88\">\r\n     <g id=\"line2d_88\">\r\n      <g>\r\n       <use style=\"stroke:#000000;stroke-width:0.8;\" x=\"430.205953\" xlink:href=\"#ma1f9dacb08\" y=\"402.838125\"/>\r\n      </g>\r\n     </g>\r\n     <g id=\"text_88\">\r\n      <!-- 2288 -->\r\n      <g transform=\"translate(417.480953 417.436562)scale(0.1 -0.1)\">\r\n       <use xlink:href=\"#DejaVuSans-32\"/>\r\n       <use x=\"63.623047\" xlink:href=\"#DejaVuSans-32\"/>\r\n       <use x=\"127.246094\" xlink:href=\"#DejaVuSans-38\"/>\r\n       <use x=\"190.869141\" xlink:href=\"#DejaVuSans-38\"/>\r\n      </g>\r\n     </g>\r\n    </g>\r\n    <g id=\"xtick_89\">\r\n     <g id=\"line2d_89\">\r\n      <g>\r\n       <use style=\"stroke:#000000;stroke-width:0.8;\" x=\"437.891903\" xlink:href=\"#ma1f9dacb08\" y=\"402.838125\"/>\r\n      </g>\r\n     </g>\r\n     <g id=\"text_89\">\r\n      <!-- 2293 -->\r\n      <g transform=\"translate(425.166903 417.436562)scale(0.1 -0.1)\">\r\n       <use xlink:href=\"#DejaVuSans-32\"/>\r\n       <use x=\"63.623047\" xlink:href=\"#DejaVuSans-32\"/>\r\n       <use x=\"127.246094\" xlink:href=\"#DejaVuSans-39\"/>\r\n       <use x=\"190.869141\" xlink:href=\"#DejaVuSans-33\"/>\r\n      </g>\r\n     </g>\r\n    </g>\r\n    <g id=\"xtick_90\">\r\n     <g id=\"line2d_90\">\r\n      <g>\r\n       <use style=\"stroke:#000000;stroke-width:0.8;\" x=\"437.891903\" xlink:href=\"#ma1f9dacb08\" y=\"402.838125\"/>\r\n      </g>\r\n     </g>\r\n     <g id=\"text_90\">\r\n      <!-- 2293 -->\r\n      <g transform=\"translate(425.166903 417.436562)scale(0.1 -0.1)\">\r\n       <use xlink:href=\"#DejaVuSans-32\"/>\r\n       <use x=\"63.623047\" xlink:href=\"#DejaVuSans-32\"/>\r\n       <use x=\"127.246094\" xlink:href=\"#DejaVuSans-39\"/>\r\n       <use x=\"190.869141\" xlink:href=\"#DejaVuSans-33\"/>\r\n      </g>\r\n     </g>\r\n    </g>\r\n    <g id=\"xtick_91\">\r\n     <g id=\"line2d_91\">\r\n      <g>\r\n       <use style=\"stroke:#000000;stroke-width:0.8;\" x=\"445.577854\" xlink:href=\"#ma1f9dacb08\" y=\"402.838125\"/>\r\n      </g>\r\n     </g>\r\n     <g id=\"text_91\">\r\n      <!-- 2301 -->\r\n      <g transform=\"translate(432.852854 417.436562)scale(0.1 -0.1)\">\r\n       <use xlink:href=\"#DejaVuSans-32\"/>\r\n       <use x=\"63.623047\" xlink:href=\"#DejaVuSans-33\"/>\r\n       <use x=\"127.246094\" xlink:href=\"#DejaVuSans-30\"/>\r\n       <use x=\"190.869141\" xlink:href=\"#DejaVuSans-31\"/>\r\n      </g>\r\n     </g>\r\n    </g>\r\n    <g id=\"xtick_92\">\r\n     <g id=\"line2d_92\">\r\n      <g>\r\n       <use style=\"stroke:#000000;stroke-width:0.8;\" x=\"445.577854\" xlink:href=\"#ma1f9dacb08\" y=\"402.838125\"/>\r\n      </g>\r\n     </g>\r\n     <g id=\"text_92\">\r\n      <!-- 2301 -->\r\n      <g transform=\"translate(432.852854 417.436562)scale(0.1 -0.1)\">\r\n       <use xlink:href=\"#DejaVuSans-32\"/>\r\n       <use x=\"63.623047\" xlink:href=\"#DejaVuSans-33\"/>\r\n       <use x=\"127.246094\" xlink:href=\"#DejaVuSans-30\"/>\r\n       <use x=\"190.869141\" xlink:href=\"#DejaVuSans-31\"/>\r\n      </g>\r\n     </g>\r\n    </g>\r\n    <g id=\"xtick_93\">\r\n     <g id=\"line2d_93\">\r\n      <g>\r\n       <use style=\"stroke:#000000;stroke-width:0.8;\" x=\"453.263804\" xlink:href=\"#ma1f9dacb08\" y=\"402.838125\"/>\r\n      </g>\r\n     </g>\r\n     <g id=\"text_93\">\r\n      <!-- 2322 -->\r\n      <g transform=\"translate(440.538804 417.436562)scale(0.1 -0.1)\">\r\n       <use xlink:href=\"#DejaVuSans-32\"/>\r\n       <use x=\"63.623047\" xlink:href=\"#DejaVuSans-33\"/>\r\n       <use x=\"127.246094\" xlink:href=\"#DejaVuSans-32\"/>\r\n       <use x=\"190.869141\" xlink:href=\"#DejaVuSans-32\"/>\r\n      </g>\r\n     </g>\r\n    </g>\r\n    <g id=\"xtick_94\">\r\n     <g id=\"line2d_94\">\r\n      <g>\r\n       <use style=\"stroke:#000000;stroke-width:0.8;\" x=\"453.263804\" xlink:href=\"#ma1f9dacb08\" y=\"402.838125\"/>\r\n      </g>\r\n     </g>\r\n     <g id=\"text_94\">\r\n      <!-- 2322 -->\r\n      <g transform=\"translate(440.538804 417.436562)scale(0.1 -0.1)\">\r\n       <use xlink:href=\"#DejaVuSans-32\"/>\r\n       <use x=\"63.623047\" xlink:href=\"#DejaVuSans-33\"/>\r\n       <use x=\"127.246094\" xlink:href=\"#DejaVuSans-32\"/>\r\n       <use x=\"190.869141\" xlink:href=\"#DejaVuSans-32\"/>\r\n      </g>\r\n     </g>\r\n    </g>\r\n    <g id=\"xtick_95\">\r\n     <g id=\"line2d_95\">\r\n      <g>\r\n       <use style=\"stroke:#000000;stroke-width:0.8;\" x=\"460.949755\" xlink:href=\"#ma1f9dacb08\" y=\"402.838125\"/>\r\n      </g>\r\n     </g>\r\n     <g id=\"text_95\">\r\n      <!-- 2333 -->\r\n      <g transform=\"translate(448.224755 417.436562)scale(0.1 -0.1)\">\r\n       <use xlink:href=\"#DejaVuSans-32\"/>\r\n       <use x=\"63.623047\" xlink:href=\"#DejaVuSans-33\"/>\r\n       <use x=\"127.246094\" xlink:href=\"#DejaVuSans-33\"/>\r\n       <use x=\"190.869141\" xlink:href=\"#DejaVuSans-33\"/>\r\n      </g>\r\n     </g>\r\n    </g>\r\n    <g id=\"xtick_96\">\r\n     <g id=\"line2d_96\">\r\n      <g>\r\n       <use style=\"stroke:#000000;stroke-width:0.8;\" x=\"460.949755\" xlink:href=\"#ma1f9dacb08\" y=\"402.838125\"/>\r\n      </g>\r\n     </g>\r\n     <g id=\"text_96\">\r\n      <!-- 2333 -->\r\n      <g transform=\"translate(448.224755 417.436562)scale(0.1 -0.1)\">\r\n       <use xlink:href=\"#DejaVuSans-32\"/>\r\n       <use x=\"63.623047\" xlink:href=\"#DejaVuSans-33\"/>\r\n       <use x=\"127.246094\" xlink:href=\"#DejaVuSans-33\"/>\r\n       <use x=\"190.869141\" xlink:href=\"#DejaVuSans-33\"/>\r\n      </g>\r\n     </g>\r\n    </g>\r\n    <g id=\"xtick_97\">\r\n     <g id=\"line2d_97\">\r\n      <g>\r\n       <use style=\"stroke:#000000;stroke-width:0.8;\" x=\"468.635705\" xlink:href=\"#ma1f9dacb08\" y=\"402.838125\"/>\r\n      </g>\r\n     </g>\r\n     <g id=\"text_97\">\r\n      <!-- 2341 -->\r\n      <g transform=\"translate(455.910705 417.436562)scale(0.1 -0.1)\">\r\n       <use xlink:href=\"#DejaVuSans-32\"/>\r\n       <use x=\"63.623047\" xlink:href=\"#DejaVuSans-33\"/>\r\n       <use x=\"127.246094\" xlink:href=\"#DejaVuSans-34\"/>\r\n       <use x=\"190.869141\" xlink:href=\"#DejaVuSans-31\"/>\r\n      </g>\r\n     </g>\r\n    </g>\r\n    <g id=\"xtick_98\">\r\n     <g id=\"line2d_98\">\r\n      <g>\r\n       <use style=\"stroke:#000000;stroke-width:0.8;\" x=\"468.635705\" xlink:href=\"#ma1f9dacb08\" y=\"402.838125\"/>\r\n      </g>\r\n     </g>\r\n     <g id=\"text_98\">\r\n      <!-- 2341 -->\r\n      <g transform=\"translate(455.910705 417.436562)scale(0.1 -0.1)\">\r\n       <use xlink:href=\"#DejaVuSans-32\"/>\r\n       <use x=\"63.623047\" xlink:href=\"#DejaVuSans-33\"/>\r\n       <use x=\"127.246094\" xlink:href=\"#DejaVuSans-34\"/>\r\n       <use x=\"190.869141\" xlink:href=\"#DejaVuSans-31\"/>\r\n      </g>\r\n     </g>\r\n    </g>\r\n    <g id=\"xtick_99\">\r\n     <g id=\"line2d_99\">\r\n      <g>\r\n       <use style=\"stroke:#000000;stroke-width:0.8;\" x=\"476.321655\" xlink:href=\"#ma1f9dacb08\" y=\"402.838125\"/>\r\n      </g>\r\n     </g>\r\n     <g id=\"text_99\">\r\n      <!-- 2383 -->\r\n      <g transform=\"translate(463.596655 417.436562)scale(0.1 -0.1)\">\r\n       <use xlink:href=\"#DejaVuSans-32\"/>\r\n       <use x=\"63.623047\" xlink:href=\"#DejaVuSans-33\"/>\r\n       <use x=\"127.246094\" xlink:href=\"#DejaVuSans-38\"/>\r\n       <use x=\"190.869141\" xlink:href=\"#DejaVuSans-33\"/>\r\n      </g>\r\n     </g>\r\n    </g>\r\n    <g id=\"xtick_100\">\r\n     <g id=\"line2d_100\">\r\n      <g>\r\n       <use style=\"stroke:#000000;stroke-width:0.8;\" x=\"476.321655\" xlink:href=\"#ma1f9dacb08\" y=\"402.838125\"/>\r\n      </g>\r\n     </g>\r\n     <g id=\"text_100\">\r\n      <!-- 2383 -->\r\n      <g transform=\"translate(463.596655 417.436562)scale(0.1 -0.1)\">\r\n       <use xlink:href=\"#DejaVuSans-32\"/>\r\n       <use x=\"63.623047\" xlink:href=\"#DejaVuSans-33\"/>\r\n       <use x=\"127.246094\" xlink:href=\"#DejaVuSans-38\"/>\r\n       <use x=\"190.869141\" xlink:href=\"#DejaVuSans-33\"/>\r\n      </g>\r\n     </g>\r\n    </g>\r\n    <g id=\"xtick_101\">\r\n     <g id=\"line2d_101\">\r\n      <g>\r\n       <use style=\"stroke:#000000;stroke-width:0.8;\" x=\"484.007606\" xlink:href=\"#ma1f9dacb08\" y=\"402.838125\"/>\r\n      </g>\r\n     </g>\r\n     <g id=\"text_101\">\r\n      <!-- 2409 -->\r\n      <g transform=\"translate(471.282606 417.436562)scale(0.1 -0.1)\">\r\n       <use xlink:href=\"#DejaVuSans-32\"/>\r\n       <use x=\"63.623047\" xlink:href=\"#DejaVuSans-34\"/>\r\n       <use x=\"127.246094\" xlink:href=\"#DejaVuSans-30\"/>\r\n       <use x=\"190.869141\" xlink:href=\"#DejaVuSans-39\"/>\r\n      </g>\r\n     </g>\r\n    </g>\r\n    <g id=\"xtick_102\">\r\n     <g id=\"line2d_102\">\r\n      <g>\r\n       <use style=\"stroke:#000000;stroke-width:0.8;\" x=\"484.007606\" xlink:href=\"#ma1f9dacb08\" y=\"402.838125\"/>\r\n      </g>\r\n     </g>\r\n     <g id=\"text_102\">\r\n      <!-- 2409 -->\r\n      <g transform=\"translate(471.282606 417.436562)scale(0.1 -0.1)\">\r\n       <use xlink:href=\"#DejaVuSans-32\"/>\r\n       <use x=\"63.623047\" xlink:href=\"#DejaVuSans-34\"/>\r\n       <use x=\"127.246094\" xlink:href=\"#DejaVuSans-30\"/>\r\n       <use x=\"190.869141\" xlink:href=\"#DejaVuSans-39\"/>\r\n      </g>\r\n     </g>\r\n    </g>\r\n    <g id=\"xtick_103\">\r\n     <g id=\"line2d_103\">\r\n      <g>\r\n       <use style=\"stroke:#000000;stroke-width:0.8;\" x=\"491.693556\" xlink:href=\"#ma1f9dacb08\" y=\"402.838125\"/>\r\n      </g>\r\n     </g>\r\n     <g id=\"text_103\">\r\n      <!-- 2468 -->\r\n      <g transform=\"translate(478.968556 417.436562)scale(0.1 -0.1)\">\r\n       <use xlink:href=\"#DejaVuSans-32\"/>\r\n       <use x=\"63.623047\" xlink:href=\"#DejaVuSans-34\"/>\r\n       <use x=\"127.246094\" xlink:href=\"#DejaVuSans-36\"/>\r\n       <use x=\"190.869141\" xlink:href=\"#DejaVuSans-38\"/>\r\n      </g>\r\n     </g>\r\n    </g>\r\n    <g id=\"xtick_104\">\r\n     <g id=\"line2d_104\">\r\n      <g>\r\n       <use style=\"stroke:#000000;stroke-width:0.8;\" x=\"491.693556\" xlink:href=\"#ma1f9dacb08\" y=\"402.838125\"/>\r\n      </g>\r\n     </g>\r\n     <g id=\"text_104\">\r\n      <!-- 2468 -->\r\n      <g transform=\"translate(478.968556 417.436562)scale(0.1 -0.1)\">\r\n       <use xlink:href=\"#DejaVuSans-32\"/>\r\n       <use x=\"63.623047\" xlink:href=\"#DejaVuSans-34\"/>\r\n       <use x=\"127.246094\" xlink:href=\"#DejaVuSans-36\"/>\r\n       <use x=\"190.869141\" xlink:href=\"#DejaVuSans-38\"/>\r\n      </g>\r\n     </g>\r\n    </g>\r\n    <g id=\"xtick_105\">\r\n     <g id=\"line2d_105\">\r\n      <g>\r\n       <use style=\"stroke:#000000;stroke-width:0.8;\" x=\"499.379507\" xlink:href=\"#ma1f9dacb08\" y=\"402.838125\"/>\r\n      </g>\r\n     </g>\r\n     <g id=\"text_105\">\r\n      <!-- 2518 -->\r\n      <g transform=\"translate(486.654507 417.436562)scale(0.1 -0.1)\">\r\n       <use xlink:href=\"#DejaVuSans-32\"/>\r\n       <use x=\"63.623047\" xlink:href=\"#DejaVuSans-35\"/>\r\n       <use x=\"127.246094\" xlink:href=\"#DejaVuSans-31\"/>\r\n       <use x=\"190.869141\" xlink:href=\"#DejaVuSans-38\"/>\r\n      </g>\r\n     </g>\r\n    </g>\r\n    <g id=\"xtick_106\">\r\n     <g id=\"line2d_106\">\r\n      <g>\r\n       <use style=\"stroke:#000000;stroke-width:0.8;\" x=\"499.379507\" xlink:href=\"#ma1f9dacb08\" y=\"402.838125\"/>\r\n      </g>\r\n     </g>\r\n     <g id=\"text_106\">\r\n      <!-- 2518 -->\r\n      <g transform=\"translate(486.654507 417.436562)scale(0.1 -0.1)\">\r\n       <use xlink:href=\"#DejaVuSans-32\"/>\r\n       <use x=\"63.623047\" xlink:href=\"#DejaVuSans-35\"/>\r\n       <use x=\"127.246094\" xlink:href=\"#DejaVuSans-31\"/>\r\n       <use x=\"190.869141\" xlink:href=\"#DejaVuSans-38\"/>\r\n      </g>\r\n     </g>\r\n    </g>\r\n    <g id=\"xtick_107\">\r\n     <g id=\"line2d_107\">\r\n      <g>\r\n       <use style=\"stroke:#000000;stroke-width:0.8;\" x=\"507.065457\" xlink:href=\"#ma1f9dacb08\" y=\"402.838125\"/>\r\n      </g>\r\n     </g>\r\n     <g id=\"text_107\">\r\n      <!-- 2568 -->\r\n      <g transform=\"translate(494.340457 417.436562)scale(0.1 -0.1)\">\r\n       <use xlink:href=\"#DejaVuSans-32\"/>\r\n       <use x=\"63.623047\" xlink:href=\"#DejaVuSans-35\"/>\r\n       <use x=\"127.246094\" xlink:href=\"#DejaVuSans-36\"/>\r\n       <use x=\"190.869141\" xlink:href=\"#DejaVuSans-38\"/>\r\n      </g>\r\n     </g>\r\n    </g>\r\n    <g id=\"xtick_108\">\r\n     <g id=\"line2d_108\">\r\n      <g>\r\n       <use style=\"stroke:#000000;stroke-width:0.8;\" x=\"507.065457\" xlink:href=\"#ma1f9dacb08\" y=\"402.838125\"/>\r\n      </g>\r\n     </g>\r\n     <g id=\"text_108\">\r\n      <!-- 2568 -->\r\n      <g transform=\"translate(494.340457 417.436562)scale(0.1 -0.1)\">\r\n       <use xlink:href=\"#DejaVuSans-32\"/>\r\n       <use x=\"63.623047\" xlink:href=\"#DejaVuSans-35\"/>\r\n       <use x=\"127.246094\" xlink:href=\"#DejaVuSans-36\"/>\r\n       <use x=\"190.869141\" xlink:href=\"#DejaVuSans-38\"/>\r\n      </g>\r\n     </g>\r\n    </g>\r\n    <g id=\"xtick_109\">\r\n     <g id=\"line2d_109\">\r\n      <g>\r\n       <use style=\"stroke:#000000;stroke-width:0.8;\" x=\"514.751408\" xlink:href=\"#ma1f9dacb08\" y=\"402.838125\"/>\r\n      </g>\r\n     </g>\r\n     <g id=\"text_109\">\r\n      <!-- 2572 -->\r\n      <g transform=\"translate(502.026408 417.436562)scale(0.1 -0.1)\">\r\n       <use xlink:href=\"#DejaVuSans-32\"/>\r\n       <use x=\"63.623047\" xlink:href=\"#DejaVuSans-35\"/>\r\n       <use x=\"127.246094\" xlink:href=\"#DejaVuSans-37\"/>\r\n       <use x=\"190.869141\" xlink:href=\"#DejaVuSans-32\"/>\r\n      </g>\r\n     </g>\r\n    </g>\r\n    <g id=\"xtick_110\">\r\n     <g id=\"line2d_110\">\r\n      <g>\r\n       <use style=\"stroke:#000000;stroke-width:0.8;\" x=\"514.751408\" xlink:href=\"#ma1f9dacb08\" y=\"402.838125\"/>\r\n      </g>\r\n     </g>\r\n     <g id=\"text_110\">\r\n      <!-- 2572 -->\r\n      <g transform=\"translate(502.026408 417.436562)scale(0.1 -0.1)\">\r\n       <use xlink:href=\"#DejaVuSans-32\"/>\r\n       <use x=\"63.623047\" xlink:href=\"#DejaVuSans-35\"/>\r\n       <use x=\"127.246094\" xlink:href=\"#DejaVuSans-37\"/>\r\n       <use x=\"190.869141\" xlink:href=\"#DejaVuSans-32\"/>\r\n      </g>\r\n     </g>\r\n    </g>\r\n    <g id=\"xtick_111\">\r\n     <g id=\"line2d_111\">\r\n      <g>\r\n       <use style=\"stroke:#000000;stroke-width:0.8;\" x=\"522.437358\" xlink:href=\"#ma1f9dacb08\" y=\"402.838125\"/>\r\n      </g>\r\n     </g>\r\n     <g id=\"text_111\">\r\n      <!-- 2652 -->\r\n      <g transform=\"translate(509.712358 417.436562)scale(0.1 -0.1)\">\r\n       <use xlink:href=\"#DejaVuSans-32\"/>\r\n       <use x=\"63.623047\" xlink:href=\"#DejaVuSans-36\"/>\r\n       <use x=\"127.246094\" xlink:href=\"#DejaVuSans-35\"/>\r\n       <use x=\"190.869141\" xlink:href=\"#DejaVuSans-32\"/>\r\n      </g>\r\n     </g>\r\n    </g>\r\n    <g id=\"xtick_112\">\r\n     <g id=\"line2d_112\">\r\n      <g>\r\n       <use style=\"stroke:#000000;stroke-width:0.8;\" x=\"522.437358\" xlink:href=\"#ma1f9dacb08\" y=\"402.838125\"/>\r\n      </g>\r\n     </g>\r\n     <g id=\"text_112\">\r\n      <!-- 2652 -->\r\n      <g transform=\"translate(509.712358 417.436562)scale(0.1 -0.1)\">\r\n       <use xlink:href=\"#DejaVuSans-32\"/>\r\n       <use x=\"63.623047\" xlink:href=\"#DejaVuSans-36\"/>\r\n       <use x=\"127.246094\" xlink:href=\"#DejaVuSans-35\"/>\r\n       <use x=\"190.869141\" xlink:href=\"#DejaVuSans-32\"/>\r\n      </g>\r\n     </g>\r\n    </g>\r\n    <g id=\"xtick_113\">\r\n     <g id=\"line2d_113\">\r\n      <g>\r\n       <use style=\"stroke:#000000;stroke-width:0.8;\" x=\"530.123308\" xlink:href=\"#ma1f9dacb08\" y=\"402.838125\"/>\r\n      </g>\r\n     </g>\r\n     <g id=\"text_113\">\r\n      <!-- 2702 -->\r\n      <g transform=\"translate(517.398308 417.436562)scale(0.1 -0.1)\">\r\n       <use xlink:href=\"#DejaVuSans-32\"/>\r\n       <use x=\"63.623047\" xlink:href=\"#DejaVuSans-37\"/>\r\n       <use x=\"127.246094\" xlink:href=\"#DejaVuSans-30\"/>\r\n       <use x=\"190.869141\" xlink:href=\"#DejaVuSans-32\"/>\r\n      </g>\r\n     </g>\r\n    </g>\r\n    <g id=\"xtick_114\">\r\n     <g id=\"line2d_114\">\r\n      <g>\r\n       <use style=\"stroke:#000000;stroke-width:0.8;\" x=\"530.123308\" xlink:href=\"#ma1f9dacb08\" y=\"402.838125\"/>\r\n      </g>\r\n     </g>\r\n     <g id=\"text_114\">\r\n      <!-- 2702 -->\r\n      <g transform=\"translate(517.398308 417.436562)scale(0.1 -0.1)\">\r\n       <use xlink:href=\"#DejaVuSans-32\"/>\r\n       <use x=\"63.623047\" xlink:href=\"#DejaVuSans-37\"/>\r\n       <use x=\"127.246094\" xlink:href=\"#DejaVuSans-30\"/>\r\n       <use x=\"190.869141\" xlink:href=\"#DejaVuSans-32\"/>\r\n      </g>\r\n     </g>\r\n    </g>\r\n    <g id=\"xtick_115\">\r\n     <g id=\"line2d_115\">\r\n      <g>\r\n       <use style=\"stroke:#000000;stroke-width:0.8;\" x=\"537.809259\" xlink:href=\"#ma1f9dacb08\" y=\"402.838125\"/>\r\n      </g>\r\n     </g>\r\n     <g id=\"text_115\">\r\n      <!-- 2752 -->\r\n      <g transform=\"translate(525.084259 417.436562)scale(0.1 -0.1)\">\r\n       <use xlink:href=\"#DejaVuSans-32\"/>\r\n       <use x=\"63.623047\" xlink:href=\"#DejaVuSans-37\"/>\r\n       <use x=\"127.246094\" xlink:href=\"#DejaVuSans-35\"/>\r\n       <use x=\"190.869141\" xlink:href=\"#DejaVuSans-32\"/>\r\n      </g>\r\n     </g>\r\n    </g>\r\n    <g id=\"xtick_116\">\r\n     <g id=\"line2d_116\">\r\n      <g>\r\n       <use style=\"stroke:#000000;stroke-width:0.8;\" x=\"537.809259\" xlink:href=\"#ma1f9dacb08\" y=\"402.838125\"/>\r\n      </g>\r\n     </g>\r\n     <g id=\"text_116\">\r\n      <!-- 2752 -->\r\n      <g transform=\"translate(525.084259 417.436562)scale(0.1 -0.1)\">\r\n       <use xlink:href=\"#DejaVuSans-32\"/>\r\n       <use x=\"63.623047\" xlink:href=\"#DejaVuSans-37\"/>\r\n       <use x=\"127.246094\" xlink:href=\"#DejaVuSans-35\"/>\r\n       <use x=\"190.869141\" xlink:href=\"#DejaVuSans-32\"/>\r\n      </g>\r\n     </g>\r\n    </g>\r\n    <g id=\"xtick_117\">\r\n     <g id=\"line2d_117\">\r\n      <g>\r\n       <use style=\"stroke:#000000;stroke-width:0.8;\" x=\"545.495209\" xlink:href=\"#ma1f9dacb08\" y=\"402.838125\"/>\r\n      </g>\r\n     </g>\r\n     <g id=\"text_117\">\r\n      <!-- 2802 -->\r\n      <g transform=\"translate(532.770209 417.436562)scale(0.1 -0.1)\">\r\n       <use xlink:href=\"#DejaVuSans-32\"/>\r\n       <use x=\"63.623047\" xlink:href=\"#DejaVuSans-38\"/>\r\n       <use x=\"127.246094\" xlink:href=\"#DejaVuSans-30\"/>\r\n       <use x=\"190.869141\" xlink:href=\"#DejaVuSans-32\"/>\r\n      </g>\r\n     </g>\r\n    </g>\r\n    <g id=\"xtick_118\">\r\n     <g id=\"line2d_118\">\r\n      <g>\r\n       <use style=\"stroke:#000000;stroke-width:0.8;\" x=\"545.495209\" xlink:href=\"#ma1f9dacb08\" y=\"402.838125\"/>\r\n      </g>\r\n     </g>\r\n     <g id=\"text_118\">\r\n      <!-- 2802 -->\r\n      <g transform=\"translate(532.770209 417.436562)scale(0.1 -0.1)\">\r\n       <use xlink:href=\"#DejaVuSans-32\"/>\r\n       <use x=\"63.623047\" xlink:href=\"#DejaVuSans-38\"/>\r\n       <use x=\"127.246094\" xlink:href=\"#DejaVuSans-30\"/>\r\n       <use x=\"190.869141\" xlink:href=\"#DejaVuSans-32\"/>\r\n      </g>\r\n     </g>\r\n    </g>\r\n    <g id=\"xtick_119\">\r\n     <g id=\"line2d_119\">\r\n      <g>\r\n       <use style=\"stroke:#000000;stroke-width:0.8;\" x=\"553.18116\" xlink:href=\"#ma1f9dacb08\" y=\"402.838125\"/>\r\n      </g>\r\n     </g>\r\n     <g id=\"text_119\">\r\n      <!-- 2852 -->\r\n      <g transform=\"translate(540.45616 417.436562)scale(0.1 -0.1)\">\r\n       <use xlink:href=\"#DejaVuSans-32\"/>\r\n       <use x=\"63.623047\" xlink:href=\"#DejaVuSans-38\"/>\r\n       <use x=\"127.246094\" xlink:href=\"#DejaVuSans-35\"/>\r\n       <use x=\"190.869141\" xlink:href=\"#DejaVuSans-32\"/>\r\n      </g>\r\n     </g>\r\n    </g>\r\n    <g id=\"xtick_120\">\r\n     <g id=\"line2d_120\">\r\n      <g>\r\n       <use style=\"stroke:#000000;stroke-width:0.8;\" x=\"553.18116\" xlink:href=\"#ma1f9dacb08\" y=\"402.838125\"/>\r\n      </g>\r\n     </g>\r\n     <g id=\"text_120\">\r\n      <!-- 2852 -->\r\n      <g transform=\"translate(540.45616 417.436562)scale(0.1 -0.1)\">\r\n       <use xlink:href=\"#DejaVuSans-32\"/>\r\n       <use x=\"63.623047\" xlink:href=\"#DejaVuSans-38\"/>\r\n       <use x=\"127.246094\" xlink:href=\"#DejaVuSans-35\"/>\r\n       <use x=\"190.869141\" xlink:href=\"#DejaVuSans-32\"/>\r\n      </g>\r\n     </g>\r\n    </g>\r\n    <g id=\"xtick_121\">\r\n     <g id=\"line2d_121\">\r\n      <g>\r\n       <use style=\"stroke:#000000;stroke-width:0.8;\" x=\"560.86711\" xlink:href=\"#ma1f9dacb08\" y=\"402.838125\"/>\r\n      </g>\r\n     </g>\r\n     <g id=\"text_121\">\r\n      <!-- 2902 -->\r\n      <g transform=\"translate(548.14211 417.436562)scale(0.1 -0.1)\">\r\n       <use xlink:href=\"#DejaVuSans-32\"/>\r\n       <use x=\"63.623047\" xlink:href=\"#DejaVuSans-39\"/>\r\n       <use x=\"127.246094\" xlink:href=\"#DejaVuSans-30\"/>\r\n       <use x=\"190.869141\" xlink:href=\"#DejaVuSans-32\"/>\r\n      </g>\r\n     </g>\r\n    </g>\r\n    <g id=\"xtick_122\">\r\n     <g id=\"line2d_122\">\r\n      <g>\r\n       <use style=\"stroke:#000000;stroke-width:0.8;\" x=\"560.86711\" xlink:href=\"#ma1f9dacb08\" y=\"402.838125\"/>\r\n      </g>\r\n     </g>\r\n     <g id=\"text_122\">\r\n      <!-- 2902 -->\r\n      <g transform=\"translate(548.14211 417.436562)scale(0.1 -0.1)\">\r\n       <use xlink:href=\"#DejaVuSans-32\"/>\r\n       <use x=\"63.623047\" xlink:href=\"#DejaVuSans-39\"/>\r\n       <use x=\"127.246094\" xlink:href=\"#DejaVuSans-30\"/>\r\n       <use x=\"190.869141\" xlink:href=\"#DejaVuSans-32\"/>\r\n      </g>\r\n     </g>\r\n    </g>\r\n    <g id=\"xtick_123\">\r\n     <g id=\"line2d_123\">\r\n      <g>\r\n       <use style=\"stroke:#000000;stroke-width:0.8;\" x=\"568.55306\" xlink:href=\"#ma1f9dacb08\" y=\"402.838125\"/>\r\n      </g>\r\n     </g>\r\n     <g id=\"text_123\">\r\n      <!-- 2952 -->\r\n      <g transform=\"translate(555.82806 417.436562)scale(0.1 -0.1)\">\r\n       <use xlink:href=\"#DejaVuSans-32\"/>\r\n       <use x=\"63.623047\" xlink:href=\"#DejaVuSans-39\"/>\r\n       <use x=\"127.246094\" xlink:href=\"#DejaVuSans-35\"/>\r\n       <use x=\"190.869141\" xlink:href=\"#DejaVuSans-32\"/>\r\n      </g>\r\n     </g>\r\n    </g>\r\n    <g id=\"xtick_124\">\r\n     <g id=\"line2d_124\">\r\n      <g>\r\n       <use style=\"stroke:#000000;stroke-width:0.8;\" x=\"568.55306\" xlink:href=\"#ma1f9dacb08\" y=\"402.838125\"/>\r\n      </g>\r\n     </g>\r\n     <g id=\"text_124\">\r\n      <!-- 2952 -->\r\n      <g transform=\"translate(555.82806 417.436562)scale(0.1 -0.1)\">\r\n       <use xlink:href=\"#DejaVuSans-32\"/>\r\n       <use x=\"63.623047\" xlink:href=\"#DejaVuSans-39\"/>\r\n       <use x=\"127.246094\" xlink:href=\"#DejaVuSans-35\"/>\r\n       <use x=\"190.869141\" xlink:href=\"#DejaVuSans-32\"/>\r\n      </g>\r\n     </g>\r\n    </g>\r\n    <g id=\"xtick_125\">\r\n     <g id=\"line2d_125\">\r\n      <g>\r\n       <use style=\"stroke:#000000;stroke-width:0.8;\" x=\"576.239011\" xlink:href=\"#ma1f9dacb08\" y=\"402.838125\"/>\r\n      </g>\r\n     </g>\r\n     <g id=\"text_125\">\r\n      <!-- 3002 -->\r\n      <g transform=\"translate(563.514011 417.436562)scale(0.1 -0.1)\">\r\n       <use xlink:href=\"#DejaVuSans-33\"/>\r\n       <use x=\"63.623047\" xlink:href=\"#DejaVuSans-30\"/>\r\n       <use x=\"127.246094\" xlink:href=\"#DejaVuSans-30\"/>\r\n       <use x=\"190.869141\" xlink:href=\"#DejaVuSans-32\"/>\r\n      </g>\r\n     </g>\r\n    </g>\r\n    <g id=\"xtick_126\">\r\n     <g id=\"line2d_126\">\r\n      <g>\r\n       <use style=\"stroke:#000000;stroke-width:0.8;\" x=\"576.239011\" xlink:href=\"#ma1f9dacb08\" y=\"402.838125\"/>\r\n      </g>\r\n     </g>\r\n     <g id=\"text_126\">\r\n      <!-- 3002 -->\r\n      <g transform=\"translate(563.514011 417.436562)scale(0.1 -0.1)\">\r\n       <use xlink:href=\"#DejaVuSans-33\"/>\r\n       <use x=\"63.623047\" xlink:href=\"#DejaVuSans-30\"/>\r\n       <use x=\"127.246094\" xlink:href=\"#DejaVuSans-30\"/>\r\n       <use x=\"190.869141\" xlink:href=\"#DejaVuSans-32\"/>\r\n      </g>\r\n     </g>\r\n    </g>\r\n    <g id=\"xtick_127\">\r\n     <g id=\"line2d_127\">\r\n      <g>\r\n       <use style=\"stroke:#000000;stroke-width:0.8;\" x=\"583.924961\" xlink:href=\"#ma1f9dacb08\" y=\"402.838125\"/>\r\n      </g>\r\n     </g>\r\n     <g id=\"text_127\">\r\n      <!-- 3052 -->\r\n      <g transform=\"translate(571.199961 417.436562)scale(0.1 -0.1)\">\r\n       <use xlink:href=\"#DejaVuSans-33\"/>\r\n       <use x=\"63.623047\" xlink:href=\"#DejaVuSans-30\"/>\r\n       <use x=\"127.246094\" xlink:href=\"#DejaVuSans-35\"/>\r\n       <use x=\"190.869141\" xlink:href=\"#DejaVuSans-32\"/>\r\n      </g>\r\n     </g>\r\n    </g>\r\n    <g id=\"xtick_128\">\r\n     <g id=\"line2d_128\">\r\n      <g>\r\n       <use style=\"stroke:#000000;stroke-width:0.8;\" x=\"583.924961\" xlink:href=\"#ma1f9dacb08\" y=\"402.838125\"/>\r\n      </g>\r\n     </g>\r\n     <g id=\"text_128\">\r\n      <!-- 3052 -->\r\n      <g transform=\"translate(571.199961 417.436562)scale(0.1 -0.1)\">\r\n       <use xlink:href=\"#DejaVuSans-33\"/>\r\n       <use x=\"63.623047\" xlink:href=\"#DejaVuSans-30\"/>\r\n       <use x=\"127.246094\" xlink:href=\"#DejaVuSans-35\"/>\r\n       <use x=\"190.869141\" xlink:href=\"#DejaVuSans-32\"/>\r\n      </g>\r\n     </g>\r\n    </g>\r\n    <g id=\"xtick_129\">\r\n     <g id=\"line2d_129\">\r\n      <g>\r\n       <use style=\"stroke:#000000;stroke-width:0.8;\" x=\"591.610912\" xlink:href=\"#ma1f9dacb08\" y=\"402.838125\"/>\r\n      </g>\r\n     </g>\r\n     <g id=\"text_129\">\r\n      <!-- 3102 -->\r\n      <g transform=\"translate(578.885912 417.436562)scale(0.1 -0.1)\">\r\n       <use xlink:href=\"#DejaVuSans-33\"/>\r\n       <use x=\"63.623047\" xlink:href=\"#DejaVuSans-31\"/>\r\n       <use x=\"127.246094\" xlink:href=\"#DejaVuSans-30\"/>\r\n       <use x=\"190.869141\" xlink:href=\"#DejaVuSans-32\"/>\r\n      </g>\r\n     </g>\r\n    </g>\r\n    <g id=\"xtick_130\">\r\n     <g id=\"line2d_130\">\r\n      <g>\r\n       <use style=\"stroke:#000000;stroke-width:0.8;\" x=\"591.610912\" xlink:href=\"#ma1f9dacb08\" y=\"402.838125\"/>\r\n      </g>\r\n     </g>\r\n     <g id=\"text_130\">\r\n      <!-- 3102 -->\r\n      <g transform=\"translate(578.885912 417.436562)scale(0.1 -0.1)\">\r\n       <use xlink:href=\"#DejaVuSans-33\"/>\r\n       <use x=\"63.623047\" xlink:href=\"#DejaVuSans-31\"/>\r\n       <use x=\"127.246094\" xlink:href=\"#DejaVuSans-30\"/>\r\n       <use x=\"190.869141\" xlink:href=\"#DejaVuSans-32\"/>\r\n      </g>\r\n     </g>\r\n    </g>\r\n    <g id=\"xtick_131\">\r\n     <g id=\"line2d_131\">\r\n      <g>\r\n       <use style=\"stroke:#000000;stroke-width:0.8;\" x=\"599.296862\" xlink:href=\"#ma1f9dacb08\" y=\"402.838125\"/>\r\n      </g>\r\n     </g>\r\n     <g id=\"text_131\">\r\n      <!-- 3152 -->\r\n      <g transform=\"translate(586.571862 417.436562)scale(0.1 -0.1)\">\r\n       <use xlink:href=\"#DejaVuSans-33\"/>\r\n       <use x=\"63.623047\" xlink:href=\"#DejaVuSans-31\"/>\r\n       <use x=\"127.246094\" xlink:href=\"#DejaVuSans-35\"/>\r\n       <use x=\"190.869141\" xlink:href=\"#DejaVuSans-32\"/>\r\n      </g>\r\n     </g>\r\n    </g>\r\n    <g id=\"xtick_132\">\r\n     <g id=\"line2d_132\">\r\n      <g>\r\n       <use style=\"stroke:#000000;stroke-width:0.8;\" x=\"599.296862\" xlink:href=\"#ma1f9dacb08\" y=\"402.838125\"/>\r\n      </g>\r\n     </g>\r\n     <g id=\"text_132\">\r\n      <!-- 3152 -->\r\n      <g transform=\"translate(586.571862 417.436562)scale(0.1 -0.1)\">\r\n       <use xlink:href=\"#DejaVuSans-33\"/>\r\n       <use x=\"63.623047\" xlink:href=\"#DejaVuSans-31\"/>\r\n       <use x=\"127.246094\" xlink:href=\"#DejaVuSans-35\"/>\r\n       <use x=\"190.869141\" xlink:href=\"#DejaVuSans-32\"/>\r\n      </g>\r\n     </g>\r\n    </g>\r\n    <g id=\"xtick_133\">\r\n     <g id=\"line2d_133\">\r\n      <g>\r\n       <use style=\"stroke:#000000;stroke-width:0.8;\" x=\"606.982813\" xlink:href=\"#ma1f9dacb08\" y=\"402.838125\"/>\r\n      </g>\r\n     </g>\r\n     <g id=\"text_133\">\r\n      <!-- 3185 -->\r\n      <g transform=\"translate(594.257812 417.436562)scale(0.1 -0.1)\">\r\n       <use xlink:href=\"#DejaVuSans-33\"/>\r\n       <use x=\"63.623047\" xlink:href=\"#DejaVuSans-31\"/>\r\n       <use x=\"127.246094\" xlink:href=\"#DejaVuSans-38\"/>\r\n       <use x=\"190.869141\" xlink:href=\"#DejaVuSans-35\"/>\r\n      </g>\r\n     </g>\r\n    </g>\r\n    <g id=\"xtick_134\">\r\n     <g id=\"line2d_134\">\r\n      <g>\r\n       <use style=\"stroke:#000000;stroke-width:0.8;\" x=\"606.982813\" xlink:href=\"#ma1f9dacb08\" y=\"402.838125\"/>\r\n      </g>\r\n     </g>\r\n     <g id=\"text_134\">\r\n      <!-- 3185 -->\r\n      <g transform=\"translate(594.257812 417.436562)scale(0.1 -0.1)\">\r\n       <use xlink:href=\"#DejaVuSans-33\"/>\r\n       <use x=\"63.623047\" xlink:href=\"#DejaVuSans-31\"/>\r\n       <use x=\"127.246094\" xlink:href=\"#DejaVuSans-38\"/>\r\n       <use x=\"190.869141\" xlink:href=\"#DejaVuSans-35\"/>\r\n      </g>\r\n     </g>\r\n    </g>\r\n    <g id=\"xtick_135\">\r\n     <g id=\"line2d_135\">\r\n      <g>\r\n       <use style=\"stroke:#000000;stroke-width:0.8;\" x=\"614.668763\" xlink:href=\"#ma1f9dacb08\" y=\"402.838125\"/>\r\n      </g>\r\n     </g>\r\n     <g id=\"text_135\">\r\n      <!-- 3235 -->\r\n      <g transform=\"translate(601.943763 417.436562)scale(0.1 -0.1)\">\r\n       <use xlink:href=\"#DejaVuSans-33\"/>\r\n       <use x=\"63.623047\" xlink:href=\"#DejaVuSans-32\"/>\r\n       <use x=\"127.246094\" xlink:href=\"#DejaVuSans-33\"/>\r\n       <use x=\"190.869141\" xlink:href=\"#DejaVuSans-35\"/>\r\n      </g>\r\n     </g>\r\n    </g>\r\n    <g id=\"xtick_136\">\r\n     <g id=\"line2d_136\">\r\n      <g>\r\n       <use style=\"stroke:#000000;stroke-width:0.8;\" x=\"614.668763\" xlink:href=\"#ma1f9dacb08\" y=\"402.838125\"/>\r\n      </g>\r\n     </g>\r\n     <g id=\"text_136\">\r\n      <!-- 3235 -->\r\n      <g transform=\"translate(601.943763 417.436562)scale(0.1 -0.1)\">\r\n       <use xlink:href=\"#DejaVuSans-33\"/>\r\n       <use x=\"63.623047\" xlink:href=\"#DejaVuSans-32\"/>\r\n       <use x=\"127.246094\" xlink:href=\"#DejaVuSans-33\"/>\r\n       <use x=\"190.869141\" xlink:href=\"#DejaVuSans-35\"/>\r\n      </g>\r\n     </g>\r\n    </g>\r\n    <g id=\"xtick_137\">\r\n     <g id=\"line2d_137\">\r\n      <g>\r\n       <use style=\"stroke:#000000;stroke-width:0.8;\" x=\"622.354713\" xlink:href=\"#ma1f9dacb08\" y=\"402.838125\"/>\r\n      </g>\r\n     </g>\r\n     <g id=\"text_137\">\r\n      <!-- 3302 -->\r\n      <g transform=\"translate(609.629713 417.436562)scale(0.1 -0.1)\">\r\n       <use xlink:href=\"#DejaVuSans-33\"/>\r\n       <use x=\"63.623047\" xlink:href=\"#DejaVuSans-33\"/>\r\n       <use x=\"127.246094\" xlink:href=\"#DejaVuSans-30\"/>\r\n       <use x=\"190.869141\" xlink:href=\"#DejaVuSans-32\"/>\r\n      </g>\r\n     </g>\r\n    </g>\r\n    <g id=\"xtick_138\">\r\n     <g id=\"line2d_138\">\r\n      <g>\r\n       <use style=\"stroke:#000000;stroke-width:0.8;\" x=\"622.354713\" xlink:href=\"#ma1f9dacb08\" y=\"402.838125\"/>\r\n      </g>\r\n     </g>\r\n     <g id=\"text_138\">\r\n      <!-- 3302 -->\r\n      <g transform=\"translate(609.629713 417.436562)scale(0.1 -0.1)\">\r\n       <use xlink:href=\"#DejaVuSans-33\"/>\r\n       <use x=\"63.623047\" xlink:href=\"#DejaVuSans-33\"/>\r\n       <use x=\"127.246094\" xlink:href=\"#DejaVuSans-30\"/>\r\n       <use x=\"190.869141\" xlink:href=\"#DejaVuSans-32\"/>\r\n      </g>\r\n     </g>\r\n    </g>\r\n    <g id=\"xtick_139\">\r\n     <g id=\"line2d_139\">\r\n      <g>\r\n       <use style=\"stroke:#000000;stroke-width:0.8;\" x=\"630.040664\" xlink:href=\"#ma1f9dacb08\" y=\"402.838125\"/>\r\n      </g>\r\n     </g>\r\n     <g id=\"text_139\">\r\n      <!-- 3352 -->\r\n      <g transform=\"translate(617.315664 417.436562)scale(0.1 -0.1)\">\r\n       <use xlink:href=\"#DejaVuSans-33\"/>\r\n       <use x=\"63.623047\" xlink:href=\"#DejaVuSans-33\"/>\r\n       <use x=\"127.246094\" xlink:href=\"#DejaVuSans-35\"/>\r\n       <use x=\"190.869141\" xlink:href=\"#DejaVuSans-32\"/>\r\n      </g>\r\n     </g>\r\n    </g>\r\n    <g id=\"xtick_140\">\r\n     <g id=\"line2d_140\">\r\n      <g>\r\n       <use style=\"stroke:#000000;stroke-width:0.8;\" x=\"630.040664\" xlink:href=\"#ma1f9dacb08\" y=\"402.838125\"/>\r\n      </g>\r\n     </g>\r\n     <g id=\"text_140\">\r\n      <!-- 3352 -->\r\n      <g transform=\"translate(617.315664 417.436562)scale(0.1 -0.1)\">\r\n       <use xlink:href=\"#DejaVuSans-33\"/>\r\n       <use x=\"63.623047\" xlink:href=\"#DejaVuSans-33\"/>\r\n       <use x=\"127.246094\" xlink:href=\"#DejaVuSans-35\"/>\r\n       <use x=\"190.869141\" xlink:href=\"#DejaVuSans-32\"/>\r\n      </g>\r\n     </g>\r\n    </g>\r\n    <g id=\"xtick_141\">\r\n     <g id=\"line2d_141\">\r\n      <g>\r\n       <use style=\"stroke:#000000;stroke-width:0.8;\" x=\"637.726614\" xlink:href=\"#ma1f9dacb08\" y=\"402.838125\"/>\r\n      </g>\r\n     </g>\r\n     <g id=\"text_141\">\r\n      <!-- 8717 -->\r\n      <g transform=\"translate(625.001614 417.436562)scale(0.1 -0.1)\">\r\n       <use xlink:href=\"#DejaVuSans-38\"/>\r\n       <use x=\"63.623047\" xlink:href=\"#DejaVuSans-37\"/>\r\n       <use x=\"127.246094\" xlink:href=\"#DejaVuSans-31\"/>\r\n       <use x=\"190.869141\" xlink:href=\"#DejaVuSans-37\"/>\r\n      </g>\r\n     </g>\r\n    </g>\r\n    <g id=\"xtick_142\">\r\n     <g id=\"line2d_142\">\r\n      <g>\r\n       <use style=\"stroke:#000000;stroke-width:0.8;\" x=\"637.726614\" xlink:href=\"#ma1f9dacb08\" y=\"402.838125\"/>\r\n      </g>\r\n     </g>\r\n     <g id=\"text_142\">\r\n      <!-- 8717 -->\r\n      <g transform=\"translate(625.001614 417.436562)scale(0.1 -0.1)\">\r\n       <use xlink:href=\"#DejaVuSans-38\"/>\r\n       <use x=\"63.623047\" xlink:href=\"#DejaVuSans-37\"/>\r\n       <use x=\"127.246094\" xlink:href=\"#DejaVuSans-31\"/>\r\n       <use x=\"190.869141\" xlink:href=\"#DejaVuSans-37\"/>\r\n      </g>\r\n     </g>\r\n    </g>\r\n    <g id=\"xtick_143\">\r\n     <g id=\"line2d_143\">\r\n      <g>\r\n       <use style=\"stroke:#000000;stroke-width:0.8;\" x=\"645.412565\" xlink:href=\"#ma1f9dacb08\" y=\"402.838125\"/>\r\n      </g>\r\n     </g>\r\n     <g id=\"text_143\">\r\n      <!-- 8767 -->\r\n      <g transform=\"translate(632.687565 417.436562)scale(0.1 -0.1)\">\r\n       <use xlink:href=\"#DejaVuSans-38\"/>\r\n       <use x=\"63.623047\" xlink:href=\"#DejaVuSans-37\"/>\r\n       <use x=\"127.246094\" xlink:href=\"#DejaVuSans-36\"/>\r\n       <use x=\"190.869141\" xlink:href=\"#DejaVuSans-37\"/>\r\n      </g>\r\n     </g>\r\n    </g>\r\n    <g id=\"xtick_144\">\r\n     <g id=\"line2d_144\">\r\n      <g>\r\n       <use style=\"stroke:#000000;stroke-width:0.8;\" x=\"645.412565\" xlink:href=\"#ma1f9dacb08\" y=\"402.838125\"/>\r\n      </g>\r\n     </g>\r\n     <g id=\"text_144\">\r\n      <!-- 8767 -->\r\n      <g transform=\"translate(632.687565 417.436562)scale(0.1 -0.1)\">\r\n       <use xlink:href=\"#DejaVuSans-38\"/>\r\n       <use x=\"63.623047\" xlink:href=\"#DejaVuSans-37\"/>\r\n       <use x=\"127.246094\" xlink:href=\"#DejaVuSans-36\"/>\r\n       <use x=\"190.869141\" xlink:href=\"#DejaVuSans-37\"/>\r\n      </g>\r\n     </g>\r\n    </g>\r\n    <g id=\"xtick_145\">\r\n     <g id=\"line2d_145\">\r\n      <g>\r\n       <use style=\"stroke:#000000;stroke-width:0.8;\" x=\"653.098515\" xlink:href=\"#ma1f9dacb08\" y=\"402.838125\"/>\r\n      </g>\r\n     </g>\r\n     <g id=\"text_145\">\r\n      <!-- 8817 -->\r\n      <g transform=\"translate(640.373515 417.436562)scale(0.1 -0.1)\">\r\n       <use xlink:href=\"#DejaVuSans-38\"/>\r\n       <use x=\"63.623047\" xlink:href=\"#DejaVuSans-38\"/>\r\n       <use x=\"127.246094\" xlink:href=\"#DejaVuSans-31\"/>\r\n       <use x=\"190.869141\" xlink:href=\"#DejaVuSans-37\"/>\r\n      </g>\r\n     </g>\r\n    </g>\r\n    <g id=\"xtick_146\">\r\n     <g id=\"line2d_146\">\r\n      <g>\r\n       <use style=\"stroke:#000000;stroke-width:0.8;\" x=\"653.098515\" xlink:href=\"#ma1f9dacb08\" y=\"402.838125\"/>\r\n      </g>\r\n     </g>\r\n     <g id=\"text_146\">\r\n      <!-- 8817 -->\r\n      <g transform=\"translate(640.373515 417.436562)scale(0.1 -0.1)\">\r\n       <use xlink:href=\"#DejaVuSans-38\"/>\r\n       <use x=\"63.623047\" xlink:href=\"#DejaVuSans-38\"/>\r\n       <use x=\"127.246094\" xlink:href=\"#DejaVuSans-31\"/>\r\n       <use x=\"190.869141\" xlink:href=\"#DejaVuSans-37\"/>\r\n      </g>\r\n     </g>\r\n    </g>\r\n    <g id=\"xtick_147\">\r\n     <g id=\"line2d_147\">\r\n      <g>\r\n       <use style=\"stroke:#000000;stroke-width:0.8;\" x=\"660.784465\" xlink:href=\"#ma1f9dacb08\" y=\"402.838125\"/>\r\n      </g>\r\n     </g>\r\n     <g id=\"text_147\">\r\n      <!-- 8867 -->\r\n      <g transform=\"translate(648.059465 417.436562)scale(0.1 -0.1)\">\r\n       <use xlink:href=\"#DejaVuSans-38\"/>\r\n       <use x=\"63.623047\" xlink:href=\"#DejaVuSans-38\"/>\r\n       <use x=\"127.246094\" xlink:href=\"#DejaVuSans-36\"/>\r\n       <use x=\"190.869141\" xlink:href=\"#DejaVuSans-37\"/>\r\n      </g>\r\n     </g>\r\n    </g>\r\n    <g id=\"xtick_148\">\r\n     <g id=\"line2d_148\">\r\n      <g>\r\n       <use style=\"stroke:#000000;stroke-width:0.8;\" x=\"660.784465\" xlink:href=\"#ma1f9dacb08\" y=\"402.838125\"/>\r\n      </g>\r\n     </g>\r\n     <g id=\"text_148\">\r\n      <!-- 8867 -->\r\n      <g transform=\"translate(648.059465 417.436562)scale(0.1 -0.1)\">\r\n       <use xlink:href=\"#DejaVuSans-38\"/>\r\n       <use x=\"63.623047\" xlink:href=\"#DejaVuSans-38\"/>\r\n       <use x=\"127.246094\" xlink:href=\"#DejaVuSans-36\"/>\r\n       <use x=\"190.869141\" xlink:href=\"#DejaVuSans-37\"/>\r\n      </g>\r\n     </g>\r\n    </g>\r\n    <g id=\"xtick_149\">\r\n     <g id=\"line2d_149\">\r\n      <g>\r\n       <use style=\"stroke:#000000;stroke-width:0.8;\" x=\"668.470416\" xlink:href=\"#ma1f9dacb08\" y=\"402.838125\"/>\r\n      </g>\r\n     </g>\r\n     <g id=\"text_149\">\r\n      <!-- 8917 -->\r\n      <g transform=\"translate(655.745416 417.436562)scale(0.1 -0.1)\">\r\n       <use xlink:href=\"#DejaVuSans-38\"/>\r\n       <use x=\"63.623047\" xlink:href=\"#DejaVuSans-39\"/>\r\n       <use x=\"127.246094\" xlink:href=\"#DejaVuSans-31\"/>\r\n       <use x=\"190.869141\" xlink:href=\"#DejaVuSans-37\"/>\r\n      </g>\r\n     </g>\r\n    </g>\r\n    <g id=\"xtick_150\">\r\n     <g id=\"line2d_150\">\r\n      <g>\r\n       <use style=\"stroke:#000000;stroke-width:0.8;\" x=\"668.470416\" xlink:href=\"#ma1f9dacb08\" y=\"402.838125\"/>\r\n      </g>\r\n     </g>\r\n     <g id=\"text_150\">\r\n      <!-- 8917 -->\r\n      <g transform=\"translate(655.745416 417.436562)scale(0.1 -0.1)\">\r\n       <use xlink:href=\"#DejaVuSans-38\"/>\r\n       <use x=\"63.623047\" xlink:href=\"#DejaVuSans-39\"/>\r\n       <use x=\"127.246094\" xlink:href=\"#DejaVuSans-31\"/>\r\n       <use x=\"190.869141\" xlink:href=\"#DejaVuSans-37\"/>\r\n      </g>\r\n     </g>\r\n    </g>\r\n    <g id=\"xtick_151\">\r\n     <g id=\"line2d_151\">\r\n      <g>\r\n       <use style=\"stroke:#000000;stroke-width:0.8;\" x=\"676.156366\" xlink:href=\"#ma1f9dacb08\" y=\"402.838125\"/>\r\n      </g>\r\n     </g>\r\n     <g id=\"text_151\">\r\n      <!-- 8967 -->\r\n      <g transform=\"translate(663.431366 417.436562)scale(0.1 -0.1)\">\r\n       <use xlink:href=\"#DejaVuSans-38\"/>\r\n       <use x=\"63.623047\" xlink:href=\"#DejaVuSans-39\"/>\r\n       <use x=\"127.246094\" xlink:href=\"#DejaVuSans-36\"/>\r\n       <use x=\"190.869141\" xlink:href=\"#DejaVuSans-37\"/>\r\n      </g>\r\n     </g>\r\n    </g>\r\n    <g id=\"xtick_152\">\r\n     <g id=\"line2d_152\">\r\n      <g>\r\n       <use style=\"stroke:#000000;stroke-width:0.8;\" x=\"676.156366\" xlink:href=\"#ma1f9dacb08\" y=\"402.838125\"/>\r\n      </g>\r\n     </g>\r\n     <g id=\"text_152\">\r\n      <!-- 8967 -->\r\n      <g transform=\"translate(663.431366 417.436562)scale(0.1 -0.1)\">\r\n       <use xlink:href=\"#DejaVuSans-38\"/>\r\n       <use x=\"63.623047\" xlink:href=\"#DejaVuSans-39\"/>\r\n       <use x=\"127.246094\" xlink:href=\"#DejaVuSans-36\"/>\r\n       <use x=\"190.869141\" xlink:href=\"#DejaVuSans-37\"/>\r\n      </g>\r\n     </g>\r\n    </g>\r\n    <g id=\"xtick_153\">\r\n     <g id=\"line2d_153\">\r\n      <g>\r\n       <use style=\"stroke:#000000;stroke-width:0.8;\" x=\"683.842317\" xlink:href=\"#ma1f9dacb08\" y=\"402.838125\"/>\r\n      </g>\r\n     </g>\r\n     <g id=\"text_153\">\r\n      <!-- 9017 -->\r\n      <g transform=\"translate(671.117317 417.436562)scale(0.1 -0.1)\">\r\n       <use xlink:href=\"#DejaVuSans-39\"/>\r\n       <use x=\"63.623047\" xlink:href=\"#DejaVuSans-30\"/>\r\n       <use x=\"127.246094\" xlink:href=\"#DejaVuSans-31\"/>\r\n       <use x=\"190.869141\" xlink:href=\"#DejaVuSans-37\"/>\r\n      </g>\r\n     </g>\r\n    </g>\r\n    <g id=\"xtick_154\">\r\n     <g id=\"line2d_154\">\r\n      <g>\r\n       <use style=\"stroke:#000000;stroke-width:0.8;\" x=\"683.842317\" xlink:href=\"#ma1f9dacb08\" y=\"402.838125\"/>\r\n      </g>\r\n     </g>\r\n     <g id=\"text_154\">\r\n      <!-- 9017 -->\r\n      <g transform=\"translate(671.117317 417.436562)scale(0.1 -0.1)\">\r\n       <use xlink:href=\"#DejaVuSans-39\"/>\r\n       <use x=\"63.623047\" xlink:href=\"#DejaVuSans-30\"/>\r\n       <use x=\"127.246094\" xlink:href=\"#DejaVuSans-31\"/>\r\n       <use x=\"190.869141\" xlink:href=\"#DejaVuSans-37\"/>\r\n      </g>\r\n     </g>\r\n    </g>\r\n    <g id=\"xtick_155\">\r\n     <g id=\"line2d_155\">\r\n      <g>\r\n       <use style=\"stroke:#000000;stroke-width:0.8;\" x=\"691.528267\" xlink:href=\"#ma1f9dacb08\" y=\"402.838125\"/>\r\n      </g>\r\n     </g>\r\n     <g id=\"text_155\">\r\n      <!-- 9081 -->\r\n      <g transform=\"translate(678.803267 417.436562)scale(0.1 -0.1)\">\r\n       <use xlink:href=\"#DejaVuSans-39\"/>\r\n       <use x=\"63.623047\" xlink:href=\"#DejaVuSans-30\"/>\r\n       <use x=\"127.246094\" xlink:href=\"#DejaVuSans-38\"/>\r\n       <use x=\"190.869141\" xlink:href=\"#DejaVuSans-31\"/>\r\n      </g>\r\n     </g>\r\n    </g>\r\n    <g id=\"xtick_156\">\r\n     <g id=\"line2d_156\">\r\n      <g>\r\n       <use style=\"stroke:#000000;stroke-width:0.8;\" x=\"691.528267\" xlink:href=\"#ma1f9dacb08\" y=\"402.838125\"/>\r\n      </g>\r\n     </g>\r\n     <g id=\"text_156\">\r\n      <!-- 9081 -->\r\n      <g transform=\"translate(678.803267 417.436562)scale(0.1 -0.1)\">\r\n       <use xlink:href=\"#DejaVuSans-39\"/>\r\n       <use x=\"63.623047\" xlink:href=\"#DejaVuSans-30\"/>\r\n       <use x=\"127.246094\" xlink:href=\"#DejaVuSans-38\"/>\r\n       <use x=\"190.869141\" xlink:href=\"#DejaVuSans-31\"/>\r\n      </g>\r\n     </g>\r\n    </g>\r\n    <g id=\"xtick_157\">\r\n     <g id=\"line2d_157\">\r\n      <g>\r\n       <use style=\"stroke:#000000;stroke-width:0.8;\" x=\"699.214217\" xlink:href=\"#ma1f9dacb08\" y=\"402.838125\"/>\r\n      </g>\r\n     </g>\r\n     <g id=\"text_157\">\r\n      <!-- 9188 -->\r\n      <g transform=\"translate(686.489217 417.436562)scale(0.1 -0.1)\">\r\n       <use xlink:href=\"#DejaVuSans-39\"/>\r\n       <use x=\"63.623047\" xlink:href=\"#DejaVuSans-31\"/>\r\n       <use x=\"127.246094\" xlink:href=\"#DejaVuSans-38\"/>\r\n       <use x=\"190.869141\" xlink:href=\"#DejaVuSans-38\"/>\r\n      </g>\r\n     </g>\r\n    </g>\r\n    <g id=\"xtick_158\">\r\n     <g id=\"line2d_158\">\r\n      <g>\r\n       <use style=\"stroke:#000000;stroke-width:0.8;\" x=\"699.214217\" xlink:href=\"#ma1f9dacb08\" y=\"402.838125\"/>\r\n      </g>\r\n     </g>\r\n     <g id=\"text_158\">\r\n      <!-- 9188 -->\r\n      <g transform=\"translate(686.489217 417.436562)scale(0.1 -0.1)\">\r\n       <use xlink:href=\"#DejaVuSans-39\"/>\r\n       <use x=\"63.623047\" xlink:href=\"#DejaVuSans-31\"/>\r\n       <use x=\"127.246094\" xlink:href=\"#DejaVuSans-38\"/>\r\n       <use x=\"190.869141\" xlink:href=\"#DejaVuSans-38\"/>\r\n      </g>\r\n     </g>\r\n    </g>\r\n    <g id=\"xtick_159\">\r\n     <g id=\"line2d_159\">\r\n      <g>\r\n       <use style=\"stroke:#000000;stroke-width:0.8;\" x=\"706.900168\" xlink:href=\"#ma1f9dacb08\" y=\"402.838125\"/>\r\n      </g>\r\n     </g>\r\n     <g id=\"text_159\">\r\n      <!-- 9238 -->\r\n      <g transform=\"translate(694.175168 417.436562)scale(0.1 -0.1)\">\r\n       <use xlink:href=\"#DejaVuSans-39\"/>\r\n       <use x=\"63.623047\" xlink:href=\"#DejaVuSans-32\"/>\r\n       <use x=\"127.246094\" xlink:href=\"#DejaVuSans-33\"/>\r\n       <use x=\"190.869141\" xlink:href=\"#DejaVuSans-38\"/>\r\n      </g>\r\n     </g>\r\n    </g>\r\n    <g id=\"xtick_160\">\r\n     <g id=\"line2d_160\">\r\n      <g>\r\n       <use style=\"stroke:#000000;stroke-width:0.8;\" x=\"706.900168\" xlink:href=\"#ma1f9dacb08\" y=\"402.838125\"/>\r\n      </g>\r\n     </g>\r\n     <g id=\"text_160\">\r\n      <!-- 9238 -->\r\n      <g transform=\"translate(694.175168 417.436562)scale(0.1 -0.1)\">\r\n       <use xlink:href=\"#DejaVuSans-39\"/>\r\n       <use x=\"63.623047\" xlink:href=\"#DejaVuSans-32\"/>\r\n       <use x=\"127.246094\" xlink:href=\"#DejaVuSans-33\"/>\r\n       <use x=\"190.869141\" xlink:href=\"#DejaVuSans-38\"/>\r\n      </g>\r\n     </g>\r\n    </g>\r\n    <g id=\"xtick_161\">\r\n     <g id=\"line2d_161\">\r\n      <g>\r\n       <use style=\"stroke:#000000;stroke-width:0.8;\" x=\"714.586118\" xlink:href=\"#ma1f9dacb08\" y=\"402.838125\"/>\r\n      </g>\r\n     </g>\r\n     <g id=\"text_161\">\r\n      <!-- 9288 -->\r\n      <g transform=\"translate(701.861118 417.436562)scale(0.1 -0.1)\">\r\n       <use xlink:href=\"#DejaVuSans-39\"/>\r\n       <use x=\"63.623047\" xlink:href=\"#DejaVuSans-32\"/>\r\n       <use x=\"127.246094\" xlink:href=\"#DejaVuSans-38\"/>\r\n       <use x=\"190.869141\" xlink:href=\"#DejaVuSans-38\"/>\r\n      </g>\r\n     </g>\r\n    </g>\r\n    <g id=\"xtick_162\">\r\n     <g id=\"line2d_162\">\r\n      <g>\r\n       <use style=\"stroke:#000000;stroke-width:0.8;\" x=\"714.586118\" xlink:href=\"#ma1f9dacb08\" y=\"402.838125\"/>\r\n      </g>\r\n     </g>\r\n     <g id=\"text_162\">\r\n      <!-- 9288 -->\r\n      <g transform=\"translate(701.861118 417.436562)scale(0.1 -0.1)\">\r\n       <use xlink:href=\"#DejaVuSans-39\"/>\r\n       <use x=\"63.623047\" xlink:href=\"#DejaVuSans-32\"/>\r\n       <use x=\"127.246094\" xlink:href=\"#DejaVuSans-38\"/>\r\n       <use x=\"190.869141\" xlink:href=\"#DejaVuSans-38\"/>\r\n      </g>\r\n     </g>\r\n    </g>\r\n    <g id=\"xtick_163\">\r\n     <g id=\"line2d_163\">\r\n      <g>\r\n       <use style=\"stroke:#000000;stroke-width:0.8;\" x=\"722.272069\" xlink:href=\"#ma1f9dacb08\" y=\"402.838125\"/>\r\n      </g>\r\n     </g>\r\n     <g id=\"text_163\">\r\n      <!-- 9338 -->\r\n      <g transform=\"translate(709.547069 417.436562)scale(0.1 -0.1)\">\r\n       <use xlink:href=\"#DejaVuSans-39\"/>\r\n       <use x=\"63.623047\" xlink:href=\"#DejaVuSans-33\"/>\r\n       <use x=\"127.246094\" xlink:href=\"#DejaVuSans-33\"/>\r\n       <use x=\"190.869141\" xlink:href=\"#DejaVuSans-38\"/>\r\n      </g>\r\n     </g>\r\n    </g>\r\n    <g id=\"xtick_164\">\r\n     <g id=\"line2d_164\">\r\n      <g>\r\n       <use style=\"stroke:#000000;stroke-width:0.8;\" x=\"722.272069\" xlink:href=\"#ma1f9dacb08\" y=\"402.838125\"/>\r\n      </g>\r\n     </g>\r\n     <g id=\"text_164\">\r\n      <!-- 9338 -->\r\n      <g transform=\"translate(709.547069 417.436562)scale(0.1 -0.1)\">\r\n       <use xlink:href=\"#DejaVuSans-39\"/>\r\n       <use x=\"63.623047\" xlink:href=\"#DejaVuSans-33\"/>\r\n       <use x=\"127.246094\" xlink:href=\"#DejaVuSans-33\"/>\r\n       <use x=\"190.869141\" xlink:href=\"#DejaVuSans-38\"/>\r\n      </g>\r\n     </g>\r\n    </g>\r\n    <g id=\"xtick_165\">\r\n     <g id=\"line2d_165\">\r\n      <g>\r\n       <use style=\"stroke:#000000;stroke-width:0.8;\" x=\"729.958019\" xlink:href=\"#ma1f9dacb08\" y=\"402.838125\"/>\r\n      </g>\r\n     </g>\r\n     <g id=\"text_165\">\r\n      <!-- 9388 -->\r\n      <g transform=\"translate(717.233019 417.436562)scale(0.1 -0.1)\">\r\n       <use xlink:href=\"#DejaVuSans-39\"/>\r\n       <use x=\"63.623047\" xlink:href=\"#DejaVuSans-33\"/>\r\n       <use x=\"127.246094\" xlink:href=\"#DejaVuSans-38\"/>\r\n       <use x=\"190.869141\" xlink:href=\"#DejaVuSans-38\"/>\r\n      </g>\r\n     </g>\r\n    </g>\r\n    <g id=\"xtick_166\">\r\n     <g id=\"line2d_166\">\r\n      <g>\r\n       <use style=\"stroke:#000000;stroke-width:0.8;\" x=\"729.958019\" xlink:href=\"#ma1f9dacb08\" y=\"402.838125\"/>\r\n      </g>\r\n     </g>\r\n     <g id=\"text_166\">\r\n      <!-- 9388 -->\r\n      <g transform=\"translate(717.233019 417.436562)scale(0.1 -0.1)\">\r\n       <use xlink:href=\"#DejaVuSans-39\"/>\r\n       <use x=\"63.623047\" xlink:href=\"#DejaVuSans-33\"/>\r\n       <use x=\"127.246094\" xlink:href=\"#DejaVuSans-38\"/>\r\n       <use x=\"190.869141\" xlink:href=\"#DejaVuSans-38\"/>\r\n      </g>\r\n     </g>\r\n    </g>\r\n    <g id=\"xtick_167\">\r\n     <g id=\"line2d_167\">\r\n      <g>\r\n       <use style=\"stroke:#000000;stroke-width:0.8;\" x=\"737.64397\" xlink:href=\"#ma1f9dacb08\" y=\"402.838125\"/>\r\n      </g>\r\n     </g>\r\n     <g id=\"text_167\">\r\n      <!-- 9438 -->\r\n      <g transform=\"translate(724.91897 417.436562)scale(0.1 -0.1)\">\r\n       <use xlink:href=\"#DejaVuSans-39\"/>\r\n       <use x=\"63.623047\" xlink:href=\"#DejaVuSans-34\"/>\r\n       <use x=\"127.246094\" xlink:href=\"#DejaVuSans-33\"/>\r\n       <use x=\"190.869141\" xlink:href=\"#DejaVuSans-38\"/>\r\n      </g>\r\n     </g>\r\n    </g>\r\n    <g id=\"xtick_168\">\r\n     <g id=\"line2d_168\">\r\n      <g>\r\n       <use style=\"stroke:#000000;stroke-width:0.8;\" x=\"737.64397\" xlink:href=\"#ma1f9dacb08\" y=\"402.838125\"/>\r\n      </g>\r\n     </g>\r\n     <g id=\"text_168\">\r\n      <!-- 9438 -->\r\n      <g transform=\"translate(724.91897 417.436562)scale(0.1 -0.1)\">\r\n       <use xlink:href=\"#DejaVuSans-39\"/>\r\n       <use x=\"63.623047\" xlink:href=\"#DejaVuSans-34\"/>\r\n       <use x=\"127.246094\" xlink:href=\"#DejaVuSans-33\"/>\r\n       <use x=\"190.869141\" xlink:href=\"#DejaVuSans-38\"/>\r\n      </g>\r\n     </g>\r\n    </g>\r\n    <g id=\"xtick_169\">\r\n     <g id=\"line2d_169\">\r\n      <g>\r\n       <use style=\"stroke:#000000;stroke-width:0.8;\" x=\"745.32992\" xlink:href=\"#ma1f9dacb08\" y=\"402.838125\"/>\r\n      </g>\r\n     </g>\r\n     <g id=\"text_169\">\r\n      <!-- 9488 -->\r\n      <g transform=\"translate(732.60492 417.436562)scale(0.1 -0.1)\">\r\n       <use xlink:href=\"#DejaVuSans-39\"/>\r\n       <use x=\"63.623047\" xlink:href=\"#DejaVuSans-34\"/>\r\n       <use x=\"127.246094\" xlink:href=\"#DejaVuSans-38\"/>\r\n       <use x=\"190.869141\" xlink:href=\"#DejaVuSans-38\"/>\r\n      </g>\r\n     </g>\r\n    </g>\r\n    <g id=\"xtick_170\">\r\n     <g id=\"line2d_170\">\r\n      <g>\r\n       <use style=\"stroke:#000000;stroke-width:0.8;\" x=\"745.32992\" xlink:href=\"#ma1f9dacb08\" y=\"402.838125\"/>\r\n      </g>\r\n     </g>\r\n     <g id=\"text_170\">\r\n      <!-- 9488 -->\r\n      <g transform=\"translate(732.60492 417.436562)scale(0.1 -0.1)\">\r\n       <use xlink:href=\"#DejaVuSans-39\"/>\r\n       <use x=\"63.623047\" xlink:href=\"#DejaVuSans-34\"/>\r\n       <use x=\"127.246094\" xlink:href=\"#DejaVuSans-38\"/>\r\n       <use x=\"190.869141\" xlink:href=\"#DejaVuSans-38\"/>\r\n      </g>\r\n     </g>\r\n    </g>\r\n    <g id=\"xtick_171\">\r\n     <g id=\"line2d_171\">\r\n      <g>\r\n       <use style=\"stroke:#000000;stroke-width:0.8;\" x=\"753.01587\" xlink:href=\"#ma1f9dacb08\" y=\"402.838125\"/>\r\n      </g>\r\n     </g>\r\n     <g id=\"text_171\">\r\n      <!-- 9524 -->\r\n      <g transform=\"translate(740.29087 417.436562)scale(0.1 -0.1)\">\r\n       <use xlink:href=\"#DejaVuSans-39\"/>\r\n       <use x=\"63.623047\" xlink:href=\"#DejaVuSans-35\"/>\r\n       <use x=\"127.246094\" xlink:href=\"#DejaVuSans-32\"/>\r\n       <use x=\"190.869141\" xlink:href=\"#DejaVuSans-34\"/>\r\n      </g>\r\n     </g>\r\n    </g>\r\n    <g id=\"xtick_172\">\r\n     <g id=\"line2d_172\">\r\n      <g>\r\n       <use style=\"stroke:#000000;stroke-width:0.8;\" x=\"753.01587\" xlink:href=\"#ma1f9dacb08\" y=\"402.838125\"/>\r\n      </g>\r\n     </g>\r\n     <g id=\"text_172\">\r\n      <!-- 9524 -->\r\n      <g transform=\"translate(740.29087 417.436562)scale(0.1 -0.1)\">\r\n       <use xlink:href=\"#DejaVuSans-39\"/>\r\n       <use x=\"63.623047\" xlink:href=\"#DejaVuSans-35\"/>\r\n       <use x=\"127.246094\" xlink:href=\"#DejaVuSans-32\"/>\r\n       <use x=\"190.869141\" xlink:href=\"#DejaVuSans-34\"/>\r\n      </g>\r\n     </g>\r\n    </g>\r\n    <g id=\"xtick_173\">\r\n     <g id=\"line2d_173\">\r\n      <g>\r\n       <use style=\"stroke:#000000;stroke-width:0.8;\" x=\"760.701821\" xlink:href=\"#ma1f9dacb08\" y=\"402.838125\"/>\r\n      </g>\r\n     </g>\r\n     <g id=\"text_173\">\r\n      <!-- 9589 -->\r\n      <g transform=\"translate(747.976821 417.436562)scale(0.1 -0.1)\">\r\n       <use xlink:href=\"#DejaVuSans-39\"/>\r\n       <use x=\"63.623047\" xlink:href=\"#DejaVuSans-35\"/>\r\n       <use x=\"127.246094\" xlink:href=\"#DejaVuSans-38\"/>\r\n       <use x=\"190.869141\" xlink:href=\"#DejaVuSans-39\"/>\r\n      </g>\r\n     </g>\r\n    </g>\r\n    <g id=\"xtick_174\">\r\n     <g id=\"line2d_174\">\r\n      <g>\r\n       <use style=\"stroke:#000000;stroke-width:0.8;\" x=\"760.701821\" xlink:href=\"#ma1f9dacb08\" y=\"402.838125\"/>\r\n      </g>\r\n     </g>\r\n     <g id=\"text_174\">\r\n      <!-- 9589 -->\r\n      <g transform=\"translate(747.976821 417.436562)scale(0.1 -0.1)\">\r\n       <use xlink:href=\"#DejaVuSans-39\"/>\r\n       <use x=\"63.623047\" xlink:href=\"#DejaVuSans-35\"/>\r\n       <use x=\"127.246094\" xlink:href=\"#DejaVuSans-38\"/>\r\n       <use x=\"190.869141\" xlink:href=\"#DejaVuSans-39\"/>\r\n      </g>\r\n     </g>\r\n    </g>\r\n    <g id=\"xtick_175\">\r\n     <g id=\"line2d_175\">\r\n      <g>\r\n       <use style=\"stroke:#000000;stroke-width:0.8;\" x=\"768.387771\" xlink:href=\"#ma1f9dacb08\" y=\"402.838125\"/>\r\n      </g>\r\n     </g>\r\n     <g id=\"text_175\">\r\n      <!-- 9639 -->\r\n      <g transform=\"translate(755.662771 417.436562)scale(0.1 -0.1)\">\r\n       <use xlink:href=\"#DejaVuSans-39\"/>\r\n       <use x=\"63.623047\" xlink:href=\"#DejaVuSans-36\"/>\r\n       <use x=\"127.246094\" xlink:href=\"#DejaVuSans-33\"/>\r\n       <use x=\"190.869141\" xlink:href=\"#DejaVuSans-39\"/>\r\n      </g>\r\n     </g>\r\n    </g>\r\n    <g id=\"xtick_176\">\r\n     <g id=\"line2d_176\">\r\n      <g>\r\n       <use style=\"stroke:#000000;stroke-width:0.8;\" x=\"768.387771\" xlink:href=\"#ma1f9dacb08\" y=\"402.838125\"/>\r\n      </g>\r\n     </g>\r\n     <g id=\"text_176\">\r\n      <!-- 9639 -->\r\n      <g transform=\"translate(755.662771 417.436562)scale(0.1 -0.1)\">\r\n       <use xlink:href=\"#DejaVuSans-39\"/>\r\n       <use x=\"63.623047\" xlink:href=\"#DejaVuSans-36\"/>\r\n       <use x=\"127.246094\" xlink:href=\"#DejaVuSans-33\"/>\r\n       <use x=\"190.869141\" xlink:href=\"#DejaVuSans-39\"/>\r\n      </g>\r\n     </g>\r\n    </g>\r\n    <g id=\"xtick_177\">\r\n     <g id=\"line2d_177\">\r\n      <g>\r\n       <use style=\"stroke:#000000;stroke-width:0.8;\" x=\"776.073722\" xlink:href=\"#ma1f9dacb08\" y=\"402.838125\"/>\r\n      </g>\r\n     </g>\r\n     <g id=\"text_177\">\r\n      <!-- 9768 -->\r\n      <g transform=\"translate(763.348722 417.436562)scale(0.1 -0.1)\">\r\n       <use xlink:href=\"#DejaVuSans-39\"/>\r\n       <use x=\"63.623047\" xlink:href=\"#DejaVuSans-37\"/>\r\n       <use x=\"127.246094\" xlink:href=\"#DejaVuSans-36\"/>\r\n       <use x=\"190.869141\" xlink:href=\"#DejaVuSans-38\"/>\r\n      </g>\r\n     </g>\r\n    </g>\r\n    <g id=\"xtick_178\">\r\n     <g id=\"line2d_178\">\r\n      <g>\r\n       <use style=\"stroke:#000000;stroke-width:0.8;\" x=\"776.073722\" xlink:href=\"#ma1f9dacb08\" y=\"402.838125\"/>\r\n      </g>\r\n     </g>\r\n     <g id=\"text_178\">\r\n      <!-- 9768 -->\r\n      <g transform=\"translate(763.348722 417.436562)scale(0.1 -0.1)\">\r\n       <use xlink:href=\"#DejaVuSans-39\"/>\r\n       <use x=\"63.623047\" xlink:href=\"#DejaVuSans-37\"/>\r\n       <use x=\"127.246094\" xlink:href=\"#DejaVuSans-36\"/>\r\n       <use x=\"190.869141\" xlink:href=\"#DejaVuSans-38\"/>\r\n      </g>\r\n     </g>\r\n    </g>\r\n    <g id=\"xtick_179\">\r\n     <g id=\"line2d_179\">\r\n      <g>\r\n       <use style=\"stroke:#000000;stroke-width:0.8;\" x=\"783.759672\" xlink:href=\"#ma1f9dacb08\" y=\"402.838125\"/>\r\n      </g>\r\n     </g>\r\n     <g id=\"text_179\">\r\n      <!-- 9818 -->\r\n      <g transform=\"translate(771.034672 417.436562)scale(0.1 -0.1)\">\r\n       <use xlink:href=\"#DejaVuSans-39\"/>\r\n       <use x=\"63.623047\" xlink:href=\"#DejaVuSans-38\"/>\r\n       <use x=\"127.246094\" xlink:href=\"#DejaVuSans-31\"/>\r\n       <use x=\"190.869141\" xlink:href=\"#DejaVuSans-38\"/>\r\n      </g>\r\n     </g>\r\n    </g>\r\n    <g id=\"xtick_180\">\r\n     <g id=\"line2d_180\">\r\n      <g>\r\n       <use style=\"stroke:#000000;stroke-width:0.8;\" x=\"783.759672\" xlink:href=\"#ma1f9dacb08\" y=\"402.838125\"/>\r\n      </g>\r\n     </g>\r\n     <g id=\"text_180\">\r\n      <!-- 9818 -->\r\n      <g transform=\"translate(771.034672 417.436562)scale(0.1 -0.1)\">\r\n       <use xlink:href=\"#DejaVuSans-39\"/>\r\n       <use x=\"63.623047\" xlink:href=\"#DejaVuSans-38\"/>\r\n       <use x=\"127.246094\" xlink:href=\"#DejaVuSans-31\"/>\r\n       <use x=\"190.869141\" xlink:href=\"#DejaVuSans-38\"/>\r\n      </g>\r\n     </g>\r\n    </g>\r\n    <g id=\"xtick_181\">\r\n     <g id=\"line2d_181\">\r\n      <g>\r\n       <use style=\"stroke:#000000;stroke-width:0.8;\" x=\"791.445622\" xlink:href=\"#ma1f9dacb08\" y=\"402.838125\"/>\r\n      </g>\r\n     </g>\r\n     <g id=\"text_181\">\r\n      <!-- 9868 -->\r\n      <g transform=\"translate(778.720622 417.436562)scale(0.1 -0.1)\">\r\n       <use xlink:href=\"#DejaVuSans-39\"/>\r\n       <use x=\"63.623047\" xlink:href=\"#DejaVuSans-38\"/>\r\n       <use x=\"127.246094\" xlink:href=\"#DejaVuSans-36\"/>\r\n       <use x=\"190.869141\" xlink:href=\"#DejaVuSans-38\"/>\r\n      </g>\r\n     </g>\r\n    </g>\r\n    <g id=\"xtick_182\">\r\n     <g id=\"line2d_182\">\r\n      <g>\r\n       <use style=\"stroke:#000000;stroke-width:0.8;\" x=\"791.445622\" xlink:href=\"#ma1f9dacb08\" y=\"402.838125\"/>\r\n      </g>\r\n     </g>\r\n     <g id=\"text_182\">\r\n      <!-- 9868 -->\r\n      <g transform=\"translate(778.720622 417.436562)scale(0.1 -0.1)\">\r\n       <use xlink:href=\"#DejaVuSans-39\"/>\r\n       <use x=\"63.623047\" xlink:href=\"#DejaVuSans-38\"/>\r\n       <use x=\"127.246094\" xlink:href=\"#DejaVuSans-36\"/>\r\n       <use x=\"190.869141\" xlink:href=\"#DejaVuSans-38\"/>\r\n      </g>\r\n     </g>\r\n    </g>\r\n    <g id=\"xtick_183\">\r\n     <g id=\"line2d_183\">\r\n      <g>\r\n       <use style=\"stroke:#000000;stroke-width:0.8;\" x=\"799.131573\" xlink:href=\"#ma1f9dacb08\" y=\"402.838125\"/>\r\n      </g>\r\n     </g>\r\n     <g id=\"text_183\">\r\n      <!-- 9918 -->\r\n      <g transform=\"translate(786.406573 417.436562)scale(0.1 -0.1)\">\r\n       <use xlink:href=\"#DejaVuSans-39\"/>\r\n       <use x=\"63.623047\" xlink:href=\"#DejaVuSans-39\"/>\r\n       <use x=\"127.246094\" xlink:href=\"#DejaVuSans-31\"/>\r\n       <use x=\"190.869141\" xlink:href=\"#DejaVuSans-38\"/>\r\n      </g>\r\n     </g>\r\n    </g>\r\n    <g id=\"xtick_184\">\r\n     <g id=\"line2d_184\">\r\n      <g>\r\n       <use style=\"stroke:#000000;stroke-width:0.8;\" x=\"799.131573\" xlink:href=\"#ma1f9dacb08\" y=\"402.838125\"/>\r\n      </g>\r\n     </g>\r\n     <g id=\"text_184\">\r\n      <!-- 9918 -->\r\n      <g transform=\"translate(786.406573 417.436562)scale(0.1 -0.1)\">\r\n       <use xlink:href=\"#DejaVuSans-39\"/>\r\n       <use x=\"63.623047\" xlink:href=\"#DejaVuSans-39\"/>\r\n       <use x=\"127.246094\" xlink:href=\"#DejaVuSans-31\"/>\r\n       <use x=\"190.869141\" xlink:href=\"#DejaVuSans-38\"/>\r\n      </g>\r\n     </g>\r\n    </g>\r\n    <g id=\"xtick_185\">\r\n     <g id=\"line2d_185\">\r\n      <g>\r\n       <use style=\"stroke:#000000;stroke-width:0.8;\" x=\"806.817523\" xlink:href=\"#ma1f9dacb08\" y=\"402.838125\"/>\r\n      </g>\r\n     </g>\r\n     <g id=\"text_185\">\r\n      <!-- 9968 -->\r\n      <g transform=\"translate(794.092523 417.436562)scale(0.1 -0.1)\">\r\n       <use xlink:href=\"#DejaVuSans-39\"/>\r\n       <use x=\"63.623047\" xlink:href=\"#DejaVuSans-39\"/>\r\n       <use x=\"127.246094\" xlink:href=\"#DejaVuSans-36\"/>\r\n       <use x=\"190.869141\" xlink:href=\"#DejaVuSans-38\"/>\r\n      </g>\r\n     </g>\r\n    </g>\r\n    <g id=\"xtick_186\">\r\n     <g id=\"line2d_186\">\r\n      <g>\r\n       <use style=\"stroke:#000000;stroke-width:0.8;\" x=\"806.817523\" xlink:href=\"#ma1f9dacb08\" y=\"402.838125\"/>\r\n      </g>\r\n     </g>\r\n     <g id=\"text_186\">\r\n      <!-- 9968 -->\r\n      <g transform=\"translate(794.092523 417.436562)scale(0.1 -0.1)\">\r\n       <use xlink:href=\"#DejaVuSans-39\"/>\r\n       <use x=\"63.623047\" xlink:href=\"#DejaVuSans-39\"/>\r\n       <use x=\"127.246094\" xlink:href=\"#DejaVuSans-36\"/>\r\n       <use x=\"190.869141\" xlink:href=\"#DejaVuSans-38\"/>\r\n      </g>\r\n     </g>\r\n    </g>\r\n    <g id=\"xtick_187\">\r\n     <g id=\"line2d_187\">\r\n      <g>\r\n       <use style=\"stroke:#000000;stroke-width:0.8;\" x=\"814.503474\" xlink:href=\"#ma1f9dacb08\" y=\"402.838125\"/>\r\n      </g>\r\n     </g>\r\n     <g id=\"text_187\">\r\n      <!-- 10018 -->\r\n      <g transform=\"translate(798.597224 417.436562)scale(0.1 -0.1)\">\r\n       <use xlink:href=\"#DejaVuSans-31\"/>\r\n       <use x=\"63.623047\" xlink:href=\"#DejaVuSans-30\"/>\r\n       <use x=\"127.246094\" xlink:href=\"#DejaVuSans-30\"/>\r\n       <use x=\"190.869141\" xlink:href=\"#DejaVuSans-31\"/>\r\n       <use x=\"254.492188\" xlink:href=\"#DejaVuSans-38\"/>\r\n      </g>\r\n     </g>\r\n    </g>\r\n    <g id=\"xtick_188\">\r\n     <g id=\"line2d_188\">\r\n      <g>\r\n       <use style=\"stroke:#000000;stroke-width:0.8;\" x=\"814.503474\" xlink:href=\"#ma1f9dacb08\" y=\"402.838125\"/>\r\n      </g>\r\n     </g>\r\n     <g id=\"text_188\">\r\n      <!-- 10018 -->\r\n      <g transform=\"translate(798.597224 417.436562)scale(0.1 -0.1)\">\r\n       <use xlink:href=\"#DejaVuSans-31\"/>\r\n       <use x=\"63.623047\" xlink:href=\"#DejaVuSans-30\"/>\r\n       <use x=\"127.246094\" xlink:href=\"#DejaVuSans-30\"/>\r\n       <use x=\"190.869141\" xlink:href=\"#DejaVuSans-31\"/>\r\n       <use x=\"254.492188\" xlink:href=\"#DejaVuSans-38\"/>\r\n      </g>\r\n     </g>\r\n    </g>\r\n    <g id=\"xtick_189\">\r\n     <g id=\"line2d_189\">\r\n      <g>\r\n       <use style=\"stroke:#000000;stroke-width:0.8;\" x=\"822.189424\" xlink:href=\"#ma1f9dacb08\" y=\"402.838125\"/>\r\n      </g>\r\n     </g>\r\n     <g id=\"text_189\">\r\n      <!-- 10068 -->\r\n      <g transform=\"translate(806.283174 417.436562)scale(0.1 -0.1)\">\r\n       <use xlink:href=\"#DejaVuSans-31\"/>\r\n       <use x=\"63.623047\" xlink:href=\"#DejaVuSans-30\"/>\r\n       <use x=\"127.246094\" xlink:href=\"#DejaVuSans-30\"/>\r\n       <use x=\"190.869141\" xlink:href=\"#DejaVuSans-36\"/>\r\n       <use x=\"254.492188\" xlink:href=\"#DejaVuSans-38\"/>\r\n      </g>\r\n     </g>\r\n    </g>\r\n    <g id=\"xtick_190\">\r\n     <g id=\"line2d_190\">\r\n      <g>\r\n       <use style=\"stroke:#000000;stroke-width:0.8;\" x=\"822.189424\" xlink:href=\"#ma1f9dacb08\" y=\"402.838125\"/>\r\n      </g>\r\n     </g>\r\n     <g id=\"text_190\">\r\n      <!-- 10068 -->\r\n      <g transform=\"translate(806.283174 417.436562)scale(0.1 -0.1)\">\r\n       <use xlink:href=\"#DejaVuSans-31\"/>\r\n       <use x=\"63.623047\" xlink:href=\"#DejaVuSans-30\"/>\r\n       <use x=\"127.246094\" xlink:href=\"#DejaVuSans-30\"/>\r\n       <use x=\"190.869141\" xlink:href=\"#DejaVuSans-36\"/>\r\n       <use x=\"254.492188\" xlink:href=\"#DejaVuSans-38\"/>\r\n      </g>\r\n     </g>\r\n    </g>\r\n    <g id=\"xtick_191\">\r\n     <g id=\"line2d_191\">\r\n      <g>\r\n       <use style=\"stroke:#000000;stroke-width:0.8;\" x=\"829.875374\" xlink:href=\"#ma1f9dacb08\" y=\"402.838125\"/>\r\n      </g>\r\n     </g>\r\n     <g id=\"text_191\">\r\n      <!-- 10118 -->\r\n      <g transform=\"translate(813.969124 417.436562)scale(0.1 -0.1)\">\r\n       <use xlink:href=\"#DejaVuSans-31\"/>\r\n       <use x=\"63.623047\" xlink:href=\"#DejaVuSans-30\"/>\r\n       <use x=\"127.246094\" xlink:href=\"#DejaVuSans-31\"/>\r\n       <use x=\"190.869141\" xlink:href=\"#DejaVuSans-31\"/>\r\n       <use x=\"254.492188\" xlink:href=\"#DejaVuSans-38\"/>\r\n      </g>\r\n     </g>\r\n    </g>\r\n    <g id=\"xtick_192\">\r\n     <g id=\"line2d_192\">\r\n      <g>\r\n       <use style=\"stroke:#000000;stroke-width:0.8;\" x=\"829.875374\" xlink:href=\"#ma1f9dacb08\" y=\"402.838125\"/>\r\n      </g>\r\n     </g>\r\n     <g id=\"text_192\">\r\n      <!-- 10118 -->\r\n      <g transform=\"translate(813.969124 417.436562)scale(0.1 -0.1)\">\r\n       <use xlink:href=\"#DejaVuSans-31\"/>\r\n       <use x=\"63.623047\" xlink:href=\"#DejaVuSans-30\"/>\r\n       <use x=\"127.246094\" xlink:href=\"#DejaVuSans-31\"/>\r\n       <use x=\"190.869141\" xlink:href=\"#DejaVuSans-31\"/>\r\n       <use x=\"254.492188\" xlink:href=\"#DejaVuSans-38\"/>\r\n      </g>\r\n     </g>\r\n    </g>\r\n    <g id=\"xtick_193\">\r\n     <g id=\"line2d_193\">\r\n      <g>\r\n       <use style=\"stroke:#000000;stroke-width:0.8;\" x=\"837.561325\" xlink:href=\"#ma1f9dacb08\" y=\"402.838125\"/>\r\n      </g>\r\n     </g>\r\n     <g id=\"text_193\">\r\n      <!-- 10168 -->\r\n      <g transform=\"translate(821.655075 417.436562)scale(0.1 -0.1)\">\r\n       <use xlink:href=\"#DejaVuSans-31\"/>\r\n       <use x=\"63.623047\" xlink:href=\"#DejaVuSans-30\"/>\r\n       <use x=\"127.246094\" xlink:href=\"#DejaVuSans-31\"/>\r\n       <use x=\"190.869141\" xlink:href=\"#DejaVuSans-36\"/>\r\n       <use x=\"254.492188\" xlink:href=\"#DejaVuSans-38\"/>\r\n      </g>\r\n     </g>\r\n    </g>\r\n    <g id=\"xtick_194\">\r\n     <g id=\"line2d_194\">\r\n      <g>\r\n       <use style=\"stroke:#000000;stroke-width:0.8;\" x=\"837.561325\" xlink:href=\"#ma1f9dacb08\" y=\"402.838125\"/>\r\n      </g>\r\n     </g>\r\n     <g id=\"text_194\">\r\n      <!-- 10168 -->\r\n      <g transform=\"translate(821.655075 417.436562)scale(0.1 -0.1)\">\r\n       <use xlink:href=\"#DejaVuSans-31\"/>\r\n       <use x=\"63.623047\" xlink:href=\"#DejaVuSans-30\"/>\r\n       <use x=\"127.246094\" xlink:href=\"#DejaVuSans-31\"/>\r\n       <use x=\"190.869141\" xlink:href=\"#DejaVuSans-36\"/>\r\n       <use x=\"254.492188\" xlink:href=\"#DejaVuSans-38\"/>\r\n      </g>\r\n     </g>\r\n    </g>\r\n    <g id=\"xtick_195\">\r\n     <g id=\"line2d_195\">\r\n      <g>\r\n       <use style=\"stroke:#000000;stroke-width:0.8;\" x=\"845.247275\" xlink:href=\"#ma1f9dacb08\" y=\"402.838125\"/>\r\n      </g>\r\n     </g>\r\n     <g id=\"text_195\">\r\n      <!-- 10218 -->\r\n      <g transform=\"translate(829.341025 417.436562)scale(0.1 -0.1)\">\r\n       <use xlink:href=\"#DejaVuSans-31\"/>\r\n       <use x=\"63.623047\" xlink:href=\"#DejaVuSans-30\"/>\r\n       <use x=\"127.246094\" xlink:href=\"#DejaVuSans-32\"/>\r\n       <use x=\"190.869141\" xlink:href=\"#DejaVuSans-31\"/>\r\n       <use x=\"254.492188\" xlink:href=\"#DejaVuSans-38\"/>\r\n      </g>\r\n     </g>\r\n    </g>\r\n    <g id=\"xtick_196\">\r\n     <g id=\"line2d_196\">\r\n      <g>\r\n       <use style=\"stroke:#000000;stroke-width:0.8;\" x=\"845.247275\" xlink:href=\"#ma1f9dacb08\" y=\"402.838125\"/>\r\n      </g>\r\n     </g>\r\n     <g id=\"text_196\">\r\n      <!-- 10218 -->\r\n      <g transform=\"translate(829.341025 417.436562)scale(0.1 -0.1)\">\r\n       <use xlink:href=\"#DejaVuSans-31\"/>\r\n       <use x=\"63.623047\" xlink:href=\"#DejaVuSans-30\"/>\r\n       <use x=\"127.246094\" xlink:href=\"#DejaVuSans-32\"/>\r\n       <use x=\"190.869141\" xlink:href=\"#DejaVuSans-31\"/>\r\n       <use x=\"254.492188\" xlink:href=\"#DejaVuSans-38\"/>\r\n      </g>\r\n     </g>\r\n    </g>\r\n    <g id=\"xtick_197\">\r\n     <g id=\"line2d_197\">\r\n      <g>\r\n       <use style=\"stroke:#000000;stroke-width:0.8;\" x=\"852.933226\" xlink:href=\"#ma1f9dacb08\" y=\"402.838125\"/>\r\n      </g>\r\n     </g>\r\n     <g id=\"text_197\">\r\n      <!-- 10268 -->\r\n      <g transform=\"translate(837.026976 417.436562)scale(0.1 -0.1)\">\r\n       <use xlink:href=\"#DejaVuSans-31\"/>\r\n       <use x=\"63.623047\" xlink:href=\"#DejaVuSans-30\"/>\r\n       <use x=\"127.246094\" xlink:href=\"#DejaVuSans-32\"/>\r\n       <use x=\"190.869141\" xlink:href=\"#DejaVuSans-36\"/>\r\n       <use x=\"254.492188\" xlink:href=\"#DejaVuSans-38\"/>\r\n      </g>\r\n     </g>\r\n    </g>\r\n    <g id=\"xtick_198\">\r\n     <g id=\"line2d_198\">\r\n      <g>\r\n       <use style=\"stroke:#000000;stroke-width:0.8;\" x=\"852.933226\" xlink:href=\"#ma1f9dacb08\" y=\"402.838125\"/>\r\n      </g>\r\n     </g>\r\n     <g id=\"text_198\">\r\n      <!-- 10268 -->\r\n      <g transform=\"translate(837.026976 417.436562)scale(0.1 -0.1)\">\r\n       <use xlink:href=\"#DejaVuSans-31\"/>\r\n       <use x=\"63.623047\" xlink:href=\"#DejaVuSans-30\"/>\r\n       <use x=\"127.246094\" xlink:href=\"#DejaVuSans-32\"/>\r\n       <use x=\"190.869141\" xlink:href=\"#DejaVuSans-36\"/>\r\n       <use x=\"254.492188\" xlink:href=\"#DejaVuSans-38\"/>\r\n      </g>\r\n     </g>\r\n    </g>\r\n    <g id=\"xtick_199\">\r\n     <g id=\"line2d_199\">\r\n      <g>\r\n       <use style=\"stroke:#000000;stroke-width:0.8;\" x=\"860.619176\" xlink:href=\"#ma1f9dacb08\" y=\"402.838125\"/>\r\n      </g>\r\n     </g>\r\n     <g id=\"text_199\">\r\n      <!-- 10318 -->\r\n      <g transform=\"translate(844.712926 417.436562)scale(0.1 -0.1)\">\r\n       <use xlink:href=\"#DejaVuSans-31\"/>\r\n       <use x=\"63.623047\" xlink:href=\"#DejaVuSans-30\"/>\r\n       <use x=\"127.246094\" xlink:href=\"#DejaVuSans-33\"/>\r\n       <use x=\"190.869141\" xlink:href=\"#DejaVuSans-31\"/>\r\n       <use x=\"254.492188\" xlink:href=\"#DejaVuSans-38\"/>\r\n      </g>\r\n     </g>\r\n    </g>\r\n    <g id=\"xtick_200\">\r\n     <g id=\"line2d_200\">\r\n      <g>\r\n       <use style=\"stroke:#000000;stroke-width:0.8;\" x=\"860.619176\" xlink:href=\"#ma1f9dacb08\" y=\"402.838125\"/>\r\n      </g>\r\n     </g>\r\n     <g id=\"text_200\">\r\n      <!-- 10318 -->\r\n      <g transform=\"translate(844.712926 417.436562)scale(0.1 -0.1)\">\r\n       <use xlink:href=\"#DejaVuSans-31\"/>\r\n       <use x=\"63.623047\" xlink:href=\"#DejaVuSans-30\"/>\r\n       <use x=\"127.246094\" xlink:href=\"#DejaVuSans-33\"/>\r\n       <use x=\"190.869141\" xlink:href=\"#DejaVuSans-31\"/>\r\n       <use x=\"254.492188\" xlink:href=\"#DejaVuSans-38\"/>\r\n      </g>\r\n     </g>\r\n    </g>\r\n    <g id=\"xtick_201\">\r\n     <g id=\"line2d_201\">\r\n      <g>\r\n       <use style=\"stroke:#000000;stroke-width:0.8;\" x=\"868.305127\" xlink:href=\"#ma1f9dacb08\" y=\"402.838125\"/>\r\n      </g>\r\n     </g>\r\n     <g id=\"text_201\">\r\n      <!-- 10368 -->\r\n      <g transform=\"translate(852.398877 417.436562)scale(0.1 -0.1)\">\r\n       <use xlink:href=\"#DejaVuSans-31\"/>\r\n       <use x=\"63.623047\" xlink:href=\"#DejaVuSans-30\"/>\r\n       <use x=\"127.246094\" xlink:href=\"#DejaVuSans-33\"/>\r\n       <use x=\"190.869141\" xlink:href=\"#DejaVuSans-36\"/>\r\n       <use x=\"254.492188\" xlink:href=\"#DejaVuSans-38\"/>\r\n      </g>\r\n     </g>\r\n    </g>\r\n    <g id=\"xtick_202\">\r\n     <g id=\"line2d_202\">\r\n      <g>\r\n       <use style=\"stroke:#000000;stroke-width:0.8;\" x=\"868.305127\" xlink:href=\"#ma1f9dacb08\" y=\"402.838125\"/>\r\n      </g>\r\n     </g>\r\n     <g id=\"text_202\">\r\n      <!-- 10368 -->\r\n      <g transform=\"translate(852.398877 417.436562)scale(0.1 -0.1)\">\r\n       <use xlink:href=\"#DejaVuSans-31\"/>\r\n       <use x=\"63.623047\" xlink:href=\"#DejaVuSans-30\"/>\r\n       <use x=\"127.246094\" xlink:href=\"#DejaVuSans-33\"/>\r\n       <use x=\"190.869141\" xlink:href=\"#DejaVuSans-36\"/>\r\n       <use x=\"254.492188\" xlink:href=\"#DejaVuSans-38\"/>\r\n      </g>\r\n     </g>\r\n    </g>\r\n    <g id=\"xtick_203\">\r\n     <g id=\"line2d_203\">\r\n      <g>\r\n       <use style=\"stroke:#000000;stroke-width:0.8;\" x=\"875.991077\" xlink:href=\"#ma1f9dacb08\" y=\"402.838125\"/>\r\n      </g>\r\n     </g>\r\n     <g id=\"text_203\">\r\n      <!-- 10418 -->\r\n      <g transform=\"translate(860.084827 417.436562)scale(0.1 -0.1)\">\r\n       <use xlink:href=\"#DejaVuSans-31\"/>\r\n       <use x=\"63.623047\" xlink:href=\"#DejaVuSans-30\"/>\r\n       <use x=\"127.246094\" xlink:href=\"#DejaVuSans-34\"/>\r\n       <use x=\"190.869141\" xlink:href=\"#DejaVuSans-31\"/>\r\n       <use x=\"254.492188\" xlink:href=\"#DejaVuSans-38\"/>\r\n      </g>\r\n     </g>\r\n    </g>\r\n    <g id=\"xtick_204\">\r\n     <g id=\"line2d_204\">\r\n      <g>\r\n       <use style=\"stroke:#000000;stroke-width:0.8;\" x=\"875.991077\" xlink:href=\"#ma1f9dacb08\" y=\"402.838125\"/>\r\n      </g>\r\n     </g>\r\n     <g id=\"text_204\">\r\n      <!-- 10418 -->\r\n      <g transform=\"translate(860.084827 417.436562)scale(0.1 -0.1)\">\r\n       <use xlink:href=\"#DejaVuSans-31\"/>\r\n       <use x=\"63.623047\" xlink:href=\"#DejaVuSans-30\"/>\r\n       <use x=\"127.246094\" xlink:href=\"#DejaVuSans-34\"/>\r\n       <use x=\"190.869141\" xlink:href=\"#DejaVuSans-31\"/>\r\n       <use x=\"254.492188\" xlink:href=\"#DejaVuSans-38\"/>\r\n      </g>\r\n     </g>\r\n    </g>\r\n    <g id=\"xtick_205\">\r\n     <g id=\"line2d_205\">\r\n      <g>\r\n       <use style=\"stroke:#000000;stroke-width:0.8;\" x=\"883.677027\" xlink:href=\"#ma1f9dacb08\" y=\"402.838125\"/>\r\n      </g>\r\n     </g>\r\n     <g id=\"text_205\">\r\n      <!-- 10468 -->\r\n      <g transform=\"translate(867.770777 417.436562)scale(0.1 -0.1)\">\r\n       <use xlink:href=\"#DejaVuSans-31\"/>\r\n       <use x=\"63.623047\" xlink:href=\"#DejaVuSans-30\"/>\r\n       <use x=\"127.246094\" xlink:href=\"#DejaVuSans-34\"/>\r\n       <use x=\"190.869141\" xlink:href=\"#DejaVuSans-36\"/>\r\n       <use x=\"254.492188\" xlink:href=\"#DejaVuSans-38\"/>\r\n      </g>\r\n     </g>\r\n    </g>\r\n    <g id=\"xtick_206\">\r\n     <g id=\"line2d_206\">\r\n      <g>\r\n       <use style=\"stroke:#000000;stroke-width:0.8;\" x=\"883.677027\" xlink:href=\"#ma1f9dacb08\" y=\"402.838125\"/>\r\n      </g>\r\n     </g>\r\n     <g id=\"text_206\">\r\n      <!-- 10468 -->\r\n      <g transform=\"translate(867.770777 417.436562)scale(0.1 -0.1)\">\r\n       <use xlink:href=\"#DejaVuSans-31\"/>\r\n       <use x=\"63.623047\" xlink:href=\"#DejaVuSans-30\"/>\r\n       <use x=\"127.246094\" xlink:href=\"#DejaVuSans-34\"/>\r\n       <use x=\"190.869141\" xlink:href=\"#DejaVuSans-36\"/>\r\n       <use x=\"254.492188\" xlink:href=\"#DejaVuSans-38\"/>\r\n      </g>\r\n     </g>\r\n    </g>\r\n    <g id=\"xtick_207\">\r\n     <g id=\"line2d_207\">\r\n      <g>\r\n       <use style=\"stroke:#000000;stroke-width:0.8;\" x=\"891.362978\" xlink:href=\"#ma1f9dacb08\" y=\"402.838125\"/>\r\n      </g>\r\n     </g>\r\n     <g id=\"text_207\">\r\n      <!-- 10518 -->\r\n      <g transform=\"translate(875.456728 417.436562)scale(0.1 -0.1)\">\r\n       <use xlink:href=\"#DejaVuSans-31\"/>\r\n       <use x=\"63.623047\" xlink:href=\"#DejaVuSans-30\"/>\r\n       <use x=\"127.246094\" xlink:href=\"#DejaVuSans-35\"/>\r\n       <use x=\"190.869141\" xlink:href=\"#DejaVuSans-31\"/>\r\n       <use x=\"254.492188\" xlink:href=\"#DejaVuSans-38\"/>\r\n      </g>\r\n     </g>\r\n    </g>\r\n    <g id=\"xtick_208\">\r\n     <g id=\"line2d_208\">\r\n      <g>\r\n       <use style=\"stroke:#000000;stroke-width:0.8;\" x=\"891.362978\" xlink:href=\"#ma1f9dacb08\" y=\"402.838125\"/>\r\n      </g>\r\n     </g>\r\n     <g id=\"text_208\">\r\n      <!-- 10518 -->\r\n      <g transform=\"translate(875.456728 417.436562)scale(0.1 -0.1)\">\r\n       <use xlink:href=\"#DejaVuSans-31\"/>\r\n       <use x=\"63.623047\" xlink:href=\"#DejaVuSans-30\"/>\r\n       <use x=\"127.246094\" xlink:href=\"#DejaVuSans-35\"/>\r\n       <use x=\"190.869141\" xlink:href=\"#DejaVuSans-31\"/>\r\n       <use x=\"254.492188\" xlink:href=\"#DejaVuSans-38\"/>\r\n      </g>\r\n     </g>\r\n    </g>\r\n    <g id=\"xtick_209\">\r\n     <g id=\"line2d_209\">\r\n      <g>\r\n       <use style=\"stroke:#000000;stroke-width:0.8;\" x=\"899.048928\" xlink:href=\"#ma1f9dacb08\" y=\"402.838125\"/>\r\n      </g>\r\n     </g>\r\n     <g id=\"text_209\">\r\n      <!-- 10568 -->\r\n      <g transform=\"translate(883.142678 417.436562)scale(0.1 -0.1)\">\r\n       <use xlink:href=\"#DejaVuSans-31\"/>\r\n       <use x=\"63.623047\" xlink:href=\"#DejaVuSans-30\"/>\r\n       <use x=\"127.246094\" xlink:href=\"#DejaVuSans-35\"/>\r\n       <use x=\"190.869141\" xlink:href=\"#DejaVuSans-36\"/>\r\n       <use x=\"254.492188\" xlink:href=\"#DejaVuSans-38\"/>\r\n      </g>\r\n     </g>\r\n    </g>\r\n    <g id=\"xtick_210\">\r\n     <g id=\"line2d_210\">\r\n      <g>\r\n       <use style=\"stroke:#000000;stroke-width:0.8;\" x=\"899.048928\" xlink:href=\"#ma1f9dacb08\" y=\"402.838125\"/>\r\n      </g>\r\n     </g>\r\n     <g id=\"text_210\">\r\n      <!-- 10568 -->\r\n      <g transform=\"translate(883.142678 417.436562)scale(0.1 -0.1)\">\r\n       <use xlink:href=\"#DejaVuSans-31\"/>\r\n       <use x=\"63.623047\" xlink:href=\"#DejaVuSans-30\"/>\r\n       <use x=\"127.246094\" xlink:href=\"#DejaVuSans-35\"/>\r\n       <use x=\"190.869141\" xlink:href=\"#DejaVuSans-36\"/>\r\n       <use x=\"254.492188\" xlink:href=\"#DejaVuSans-38\"/>\r\n      </g>\r\n     </g>\r\n    </g>\r\n    <g id=\"xtick_211\">\r\n     <g id=\"line2d_211\">\r\n      <g>\r\n       <use style=\"stroke:#000000;stroke-width:0.8;\" x=\"906.734879\" xlink:href=\"#ma1f9dacb08\" y=\"402.838125\"/>\r\n      </g>\r\n     </g>\r\n     <g id=\"text_211\">\r\n      <!-- 10618 -->\r\n      <g transform=\"translate(890.828629 417.436562)scale(0.1 -0.1)\">\r\n       <use xlink:href=\"#DejaVuSans-31\"/>\r\n       <use x=\"63.623047\" xlink:href=\"#DejaVuSans-30\"/>\r\n       <use x=\"127.246094\" xlink:href=\"#DejaVuSans-36\"/>\r\n       <use x=\"190.869141\" xlink:href=\"#DejaVuSans-31\"/>\r\n       <use x=\"254.492188\" xlink:href=\"#DejaVuSans-38\"/>\r\n      </g>\r\n     </g>\r\n    </g>\r\n    <g id=\"xtick_212\">\r\n     <g id=\"line2d_212\">\r\n      <g>\r\n       <use style=\"stroke:#000000;stroke-width:0.8;\" x=\"906.734879\" xlink:href=\"#ma1f9dacb08\" y=\"402.838125\"/>\r\n      </g>\r\n     </g>\r\n     <g id=\"text_212\">\r\n      <!-- 10618 -->\r\n      <g transform=\"translate(890.828629 417.436562)scale(0.1 -0.1)\">\r\n       <use xlink:href=\"#DejaVuSans-31\"/>\r\n       <use x=\"63.623047\" xlink:href=\"#DejaVuSans-30\"/>\r\n       <use x=\"127.246094\" xlink:href=\"#DejaVuSans-36\"/>\r\n       <use x=\"190.869141\" xlink:href=\"#DejaVuSans-31\"/>\r\n       <use x=\"254.492188\" xlink:href=\"#DejaVuSans-38\"/>\r\n      </g>\r\n     </g>\r\n    </g>\r\n    <g id=\"xtick_213\">\r\n     <g id=\"line2d_213\">\r\n      <g>\r\n       <use style=\"stroke:#000000;stroke-width:0.8;\" x=\"914.420829\" xlink:href=\"#ma1f9dacb08\" y=\"402.838125\"/>\r\n      </g>\r\n     </g>\r\n     <g id=\"text_213\">\r\n      <!-- 11268 -->\r\n      <g transform=\"translate(898.514579 417.436562)scale(0.1 -0.1)\">\r\n       <use xlink:href=\"#DejaVuSans-31\"/>\r\n       <use x=\"63.623047\" xlink:href=\"#DejaVuSans-31\"/>\r\n       <use x=\"127.246094\" xlink:href=\"#DejaVuSans-32\"/>\r\n       <use x=\"190.869141\" xlink:href=\"#DejaVuSans-36\"/>\r\n       <use x=\"254.492188\" xlink:href=\"#DejaVuSans-38\"/>\r\n      </g>\r\n     </g>\r\n    </g>\r\n    <g id=\"xtick_214\">\r\n     <g id=\"line2d_214\">\r\n      <g>\r\n       <use style=\"stroke:#000000;stroke-width:0.8;\" x=\"914.420829\" xlink:href=\"#ma1f9dacb08\" y=\"402.838125\"/>\r\n      </g>\r\n     </g>\r\n     <g id=\"text_214\">\r\n      <!-- 11268 -->\r\n      <g transform=\"translate(898.514579 417.436562)scale(0.1 -0.1)\">\r\n       <use xlink:href=\"#DejaVuSans-31\"/>\r\n       <use x=\"63.623047\" xlink:href=\"#DejaVuSans-31\"/>\r\n       <use x=\"127.246094\" xlink:href=\"#DejaVuSans-32\"/>\r\n       <use x=\"190.869141\" xlink:href=\"#DejaVuSans-36\"/>\r\n       <use x=\"254.492188\" xlink:href=\"#DejaVuSans-38\"/>\r\n      </g>\r\n     </g>\r\n    </g>\r\n    <g id=\"xtick_215\">\r\n     <g id=\"line2d_215\">\r\n      <g>\r\n       <use style=\"stroke:#000000;stroke-width:0.8;\" x=\"922.106779\" xlink:href=\"#ma1f9dacb08\" y=\"402.838125\"/>\r\n      </g>\r\n     </g>\r\n     <g id=\"text_215\">\r\n      <!-- 11318 -->\r\n      <g transform=\"translate(906.200529 417.436562)scale(0.1 -0.1)\">\r\n       <use xlink:href=\"#DejaVuSans-31\"/>\r\n       <use x=\"63.623047\" xlink:href=\"#DejaVuSans-31\"/>\r\n       <use x=\"127.246094\" xlink:href=\"#DejaVuSans-33\"/>\r\n       <use x=\"190.869141\" xlink:href=\"#DejaVuSans-31\"/>\r\n       <use x=\"254.492188\" xlink:href=\"#DejaVuSans-38\"/>\r\n      </g>\r\n     </g>\r\n    </g>\r\n    <g id=\"xtick_216\">\r\n     <g id=\"line2d_216\">\r\n      <g>\r\n       <use style=\"stroke:#000000;stroke-width:0.8;\" x=\"922.106779\" xlink:href=\"#ma1f9dacb08\" y=\"402.838125\"/>\r\n      </g>\r\n     </g>\r\n     <g id=\"text_216\">\r\n      <!-- 11318 -->\r\n      <g transform=\"translate(906.200529 417.436562)scale(0.1 -0.1)\">\r\n       <use xlink:href=\"#DejaVuSans-31\"/>\r\n       <use x=\"63.623047\" xlink:href=\"#DejaVuSans-31\"/>\r\n       <use x=\"127.246094\" xlink:href=\"#DejaVuSans-33\"/>\r\n       <use x=\"190.869141\" xlink:href=\"#DejaVuSans-31\"/>\r\n       <use x=\"254.492188\" xlink:href=\"#DejaVuSans-38\"/>\r\n      </g>\r\n     </g>\r\n    </g>\r\n    <g id=\"xtick_217\">\r\n     <g id=\"line2d_217\">\r\n      <g>\r\n       <use style=\"stroke:#000000;stroke-width:0.8;\" x=\"929.79273\" xlink:href=\"#ma1f9dacb08\" y=\"402.838125\"/>\r\n      </g>\r\n     </g>\r\n     <g id=\"text_217\">\r\n      <!-- 11368 -->\r\n      <g transform=\"translate(913.88648 417.436562)scale(0.1 -0.1)\">\r\n       <use xlink:href=\"#DejaVuSans-31\"/>\r\n       <use x=\"63.623047\" xlink:href=\"#DejaVuSans-31\"/>\r\n       <use x=\"127.246094\" xlink:href=\"#DejaVuSans-33\"/>\r\n       <use x=\"190.869141\" xlink:href=\"#DejaVuSans-36\"/>\r\n       <use x=\"254.492188\" xlink:href=\"#DejaVuSans-38\"/>\r\n      </g>\r\n     </g>\r\n    </g>\r\n    <g id=\"xtick_218\">\r\n     <g id=\"line2d_218\">\r\n      <g>\r\n       <use style=\"stroke:#000000;stroke-width:0.8;\" x=\"929.79273\" xlink:href=\"#ma1f9dacb08\" y=\"402.838125\"/>\r\n      </g>\r\n     </g>\r\n     <g id=\"text_218\">\r\n      <!-- 11368 -->\r\n      <g transform=\"translate(913.88648 417.436562)scale(0.1 -0.1)\">\r\n       <use xlink:href=\"#DejaVuSans-31\"/>\r\n       <use x=\"63.623047\" xlink:href=\"#DejaVuSans-31\"/>\r\n       <use x=\"127.246094\" xlink:href=\"#DejaVuSans-33\"/>\r\n       <use x=\"190.869141\" xlink:href=\"#DejaVuSans-36\"/>\r\n       <use x=\"254.492188\" xlink:href=\"#DejaVuSans-38\"/>\r\n      </g>\r\n     </g>\r\n    </g>\r\n    <g id=\"xtick_219\">\r\n     <g id=\"line2d_219\">\r\n      <g>\r\n       <use style=\"stroke:#000000;stroke-width:0.8;\" x=\"937.47868\" xlink:href=\"#ma1f9dacb08\" y=\"402.838125\"/>\r\n      </g>\r\n     </g>\r\n     <g id=\"text_219\">\r\n      <!-- 11418 -->\r\n      <g transform=\"translate(921.57243 417.436562)scale(0.1 -0.1)\">\r\n       <use xlink:href=\"#DejaVuSans-31\"/>\r\n       <use x=\"63.623047\" xlink:href=\"#DejaVuSans-31\"/>\r\n       <use x=\"127.246094\" xlink:href=\"#DejaVuSans-34\"/>\r\n       <use x=\"190.869141\" xlink:href=\"#DejaVuSans-31\"/>\r\n       <use x=\"254.492188\" xlink:href=\"#DejaVuSans-38\"/>\r\n      </g>\r\n     </g>\r\n    </g>\r\n    <g id=\"xtick_220\">\r\n     <g id=\"line2d_220\">\r\n      <g>\r\n       <use style=\"stroke:#000000;stroke-width:0.8;\" x=\"937.47868\" xlink:href=\"#ma1f9dacb08\" y=\"402.838125\"/>\r\n      </g>\r\n     </g>\r\n     <g id=\"text_220\">\r\n      <!-- 11418 -->\r\n      <g transform=\"translate(921.57243 417.436562)scale(0.1 -0.1)\">\r\n       <use xlink:href=\"#DejaVuSans-31\"/>\r\n       <use x=\"63.623047\" xlink:href=\"#DejaVuSans-31\"/>\r\n       <use x=\"127.246094\" xlink:href=\"#DejaVuSans-34\"/>\r\n       <use x=\"190.869141\" xlink:href=\"#DejaVuSans-31\"/>\r\n       <use x=\"254.492188\" xlink:href=\"#DejaVuSans-38\"/>\r\n      </g>\r\n     </g>\r\n    </g>\r\n    <g id=\"xtick_221\">\r\n     <g id=\"line2d_221\">\r\n      <g>\r\n       <use style=\"stroke:#000000;stroke-width:0.8;\" x=\"945.164631\" xlink:href=\"#ma1f9dacb08\" y=\"402.838125\"/>\r\n      </g>\r\n     </g>\r\n     <g id=\"text_221\">\r\n      <!-- 11468 -->\r\n      <g transform=\"translate(929.258381 417.436562)scale(0.1 -0.1)\">\r\n       <use xlink:href=\"#DejaVuSans-31\"/>\r\n       <use x=\"63.623047\" xlink:href=\"#DejaVuSans-31\"/>\r\n       <use x=\"127.246094\" xlink:href=\"#DejaVuSans-34\"/>\r\n       <use x=\"190.869141\" xlink:href=\"#DejaVuSans-36\"/>\r\n       <use x=\"254.492188\" xlink:href=\"#DejaVuSans-38\"/>\r\n      </g>\r\n     </g>\r\n    </g>\r\n    <g id=\"xtick_222\">\r\n     <g id=\"line2d_222\">\r\n      <g>\r\n       <use style=\"stroke:#000000;stroke-width:0.8;\" x=\"945.164631\" xlink:href=\"#ma1f9dacb08\" y=\"402.838125\"/>\r\n      </g>\r\n     </g>\r\n     <g id=\"text_222\">\r\n      <!-- 11468 -->\r\n      <g transform=\"translate(929.258381 417.436562)scale(0.1 -0.1)\">\r\n       <use xlink:href=\"#DejaVuSans-31\"/>\r\n       <use x=\"63.623047\" xlink:href=\"#DejaVuSans-31\"/>\r\n       <use x=\"127.246094\" xlink:href=\"#DejaVuSans-34\"/>\r\n       <use x=\"190.869141\" xlink:href=\"#DejaVuSans-36\"/>\r\n       <use x=\"254.492188\" xlink:href=\"#DejaVuSans-38\"/>\r\n      </g>\r\n     </g>\r\n    </g>\r\n    <g id=\"xtick_223\">\r\n     <g id=\"line2d_223\">\r\n      <g>\r\n       <use style=\"stroke:#000000;stroke-width:0.8;\" x=\"952.850581\" xlink:href=\"#ma1f9dacb08\" y=\"402.838125\"/>\r\n      </g>\r\n     </g>\r\n     <g id=\"text_223\">\r\n      <!-- 11518 -->\r\n      <g transform=\"translate(936.944331 417.436562)scale(0.1 -0.1)\">\r\n       <use xlink:href=\"#DejaVuSans-31\"/>\r\n       <use x=\"63.623047\" xlink:href=\"#DejaVuSans-31\"/>\r\n       <use x=\"127.246094\" xlink:href=\"#DejaVuSans-35\"/>\r\n       <use x=\"190.869141\" xlink:href=\"#DejaVuSans-31\"/>\r\n       <use x=\"254.492188\" xlink:href=\"#DejaVuSans-38\"/>\r\n      </g>\r\n     </g>\r\n    </g>\r\n    <g id=\"xtick_224\">\r\n     <g id=\"line2d_224\">\r\n      <g>\r\n       <use style=\"stroke:#000000;stroke-width:0.8;\" x=\"952.850581\" xlink:href=\"#ma1f9dacb08\" y=\"402.838125\"/>\r\n      </g>\r\n     </g>\r\n     <g id=\"text_224\">\r\n      <!-- 11518 -->\r\n      <g transform=\"translate(936.944331 417.436562)scale(0.1 -0.1)\">\r\n       <use xlink:href=\"#DejaVuSans-31\"/>\r\n       <use x=\"63.623047\" xlink:href=\"#DejaVuSans-31\"/>\r\n       <use x=\"127.246094\" xlink:href=\"#DejaVuSans-35\"/>\r\n       <use x=\"190.869141\" xlink:href=\"#DejaVuSans-31\"/>\r\n       <use x=\"254.492188\" xlink:href=\"#DejaVuSans-38\"/>\r\n      </g>\r\n     </g>\r\n    </g>\r\n    <g id=\"xtick_225\">\r\n     <g id=\"line2d_225\">\r\n      <g>\r\n       <use style=\"stroke:#000000;stroke-width:0.8;\" x=\"960.536532\" xlink:href=\"#ma1f9dacb08\" y=\"402.838125\"/>\r\n      </g>\r\n     </g>\r\n     <g id=\"text_225\">\r\n      <!-- 11568 -->\r\n      <g transform=\"translate(944.630282 417.436562)scale(0.1 -0.1)\">\r\n       <use xlink:href=\"#DejaVuSans-31\"/>\r\n       <use x=\"63.623047\" xlink:href=\"#DejaVuSans-31\"/>\r\n       <use x=\"127.246094\" xlink:href=\"#DejaVuSans-35\"/>\r\n       <use x=\"190.869141\" xlink:href=\"#DejaVuSans-36\"/>\r\n       <use x=\"254.492188\" xlink:href=\"#DejaVuSans-38\"/>\r\n      </g>\r\n     </g>\r\n    </g>\r\n    <g id=\"xtick_226\">\r\n     <g id=\"line2d_226\">\r\n      <g>\r\n       <use style=\"stroke:#000000;stroke-width:0.8;\" x=\"960.536532\" xlink:href=\"#ma1f9dacb08\" y=\"402.838125\"/>\r\n      </g>\r\n     </g>\r\n     <g id=\"text_226\">\r\n      <!-- 11568 -->\r\n      <g transform=\"translate(944.630282 417.436562)scale(0.1 -0.1)\">\r\n       <use xlink:href=\"#DejaVuSans-31\"/>\r\n       <use x=\"63.623047\" xlink:href=\"#DejaVuSans-31\"/>\r\n       <use x=\"127.246094\" xlink:href=\"#DejaVuSans-35\"/>\r\n       <use x=\"190.869141\" xlink:href=\"#DejaVuSans-36\"/>\r\n       <use x=\"254.492188\" xlink:href=\"#DejaVuSans-38\"/>\r\n      </g>\r\n     </g>\r\n    </g>\r\n    <g id=\"xtick_227\">\r\n     <g id=\"line2d_227\">\r\n      <g>\r\n       <use style=\"stroke:#000000;stroke-width:0.8;\" x=\"968.222482\" xlink:href=\"#ma1f9dacb08\" y=\"402.838125\"/>\r\n      </g>\r\n     </g>\r\n     <g id=\"text_227\">\r\n      <!-- 11618 -->\r\n      <g transform=\"translate(952.316232 417.436562)scale(0.1 -0.1)\">\r\n       <use xlink:href=\"#DejaVuSans-31\"/>\r\n       <use x=\"63.623047\" xlink:href=\"#DejaVuSans-31\"/>\r\n       <use x=\"127.246094\" xlink:href=\"#DejaVuSans-36\"/>\r\n       <use x=\"190.869141\" xlink:href=\"#DejaVuSans-31\"/>\r\n       <use x=\"254.492188\" xlink:href=\"#DejaVuSans-38\"/>\r\n      </g>\r\n     </g>\r\n    </g>\r\n    <g id=\"xtick_228\">\r\n     <g id=\"line2d_228\">\r\n      <g>\r\n       <use style=\"stroke:#000000;stroke-width:0.8;\" x=\"968.222482\" xlink:href=\"#ma1f9dacb08\" y=\"402.838125\"/>\r\n      </g>\r\n     </g>\r\n     <g id=\"text_228\">\r\n      <!-- 11618 -->\r\n      <g transform=\"translate(952.316232 417.436562)scale(0.1 -0.1)\">\r\n       <use xlink:href=\"#DejaVuSans-31\"/>\r\n       <use x=\"63.623047\" xlink:href=\"#DejaVuSans-31\"/>\r\n       <use x=\"127.246094\" xlink:href=\"#DejaVuSans-36\"/>\r\n       <use x=\"190.869141\" xlink:href=\"#DejaVuSans-31\"/>\r\n       <use x=\"254.492188\" xlink:href=\"#DejaVuSans-38\"/>\r\n      </g>\r\n     </g>\r\n    </g>\r\n    <g id=\"xtick_229\">\r\n     <g id=\"line2d_229\">\r\n      <g>\r\n       <use style=\"stroke:#000000;stroke-width:0.8;\" x=\"975.908432\" xlink:href=\"#ma1f9dacb08\" y=\"402.838125\"/>\r\n      </g>\r\n     </g>\r\n     <g id=\"text_229\">\r\n      <!-- 11668 -->\r\n      <g transform=\"translate(960.002182 417.436562)scale(0.1 -0.1)\">\r\n       <use xlink:href=\"#DejaVuSans-31\"/>\r\n       <use x=\"63.623047\" xlink:href=\"#DejaVuSans-31\"/>\r\n       <use x=\"127.246094\" xlink:href=\"#DejaVuSans-36\"/>\r\n       <use x=\"190.869141\" xlink:href=\"#DejaVuSans-36\"/>\r\n       <use x=\"254.492188\" xlink:href=\"#DejaVuSans-38\"/>\r\n      </g>\r\n     </g>\r\n    </g>\r\n    <g id=\"xtick_230\">\r\n     <g id=\"line2d_230\">\r\n      <g>\r\n       <use style=\"stroke:#000000;stroke-width:0.8;\" x=\"975.908432\" xlink:href=\"#ma1f9dacb08\" y=\"402.838125\"/>\r\n      </g>\r\n     </g>\r\n     <g id=\"text_230\">\r\n      <!-- 11668 -->\r\n      <g transform=\"translate(960.002182 417.436562)scale(0.1 -0.1)\">\r\n       <use xlink:href=\"#DejaVuSans-31\"/>\r\n       <use x=\"63.623047\" xlink:href=\"#DejaVuSans-31\"/>\r\n       <use x=\"127.246094\" xlink:href=\"#DejaVuSans-36\"/>\r\n       <use x=\"190.869141\" xlink:href=\"#DejaVuSans-36\"/>\r\n       <use x=\"254.492188\" xlink:href=\"#DejaVuSans-38\"/>\r\n      </g>\r\n     </g>\r\n    </g>\r\n    <g id=\"xtick_231\">\r\n     <g id=\"line2d_231\">\r\n      <g>\r\n       <use style=\"stroke:#000000;stroke-width:0.8;\" x=\"983.594383\" xlink:href=\"#ma1f9dacb08\" y=\"402.838125\"/>\r\n      </g>\r\n     </g>\r\n     <g id=\"text_231\">\r\n      <!-- 11718 -->\r\n      <g transform=\"translate(967.688133 417.436562)scale(0.1 -0.1)\">\r\n       <use xlink:href=\"#DejaVuSans-31\"/>\r\n       <use x=\"63.623047\" xlink:href=\"#DejaVuSans-31\"/>\r\n       <use x=\"127.246094\" xlink:href=\"#DejaVuSans-37\"/>\r\n       <use x=\"190.869141\" xlink:href=\"#DejaVuSans-31\"/>\r\n       <use x=\"254.492188\" xlink:href=\"#DejaVuSans-38\"/>\r\n      </g>\r\n     </g>\r\n    </g>\r\n    <g id=\"xtick_232\">\r\n     <g id=\"line2d_232\">\r\n      <g>\r\n       <use style=\"stroke:#000000;stroke-width:0.8;\" x=\"983.594383\" xlink:href=\"#ma1f9dacb08\" y=\"402.838125\"/>\r\n      </g>\r\n     </g>\r\n     <g id=\"text_232\">\r\n      <!-- 11718 -->\r\n      <g transform=\"translate(967.688133 417.436562)scale(0.1 -0.1)\">\r\n       <use xlink:href=\"#DejaVuSans-31\"/>\r\n       <use x=\"63.623047\" xlink:href=\"#DejaVuSans-31\"/>\r\n       <use x=\"127.246094\" xlink:href=\"#DejaVuSans-37\"/>\r\n       <use x=\"190.869141\" xlink:href=\"#DejaVuSans-31\"/>\r\n       <use x=\"254.492188\" xlink:href=\"#DejaVuSans-38\"/>\r\n      </g>\r\n     </g>\r\n    </g>\r\n    <g id=\"xtick_233\">\r\n     <g id=\"line2d_233\">\r\n      <g>\r\n       <use style=\"stroke:#000000;stroke-width:0.8;\" x=\"991.280333\" xlink:href=\"#ma1f9dacb08\" y=\"402.838125\"/>\r\n      </g>\r\n     </g>\r\n     <g id=\"text_233\">\r\n      <!-- 11768 -->\r\n      <g transform=\"translate(975.374083 417.436562)scale(0.1 -0.1)\">\r\n       <use xlink:href=\"#DejaVuSans-31\"/>\r\n       <use x=\"63.623047\" xlink:href=\"#DejaVuSans-31\"/>\r\n       <use x=\"127.246094\" xlink:href=\"#DejaVuSans-37\"/>\r\n       <use x=\"190.869141\" xlink:href=\"#DejaVuSans-36\"/>\r\n       <use x=\"254.492188\" xlink:href=\"#DejaVuSans-38\"/>\r\n      </g>\r\n     </g>\r\n    </g>\r\n    <g id=\"xtick_234\">\r\n     <g id=\"line2d_234\">\r\n      <g>\r\n       <use style=\"stroke:#000000;stroke-width:0.8;\" x=\"991.280333\" xlink:href=\"#ma1f9dacb08\" y=\"402.838125\"/>\r\n      </g>\r\n     </g>\r\n     <g id=\"text_234\">\r\n      <!-- 11768 -->\r\n      <g transform=\"translate(975.374083 417.436562)scale(0.1 -0.1)\">\r\n       <use xlink:href=\"#DejaVuSans-31\"/>\r\n       <use x=\"63.623047\" xlink:href=\"#DejaVuSans-31\"/>\r\n       <use x=\"127.246094\" xlink:href=\"#DejaVuSans-37\"/>\r\n       <use x=\"190.869141\" xlink:href=\"#DejaVuSans-36\"/>\r\n       <use x=\"254.492188\" xlink:href=\"#DejaVuSans-38\"/>\r\n      </g>\r\n     </g>\r\n    </g>\r\n    <g id=\"xtick_235\">\r\n     <g id=\"line2d_235\">\r\n      <g>\r\n       <use style=\"stroke:#000000;stroke-width:0.8;\" x=\"998.966284\" xlink:href=\"#ma1f9dacb08\" y=\"402.838125\"/>\r\n      </g>\r\n     </g>\r\n     <g id=\"text_235\">\r\n      <!-- 11818 -->\r\n      <g transform=\"translate(983.060034 417.436562)scale(0.1 -0.1)\">\r\n       <use xlink:href=\"#DejaVuSans-31\"/>\r\n       <use x=\"63.623047\" xlink:href=\"#DejaVuSans-31\"/>\r\n       <use x=\"127.246094\" xlink:href=\"#DejaVuSans-38\"/>\r\n       <use x=\"190.869141\" xlink:href=\"#DejaVuSans-31\"/>\r\n       <use x=\"254.492188\" xlink:href=\"#DejaVuSans-38\"/>\r\n      </g>\r\n     </g>\r\n    </g>\r\n    <g id=\"xtick_236\">\r\n     <g id=\"line2d_236\">\r\n      <g>\r\n       <use style=\"stroke:#000000;stroke-width:0.8;\" x=\"998.966284\" xlink:href=\"#ma1f9dacb08\" y=\"402.838125\"/>\r\n      </g>\r\n     </g>\r\n     <g id=\"text_236\">\r\n      <!-- 11818 -->\r\n      <g transform=\"translate(983.060034 417.436562)scale(0.1 -0.1)\">\r\n       <use xlink:href=\"#DejaVuSans-31\"/>\r\n       <use x=\"63.623047\" xlink:href=\"#DejaVuSans-31\"/>\r\n       <use x=\"127.246094\" xlink:href=\"#DejaVuSans-38\"/>\r\n       <use x=\"190.869141\" xlink:href=\"#DejaVuSans-31\"/>\r\n       <use x=\"254.492188\" xlink:href=\"#DejaVuSans-38\"/>\r\n      </g>\r\n     </g>\r\n    </g>\r\n    <g id=\"xtick_237\">\r\n     <g id=\"line2d_237\">\r\n      <g>\r\n       <use style=\"stroke:#000000;stroke-width:0.8;\" x=\"1006.652234\" xlink:href=\"#ma1f9dacb08\" y=\"402.838125\"/>\r\n      </g>\r\n     </g>\r\n     <g id=\"text_237\">\r\n      <!-- 11868 -->\r\n      <g transform=\"translate(990.745984 417.436562)scale(0.1 -0.1)\">\r\n       <use xlink:href=\"#DejaVuSans-31\"/>\r\n       <use x=\"63.623047\" xlink:href=\"#DejaVuSans-31\"/>\r\n       <use x=\"127.246094\" xlink:href=\"#DejaVuSans-38\"/>\r\n       <use x=\"190.869141\" xlink:href=\"#DejaVuSans-36\"/>\r\n       <use x=\"254.492188\" xlink:href=\"#DejaVuSans-38\"/>\r\n      </g>\r\n     </g>\r\n    </g>\r\n    <g id=\"xtick_238\">\r\n     <g id=\"line2d_238\">\r\n      <g>\r\n       <use style=\"stroke:#000000;stroke-width:0.8;\" x=\"1006.652234\" xlink:href=\"#ma1f9dacb08\" y=\"402.838125\"/>\r\n      </g>\r\n     </g>\r\n     <g id=\"text_238\">\r\n      <!-- 11868 -->\r\n      <g transform=\"translate(990.745984 417.436562)scale(0.1 -0.1)\">\r\n       <use xlink:href=\"#DejaVuSans-31\"/>\r\n       <use x=\"63.623047\" xlink:href=\"#DejaVuSans-31\"/>\r\n       <use x=\"127.246094\" xlink:href=\"#DejaVuSans-38\"/>\r\n       <use x=\"190.869141\" xlink:href=\"#DejaVuSans-36\"/>\r\n       <use x=\"254.492188\" xlink:href=\"#DejaVuSans-38\"/>\r\n      </g>\r\n     </g>\r\n    </g>\r\n    <g id=\"xtick_239\">\r\n     <g id=\"line2d_239\">\r\n      <g>\r\n       <use style=\"stroke:#000000;stroke-width:0.8;\" x=\"1014.338184\" xlink:href=\"#ma1f9dacb08\" y=\"402.838125\"/>\r\n      </g>\r\n     </g>\r\n     <g id=\"text_239\">\r\n      <!-- 12019 -->\r\n      <g transform=\"translate(998.431934 417.436562)scale(0.1 -0.1)\">\r\n       <use xlink:href=\"#DejaVuSans-31\"/>\r\n       <use x=\"63.623047\" xlink:href=\"#DejaVuSans-32\"/>\r\n       <use x=\"127.246094\" xlink:href=\"#DejaVuSans-30\"/>\r\n       <use x=\"190.869141\" xlink:href=\"#DejaVuSans-31\"/>\r\n       <use x=\"254.492188\" xlink:href=\"#DejaVuSans-39\"/>\r\n      </g>\r\n     </g>\r\n    </g>\r\n    <g id=\"xtick_240\">\r\n     <g id=\"line2d_240\">\r\n      <g>\r\n       <use style=\"stroke:#000000;stroke-width:0.8;\" x=\"1014.338184\" xlink:href=\"#ma1f9dacb08\" y=\"402.838125\"/>\r\n      </g>\r\n     </g>\r\n     <g id=\"text_240\">\r\n      <!-- 12019 -->\r\n      <g transform=\"translate(998.431934 417.436562)scale(0.1 -0.1)\">\r\n       <use xlink:href=\"#DejaVuSans-31\"/>\r\n       <use x=\"63.623047\" xlink:href=\"#DejaVuSans-32\"/>\r\n       <use x=\"127.246094\" xlink:href=\"#DejaVuSans-30\"/>\r\n       <use x=\"190.869141\" xlink:href=\"#DejaVuSans-31\"/>\r\n       <use x=\"254.492188\" xlink:href=\"#DejaVuSans-39\"/>\r\n      </g>\r\n     </g>\r\n    </g>\r\n    <g id=\"xtick_241\">\r\n     <g id=\"line2d_241\">\r\n      <g>\r\n       <use style=\"stroke:#000000;stroke-width:0.8;\" x=\"1022.024135\" xlink:href=\"#ma1f9dacb08\" y=\"402.838125\"/>\r\n      </g>\r\n     </g>\r\n     <g id=\"text_241\">\r\n      <!-- 12069 -->\r\n      <g transform=\"translate(1006.117885 417.436562)scale(0.1 -0.1)\">\r\n       <use xlink:href=\"#DejaVuSans-31\"/>\r\n       <use x=\"63.623047\" xlink:href=\"#DejaVuSans-32\"/>\r\n       <use x=\"127.246094\" xlink:href=\"#DejaVuSans-30\"/>\r\n       <use x=\"190.869141\" xlink:href=\"#DejaVuSans-36\"/>\r\n       <use x=\"254.492188\" xlink:href=\"#DejaVuSans-39\"/>\r\n      </g>\r\n     </g>\r\n    </g>\r\n    <g id=\"xtick_242\">\r\n     <g id=\"line2d_242\">\r\n      <g>\r\n       <use style=\"stroke:#000000;stroke-width:0.8;\" x=\"1022.024135\" xlink:href=\"#ma1f9dacb08\" y=\"402.838125\"/>\r\n      </g>\r\n     </g>\r\n     <g id=\"text_242\">\r\n      <!-- 12069 -->\r\n      <g transform=\"translate(1006.117885 417.436562)scale(0.1 -0.1)\">\r\n       <use xlink:href=\"#DejaVuSans-31\"/>\r\n       <use x=\"63.623047\" xlink:href=\"#DejaVuSans-32\"/>\r\n       <use x=\"127.246094\" xlink:href=\"#DejaVuSans-30\"/>\r\n       <use x=\"190.869141\" xlink:href=\"#DejaVuSans-36\"/>\r\n       <use x=\"254.492188\" xlink:href=\"#DejaVuSans-39\"/>\r\n      </g>\r\n     </g>\r\n    </g>\r\n    <g id=\"xtick_243\">\r\n     <g id=\"line2d_243\">\r\n      <g>\r\n       <use style=\"stroke:#000000;stroke-width:0.8;\" x=\"1029.710085\" xlink:href=\"#ma1f9dacb08\" y=\"402.838125\"/>\r\n      </g>\r\n     </g>\r\n     <g id=\"text_243\">\r\n      <!-- 12119 -->\r\n      <g transform=\"translate(1013.803835 417.436562)scale(0.1 -0.1)\">\r\n       <use xlink:href=\"#DejaVuSans-31\"/>\r\n       <use x=\"63.623047\" xlink:href=\"#DejaVuSans-32\"/>\r\n       <use x=\"127.246094\" xlink:href=\"#DejaVuSans-31\"/>\r\n       <use x=\"190.869141\" xlink:href=\"#DejaVuSans-31\"/>\r\n       <use x=\"254.492188\" xlink:href=\"#DejaVuSans-39\"/>\r\n      </g>\r\n     </g>\r\n    </g>\r\n    <g id=\"xtick_244\">\r\n     <g id=\"line2d_244\">\r\n      <g>\r\n       <use style=\"stroke:#000000;stroke-width:0.8;\" x=\"1029.710085\" xlink:href=\"#ma1f9dacb08\" y=\"402.838125\"/>\r\n      </g>\r\n     </g>\r\n     <g id=\"text_244\">\r\n      <!-- 12119 -->\r\n      <g transform=\"translate(1013.803835 417.436562)scale(0.1 -0.1)\">\r\n       <use xlink:href=\"#DejaVuSans-31\"/>\r\n       <use x=\"63.623047\" xlink:href=\"#DejaVuSans-32\"/>\r\n       <use x=\"127.246094\" xlink:href=\"#DejaVuSans-31\"/>\r\n       <use x=\"190.869141\" xlink:href=\"#DejaVuSans-31\"/>\r\n       <use x=\"254.492188\" xlink:href=\"#DejaVuSans-39\"/>\r\n      </g>\r\n     </g>\r\n    </g>\r\n    <g id=\"xtick_245\">\r\n     <g id=\"line2d_245\">\r\n      <g>\r\n       <use style=\"stroke:#000000;stroke-width:0.8;\" x=\"1037.396036\" xlink:href=\"#ma1f9dacb08\" y=\"402.838125\"/>\r\n      </g>\r\n     </g>\r\n     <g id=\"text_245\">\r\n      <!-- 12169 -->\r\n      <g transform=\"translate(1021.489786 417.436562)scale(0.1 -0.1)\">\r\n       <use xlink:href=\"#DejaVuSans-31\"/>\r\n       <use x=\"63.623047\" xlink:href=\"#DejaVuSans-32\"/>\r\n       <use x=\"127.246094\" xlink:href=\"#DejaVuSans-31\"/>\r\n       <use x=\"190.869141\" xlink:href=\"#DejaVuSans-36\"/>\r\n       <use x=\"254.492188\" xlink:href=\"#DejaVuSans-39\"/>\r\n      </g>\r\n     </g>\r\n    </g>\r\n    <g id=\"xtick_246\">\r\n     <g id=\"line2d_246\">\r\n      <g>\r\n       <use style=\"stroke:#000000;stroke-width:0.8;\" x=\"1037.396036\" xlink:href=\"#ma1f9dacb08\" y=\"402.838125\"/>\r\n      </g>\r\n     </g>\r\n     <g id=\"text_246\">\r\n      <!-- 12169 -->\r\n      <g transform=\"translate(1021.489786 417.436562)scale(0.1 -0.1)\">\r\n       <use xlink:href=\"#DejaVuSans-31\"/>\r\n       <use x=\"63.623047\" xlink:href=\"#DejaVuSans-32\"/>\r\n       <use x=\"127.246094\" xlink:href=\"#DejaVuSans-31\"/>\r\n       <use x=\"190.869141\" xlink:href=\"#DejaVuSans-36\"/>\r\n       <use x=\"254.492188\" xlink:href=\"#DejaVuSans-39\"/>\r\n      </g>\r\n     </g>\r\n    </g>\r\n    <g id=\"xtick_247\">\r\n     <g id=\"line2d_247\">\r\n      <g>\r\n       <use style=\"stroke:#000000;stroke-width:0.8;\" x=\"1045.081986\" xlink:href=\"#ma1f9dacb08\" y=\"402.838125\"/>\r\n      </g>\r\n     </g>\r\n     <g id=\"text_247\">\r\n      <!-- 12219 -->\r\n      <g transform=\"translate(1029.175736 417.436562)scale(0.1 -0.1)\">\r\n       <use xlink:href=\"#DejaVuSans-31\"/>\r\n       <use x=\"63.623047\" xlink:href=\"#DejaVuSans-32\"/>\r\n       <use x=\"127.246094\" xlink:href=\"#DejaVuSans-32\"/>\r\n       <use x=\"190.869141\" xlink:href=\"#DejaVuSans-31\"/>\r\n       <use x=\"254.492188\" xlink:href=\"#DejaVuSans-39\"/>\r\n      </g>\r\n     </g>\r\n    </g>\r\n    <g id=\"xtick_248\">\r\n     <g id=\"line2d_248\">\r\n      <g>\r\n       <use style=\"stroke:#000000;stroke-width:0.8;\" x=\"1045.081986\" xlink:href=\"#ma1f9dacb08\" y=\"402.838125\"/>\r\n      </g>\r\n     </g>\r\n     <g id=\"text_248\">\r\n      <!-- 12219 -->\r\n      <g transform=\"translate(1029.175736 417.436562)scale(0.1 -0.1)\">\r\n       <use xlink:href=\"#DejaVuSans-31\"/>\r\n       <use x=\"63.623047\" xlink:href=\"#DejaVuSans-32\"/>\r\n       <use x=\"127.246094\" xlink:href=\"#DejaVuSans-32\"/>\r\n       <use x=\"190.869141\" xlink:href=\"#DejaVuSans-31\"/>\r\n       <use x=\"254.492188\" xlink:href=\"#DejaVuSans-39\"/>\r\n      </g>\r\n     </g>\r\n    </g>\r\n    <g id=\"xtick_249\">\r\n     <g id=\"line2d_249\">\r\n      <g>\r\n       <use style=\"stroke:#000000;stroke-width:0.8;\" x=\"1052.767936\" xlink:href=\"#ma1f9dacb08\" y=\"402.838125\"/>\r\n      </g>\r\n     </g>\r\n     <g id=\"text_249\">\r\n      <!-- 12269 -->\r\n      <g transform=\"translate(1036.861686 417.436562)scale(0.1 -0.1)\">\r\n       <use xlink:href=\"#DejaVuSans-31\"/>\r\n       <use x=\"63.623047\" xlink:href=\"#DejaVuSans-32\"/>\r\n       <use x=\"127.246094\" xlink:href=\"#DejaVuSans-32\"/>\r\n       <use x=\"190.869141\" xlink:href=\"#DejaVuSans-36\"/>\r\n       <use x=\"254.492188\" xlink:href=\"#DejaVuSans-39\"/>\r\n      </g>\r\n     </g>\r\n    </g>\r\n    <g id=\"xtick_250\">\r\n     <g id=\"line2d_250\">\r\n      <g>\r\n       <use style=\"stroke:#000000;stroke-width:0.8;\" x=\"1052.767936\" xlink:href=\"#ma1f9dacb08\" y=\"402.838125\"/>\r\n      </g>\r\n     </g>\r\n     <g id=\"text_250\">\r\n      <!-- 12269 -->\r\n      <g transform=\"translate(1036.861686 417.436562)scale(0.1 -0.1)\">\r\n       <use xlink:href=\"#DejaVuSans-31\"/>\r\n       <use x=\"63.623047\" xlink:href=\"#DejaVuSans-32\"/>\r\n       <use x=\"127.246094\" xlink:href=\"#DejaVuSans-32\"/>\r\n       <use x=\"190.869141\" xlink:href=\"#DejaVuSans-36\"/>\r\n       <use x=\"254.492188\" xlink:href=\"#DejaVuSans-39\"/>\r\n      </g>\r\n     </g>\r\n    </g>\r\n    <g id=\"xtick_251\">\r\n     <g id=\"line2d_251\">\r\n      <g>\r\n       <use style=\"stroke:#000000;stroke-width:0.8;\" x=\"1060.453887\" xlink:href=\"#ma1f9dacb08\" y=\"402.838125\"/>\r\n      </g>\r\n     </g>\r\n     <g id=\"text_251\">\r\n      <!-- 12286 -->\r\n      <g transform=\"translate(1044.547637 417.436562)scale(0.1 -0.1)\">\r\n       <use xlink:href=\"#DejaVuSans-31\"/>\r\n       <use x=\"63.623047\" xlink:href=\"#DejaVuSans-32\"/>\r\n       <use x=\"127.246094\" xlink:href=\"#DejaVuSans-32\"/>\r\n       <use x=\"190.869141\" xlink:href=\"#DejaVuSans-38\"/>\r\n       <use x=\"254.492188\" xlink:href=\"#DejaVuSans-36\"/>\r\n      </g>\r\n     </g>\r\n    </g>\r\n    <g id=\"xtick_252\">\r\n     <g id=\"line2d_252\">\r\n      <g>\r\n       <use style=\"stroke:#000000;stroke-width:0.8;\" x=\"1060.453887\" xlink:href=\"#ma1f9dacb08\" y=\"402.838125\"/>\r\n      </g>\r\n     </g>\r\n     <g id=\"text_252\">\r\n      <!-- 12286 -->\r\n      <g transform=\"translate(1044.547637 417.436562)scale(0.1 -0.1)\">\r\n       <use xlink:href=\"#DejaVuSans-31\"/>\r\n       <use x=\"63.623047\" xlink:href=\"#DejaVuSans-32\"/>\r\n       <use x=\"127.246094\" xlink:href=\"#DejaVuSans-32\"/>\r\n       <use x=\"190.869141\" xlink:href=\"#DejaVuSans-38\"/>\r\n       <use x=\"254.492188\" xlink:href=\"#DejaVuSans-36\"/>\r\n      </g>\r\n     </g>\r\n    </g>\r\n    <g id=\"xtick_253\">\r\n     <g id=\"line2d_253\">\r\n      <g>\r\n       <use style=\"stroke:#000000;stroke-width:0.8;\" x=\"1068.139837\" xlink:href=\"#ma1f9dacb08\" y=\"402.838125\"/>\r\n      </g>\r\n     </g>\r\n     <g id=\"text_253\">\r\n      <!-- 12486 -->\r\n      <g transform=\"translate(1052.233587 417.436562)scale(0.1 -0.1)\">\r\n       <use xlink:href=\"#DejaVuSans-31\"/>\r\n       <use x=\"63.623047\" xlink:href=\"#DejaVuSans-32\"/>\r\n       <use x=\"127.246094\" xlink:href=\"#DejaVuSans-34\"/>\r\n       <use x=\"190.869141\" xlink:href=\"#DejaVuSans-38\"/>\r\n       <use x=\"254.492188\" xlink:href=\"#DejaVuSans-36\"/>\r\n      </g>\r\n     </g>\r\n    </g>\r\n    <g id=\"xtick_254\">\r\n     <g id=\"line2d_254\">\r\n      <g>\r\n       <use style=\"stroke:#000000;stroke-width:0.8;\" x=\"1068.139837\" xlink:href=\"#ma1f9dacb08\" y=\"402.838125\"/>\r\n      </g>\r\n     </g>\r\n     <g id=\"text_254\">\r\n      <!-- 12486 -->\r\n      <g transform=\"translate(1052.233587 417.436562)scale(0.1 -0.1)\">\r\n       <use xlink:href=\"#DejaVuSans-31\"/>\r\n       <use x=\"63.623047\" xlink:href=\"#DejaVuSans-32\"/>\r\n       <use x=\"127.246094\" xlink:href=\"#DejaVuSans-34\"/>\r\n       <use x=\"190.869141\" xlink:href=\"#DejaVuSans-38\"/>\r\n       <use x=\"254.492188\" xlink:href=\"#DejaVuSans-36\"/>\r\n      </g>\r\n     </g>\r\n    </g>\r\n    <g id=\"xtick_255\">\r\n     <g id=\"line2d_255\">\r\n      <g>\r\n       <use style=\"stroke:#000000;stroke-width:0.8;\" x=\"1075.825788\" xlink:href=\"#ma1f9dacb08\" y=\"402.838125\"/>\r\n      </g>\r\n     </g>\r\n     <g id=\"text_255\">\r\n      <!-- 12536 -->\r\n      <g transform=\"translate(1059.919538 417.436562)scale(0.1 -0.1)\">\r\n       <use xlink:href=\"#DejaVuSans-31\"/>\r\n       <use x=\"63.623047\" xlink:href=\"#DejaVuSans-32\"/>\r\n       <use x=\"127.246094\" xlink:href=\"#DejaVuSans-35\"/>\r\n       <use x=\"190.869141\" xlink:href=\"#DejaVuSans-33\"/>\r\n       <use x=\"254.492188\" xlink:href=\"#DejaVuSans-36\"/>\r\n      </g>\r\n     </g>\r\n    </g>\r\n    <g id=\"xtick_256\">\r\n     <g id=\"line2d_256\">\r\n      <g>\r\n       <use style=\"stroke:#000000;stroke-width:0.8;\" x=\"1075.825788\" xlink:href=\"#ma1f9dacb08\" y=\"402.838125\"/>\r\n      </g>\r\n     </g>\r\n     <g id=\"text_256\">\r\n      <!-- 12536 -->\r\n      <g transform=\"translate(1059.919538 417.436562)scale(0.1 -0.1)\">\r\n       <use xlink:href=\"#DejaVuSans-31\"/>\r\n       <use x=\"63.623047\" xlink:href=\"#DejaVuSans-32\"/>\r\n       <use x=\"127.246094\" xlink:href=\"#DejaVuSans-35\"/>\r\n       <use x=\"190.869141\" xlink:href=\"#DejaVuSans-33\"/>\r\n       <use x=\"254.492188\" xlink:href=\"#DejaVuSans-36\"/>\r\n      </g>\r\n     </g>\r\n    </g>\r\n    <g id=\"xtick_257\">\r\n     <g id=\"line2d_257\">\r\n      <g>\r\n       <use style=\"stroke:#000000;stroke-width:0.8;\" x=\"1083.511738\" xlink:href=\"#ma1f9dacb08\" y=\"402.838125\"/>\r\n      </g>\r\n     </g>\r\n     <g id=\"text_257\">\r\n      <!-- 12586 -->\r\n      <g transform=\"translate(1067.605488 417.436562)scale(0.1 -0.1)\">\r\n       <use xlink:href=\"#DejaVuSans-31\"/>\r\n       <use x=\"63.623047\" xlink:href=\"#DejaVuSans-32\"/>\r\n       <use x=\"127.246094\" xlink:href=\"#DejaVuSans-35\"/>\r\n       <use x=\"190.869141\" xlink:href=\"#DejaVuSans-38\"/>\r\n       <use x=\"254.492188\" xlink:href=\"#DejaVuSans-36\"/>\r\n      </g>\r\n     </g>\r\n    </g>\r\n    <g id=\"xtick_258\">\r\n     <g id=\"line2d_258\">\r\n      <g>\r\n       <use style=\"stroke:#000000;stroke-width:0.8;\" x=\"1083.511738\" xlink:href=\"#ma1f9dacb08\" y=\"402.838125\"/>\r\n      </g>\r\n     </g>\r\n     <g id=\"text_258\">\r\n      <!-- 12586 -->\r\n      <g transform=\"translate(1067.605488 417.436562)scale(0.1 -0.1)\">\r\n       <use xlink:href=\"#DejaVuSans-31\"/>\r\n       <use x=\"63.623047\" xlink:href=\"#DejaVuSans-32\"/>\r\n       <use x=\"127.246094\" xlink:href=\"#DejaVuSans-35\"/>\r\n       <use x=\"190.869141\" xlink:href=\"#DejaVuSans-38\"/>\r\n       <use x=\"254.492188\" xlink:href=\"#DejaVuSans-36\"/>\r\n      </g>\r\n     </g>\r\n    </g>\r\n    <g id=\"xtick_259\">\r\n     <g id=\"line2d_259\">\r\n      <g>\r\n       <use style=\"stroke:#000000;stroke-width:0.8;\" x=\"1091.197689\" xlink:href=\"#ma1f9dacb08\" y=\"402.838125\"/>\r\n      </g>\r\n     </g>\r\n     <g id=\"text_259\">\r\n      <!-- 12686 -->\r\n      <g transform=\"translate(1075.291439 417.436562)scale(0.1 -0.1)\">\r\n       <use xlink:href=\"#DejaVuSans-31\"/>\r\n       <use x=\"63.623047\" xlink:href=\"#DejaVuSans-32\"/>\r\n       <use x=\"127.246094\" xlink:href=\"#DejaVuSans-36\"/>\r\n       <use x=\"190.869141\" xlink:href=\"#DejaVuSans-38\"/>\r\n       <use x=\"254.492188\" xlink:href=\"#DejaVuSans-36\"/>\r\n      </g>\r\n     </g>\r\n    </g>\r\n    <g id=\"xtick_260\">\r\n     <g id=\"line2d_260\">\r\n      <g>\r\n       <use style=\"stroke:#000000;stroke-width:0.8;\" x=\"1091.197689\" xlink:href=\"#ma1f9dacb08\" y=\"402.838125\"/>\r\n      </g>\r\n     </g>\r\n     <g id=\"text_260\">\r\n      <!-- 12686 -->\r\n      <g transform=\"translate(1075.291439 417.436562)scale(0.1 -0.1)\">\r\n       <use xlink:href=\"#DejaVuSans-31\"/>\r\n       <use x=\"63.623047\" xlink:href=\"#DejaVuSans-32\"/>\r\n       <use x=\"127.246094\" xlink:href=\"#DejaVuSans-36\"/>\r\n       <use x=\"190.869141\" xlink:href=\"#DejaVuSans-38\"/>\r\n       <use x=\"254.492188\" xlink:href=\"#DejaVuSans-36\"/>\r\n      </g>\r\n     </g>\r\n    </g>\r\n    <g id=\"xtick_261\">\r\n     <g id=\"line2d_261\">\r\n      <g>\r\n       <use style=\"stroke:#000000;stroke-width:0.8;\" x=\"1098.883639\" xlink:href=\"#ma1f9dacb08\" y=\"402.838125\"/>\r\n      </g>\r\n     </g>\r\n     <g id=\"text_261\">\r\n      <!-- 12736 -->\r\n      <g transform=\"translate(1082.977389 417.436562)scale(0.1 -0.1)\">\r\n       <use xlink:href=\"#DejaVuSans-31\"/>\r\n       <use x=\"63.623047\" xlink:href=\"#DejaVuSans-32\"/>\r\n       <use x=\"127.246094\" xlink:href=\"#DejaVuSans-37\"/>\r\n       <use x=\"190.869141\" xlink:href=\"#DejaVuSans-33\"/>\r\n       <use x=\"254.492188\" xlink:href=\"#DejaVuSans-36\"/>\r\n      </g>\r\n     </g>\r\n    </g>\r\n    <g id=\"xtick_262\">\r\n     <g id=\"line2d_262\">\r\n      <g>\r\n       <use style=\"stroke:#000000;stroke-width:0.8;\" x=\"1098.883639\" xlink:href=\"#ma1f9dacb08\" y=\"402.838125\"/>\r\n      </g>\r\n     </g>\r\n     <g id=\"text_262\">\r\n      <!-- 12736 -->\r\n      <g transform=\"translate(1082.977389 417.436562)scale(0.1 -0.1)\">\r\n       <use xlink:href=\"#DejaVuSans-31\"/>\r\n       <use x=\"63.623047\" xlink:href=\"#DejaVuSans-32\"/>\r\n       <use x=\"127.246094\" xlink:href=\"#DejaVuSans-37\"/>\r\n       <use x=\"190.869141\" xlink:href=\"#DejaVuSans-33\"/>\r\n       <use x=\"254.492188\" xlink:href=\"#DejaVuSans-36\"/>\r\n      </g>\r\n     </g>\r\n    </g>\r\n    <g id=\"xtick_263\">\r\n     <g id=\"line2d_263\">\r\n      <g>\r\n       <use style=\"stroke:#000000;stroke-width:0.8;\" x=\"1106.569589\" xlink:href=\"#ma1f9dacb08\" y=\"402.838125\"/>\r\n      </g>\r\n     </g>\r\n     <g id=\"text_263\">\r\n      <!-- 12786 -->\r\n      <g transform=\"translate(1090.663339 417.436562)scale(0.1 -0.1)\">\r\n       <use xlink:href=\"#DejaVuSans-31\"/>\r\n       <use x=\"63.623047\" xlink:href=\"#DejaVuSans-32\"/>\r\n       <use x=\"127.246094\" xlink:href=\"#DejaVuSans-37\"/>\r\n       <use x=\"190.869141\" xlink:href=\"#DejaVuSans-38\"/>\r\n       <use x=\"254.492188\" xlink:href=\"#DejaVuSans-36\"/>\r\n      </g>\r\n     </g>\r\n    </g>\r\n    <g id=\"xtick_264\">\r\n     <g id=\"line2d_264\">\r\n      <g>\r\n       <use style=\"stroke:#000000;stroke-width:0.8;\" x=\"1106.569589\" xlink:href=\"#ma1f9dacb08\" y=\"402.838125\"/>\r\n      </g>\r\n     </g>\r\n     <g id=\"text_264\">\r\n      <!-- 12786 -->\r\n      <g transform=\"translate(1090.663339 417.436562)scale(0.1 -0.1)\">\r\n       <use xlink:href=\"#DejaVuSans-31\"/>\r\n       <use x=\"63.623047\" xlink:href=\"#DejaVuSans-32\"/>\r\n       <use x=\"127.246094\" xlink:href=\"#DejaVuSans-37\"/>\r\n       <use x=\"190.869141\" xlink:href=\"#DejaVuSans-38\"/>\r\n       <use x=\"254.492188\" xlink:href=\"#DejaVuSans-36\"/>\r\n      </g>\r\n     </g>\r\n    </g>\r\n    <g id=\"xtick_265\">\r\n     <g id=\"line2d_265\">\r\n      <g>\r\n       <use style=\"stroke:#000000;stroke-width:0.8;\" x=\"1114.25554\" xlink:href=\"#ma1f9dacb08\" y=\"402.838125\"/>\r\n      </g>\r\n     </g>\r\n     <g id=\"text_265\">\r\n      <!-- 12836 -->\r\n      <g transform=\"translate(1098.34929 417.436562)scale(0.1 -0.1)\">\r\n       <use xlink:href=\"#DejaVuSans-31\"/>\r\n       <use x=\"63.623047\" xlink:href=\"#DejaVuSans-32\"/>\r\n       <use x=\"127.246094\" xlink:href=\"#DejaVuSans-38\"/>\r\n       <use x=\"190.869141\" xlink:href=\"#DejaVuSans-33\"/>\r\n       <use x=\"254.492188\" xlink:href=\"#DejaVuSans-36\"/>\r\n      </g>\r\n     </g>\r\n    </g>\r\n    <g id=\"xtick_266\">\r\n     <g id=\"line2d_266\">\r\n      <g>\r\n       <use style=\"stroke:#000000;stroke-width:0.8;\" x=\"1114.25554\" xlink:href=\"#ma1f9dacb08\" y=\"402.838125\"/>\r\n      </g>\r\n     </g>\r\n     <g id=\"text_266\">\r\n      <!-- 12836 -->\r\n      <g transform=\"translate(1098.34929 417.436562)scale(0.1 -0.1)\">\r\n       <use xlink:href=\"#DejaVuSans-31\"/>\r\n       <use x=\"63.623047\" xlink:href=\"#DejaVuSans-32\"/>\r\n       <use x=\"127.246094\" xlink:href=\"#DejaVuSans-38\"/>\r\n       <use x=\"190.869141\" xlink:href=\"#DejaVuSans-33\"/>\r\n       <use x=\"254.492188\" xlink:href=\"#DejaVuSans-36\"/>\r\n      </g>\r\n     </g>\r\n    </g>\r\n    <g id=\"text_267\">\r\n     <!-- Treatment Stores -->\r\n     <g transform=\"translate(564.139844 431.114687)scale(0.1 -0.1)\">\r\n      <defs>\r\n       <path d=\"M -19 4666 \r\nL 3928 4666 \r\nL 3928 4134 \r\nL 2272 4134 \r\nL 2272 0 \r\nL 1638 0 \r\nL 1638 4134 \r\nL -19 4134 \r\nL -19 4666 \r\nz\r\n\" id=\"DejaVuSans-54\" transform=\"scale(0.015625)\"/>\r\n       <path d=\"M 2631 2963 \r\nQ 2534 3019 2420 3045 \r\nQ 2306 3072 2169 3072 \r\nQ 1681 3072 1420 2755 \r\nQ 1159 2438 1159 1844 \r\nL 1159 0 \r\nL 581 0 \r\nL 581 3500 \r\nL 1159 3500 \r\nL 1159 2956 \r\nQ 1341 3275 1631 3429 \r\nQ 1922 3584 2338 3584 \r\nQ 2397 3584 2469 3576 \r\nQ 2541 3569 2628 3553 \r\nL 2631 2963 \r\nz\r\n\" id=\"DejaVuSans-72\" transform=\"scale(0.015625)\"/>\r\n       <path d=\"M 3597 1894 \r\nL 3597 1613 \r\nL 953 1613 \r\nQ 991 1019 1311 708 \r\nQ 1631 397 2203 397 \r\nQ 2534 397 2845 478 \r\nQ 3156 559 3463 722 \r\nL 3463 178 \r\nQ 3153 47 2828 -22 \r\nQ 2503 -91 2169 -91 \r\nQ 1331 -91 842 396 \r\nQ 353 884 353 1716 \r\nQ 353 2575 817 3079 \r\nQ 1281 3584 2069 3584 \r\nQ 2775 3584 3186 3129 \r\nQ 3597 2675 3597 1894 \r\nz\r\nM 3022 2063 \r\nQ 3016 2534 2758 2815 \r\nQ 2500 3097 2075 3097 \r\nQ 1594 3097 1305 2825 \r\nQ 1016 2553 972 2059 \r\nL 3022 2063 \r\nz\r\n\" id=\"DejaVuSans-65\" transform=\"scale(0.015625)\"/>\r\n       <path d=\"M 2194 1759 \r\nQ 1497 1759 1228 1600 \r\nQ 959 1441 959 1056 \r\nQ 959 750 1161 570 \r\nQ 1363 391 1709 391 \r\nQ 2188 391 2477 730 \r\nQ 2766 1069 2766 1631 \r\nL 2766 1759 \r\nL 2194 1759 \r\nz\r\nM 3341 1997 \r\nL 3341 0 \r\nL 2766 0 \r\nL 2766 531 \r\nQ 2569 213 2275 61 \r\nQ 1981 -91 1556 -91 \r\nQ 1019 -91 701 211 \r\nQ 384 513 384 1019 \r\nQ 384 1609 779 1909 \r\nQ 1175 2209 1959 2209 \r\nL 2766 2209 \r\nL 2766 2266 \r\nQ 2766 2663 2505 2880 \r\nQ 2244 3097 1772 3097 \r\nQ 1472 3097 1187 3025 \r\nQ 903 2953 641 2809 \r\nL 641 3341 \r\nQ 956 3463 1253 3523 \r\nQ 1550 3584 1831 3584 \r\nQ 2591 3584 2966 3190 \r\nQ 3341 2797 3341 1997 \r\nz\r\n\" id=\"DejaVuSans-61\" transform=\"scale(0.015625)\"/>\r\n       <path d=\"M 1172 4494 \r\nL 1172 3500 \r\nL 2356 3500 \r\nL 2356 3053 \r\nL 1172 3053 \r\nL 1172 1153 \r\nQ 1172 725 1289 603 \r\nQ 1406 481 1766 481 \r\nL 2356 481 \r\nL 2356 0 \r\nL 1766 0 \r\nQ 1100 0 847 248 \r\nQ 594 497 594 1153 \r\nL 594 3053 \r\nL 172 3053 \r\nL 172 3500 \r\nL 594 3500 \r\nL 594 4494 \r\nL 1172 4494 \r\nz\r\n\" id=\"DejaVuSans-74\" transform=\"scale(0.015625)\"/>\r\n       <path d=\"M 3328 2828 \r\nQ 3544 3216 3844 3400 \r\nQ 4144 3584 4550 3584 \r\nQ 5097 3584 5394 3201 \r\nQ 5691 2819 5691 2113 \r\nL 5691 0 \r\nL 5113 0 \r\nL 5113 2094 \r\nQ 5113 2597 4934 2840 \r\nQ 4756 3084 4391 3084 \r\nQ 3944 3084 3684 2787 \r\nQ 3425 2491 3425 1978 \r\nL 3425 0 \r\nL 2847 0 \r\nL 2847 2094 \r\nQ 2847 2600 2669 2842 \r\nQ 2491 3084 2119 3084 \r\nQ 1678 3084 1418 2786 \r\nQ 1159 2488 1159 1978 \r\nL 1159 0 \r\nL 581 0 \r\nL 581 3500 \r\nL 1159 3500 \r\nL 1159 2956 \r\nQ 1356 3278 1631 3431 \r\nQ 1906 3584 2284 3584 \r\nQ 2666 3584 2933 3390 \r\nQ 3200 3197 3328 2828 \r\nz\r\n\" id=\"DejaVuSans-6d\" transform=\"scale(0.015625)\"/>\r\n       <path d=\"M 3513 2113 \r\nL 3513 0 \r\nL 2938 0 \r\nL 2938 2094 \r\nQ 2938 2591 2744 2837 \r\nQ 2550 3084 2163 3084 \r\nQ 1697 3084 1428 2787 \r\nQ 1159 2491 1159 1978 \r\nL 1159 0 \r\nL 581 0 \r\nL 581 3500 \r\nL 1159 3500 \r\nL 1159 2956 \r\nQ 1366 3272 1645 3428 \r\nQ 1925 3584 2291 3584 \r\nQ 2894 3584 3203 3211 \r\nQ 3513 2838 3513 2113 \r\nz\r\n\" id=\"DejaVuSans-6e\" transform=\"scale(0.015625)\"/>\r\n       <path id=\"DejaVuSans-20\" transform=\"scale(0.015625)\"/>\r\n       <path d=\"M 3425 4513 \r\nL 3425 3897 \r\nQ 3066 4069 2747 4153 \r\nQ 2428 4238 2131 4238 \r\nQ 1616 4238 1336 4038 \r\nQ 1056 3838 1056 3469 \r\nQ 1056 3159 1242 3001 \r\nQ 1428 2844 1947 2747 \r\nL 2328 2669 \r\nQ 3034 2534 3370 2195 \r\nQ 3706 1856 3706 1288 \r\nQ 3706 609 3251 259 \r\nQ 2797 -91 1919 -91 \r\nQ 1588 -91 1214 -16 \r\nQ 841 59 441 206 \r\nL 441 856 \r\nQ 825 641 1194 531 \r\nQ 1563 422 1919 422 \r\nQ 2459 422 2753 634 \r\nQ 3047 847 3047 1241 \r\nQ 3047 1584 2836 1778 \r\nQ 2625 1972 2144 2069 \r\nL 1759 2144 \r\nQ 1053 2284 737 2584 \r\nQ 422 2884 422 3419 \r\nQ 422 4038 858 4394 \r\nQ 1294 4750 2059 4750 \r\nQ 2388 4750 2728 4690 \r\nQ 3069 4631 3425 4513 \r\nz\r\n\" id=\"DejaVuSans-53\" transform=\"scale(0.015625)\"/>\r\n       <path d=\"M 1959 3097 \r\nQ 1497 3097 1228 2736 \r\nQ 959 2375 959 1747 \r\nQ 959 1119 1226 758 \r\nQ 1494 397 1959 397 \r\nQ 2419 397 2687 759 \r\nQ 2956 1122 2956 1747 \r\nQ 2956 2369 2687 2733 \r\nQ 2419 3097 1959 3097 \r\nz\r\nM 1959 3584 \r\nQ 2709 3584 3137 3096 \r\nQ 3566 2609 3566 1747 \r\nQ 3566 888 3137 398 \r\nQ 2709 -91 1959 -91 \r\nQ 1206 -91 779 398 \r\nQ 353 888 353 1747 \r\nQ 353 2609 779 3096 \r\nQ 1206 3584 1959 3584 \r\nz\r\n\" id=\"DejaVuSans-6f\" transform=\"scale(0.015625)\"/>\r\n       <path d=\"M 2834 3397 \r\nL 2834 2853 \r\nQ 2591 2978 2328 3040 \r\nQ 2066 3103 1784 3103 \r\nQ 1356 3103 1142 2972 \r\nQ 928 2841 928 2578 \r\nQ 928 2378 1081 2264 \r\nQ 1234 2150 1697 2047 \r\nL 1894 2003 \r\nQ 2506 1872 2764 1633 \r\nQ 3022 1394 3022 966 \r\nQ 3022 478 2636 193 \r\nQ 2250 -91 1575 -91 \r\nQ 1294 -91 989 -36 \r\nQ 684 19 347 128 \r\nL 347 722 \r\nQ 666 556 975 473 \r\nQ 1284 391 1588 391 \r\nQ 1994 391 2212 530 \r\nQ 2431 669 2431 922 \r\nQ 2431 1156 2273 1281 \r\nQ 2116 1406 1581 1522 \r\nL 1381 1569 \r\nQ 847 1681 609 1914 \r\nQ 372 2147 372 2553 \r\nQ 372 3047 722 3315 \r\nQ 1072 3584 1716 3584 \r\nQ 2034 3584 2315 3537 \r\nQ 2597 3491 2834 3397 \r\nz\r\n\" id=\"DejaVuSans-73\" transform=\"scale(0.015625)\"/>\r\n      </defs>\r\n      <use xlink:href=\"#DejaVuSans-54\"/>\r\n      <use x=\"46.333984\" xlink:href=\"#DejaVuSans-72\"/>\r\n      <use x=\"85.197266\" xlink:href=\"#DejaVuSans-65\"/>\r\n      <use x=\"146.720703\" xlink:href=\"#DejaVuSans-61\"/>\r\n      <use x=\"208\" xlink:href=\"#DejaVuSans-74\"/>\r\n      <use x=\"247.208984\" xlink:href=\"#DejaVuSans-6d\"/>\r\n      <use x=\"344.621094\" xlink:href=\"#DejaVuSans-65\"/>\r\n      <use x=\"406.144531\" xlink:href=\"#DejaVuSans-6e\"/>\r\n      <use x=\"469.523438\" xlink:href=\"#DejaVuSans-74\"/>\r\n      <use x=\"508.732422\" xlink:href=\"#DejaVuSans-20\"/>\r\n      <use x=\"540.519531\" xlink:href=\"#DejaVuSans-53\"/>\r\n      <use x=\"603.996094\" xlink:href=\"#DejaVuSans-74\"/>\r\n      <use x=\"643.205078\" xlink:href=\"#DejaVuSans-6f\"/>\r\n      <use x=\"704.386719\" xlink:href=\"#DejaVuSans-72\"/>\r\n      <use x=\"743.25\" xlink:href=\"#DejaVuSans-65\"/>\r\n      <use x=\"804.773438\" xlink:href=\"#DejaVuSans-73\"/>\r\n     </g>\r\n    </g>\r\n   </g>\r\n   <g id=\"matplotlib.axis_2\">\r\n    <g id=\"ytick_1\">\r\n     <g id=\"line2d_267\">\r\n      <defs>\r\n       <path d=\"M 0 0 \r\nL -3.5 0 \r\n\" id=\"ma95b586e5c\" style=\"stroke:#000000;stroke-width:0.8;\"/>\r\n      </defs>\r\n      <g>\r\n       <use style=\"stroke:#000000;stroke-width:0.8;\" x=\"48.982813\" xlink:href=\"#ma95b586e5c\" y=\"337.957202\"/>\r\n      </g>\r\n     </g>\r\n     <g id=\"text_268\">\r\n      <!-- −20 -->\r\n      <g transform=\"translate(20.878125 341.75642)scale(0.1 -0.1)\">\r\n       <defs>\r\n        <path d=\"M 678 2272 \r\nL 4684 2272 \r\nL 4684 1741 \r\nL 678 1741 \r\nL 678 2272 \r\nz\r\n\" id=\"DejaVuSans-2212\" transform=\"scale(0.015625)\"/>\r\n       </defs>\r\n       <use xlink:href=\"#DejaVuSans-2212\"/>\r\n       <use x=\"83.789062\" xlink:href=\"#DejaVuSans-32\"/>\r\n       <use x=\"147.412109\" xlink:href=\"#DejaVuSans-30\"/>\r\n      </g>\r\n     </g>\r\n    </g>\r\n    <g id=\"ytick_2\">\r\n     <g id=\"line2d_268\">\r\n      <g>\r\n       <use style=\"stroke:#000000;stroke-width:0.8;\" x=\"48.982813\" xlink:href=\"#ma95b586e5c\" y=\"269.779022\"/>\r\n      </g>\r\n     </g>\r\n     <g id=\"text_269\">\r\n      <!-- 0 -->\r\n      <g transform=\"translate(35.620313 273.578241)scale(0.1 -0.1)\">\r\n       <use xlink:href=\"#DejaVuSans-30\"/>\r\n      </g>\r\n     </g>\r\n    </g>\r\n    <g id=\"ytick_3\">\r\n     <g id=\"line2d_269\">\r\n      <g>\r\n       <use style=\"stroke:#000000;stroke-width:0.8;\" x=\"48.982813\" xlink:href=\"#ma95b586e5c\" y=\"201.600843\"/>\r\n      </g>\r\n     </g>\r\n     <g id=\"text_270\">\r\n      <!-- 20 -->\r\n      <g transform=\"translate(29.257813 205.400062)scale(0.1 -0.1)\">\r\n       <use xlink:href=\"#DejaVuSans-32\"/>\r\n       <use x=\"63.623047\" xlink:href=\"#DejaVuSans-30\"/>\r\n      </g>\r\n     </g>\r\n    </g>\r\n    <g id=\"ytick_4\">\r\n     <g id=\"line2d_270\">\r\n      <g>\r\n       <use style=\"stroke:#000000;stroke-width:0.8;\" x=\"48.982813\" xlink:href=\"#ma95b586e5c\" y=\"133.422664\"/>\r\n      </g>\r\n     </g>\r\n     <g id=\"text_271\">\r\n      <!-- 40 -->\r\n      <g transform=\"translate(29.257813 137.221882)scale(0.1 -0.1)\">\r\n       <use xlink:href=\"#DejaVuSans-34\"/>\r\n       <use x=\"63.623047\" xlink:href=\"#DejaVuSans-30\"/>\r\n      </g>\r\n     </g>\r\n    </g>\r\n    <g id=\"ytick_5\">\r\n     <g id=\"line2d_271\">\r\n      <g>\r\n       <use style=\"stroke:#000000;stroke-width:0.8;\" x=\"48.982813\" xlink:href=\"#ma95b586e5c\" y=\"65.244484\"/>\r\n      </g>\r\n     </g>\r\n     <g id=\"text_272\">\r\n      <!-- 60 -->\r\n      <g transform=\"translate(29.257813 69.043703)scale(0.1 -0.1)\">\r\n       <use xlink:href=\"#DejaVuSans-36\"/>\r\n       <use x=\"63.623047\" xlink:href=\"#DejaVuSans-30\"/>\r\n      </g>\r\n     </g>\r\n    </g>\r\n    <g id=\"text_273\">\r\n     <!-- % Change in store -->\r\n     <g transform=\"translate(14.798438 258.441406)rotate(-90)scale(0.1 -0.1)\">\r\n      <defs>\r\n       <path d=\"M 4653 2053 \r\nQ 4381 2053 4226 1822 \r\nQ 4072 1591 4072 1178 \r\nQ 4072 772 4226 539 \r\nQ 4381 306 4653 306 \r\nQ 4919 306 5073 539 \r\nQ 5228 772 5228 1178 \r\nQ 5228 1588 5073 1820 \r\nQ 4919 2053 4653 2053 \r\nz\r\nM 4653 2450 \r\nQ 5147 2450 5437 2106 \r\nQ 5728 1763 5728 1178 \r\nQ 5728 594 5436 251 \r\nQ 5144 -91 4653 -91 \r\nQ 4153 -91 3862 251 \r\nQ 3572 594 3572 1178 \r\nQ 3572 1766 3864 2108 \r\nQ 4156 2450 4653 2450 \r\nz\r\nM 1428 4353 \r\nQ 1159 4353 1004 4120 \r\nQ 850 3888 850 3481 \r\nQ 850 3069 1003 2837 \r\nQ 1156 2606 1428 2606 \r\nQ 1700 2606 1854 2837 \r\nQ 2009 3069 2009 3481 \r\nQ 2009 3884 1853 4118 \r\nQ 1697 4353 1428 4353 \r\nz\r\nM 4250 4750 \r\nL 4750 4750 \r\nL 1831 -91 \r\nL 1331 -91 \r\nL 4250 4750 \r\nz\r\nM 1428 4750 \r\nQ 1922 4750 2215 4408 \r\nQ 2509 4066 2509 3481 \r\nQ 2509 2891 2217 2550 \r\nQ 1925 2209 1428 2209 \r\nQ 931 2209 642 2551 \r\nQ 353 2894 353 3481 \r\nQ 353 4063 643 4406 \r\nQ 934 4750 1428 4750 \r\nz\r\n\" id=\"DejaVuSans-25\" transform=\"scale(0.015625)\"/>\r\n       <path d=\"M 4122 4306 \r\nL 4122 3641 \r\nQ 3803 3938 3442 4084 \r\nQ 3081 4231 2675 4231 \r\nQ 1875 4231 1450 3742 \r\nQ 1025 3253 1025 2328 \r\nQ 1025 1406 1450 917 \r\nQ 1875 428 2675 428 \r\nQ 3081 428 3442 575 \r\nQ 3803 722 4122 1019 \r\nL 4122 359 \r\nQ 3791 134 3420 21 \r\nQ 3050 -91 2638 -91 \r\nQ 1578 -91 968 557 \r\nQ 359 1206 359 2328 \r\nQ 359 3453 968 4101 \r\nQ 1578 4750 2638 4750 \r\nQ 3056 4750 3426 4639 \r\nQ 3797 4528 4122 4306 \r\nz\r\n\" id=\"DejaVuSans-43\" transform=\"scale(0.015625)\"/>\r\n       <path d=\"M 3513 2113 \r\nL 3513 0 \r\nL 2938 0 \r\nL 2938 2094 \r\nQ 2938 2591 2744 2837 \r\nQ 2550 3084 2163 3084 \r\nQ 1697 3084 1428 2787 \r\nQ 1159 2491 1159 1978 \r\nL 1159 0 \r\nL 581 0 \r\nL 581 4863 \r\nL 1159 4863 \r\nL 1159 2956 \r\nQ 1366 3272 1645 3428 \r\nQ 1925 3584 2291 3584 \r\nQ 2894 3584 3203 3211 \r\nQ 3513 2838 3513 2113 \r\nz\r\n\" id=\"DejaVuSans-68\" transform=\"scale(0.015625)\"/>\r\n       <path d=\"M 2906 1791 \r\nQ 2906 2416 2648 2759 \r\nQ 2391 3103 1925 3103 \r\nQ 1463 3103 1205 2759 \r\nQ 947 2416 947 1791 \r\nQ 947 1169 1205 825 \r\nQ 1463 481 1925 481 \r\nQ 2391 481 2648 825 \r\nQ 2906 1169 2906 1791 \r\nz\r\nM 3481 434 \r\nQ 3481 -459 3084 -895 \r\nQ 2688 -1331 1869 -1331 \r\nQ 1566 -1331 1297 -1286 \r\nQ 1028 -1241 775 -1147 \r\nL 775 -588 \r\nQ 1028 -725 1275 -790 \r\nQ 1522 -856 1778 -856 \r\nQ 2344 -856 2625 -561 \r\nQ 2906 -266 2906 331 \r\nL 2906 616 \r\nQ 2728 306 2450 153 \r\nQ 2172 0 1784 0 \r\nQ 1141 0 747 490 \r\nQ 353 981 353 1791 \r\nQ 353 2603 747 3093 \r\nQ 1141 3584 1784 3584 \r\nQ 2172 3584 2450 3431 \r\nQ 2728 3278 2906 2969 \r\nL 2906 3500 \r\nL 3481 3500 \r\nL 3481 434 \r\nz\r\n\" id=\"DejaVuSans-67\" transform=\"scale(0.015625)\"/>\r\n       <path d=\"M 603 3500 \r\nL 1178 3500 \r\nL 1178 0 \r\nL 603 0 \r\nL 603 3500 \r\nz\r\nM 603 4863 \r\nL 1178 4863 \r\nL 1178 4134 \r\nL 603 4134 \r\nL 603 4863 \r\nz\r\n\" id=\"DejaVuSans-69\" transform=\"scale(0.015625)\"/>\r\n      </defs>\r\n      <use xlink:href=\"#DejaVuSans-25\"/>\r\n      <use x=\"95.019531\" xlink:href=\"#DejaVuSans-20\"/>\r\n      <use x=\"126.806641\" xlink:href=\"#DejaVuSans-43\"/>\r\n      <use x=\"196.630859\" xlink:href=\"#DejaVuSans-68\"/>\r\n      <use x=\"260.009766\" xlink:href=\"#DejaVuSans-61\"/>\r\n      <use x=\"321.289062\" xlink:href=\"#DejaVuSans-6e\"/>\r\n      <use x=\"384.667969\" xlink:href=\"#DejaVuSans-67\"/>\r\n      <use x=\"448.144531\" xlink:href=\"#DejaVuSans-65\"/>\r\n      <use x=\"509.667969\" xlink:href=\"#DejaVuSans-20\"/>\r\n      <use x=\"541.455078\" xlink:href=\"#DejaVuSans-69\"/>\r\n      <use x=\"569.238281\" xlink:href=\"#DejaVuSans-6e\"/>\r\n      <use x=\"632.617188\" xlink:href=\"#DejaVuSans-20\"/>\r\n      <use x=\"664.404297\" xlink:href=\"#DejaVuSans-73\"/>\r\n      <use x=\"716.503906\" xlink:href=\"#DejaVuSans-74\"/>\r\n      <use x=\"755.712891\" xlink:href=\"#DejaVuSans-6f\"/>\r\n      <use x=\"816.894531\" xlink:href=\"#DejaVuSans-72\"/>\r\n      <use x=\"855.757812\" xlink:href=\"#DejaVuSans-65\"/>\r\n     </g>\r\n    </g>\r\n   </g>\r\n   <g id=\"patch_3\">\r\n    <path d=\"M 48.982813 402.838125 \r\nL 48.982813 22.318125 \r\n\" style=\"fill:none;stroke:#000000;stroke-linecap:square;stroke-linejoin:miter;stroke-width:0.8;\"/>\r\n   </g>\r\n   <g id=\"patch_4\">\r\n    <path d=\"M 1164.982812 402.838125 \r\nL 1164.982812 22.318125 \r\n\" style=\"fill:none;stroke:#000000;stroke-linecap:square;stroke-linejoin:miter;stroke-width:0.8;\"/>\r\n   </g>\r\n   <g id=\"patch_5\">\r\n    <path d=\"M 48.982813 402.838125 \r\nL 1164.982813 402.838125 \r\n\" style=\"fill:none;stroke:#000000;stroke-linecap:square;stroke-linejoin:miter;stroke-width:0.8;\"/>\r\n   </g>\r\n   <g id=\"patch_6\">\r\n    <path d=\"M 48.982813 22.318125 \r\nL 1164.982813 22.318125 \r\n\" style=\"fill:none;stroke:#000000;stroke-linecap:square;stroke-linejoin:miter;stroke-width:0.8;\"/>\r\n   </g>\r\n   <g id=\"text_274\">\r\n    <!-- Scatter Plot: % Change Treatment and Control Store -->\r\n    <g transform=\"translate(450.63125 16.318125)scale(0.12 -0.12)\">\r\n     <defs>\r\n      <path d=\"M 3122 3366 \r\nL 3122 2828 \r\nQ 2878 2963 2633 3030 \r\nQ 2388 3097 2138 3097 \r\nQ 1578 3097 1268 2742 \r\nQ 959 2388 959 1747 \r\nQ 959 1106 1268 751 \r\nQ 1578 397 2138 397 \r\nQ 2388 397 2633 464 \r\nQ 2878 531 3122 666 \r\nL 3122 134 \r\nQ 2881 22 2623 -34 \r\nQ 2366 -91 2075 -91 \r\nQ 1284 -91 818 406 \r\nQ 353 903 353 1747 \r\nQ 353 2603 823 3093 \r\nQ 1294 3584 2113 3584 \r\nQ 2378 3584 2631 3529 \r\nQ 2884 3475 3122 3366 \r\nz\r\n\" id=\"DejaVuSans-63\" transform=\"scale(0.015625)\"/>\r\n      <path d=\"M 1259 4147 \r\nL 1259 2394 \r\nL 2053 2394 \r\nQ 2494 2394 2734 2622 \r\nQ 2975 2850 2975 3272 \r\nQ 2975 3691 2734 3919 \r\nQ 2494 4147 2053 4147 \r\nL 1259 4147 \r\nz\r\nM 628 4666 \r\nL 2053 4666 \r\nQ 2838 4666 3239 4311 \r\nQ 3641 3956 3641 3272 \r\nQ 3641 2581 3239 2228 \r\nQ 2838 1875 2053 1875 \r\nL 1259 1875 \r\nL 1259 0 \r\nL 628 0 \r\nL 628 4666 \r\nz\r\n\" id=\"DejaVuSans-50\" transform=\"scale(0.015625)\"/>\r\n      <path d=\"M 603 4863 \r\nL 1178 4863 \r\nL 1178 0 \r\nL 603 0 \r\nL 603 4863 \r\nz\r\n\" id=\"DejaVuSans-6c\" transform=\"scale(0.015625)\"/>\r\n      <path d=\"M 750 794 \r\nL 1409 794 \r\nL 1409 0 \r\nL 750 0 \r\nL 750 794 \r\nz\r\nM 750 3309 \r\nL 1409 3309 \r\nL 1409 2516 \r\nL 750 2516 \r\nL 750 3309 \r\nz\r\n\" id=\"DejaVuSans-3a\" transform=\"scale(0.015625)\"/>\r\n      <path d=\"M 2906 2969 \r\nL 2906 4863 \r\nL 3481 4863 \r\nL 3481 0 \r\nL 2906 0 \r\nL 2906 525 \r\nQ 2725 213 2448 61 \r\nQ 2172 -91 1784 -91 \r\nQ 1150 -91 751 415 \r\nQ 353 922 353 1747 \r\nQ 353 2572 751 3078 \r\nQ 1150 3584 1784 3584 \r\nQ 2172 3584 2448 3432 \r\nQ 2725 3281 2906 2969 \r\nz\r\nM 947 1747 \r\nQ 947 1113 1208 752 \r\nQ 1469 391 1925 391 \r\nQ 2381 391 2643 752 \r\nQ 2906 1113 2906 1747 \r\nQ 2906 2381 2643 2742 \r\nQ 2381 3103 1925 3103 \r\nQ 1469 3103 1208 2742 \r\nQ 947 2381 947 1747 \r\nz\r\n\" id=\"DejaVuSans-64\" transform=\"scale(0.015625)\"/>\r\n     </defs>\r\n     <use xlink:href=\"#DejaVuSans-53\"/>\r\n     <use x=\"63.476562\" xlink:href=\"#DejaVuSans-63\"/>\r\n     <use x=\"118.457031\" xlink:href=\"#DejaVuSans-61\"/>\r\n     <use x=\"179.736328\" xlink:href=\"#DejaVuSans-74\"/>\r\n     <use x=\"218.945312\" xlink:href=\"#DejaVuSans-74\"/>\r\n     <use x=\"258.154297\" xlink:href=\"#DejaVuSans-65\"/>\r\n     <use x=\"319.677734\" xlink:href=\"#DejaVuSans-72\"/>\r\n     <use x=\"360.791016\" xlink:href=\"#DejaVuSans-20\"/>\r\n     <use x=\"392.578125\" xlink:href=\"#DejaVuSans-50\"/>\r\n     <use x=\"452.880859\" xlink:href=\"#DejaVuSans-6c\"/>\r\n     <use x=\"480.664062\" xlink:href=\"#DejaVuSans-6f\"/>\r\n     <use x=\"541.845703\" xlink:href=\"#DejaVuSans-74\"/>\r\n     <use x=\"581.054688\" xlink:href=\"#DejaVuSans-3a\"/>\r\n     <use x=\"614.746094\" xlink:href=\"#DejaVuSans-20\"/>\r\n     <use x=\"646.533203\" xlink:href=\"#DejaVuSans-25\"/>\r\n     <use x=\"741.552734\" xlink:href=\"#DejaVuSans-20\"/>\r\n     <use x=\"773.339844\" xlink:href=\"#DejaVuSans-43\"/>\r\n     <use x=\"843.164062\" xlink:href=\"#DejaVuSans-68\"/>\r\n     <use x=\"906.542969\" xlink:href=\"#DejaVuSans-61\"/>\r\n     <use x=\"967.822266\" xlink:href=\"#DejaVuSans-6e\"/>\r\n     <use x=\"1031.201172\" xlink:href=\"#DejaVuSans-67\"/>\r\n     <use x=\"1094.677734\" xlink:href=\"#DejaVuSans-65\"/>\r\n     <use x=\"1156.201172\" xlink:href=\"#DejaVuSans-20\"/>\r\n     <use x=\"1187.988281\" xlink:href=\"#DejaVuSans-54\"/>\r\n     <use x=\"1234.322266\" xlink:href=\"#DejaVuSans-72\"/>\r\n     <use x=\"1273.185547\" xlink:href=\"#DejaVuSans-65\"/>\r\n     <use x=\"1334.708984\" xlink:href=\"#DejaVuSans-61\"/>\r\n     <use x=\"1395.988281\" xlink:href=\"#DejaVuSans-74\"/>\r\n     <use x=\"1435.197266\" xlink:href=\"#DejaVuSans-6d\"/>\r\n     <use x=\"1532.609375\" xlink:href=\"#DejaVuSans-65\"/>\r\n     <use x=\"1594.132812\" xlink:href=\"#DejaVuSans-6e\"/>\r\n     <use x=\"1657.511719\" xlink:href=\"#DejaVuSans-74\"/>\r\n     <use x=\"1696.720703\" xlink:href=\"#DejaVuSans-20\"/>\r\n     <use x=\"1728.507812\" xlink:href=\"#DejaVuSans-61\"/>\r\n     <use x=\"1789.787109\" xlink:href=\"#DejaVuSans-6e\"/>\r\n     <use x=\"1853.166016\" xlink:href=\"#DejaVuSans-64\"/>\r\n     <use x=\"1916.642578\" xlink:href=\"#DejaVuSans-20\"/>\r\n     <use x=\"1948.429688\" xlink:href=\"#DejaVuSans-43\"/>\r\n     <use x=\"2018.253906\" xlink:href=\"#DejaVuSans-6f\"/>\r\n     <use x=\"2079.435547\" xlink:href=\"#DejaVuSans-6e\"/>\r\n     <use x=\"2142.814453\" xlink:href=\"#DejaVuSans-74\"/>\r\n     <use x=\"2182.023438\" xlink:href=\"#DejaVuSans-72\"/>\r\n     <use x=\"2220.886719\" xlink:href=\"#DejaVuSans-6f\"/>\r\n     <use x=\"2282.068359\" xlink:href=\"#DejaVuSans-6c\"/>\r\n     <use x=\"2309.851562\" xlink:href=\"#DejaVuSans-20\"/>\r\n     <use x=\"2341.638672\" xlink:href=\"#DejaVuSans-53\"/>\r\n     <use x=\"2405.115234\" xlink:href=\"#DejaVuSans-74\"/>\r\n     <use x=\"2444.324219\" xlink:href=\"#DejaVuSans-6f\"/>\r\n     <use x=\"2505.505859\" xlink:href=\"#DejaVuSans-72\"/>\r\n     <use x=\"2544.369141\" xlink:href=\"#DejaVuSans-65\"/>\r\n    </g>\r\n   </g>\r\n   <g id=\"legend_1\">\r\n    <g id=\"patch_7\">\r\n     <path d=\"M 1045.50625 59.674375 \r\nL 1157.982812 59.674375 \r\nQ 1159.982812 59.674375 1159.982812 57.674375 \r\nL 1159.982812 29.318125 \r\nQ 1159.982812 27.318125 1157.982812 27.318125 \r\nL 1045.50625 27.318125 \r\nQ 1043.50625 27.318125 1043.50625 29.318125 \r\nL 1043.50625 57.674375 \r\nQ 1043.50625 59.674375 1045.50625 59.674375 \r\nz\r\n\" style=\"fill:#ffffff;opacity:0.8;stroke:#cccccc;stroke-linejoin:miter;\"/>\r\n    </g>\r\n    <g id=\"PathCollection_3\">\r\n     <g>\r\n      <use style=\"fill:#ff7f0e;stroke:#ff7f0e;\" x=\"1057.50625\" xlink:href=\"#m0f3d83b6ed\" y=\"36.291562\"/>\r\n     </g>\r\n    </g>\r\n    <g id=\"text_275\">\r\n     <!-- Treatment Store -->\r\n     <g transform=\"translate(1075.50625 38.916562)scale(0.1 -0.1)\">\r\n      <use xlink:href=\"#DejaVuSans-54\"/>\r\n      <use x=\"46.333984\" xlink:href=\"#DejaVuSans-72\"/>\r\n      <use x=\"85.197266\" xlink:href=\"#DejaVuSans-65\"/>\r\n      <use x=\"146.720703\" xlink:href=\"#DejaVuSans-61\"/>\r\n      <use x=\"208\" xlink:href=\"#DejaVuSans-74\"/>\r\n      <use x=\"247.208984\" xlink:href=\"#DejaVuSans-6d\"/>\r\n      <use x=\"344.621094\" xlink:href=\"#DejaVuSans-65\"/>\r\n      <use x=\"406.144531\" xlink:href=\"#DejaVuSans-6e\"/>\r\n      <use x=\"469.523438\" xlink:href=\"#DejaVuSans-74\"/>\r\n      <use x=\"508.732422\" xlink:href=\"#DejaVuSans-20\"/>\r\n      <use x=\"540.519531\" xlink:href=\"#DejaVuSans-53\"/>\r\n      <use x=\"603.996094\" xlink:href=\"#DejaVuSans-74\"/>\r\n      <use x=\"643.205078\" xlink:href=\"#DejaVuSans-6f\"/>\r\n      <use x=\"704.386719\" xlink:href=\"#DejaVuSans-72\"/>\r\n      <use x=\"743.25\" xlink:href=\"#DejaVuSans-65\"/>\r\n     </g>\r\n    </g>\r\n    <g id=\"PathCollection_4\">\r\n     <g>\r\n      <use style=\"fill:#1f77b4;stroke:#1f77b4;\" x=\"1057.50625\" xlink:href=\"#m9185d549e2\" y=\"50.969687\"/>\r\n     </g>\r\n    </g>\r\n    <g id=\"text_276\">\r\n     <!-- Control Store -->\r\n     <g transform=\"translate(1075.50625 53.594687)scale(0.1 -0.1)\">\r\n      <use xlink:href=\"#DejaVuSans-43\"/>\r\n      <use x=\"69.824219\" xlink:href=\"#DejaVuSans-6f\"/>\r\n      <use x=\"131.005859\" xlink:href=\"#DejaVuSans-6e\"/>\r\n      <use x=\"194.384766\" xlink:href=\"#DejaVuSans-74\"/>\r\n      <use x=\"233.59375\" xlink:href=\"#DejaVuSans-72\"/>\r\n      <use x=\"272.457031\" xlink:href=\"#DejaVuSans-6f\"/>\r\n      <use x=\"333.638672\" xlink:href=\"#DejaVuSans-6c\"/>\r\n      <use x=\"361.421875\" xlink:href=\"#DejaVuSans-20\"/>\r\n      <use x=\"393.208984\" xlink:href=\"#DejaVuSans-53\"/>\r\n      <use x=\"456.685547\" xlink:href=\"#DejaVuSans-74\"/>\r\n      <use x=\"495.894531\" xlink:href=\"#DejaVuSans-6f\"/>\r\n      <use x=\"557.076172\" xlink:href=\"#DejaVuSans-72\"/>\r\n      <use x=\"595.939453\" xlink:href=\"#DejaVuSans-65\"/>\r\n     </g>\r\n    </g>\r\n   </g>\r\n  </g>\r\n </g>\r\n <defs>\r\n  <clipPath id=\"p6d6ce792d3\">\r\n   <rect height=\"380.52\" width=\"1116\" x=\"48.982813\" y=\"22.318125\"/>\r\n  </clipPath>\r\n </defs>\r\n</svg>\r\n",
      "image/png": "[encoded data removed]"
     },
     "metadata": {
      "needs_background": "light"
     }
    }
   ],
   "metadata": {}
  },
  {
   "cell_type": "code",
   "execution_count": null,
   "source": [],
   "outputs": [],
   "metadata": {}
  },
  {
   "cell_type": "code",
   "execution_count": null,
   "source": [],
   "outputs": [],
   "metadata": {}
  },
  {
   "cell_type": "code",
   "execution_count": null,
   "source": [],
   "outputs": [],
   "metadata": {}
  },
  {
   "cell_type": "code",
   "execution_count": null,
   "source": [],
   "outputs": [],
   "metadata": {}
  }
 ],
 "metadata": {
  "kernelspec": {
   "name": "python3",
   "display_name": "Python 3.9.5 64-bit"
  },
  "language_info": {
   "codemirror_mode": {
    "name": "ipython",
    "version": 3
   },
   "file_extension": ".py",
   "mimetype": "text/x-python",
   "name": "python",
   "nbconvert_exporter": "python",
   "pygments_lexer": "ipython3",
   "version": "3.9.5"
  },
  "interpreter": {
   "hash": "ac59ebe37160ed0dfa835113d9b8498d9f09ceb179beaac4002f036b9467c963"
  }
 },
 "nbformat": 4,
 "nbformat_minor": 5
}